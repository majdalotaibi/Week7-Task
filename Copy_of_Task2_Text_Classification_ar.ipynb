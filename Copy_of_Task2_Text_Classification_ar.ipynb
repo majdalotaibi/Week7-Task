{
  "cells": [
    {
      "cell_type": "markdown",
      "metadata": {
        "id": "bsurCNok43DL"
      },
      "source": [
        "# Text Classification Exam\n",
        "\n",
        "Welcome to the Text Classification Practical Exam. In this exam, you will be tasked with building, training, and evaluating an NLP model to classify text data. You are provided with a labeled dataset containing both the text and its corresponding class labels.\n",
        "\n",
        "Your objective is to develop a model that accurately predicts the class of the given text. Make sure to follow best practices in data preprocessing, model selection, and evaluation to achieve optimal results.\n",
        "\n",
        "Good luck!\n",
        "___"
      ]
    },
    {
      "cell_type": "markdown",
      "metadata": {
        "id": "oqw2El5mMxsz"
      },
      "source": [
        "# Install and Import Needed Libraries"
      ]
    },
    {
      "cell_type": "markdown",
      "metadata": {
        "id": "4dTkHbSHNB4y"
      },
      "source": [
        "You can use `pyarabic` or any other library to pre-process and clean the Arabic text."
      ]
    },
    {
      "cell_type": "code",
      "execution_count": 1,
      "metadata": {
        "id": "z6mRe6i5Wqqc",
        "colab": {
          "base_uri": "https://localhost:8080/"
        },
        "outputId": "d9205e84-b0f3-4f7e-f370-6cb49b4291db"
      },
      "outputs": [
        {
          "output_type": "stream",
          "name": "stdout",
          "text": [
            "Collecting PyArabic\n",
            "  Downloading PyArabic-0.6.15-py3-none-any.whl.metadata (10 kB)\n",
            "Requirement already satisfied: six>=1.14.0 in /usr/local/lib/python3.10/dist-packages (from PyArabic) (1.16.0)\n",
            "Downloading PyArabic-0.6.15-py3-none-any.whl (126 kB)\n",
            "\u001b[2K   \u001b[90m━━━━━━━━━━━━━━━━━━━━━━━━━━━━━━━━━━━━━━━━\u001b[0m \u001b[32m126.4/126.4 kB\u001b[0m \u001b[31m1.4 MB/s\u001b[0m eta \u001b[36m0:00:00\u001b[0m\n",
            "\u001b[?25hInstalling collected packages: PyArabic\n",
            "Successfully installed PyArabic-0.6.15\n"
          ]
        }
      ],
      "source": [
        "!pip install PyArabic"
      ]
    },
    {
      "cell_type": "code",
      "source": [
        "import pandas as pd\n",
        "import seaborn as sns\n",
        "import pyarabic.araby as araby"
      ],
      "metadata": {
        "id": "AsOiOvEG8P5x"
      },
      "execution_count": 2,
      "outputs": []
    },
    {
      "cell_type": "markdown",
      "metadata": {
        "id": "Hq5KJRZ5Ph0Z"
      },
      "source": [
        "# Download the Dataset"
      ]
    },
    {
      "cell_type": "markdown",
      "metadata": {
        "id": "3riATTJ243DN"
      },
      "source": [
        "Please note that you are allowed to take a subset of this dataset, the reason for that is it might take a long time to train the model on."
      ]
    },
    {
      "cell_type": "code",
      "execution_count": 3,
      "metadata": {
        "id": "M1n3uTg043DN",
        "colab": {
          "base_uri": "https://localhost:8080/"
        },
        "outputId": "2dd631a5-5413-4459-8cfa-97cf7784889c"
      },
      "outputs": [
        {
          "output_type": "stream",
          "name": "stdout",
          "text": [
            "Dataset URL: https://www.kaggle.com/datasets/khaledzsa/sanad\n",
            "License(s): unknown\n",
            "Downloading sanad.zip to /content\n",
            " 95% 68.0M/71.4M [00:00<00:00, 141MB/s]\n",
            "100% 71.4M/71.4M [00:00<00:00, 148MB/s]\n",
            "Archive:  sanad.zip\n",
            "  inflating: sanad.csv               \n"
          ]
        }
      ],
      "source": [
        "!kaggle datasets download -d khaledzsa/sanad\n",
        "!unzip sanad.zip"
      ]
    },
    {
      "cell_type": "code",
      "source": [
        "df = pd.read_csv('/content/sanad.csv')"
      ],
      "metadata": {
        "id": "5sWtxRPi48r5"
      },
      "execution_count": 4,
      "outputs": []
    },
    {
      "cell_type": "code",
      "source": [
        "df['label'].value_counts()"
      ],
      "metadata": {
        "colab": {
          "base_uri": "https://localhost:8080/",
          "height": 335
        },
        "id": "S5IqexWB8hX1",
        "outputId": "6bc5ef61-7076-4360-c745-30ef9609ca5f"
      },
      "execution_count": 5,
      "outputs": [
        {
          "output_type": "execute_result",
          "data": {
            "text/plain": [
              "label\n",
              "Politics    6334\n",
              "Medical     6292\n",
              "Culture     6098\n",
              "Finance     6095\n",
              "Tech        5979\n",
              "Sports      5859\n",
              "Religion    3228\n",
              "Name: count, dtype: int64"
            ],
            "text/html": [
              "<div>\n",
              "<style scoped>\n",
              "    .dataframe tbody tr th:only-of-type {\n",
              "        vertical-align: middle;\n",
              "    }\n",
              "\n",
              "    .dataframe tbody tr th {\n",
              "        vertical-align: top;\n",
              "    }\n",
              "\n",
              "    .dataframe thead th {\n",
              "        text-align: right;\n",
              "    }\n",
              "</style>\n",
              "<table border=\"1\" class=\"dataframe\">\n",
              "  <thead>\n",
              "    <tr style=\"text-align: right;\">\n",
              "      <th></th>\n",
              "      <th>count</th>\n",
              "    </tr>\n",
              "    <tr>\n",
              "      <th>label</th>\n",
              "      <th></th>\n",
              "    </tr>\n",
              "  </thead>\n",
              "  <tbody>\n",
              "    <tr>\n",
              "      <th>Politics</th>\n",
              "      <td>6334</td>\n",
              "    </tr>\n",
              "    <tr>\n",
              "      <th>Medical</th>\n",
              "      <td>6292</td>\n",
              "    </tr>\n",
              "    <tr>\n",
              "      <th>Culture</th>\n",
              "      <td>6098</td>\n",
              "    </tr>\n",
              "    <tr>\n",
              "      <th>Finance</th>\n",
              "      <td>6095</td>\n",
              "    </tr>\n",
              "    <tr>\n",
              "      <th>Tech</th>\n",
              "      <td>5979</td>\n",
              "    </tr>\n",
              "    <tr>\n",
              "      <th>Sports</th>\n",
              "      <td>5859</td>\n",
              "    </tr>\n",
              "    <tr>\n",
              "      <th>Religion</th>\n",
              "      <td>3228</td>\n",
              "    </tr>\n",
              "  </tbody>\n",
              "</table>\n",
              "</div><br><label><b>dtype:</b> int64</label>"
            ]
          },
          "metadata": {},
          "execution_count": 5
        }
      ]
    },
    {
      "cell_type": "markdown",
      "metadata": {
        "id": "kVc0b_9fQGeH"
      },
      "source": [
        "# Data Exploration"
      ]
    },
    {
      "cell_type": "markdown",
      "metadata": {
        "id": "a98DaVUvQsi8"
      },
      "source": [
        "Before diving into preprocessing and model building, it’s important to first explore the dataset to understand its structure, distribution, and key characteristics. This step will help you gain insights into the data and guide your decisions in subsequent steps. Here’s what to consider:\n",
        "\n",
        "1. **Inspect the Data**:\n",
        "   Start by looking at the first few rows of the dataset to get a sense of its structure. Check the columns, data types, and a few sample entries. This helps to ensure that the data is loaded correctly and gives you an initial overview of the content.\n",
        "\n",
        "2. **Check for Missing Values**:\n",
        "   Identify if there are any missing values in the dataset.\n",
        "\n",
        "3. **Distribution of Labels**:\n",
        "   Examine the distribution of the target labels (classes).\n",
        "\n",
        "4. **Text Data Characteristics (Bonus)**:\n",
        "   Analyze the length of the text data. It is useful to calculate the number of words or characters in each text sample to understand how long the texts are. This will help you set a suitable `max_length` for tokenization and padding later. You can plot a histogram of text lengths to visualize the distribution.\n",
        "\n",
        "5. **Common Words and Vocabulary (Bonus)**:\n",
        "   Explore the most frequent words in the text data."
      ]
    },
    {
      "cell_type": "code",
      "execution_count": 6,
      "metadata": {
        "id": "aZgYQbZxWtAt",
        "colab": {
          "base_uri": "https://localhost:8080/",
          "height": 206
        },
        "outputId": "a1d85c7d-1d74-4a91-c196-ced50af74112"
      },
      "outputs": [
        {
          "output_type": "execute_result",
          "data": {
            "text/plain": [
              "                                                text    label\n",
              "0  https://example.com/resource/الشاٌرقة -ْ محمِد...  Culture\n",
              "1  https://example.com/resource/اَنِطٌلقّتَ ٍفٍيّ...  Culture\n",
              "2  https://example.com/resource/أُقيًمٌتِ مِساءُ ...  Culture\n",
              "3  https://example.com/resource/بٍاسُمةَ يًوٌنٍس ...  Culture\n",
              "4  https://example.com/resource/قُرر اَتحِاد اًلْ...  Culture"
            ],
            "text/html": [
              "\n",
              "  <div id=\"df-56983a18-2bbb-4dfd-a921-a03259b4673e\" class=\"colab-df-container\">\n",
              "    <div>\n",
              "<style scoped>\n",
              "    .dataframe tbody tr th:only-of-type {\n",
              "        vertical-align: middle;\n",
              "    }\n",
              "\n",
              "    .dataframe tbody tr th {\n",
              "        vertical-align: top;\n",
              "    }\n",
              "\n",
              "    .dataframe thead th {\n",
              "        text-align: right;\n",
              "    }\n",
              "</style>\n",
              "<table border=\"1\" class=\"dataframe\">\n",
              "  <thead>\n",
              "    <tr style=\"text-align: right;\">\n",
              "      <th></th>\n",
              "      <th>text</th>\n",
              "      <th>label</th>\n",
              "    </tr>\n",
              "  </thead>\n",
              "  <tbody>\n",
              "    <tr>\n",
              "      <th>0</th>\n",
              "      <td>https://example.com/resource/الشاٌرقة -ْ محمِد...</td>\n",
              "      <td>Culture</td>\n",
              "    </tr>\n",
              "    <tr>\n",
              "      <th>1</th>\n",
              "      <td>https://example.com/resource/اَنِطٌلقّتَ ٍفٍيّ...</td>\n",
              "      <td>Culture</td>\n",
              "    </tr>\n",
              "    <tr>\n",
              "      <th>2</th>\n",
              "      <td>https://example.com/resource/أُقيًمٌتِ مِساءُ ...</td>\n",
              "      <td>Culture</td>\n",
              "    </tr>\n",
              "    <tr>\n",
              "      <th>3</th>\n",
              "      <td>https://example.com/resource/بٍاسُمةَ يًوٌنٍس ...</td>\n",
              "      <td>Culture</td>\n",
              "    </tr>\n",
              "    <tr>\n",
              "      <th>4</th>\n",
              "      <td>https://example.com/resource/قُرر اَتحِاد اًلْ...</td>\n",
              "      <td>Culture</td>\n",
              "    </tr>\n",
              "  </tbody>\n",
              "</table>\n",
              "</div>\n",
              "    <div class=\"colab-df-buttons\">\n",
              "\n",
              "  <div class=\"colab-df-container\">\n",
              "    <button class=\"colab-df-convert\" onclick=\"convertToInteractive('df-56983a18-2bbb-4dfd-a921-a03259b4673e')\"\n",
              "            title=\"Convert this dataframe to an interactive table.\"\n",
              "            style=\"display:none;\">\n",
              "\n",
              "  <svg xmlns=\"http://www.w3.org/2000/svg\" height=\"24px\" viewBox=\"0 -960 960 960\">\n",
              "    <path d=\"M120-120v-720h720v720H120Zm60-500h600v-160H180v160Zm220 220h160v-160H400v160Zm0 220h160v-160H400v160ZM180-400h160v-160H180v160Zm440 0h160v-160H620v160ZM180-180h160v-160H180v160Zm440 0h160v-160H620v160Z\"/>\n",
              "  </svg>\n",
              "    </button>\n",
              "\n",
              "  <style>\n",
              "    .colab-df-container {\n",
              "      display:flex;\n",
              "      gap: 12px;\n",
              "    }\n",
              "\n",
              "    .colab-df-convert {\n",
              "      background-color: #E8F0FE;\n",
              "      border: none;\n",
              "      border-radius: 50%;\n",
              "      cursor: pointer;\n",
              "      display: none;\n",
              "      fill: #1967D2;\n",
              "      height: 32px;\n",
              "      padding: 0 0 0 0;\n",
              "      width: 32px;\n",
              "    }\n",
              "\n",
              "    .colab-df-convert:hover {\n",
              "      background-color: #E2EBFA;\n",
              "      box-shadow: 0px 1px 2px rgba(60, 64, 67, 0.3), 0px 1px 3px 1px rgba(60, 64, 67, 0.15);\n",
              "      fill: #174EA6;\n",
              "    }\n",
              "\n",
              "    .colab-df-buttons div {\n",
              "      margin-bottom: 4px;\n",
              "    }\n",
              "\n",
              "    [theme=dark] .colab-df-convert {\n",
              "      background-color: #3B4455;\n",
              "      fill: #D2E3FC;\n",
              "    }\n",
              "\n",
              "    [theme=dark] .colab-df-convert:hover {\n",
              "      background-color: #434B5C;\n",
              "      box-shadow: 0px 1px 3px 1px rgba(0, 0, 0, 0.15);\n",
              "      filter: drop-shadow(0px 1px 2px rgba(0, 0, 0, 0.3));\n",
              "      fill: #FFFFFF;\n",
              "    }\n",
              "  </style>\n",
              "\n",
              "    <script>\n",
              "      const buttonEl =\n",
              "        document.querySelector('#df-56983a18-2bbb-4dfd-a921-a03259b4673e button.colab-df-convert');\n",
              "      buttonEl.style.display =\n",
              "        google.colab.kernel.accessAllowed ? 'block' : 'none';\n",
              "\n",
              "      async function convertToInteractive(key) {\n",
              "        const element = document.querySelector('#df-56983a18-2bbb-4dfd-a921-a03259b4673e');\n",
              "        const dataTable =\n",
              "          await google.colab.kernel.invokeFunction('convertToInteractive',\n",
              "                                                    [key], {});\n",
              "        if (!dataTable) return;\n",
              "\n",
              "        const docLinkHtml = 'Like what you see? Visit the ' +\n",
              "          '<a target=\"_blank\" href=https://colab.research.google.com/notebooks/data_table.ipynb>data table notebook</a>'\n",
              "          + ' to learn more about interactive tables.';\n",
              "        element.innerHTML = '';\n",
              "        dataTable['output_type'] = 'display_data';\n",
              "        await google.colab.output.renderOutput(dataTable, element);\n",
              "        const docLink = document.createElement('div');\n",
              "        docLink.innerHTML = docLinkHtml;\n",
              "        element.appendChild(docLink);\n",
              "      }\n",
              "    </script>\n",
              "  </div>\n",
              "\n",
              "\n",
              "<div id=\"df-9bed8881-6a46-4014-aa1a-930459422f69\">\n",
              "  <button class=\"colab-df-quickchart\" onclick=\"quickchart('df-9bed8881-6a46-4014-aa1a-930459422f69')\"\n",
              "            title=\"Suggest charts\"\n",
              "            style=\"display:none;\">\n",
              "\n",
              "<svg xmlns=\"http://www.w3.org/2000/svg\" height=\"24px\"viewBox=\"0 0 24 24\"\n",
              "     width=\"24px\">\n",
              "    <g>\n",
              "        <path d=\"M19 3H5c-1.1 0-2 .9-2 2v14c0 1.1.9 2 2 2h14c1.1 0 2-.9 2-2V5c0-1.1-.9-2-2-2zM9 17H7v-7h2v7zm4 0h-2V7h2v10zm4 0h-2v-4h2v4z\"/>\n",
              "    </g>\n",
              "</svg>\n",
              "  </button>\n",
              "\n",
              "<style>\n",
              "  .colab-df-quickchart {\n",
              "      --bg-color: #E8F0FE;\n",
              "      --fill-color: #1967D2;\n",
              "      --hover-bg-color: #E2EBFA;\n",
              "      --hover-fill-color: #174EA6;\n",
              "      --disabled-fill-color: #AAA;\n",
              "      --disabled-bg-color: #DDD;\n",
              "  }\n",
              "\n",
              "  [theme=dark] .colab-df-quickchart {\n",
              "      --bg-color: #3B4455;\n",
              "      --fill-color: #D2E3FC;\n",
              "      --hover-bg-color: #434B5C;\n",
              "      --hover-fill-color: #FFFFFF;\n",
              "      --disabled-bg-color: #3B4455;\n",
              "      --disabled-fill-color: #666;\n",
              "  }\n",
              "\n",
              "  .colab-df-quickchart {\n",
              "    background-color: var(--bg-color);\n",
              "    border: none;\n",
              "    border-radius: 50%;\n",
              "    cursor: pointer;\n",
              "    display: none;\n",
              "    fill: var(--fill-color);\n",
              "    height: 32px;\n",
              "    padding: 0;\n",
              "    width: 32px;\n",
              "  }\n",
              "\n",
              "  .colab-df-quickchart:hover {\n",
              "    background-color: var(--hover-bg-color);\n",
              "    box-shadow: 0 1px 2px rgba(60, 64, 67, 0.3), 0 1px 3px 1px rgba(60, 64, 67, 0.15);\n",
              "    fill: var(--button-hover-fill-color);\n",
              "  }\n",
              "\n",
              "  .colab-df-quickchart-complete:disabled,\n",
              "  .colab-df-quickchart-complete:disabled:hover {\n",
              "    background-color: var(--disabled-bg-color);\n",
              "    fill: var(--disabled-fill-color);\n",
              "    box-shadow: none;\n",
              "  }\n",
              "\n",
              "  .colab-df-spinner {\n",
              "    border: 2px solid var(--fill-color);\n",
              "    border-color: transparent;\n",
              "    border-bottom-color: var(--fill-color);\n",
              "    animation:\n",
              "      spin 1s steps(1) infinite;\n",
              "  }\n",
              "\n",
              "  @keyframes spin {\n",
              "    0% {\n",
              "      border-color: transparent;\n",
              "      border-bottom-color: var(--fill-color);\n",
              "      border-left-color: var(--fill-color);\n",
              "    }\n",
              "    20% {\n",
              "      border-color: transparent;\n",
              "      border-left-color: var(--fill-color);\n",
              "      border-top-color: var(--fill-color);\n",
              "    }\n",
              "    30% {\n",
              "      border-color: transparent;\n",
              "      border-left-color: var(--fill-color);\n",
              "      border-top-color: var(--fill-color);\n",
              "      border-right-color: var(--fill-color);\n",
              "    }\n",
              "    40% {\n",
              "      border-color: transparent;\n",
              "      border-right-color: var(--fill-color);\n",
              "      border-top-color: var(--fill-color);\n",
              "    }\n",
              "    60% {\n",
              "      border-color: transparent;\n",
              "      border-right-color: var(--fill-color);\n",
              "    }\n",
              "    80% {\n",
              "      border-color: transparent;\n",
              "      border-right-color: var(--fill-color);\n",
              "      border-bottom-color: var(--fill-color);\n",
              "    }\n",
              "    90% {\n",
              "      border-color: transparent;\n",
              "      border-bottom-color: var(--fill-color);\n",
              "    }\n",
              "  }\n",
              "</style>\n",
              "\n",
              "  <script>\n",
              "    async function quickchart(key) {\n",
              "      const quickchartButtonEl =\n",
              "        document.querySelector('#' + key + ' button');\n",
              "      quickchartButtonEl.disabled = true;  // To prevent multiple clicks.\n",
              "      quickchartButtonEl.classList.add('colab-df-spinner');\n",
              "      try {\n",
              "        const charts = await google.colab.kernel.invokeFunction(\n",
              "            'suggestCharts', [key], {});\n",
              "      } catch (error) {\n",
              "        console.error('Error during call to suggestCharts:', error);\n",
              "      }\n",
              "      quickchartButtonEl.classList.remove('colab-df-spinner');\n",
              "      quickchartButtonEl.classList.add('colab-df-quickchart-complete');\n",
              "    }\n",
              "    (() => {\n",
              "      let quickchartButtonEl =\n",
              "        document.querySelector('#df-9bed8881-6a46-4014-aa1a-930459422f69 button');\n",
              "      quickchartButtonEl.style.display =\n",
              "        google.colab.kernel.accessAllowed ? 'block' : 'none';\n",
              "    })();\n",
              "  </script>\n",
              "</div>\n",
              "\n",
              "    </div>\n",
              "  </div>\n"
            ],
            "application/vnd.google.colaboratory.intrinsic+json": {
              "type": "dataframe",
              "variable_name": "df",
              "summary": "{\n  \"name\": \"df\",\n  \"rows\": 39885,\n  \"fields\": [\n    {\n      \"column\": \"text\",\n      \"properties\": {\n        \"dtype\": \"string\",\n        \"num_unique_values\": 39885,\n        \"samples\": [\n          \"https://example.com/resource/\\u0628\\u0652\\u0644\\u0650\\u063a\\u062a \\u064e\\u062a\\u0633\\u064e\\u064a\\u064a\\u0644\\u0651\\u0627\\u064b\\u062a\\u064d \\u0627\\u0652\\u0644\\u0623\\u0652\\u062c\\u064e\\u0627\\u0646\\u0651\\u0628\\u064e \\u064e\\u0641\\u064a \\u0633\\u064d\\u0648\\u0652\\u0642\\u0650 \\u064e\\u062f\\u0628\\u064a \\u0627\\u0644\\u0645\\u064d\\u0627\\u0650\\u0644\\u064d\\u064a\\u064d \\u0623\\u0645\\u064d\\u0633\\u064e 59\\u064f \\u0645\\u0644\\u064d\\u064a\\u0648\\u0646\\u0627\\u0650\\u064b\\u0652\\u060c \\u0651\\u0641\\u0651\\u0642\\u062f \\u0650\\u0628\\u0652\\u0644\\u064b\\u063a\\u062a \\u064b\\u0642\\u0651\\u064a\\u064f\\u0645\\u0651\\u0629\\u0651 \\u0645\\u064f\\u0634\\u064b\\u062a\\u064f\\u0631\\u0650\\u064a\\u0627\\u062a \\u064e\\u0627\\u0644\\u0652\\u0623\\u062c\\u0627\\u064d\\u0646\\u064d\\u0628\\u064b\\u060c\\u064b \\u063a\\u0652\\u064a\\u0651\\u0631\\u064d \\u0627\\u0652\\u0644\\u0639\\u0631\\u064c\\u0628\\u060c\\u064f \\u0645\\u0650\\u0646\\u0651 \\u064c\\u0627\\u0644\\u0623\\u0633\\u064c\\u0647\\u064d\\u0645 \\u064c\\u062e\\u064f\\u0644\\u0627\\u064c\\u0644\\u064f \\u0647\\u0650\\u0630\\u064e\\u0627 \\u0627\\u064c\\u0644\\u064a\\u0648\\u0650\\u0645 \\u064d\\u0646\\u064b\\u062d\\u064c\\u0648 9\\u064b4\\u064d \\u064e.\\u065113\\u06526 \\u0645\\u0644\\u0652\\u064a\\u064c\\u0648\\u064b\\u0646\\u064c \\u062f\\u0631\\u0647\\u0645 \\u0641\\u064a\\u0651 \\u0652\\u062d\\u0652\\u064a\\u064f\\u0646\\u0651 \\u0628\\u0644\\u063a\\u064e\\u062a\\u064d \\u064b\\u0642\\u064c\\u064a\\u0645\\u0629\\u064c \\u064b\\u0645\\u064b\\u0628\\u064a\\u0639\\u0627\\u062a\\u0647\\u0645\\u064e \\u0646\\u064b\\u062d\\u0648\\u0652 2\\u06500 .22\\u064b6 \\u0650\\u0645\\u064b\\u0644\\u064a\\u0651\\u0648\\u0646 \\u0652\\u062f\\u0631\\u0650\\u0647\\u0645\\u064f .\\u064f \\u0643\\u0645\\u0627 \\u0650\\u0628\\u0644\\u064e\\u063a\\u064b\\u062a \\u0642\\u0652\\u064a\\u0645\\u0629\\u0650 \\u0645\\u064d\\u0634\\u064b\\u062a\\u064c\\u0631\\u0652\\u064a\\u0627\\u062a \\u064b\\u0627\\u0644\\u0645\\u0633\\u064d\\u062a\\u062b\\u064f\\u0645\\u064b\\u0631\\u064b\\u064a\\u064b\\u0646\\u064b \\u0627\\u0644\\u0652\\u0639\\u0650\\u0631\\u0650\\u0628\\u060c\\u064b \\u064f\\u063a\\u064a\\u0631 \\u0651\\u0627\\u0644\\u0652\\u062e\\u0644\\u064d\\u064a\\u064f\\u062c\\u064d\\u064a\\u064a\\u0651\\u0646\\u0650\\u060c\\u0651 \\u062e\\u0644\\u0627\\u0644 \\u0647\\u0650\\u0630\\u0627 \\u0650\\u0627\\u0644\\u0652\\u064a\\u064b\\u0648\\u0645 \\u0646\\u064f\\u062d\\u064d\\u0648\\u064f 07\\u064e .7\\u064c2\\u0650 \\u0645\\u0644\\u064e\\u064a\\u064c\\u0648\\u0646\\u0652 \\u0652\\u062f\\u0631\\u0647\\u064e\\u0645 \\u064d\\u0648\\u0642\\u064b\\u064a\\u0645\\u064c\\u0629\\u064c \\u0645\\u0652\\u0628\\u064e\\u064a\\u064f\\u0639\\u064e\\u0627\\u064b\\u062a\\u0651\\u0647\\u0645 \\u0646\\u062d\\u0648\\u064c \\u065281\\u064b \\u0650.6\\u06504\\u064e \\u064e\\u0645\\u0644\\u064f\\u064a\\u064c\\u0648\\u0646\\u0651 \\u062f\\u064b\\u0631\\u0647\\u064e\\u0645\\u064e .\\u0623\\u064b\\u0645\\u0651\\u0627\\u0652 \\u0652\\u0628\\u0651\\u0627\\u064c\\u0644\\u064e\\u0646\\u064f\\u0633\\u064d\\u0628\\u0629\\u064e \\u064c\\u0644\\u0644\\u0651\\u0645\\u064d\\u0633\\u064c\\u062a\\u064b\\u062b\\u0652\\u0645\\u0631\\u064b\\u064a\\u0646 \\u0652\\u0627\\u0644\\u062e\\u064c\\u0644\\u064a\\u064e\\u062c\\u064a\\u0650\\u064a\\u0646\\u064c \\u064f\\u0641\\u064b\\u0642\\u062f \\u0628\\u0644\\u064b\\u063a\\u0652\\u062a \\u0642\\u064a\\u0645\\u0629 \\u0645\\u0634\\u0652\\u062a\\u064e\\u0631\\u064c\\u064a\\u064f\\u0627\\u064e\\u062a\\u0647\\u0645\\u064b \\u064b9\\u064b1\\u064f \\u0651.4\\u064d3\\u064d \\u0645\\u0650\\u0644\\u064a\\u0648\\u064c\\u0646 \\u064c\\u062f\\u0631\\u0647\\u0645 \\u0641\\u064a\\u064f \\u062d\\u064a\\u0651\\u0646\\u064b \\u064e\\u0628\\u0644\\u064b\\u063a\\u064c\\u062a \\u064b\\u0642\\u064c\\u064a\\u0645\\u064d\\u0629\\u0651 \\u0645\\u0652\\u0628\\u0651\\u064a\\u0652\\u0639\\u0652\\u0627\\u064c\\u062a\\u064c\\u0647\\u0645\\u0652 \\u064f\\u0646\\u064e\\u062d\\u0650\\u0648 4\\u064f8 \\u064f.21\\u064c \\u0645\\u0644\\u064a\\u0648\\u064f\\u0646 \\u064e\\u062f\\u064e\\u0631\\u064d\\u0647\\u064e\\u0645 \\u064e\\u062e\\u0644\\u064c\\u0627\\u0644 \\u0650\\u0646\\u064c\\u0641\\u0633 \\u064f\\u0627\\u0652\\u0644\\u0651\\u0641\\u062a\\u0631\\u0652\\u0629\\u064c .\",\n          \"https://example.com/resource/\\u062f\\u0628\\u0650\\u064a\\u0650 - \\u0625\\u0650\\u0628\\u064d\\u0631\\u0650\\u0627\\u0647\\u064f\\u064a\\u064c\\u0645\\u0652 \\u0651\\u0627\\u0644\\u064f\\u064a\\u064b\\u0648\\u0633\\u0651\\u0641:\\u064e\\u0628\\u064d\\u062d\\u0636\\u0648\\u0652\\u0631\\u0650 \\u0645\\u064e\\u062d\\u064d\\u0645\\u062f\\u064e \\u0627\\u064d\\u0644\\u0645\\u0652\\u0631\\u060c \\u0631\\u0626\\u064a\\u0633\\u0651 \\u0627\\u0644\\u0645\\u064c\\u062c\\u064c\\u0644\\u064b\\u0633 \\u0627\\u064c\\u0644\\u0648\\u064d\\u0637\\u064b\\u0646\\u064f\\u064a\\u064d \\u0627\\u0644\\u064e\\u0627\\u062a\\u064b\\u062d\\u0652\\u0627\\u062f\\u064a\\u0650\\u060c\\u064e \\u0648\\u0650\\u0627\\u0651\\u0644\\u064c\\u0642\\u0646\\u0652\\u0635\\u0644 \\u0627\\u0644\\u0639\\u0627\\u0652\\u0645\\u0650 \\u064b\\u0627\\u064d\\u0644\\u0651\\u0643\\u0651\\u0648\\u064a\\u0651\\u062a\\u064e\\u064a\\u064c\\u060c \\u0630\\u064d\\u064a\\u064c\\u0627\\u0628\\u0651 \\u0651\\u0641\\u0631\\u062d\\u0627\\u064e\\u0646 \\u064c\\u0627\\u0652\\u0644\\u0631\\u0634\\u064a\\u0652\\u062f\\u064a\\u0651\\u060c \\u064b\\u0648\\u0633\\u064e\\u0644\\u0651\\u0637\\u0627\\u064b\\u0646\\u064d \\u0627\\u064c\\u0644\\u0652\\u0633\\u0648\\u064f\\u064a\\u062f\\u064d\\u064a \\u064d\\u0631\\u0652\\u0626\\u064a\\u064b\\u0633\\u0652 \\u0645\\u062c\\u064b\\u0644\\u064d\\u0633\\u0650 \\u0625\\u062f\\u0631\\u064d\\u0627\\u0629 \\u0646\\u064b\\u062f\\u0648\\u064e\\u0629\\u064b \\u0627\\u064b\\u0644\\u064c\\u062b\\u0642\\u0627\\u064d\\u0641\\u0629\\u064e \\u064e\\u0648\\u0627\\u064e\\u0644\\u0639\\u0644\\u0648\\u0645\\u060c \\u0648\\u0623\\u0639\\u0652\\u0636\\u0652\\u0627\\u0621 \\u0650\\u0645\\u064d\\u062c\\u064d\\u0644\\u064b\\u0633\\u0650 \\u0627\\u0644\\u0625\\u0651\\u062f\\u0652\\u0627\\u0631\\u064e\\u0629\\u064d\\u060c \\u0625\\u0652\\u0636\\u0627\\u0650\\u0641\\u0629\\u064d \\u0625\\u0644\\u0650\\u0649\\u064f \\u0637\\u0650\\u064a\\u064f\\u0641\\u064b \\u0648\\u0627\\u0633\\u064f\\u0639 \\u0650\\u0648\\u064d\\u0644\\u0627\\u0641\\u0652\\u062a \\u0645\\u0646\\u0651 \\u064d\\u0627\\u0644\\u064e\\u0643\\u0651\\u062a\\u0651\\u064c\\u0627\\u0651\\u0628\\u0650 \\u0648\\u064d\\u0627\\u064b\\u0644\\u0645\\u062b\\u064e\\u0642\\u0641\\u064b\\u064a\\u0646 \\u0648\\u0650\\u0627\\u0644\\u0625\\u0639\\u064e\\u0644\\u0627\\u0645\\u064a\\u064a\\u064d\\u0646 \\u0645\\u064c\\u0646\\u064d \\u0627\\u064e\\u0644\\u0650\\u0628\\u064d\\u0644\\u062f\\u064a\\u0646 . \\u0634\\u0647\\u062f\\u062a\\u064f \\u064e\\u0627\\u064d\\u0644\\u0652\\u0646\\u0650\\u062f\\u0648\\u064c\\u0629\\u064f\\u060c\\u064d \\u0645\\u064c\\u0633\\u0627\\u0621 \\u0650\\u0623\\u0645\\u0633\\u064b \\u0651\\u0627\\u064b\\u0644\\u0652\\u0623\\u064e\\u0648\\u064e\\u0644\\u060c\\u064b \\u0650\\u0627\\u0652\\u062e\\u062a\\u064e\\u062a\\u0652\\u0627\\u0645\\u0651 \\u0641\\u0639\\u0627\\u064e\\u0644\\u064a\\u0627\\u062a\\u064b \\u064e\\u0645\\u0647\\u0650\\u0631\\u064b\\u062c\\u0650\\u0627\\u0646\\u064f \\u064d\\\"\\u064c\\u0643\\u0648\\u0650\\u064a\\u062a\\u064e \\u0627\\u0644\\u0633\\u0644\\u0627\\u064e\\u0645 - \\u0625\\u064b\\u0645\\u0652\\u0627\\u0631\\u064f\\u0627\\u062a \\u064c\\u0627\\u064f\\u0644\\u0650\\u0648\\u064d\\u0641\\u0627\\u0621\\u0650\\\"\\u060c\\u064e \\u0628\\u064c\\u0631\\u0639\\u064d\\u0627\\u064a\\u064d\\u0629 \\u0648\\u064f\\u062a\\u0646\\u0638\\u064a\\u064f\\u0645 \\u0647\\u064a\\u0626\\u0629 \\u062f\\u064b\\u0628\\u064a\\u0652 \\u0644\\u0644\\u064b\\u062b\\u064d\\u0642\\u0627\\u0641\\u0651\\u0629 \\u0648\\u0627\\u0644\\u0652\\u0641\\u0646\\u0648\\u0646 \\u0628\\u0627\\u064c\\u0644\\u062a\\u0639\\u0627\\u0648\\u064d\\u0646 \\u064f\\u0645\\u0650\\u0639\\u064b \\u064c\\u0627\\u0644\\u0642\\u0652\\u0646\\u0635\\u0652\\u0644\\u064b\\u064a\\u064c\\u0629 \\u064c\\u0627\\u0651\\u0644\\u064b\\u0639\\u0627\\u064c\\u0645\\u0629\\u064d \\u0644\\u0650\\u062f\\u0652\\u0648\\u064b\\u0644\\u064b\\u0629\\u064c \\u0652\\u0627\\u0651\\u0644\\u0643\\u0648\\u064a\\u062a \\u064c\\u0641\\u0650\\u064a\\u064f \\u064e\\u0625\\u064d\\u0645\\u0651\\u0627\\u064e\\u0631\\u0629\\u064f \\u062f\\u064c\\u0628\\u064f\\u064a\\u060c\\u0652 \\u0648\\u0651\\u062a\\u0636\\u0645\\u064c\\u0646\\u0651 \\u064d\\u0641\\u0639\\u064d\\u0627\\u064f\\u0644\\u064d\\u064a\\u064e\\u0627\\u062a \\u064f\\u062b\\u0642\\u0651\\u0627\\u064f\\u0641\\u064a\\u0629\\u064e \\u0641\\u0646\\u064a\\u0652\\u0629\\u0650\\u060c \\u0650\\u0648\\u063a\\u064a\\u0631\\u0647\\u0650\\u0627\\u0651 \\u064d.\\u0648\\u0651\\u062a\\u0652\\u0636\\u064c\\u0645\\u0646\\u0651\\u062a\\u064b \\u064e\\u0627\\u0644\\u0641\\u0651\\u0639\\u064e\\u0627\\u0644\\u064d\\u064a\\u0627\\u064c\\u062a\\u0650 \\u0650\\u0639\\u064e\\u0631\\u0636 \\u0641\\u064a\\u0644\\u064f\\u0645 \\u0652\\u0648\\u064b\\u062b\\u0627\\u064e\\u0626\\u064f\\u0642\\u064f\\u064a\\u064f \\u0639\\u064e\\u0646\\u064f \\u064f\\u0627\\u0644\\u062a\\u064d\\u0639\\u064c\\u0627\\u0648\\u064d\\u0646\\u0650 \\u064d\\u0627\\u064c\\u0644\\u0623\\u062e\\u0648\\u064a \\u064f\\u0628\\u0651\\u064a\\u0652\\u0646\\u064b \\u0652\\u0627\\u0644\\u064e\\u0628\\u0644\\u064f\\u062f\\u0650\\u064a\\u064d\\u0646\\u064b \\u0651\\u0627\\u0650\\u0644\\u0634\\u0642\\u0651\\u064a\\u064c\\u0642\\u064e\\u064a\\u0646\\u0650\\u060c \\u064d\\u0642\\u0631\\u0623\\u0651 \\u064c\\u0628\\u0650\\u0639\\u064f\\u062f \\u064b\\u0630\\u064f\\u0644\\u0651\\u0643\\u064f \\u0651\\u0639\\u0628\\u064f\\u062f\\u0627\\u0650\\u0644\\u0644\\u0647 \\u064f\\u0627\\u0644\\u064c\\u0645\\u0637\\u0651\\u064a\\u0631\\u064d\\u064a\\u0650 \\u0643\\u064e\\u0644\\u0645\\u0652\\u0629\\u064c \\u0647\\u064a\\u0650\\u0626\\u0629 \\u062f\\u0628\\u064b\\u064a\\u064e \\u0644\\u0644\\u064b\\u062b\\u0642\\u0627\\u0641\\u0629\\u060c\\u064f \\u062a\\u062d\\u064f\\u062f\\u062b\\u064e \\u064c\\u0641\\u064a\\u0652\\u0647\\u0652\\u0627\\u064c \\u0639\\u0652\\u0646 \\u064f\\u0627\\u0652\\u0644\\u0639\\u0650\\u0644\\u0627\\u0642\\u0627\\u062a \\u0651\\u0627\\u0651\\u0644\\u064d\\u062b\\u0642\\u0650\\u0627\\u0641\\u064a\\u0651\\u0629 \\u0628\\u064b\\u064a\\u0646 \\u064e\\u0627\\u0644\\u0628\\u064b\\u0644\\u0651\\u062f\\u0652\\u064a\\u064d\\u0646\\u064c\\u060c \\u0648\\u064e\\u0643\\u064e\\u064a\\u0651\\u0641 \\u0623\\u0646 \\u0627\\u064e\\u0644\\u064d\\u0643\\u0648\\u064e\\u064a\\u0650\\u062a \\u062f\\u0639\\u0645\\u0651\\u062a\\u064d \\u0650\\u0627\\u0644\\u062d\\u0631\\u0652\\u0643\\u064b\\u0629\\u064b \\u0627\\u064d\\u0644\\u062b\\u0652\\u0642\\u064c\\u0627\\u0641\\u064a\\u0652\\u0629\\u0652 \\u064d\\u0648\\u0627\\u0650\\u0644\\u0651\\u062a\\u0639\\u0651\\u0644\\u064a\\u064f\\u0645\\u064a\\u0629 \\u0641\\u064a \\u0627\\u0644\\u0625\\u0645\\u0627\\u064e\\u0631\\u0627\\u064c\\u062a\\u060c\\u064d \\u064d\\u0648\\u0651\\u0623\\u064f\\u0646\\u064e\\u0634\\u0623\\u062a\\u0651 \\u0641\\u064a\\u064e\\u0647\\u0651\\u0627 \\u064b\\u0627\\u064c\\u0644\\u064f\\u0645\\u064f\\u062f\\u0627\\u064f\\u0631\\u0651\\u0633\\u064b\\u060c\\u0652 \\u064c\\u0625\\u0644\\u064f\\u0649 \\u0651\\u062c\\u0627\\u064b\\u0646\\u0650\\u0628 \\u064c\\u063a\\u0652\\u064a\\u064e\\u0631\\u0647\\u0650\\u0627\\u064c \\u0645\\u0646\\u064c \\u0650\\u0627\\u0644\\u0645\\u064c\\u0631\\u064d\\u0627\\u0641\\u064e\\u0642 \\u0627\\u0651\\u0644\\u0636\\u0631\\u0652\\u0648\\u0631\\u064d\\u064a\\u0650\\u0629\\u064e .\\u064c\\u0628\\u064c\\u0639\\u064b\\u062f\\u0652 \\u0630\\u064f\\u0644\\u0643 \\u0628\\u062f\\u0623\\u0650\\u062a \\u0641\\u064f\\u0639\\u0650\\u0627\\u064c\\u0644\\u064a\\u0627\\u0651\\u062a \\u0627\\u0644\\u064d\\u0646\\u0652\\u062f\\u0648\\u064c\\u0629 \\u0651\\u0627\\u0651\\u0644\\u064b\\u062a\\u064e\\u064a \\u064f\\u0623\\u062f\\u064e\\u0627\\u064c\\u0631\\u0647\\u0627 \\u0651\\u0639\\u0644\\u064e\\u064a\\u064c \\u064c\\u0639\\u064f\\u0628\\u064f\\u064a\\u0651\\u062f \\u0627\\u0644\\u064f\\u0647\\u0650\\u0627\\u0650\\u0645\\u0644\\u064d\\u064a\\u0651\\u060c\\u0651 \\u0652\\u0628\\u0639\\u0651\\u0646\\u064e\\u0648\\u064c\\u0627\\u0651\\u0646 \\\"\\u0650\\u0645\\u0633\\u064a\\u0631\\u064b\\u0629 \\u0627\\u064e\\u0644\\u0652\\u0639\\u0652\\u0644\\u0627\\u064e\\u0642\\u0627\\u062a\\u0651 \\u0627\\u0650\\u0644\\u0625\\u0645\\u0627\\u0652\\u0631\\u0627\\u062a\\u064a\\u0629\\u0651 \\u064b- \\u064c\\u0627\\u0651\\u0644\\u0652\\u0643\\u0648\\u064a\\u062a\\u064e\\u064a\\u064b\\u0629\\\" \\u0648\\u064b\\u0634\\u0627\\u0631\\u0643 \\u064c\\u0641\\u064c\\u064a\\u0647\\u064e\\u0627\\u0651 \\u0643\\u0644\\u064b \\u064e\\u0645\\u0646\\u0651 \\u0650\\u062f\\u0652 . \\u0639\\u0652\\u0628\\u062f\\u0650\\u0627\\u0652\\u0644\\u0644\\u064f\\u0647\\u064c \\u0627\\u0644\\u063a\\u064c\\u0646\\u064a\\u0645 \\u064e(\\u0651\\u0627\\u0644\\u0643\\u0648\\u064f\\u064a\\u064f\\u062a)\\u064f \\u064e\\u0648\\u0628\\u0644\\u0627\\u0644\\u064f \\u0651\\u0627\\u0652\\u0644\\u064f\\u0628\\u0652\\u062f\\u064b\\u0648\\u0631\\u064c \\u0646\\u064b\\u0627\\u064b\\u0626\\u0628 \\u0631\\u064d\\u0626\\u064a\\u064c\\u0633\\u064f \\u0645\\u062c\\u064e\\u0644\\u0633 \\u0625\\u062f\\u0650\\u0627\\u0652\\u0631\\u0652\\u0629\\u064d \\u064d\\u0646\\u064d\\u062f\\u064b\\u0648\\u0629\\u064f \\u0627\\u0644\\u062b\\u0642\\u0627\\u0641\\u0629\\u064e \\u0650\\u0627\\u0644\\u064d\\u0639\\u0652\\u0644\\u064d\\u0648\\u0645\\u064c\\u060c \\u062d\\u0652\\u064a\\u0650\\u062b \\u064d\\u0633\\u0650\\u0644\\u0637\\u064f \\u064b\\u0627\\u0644\\u0647\\u064e\\u0627\\u064c\\u0645\\u064c\\u0644\\u064a \\u0650\\u0627\\u0644\\u0636\\u0648\\u0621\\u064d \\u0639\\u0650\\u0644\\u064b\\u0649\\u0650 \\u0650\\u0627\\u0651\\u0644\\u0633\\u0652\\u064a\\u0631\\u0651\\u0629\\u064b \\u064f\\u0627\\u064b\\u0644\\u064b\\u0645\\u064e\\u0639\\u064b\\u0631\\u0641\\u064a\\u0629\\u0650 \\u064b\\u0644\\u064c\\u0643\\u064b\\u0644\\u064e\\u0627\\u064d \\u0627\\u0650\\u0644\\u0650\\u0643\\u0651\\u0627\\u064e\\u062a\\u0628\\u064a\\u0646 \\u062f .\\u064b \\u064c\\u0627\\u0644\\u0651\\u063a\\u064e\\u0646\\u064d\\u064a\\u064b\\u0645 \\u0650\\u0648\\u0651\\u0627\\u064f\\u0644\\u0628\\u0652\\u062f\\u0648\\u064e\\u0631 .\\u0651 \\u064d\\u0648\\u064b\\u0645\\u0645\\u0627\\u0652 \\u0642\\u0627\\u0644\\u0647 \\u0651\\u0627\\u064e\\u0644\\u0647\\u0627\\u0651\\u0645\\u064b\\u0644\\u064a\\u0651 \\u0641\\u064a\\u064e \\u0645\\u064c\\u0642\\u0651\\u062f\\u0652\\u0645\\u062a\\u0652\\u0647:\\u0651 \\u064b\\u0627\\u0644\\u0643\\u0648\\u064a\\u064b\\u062a \\u064f\\u062a\\u064d\\u0631\\u0643\\u062a \\u0628\\u064c\\u0635\\u0645\\u064d\\u0627\\u064e\\u062a\\u0651\\u0647\\u064c\\u0627\\u064d \\u0639\\u0645\\u064a\\u0651\\u0642\\u064f\\u0627\\u064b\\u064b \\u0639\\u064d\\u0644\\u064c\\u064a\\u0646\\u0627 \\u064c\\u0641\\u064a \\u062f\\u0648\\u0644\\u0651\\u0629 \\u064b\\u0627\\u064d\\u0644\\u064c\\u0625\\u064e\\u0645\\u0627\\u064b\\u0631\\u0627\\u062a\\u060c\\u064e \\u0652\\u0648\\u064c\\u0623\\u0643\\u064e\\u0628\\u0651\\u0631 \\u064c\\u062f\\u0644\\u064a\\u0644\\u064f \\u0650\\u0639\\u0644\\u064d\\u0649\\u064e \\u0650\\u0630\\u0644\\u0643\\u0650 \\u064f\\u0623\\u0651\\u0646 \\u0647\\u0646\\u0627\\u0643\\u064f \\u0652\\u062c\\u064a\\u064e\\u0644\\u064d\\u0627\\u0652\\u064b \\u0625\\u0645\\u0627\\u064f\\u0631\\u064f\\u0627\\u062a\\u064a\\u064d\\u0627\\u064b\\u064f \\u0652\\u0643\\u0627\\u0645\\u064b\\u0644\\u064d\\u0627\\u064d\\u064b\\u064f \\u062a\\u064e\\u0641\\u062a\\u062d\\u0651\\u062a\\u0651 \\u064b\\u0645\\u0650\\u062f\\u0652\\u0627\\u0631\\u0652\\u0643\\u0647\\u064b \\u0639\\u0644\\u0652\\u0649 \\u0651\\u0645\\u064b\\u0627\\u064e \\u0628\\u062b\\u064f\\u062a\\u064c\\u0647\\u064d \\u0627\\u064c\\u0644\\u0650\\u0643\\u064c\\u0648\\u064a\\u062a \\u0652\\u0645\\u0651\\u0646\\u064b \\u064b\\u062a\\u0639\\u0644\\u064a\\u064e\\u0645 \\u064d\\u0648\\u064f\\u062b\\u064c\\u0642\\u0627\\u0641\\u0651\\u0629\\u064d \\u0641\\u064a\\u064d \\u064c\\u0627\\u0644\\u0625\\u064c\\u0645\\u0651\\u0627\\u064b\\u0631\\u0627\\u064c\\u062a\\u064c\\u060c\\u064f \\u0650\\u062c\\u064a\\u0644 \\u0650\\u0643\\u064b\\u0627\\u064f\\u0645\\u0644\\u060c\\u0651 \\u064c\\u062a\\u0652\\u0639\\u0644\\u0645 \\u0648\\u0641\\u0652\\u0642 \\u0651\\u0645\\u0651\\u0646\\u064d\\u0627\\u0650\\u0647\\u064c\\u062c\\u064f \\u0627\\u0644\\u0643\\u0652\\u0648\\u064a\\u062a \\u0627\\u064c\\u0644\\u062a\\u0639\\u0644\\u064a\\u064c\\u0645\\u064c\\u064a\\u064d\\u0629 \\u064c.\\u064e\\u0648\\u0623\\u0634\\u0627\\u0651\\u062f\\u064d \\u064e\\u062f \\u064e.\\u064d \\u0627\\u064e\\u0644\\u063a\\u0646\\u064b\\u064a\\u0645 \\u0650\\u0628\\u0627\\u064c\\u0644\\u062d\\u064a\\u0627\\u0629\\u0650 \\u0651\\u0627\\u0644\\u062a\\u0652\\u0639\\u064b\\u0644\\u064a\\u064f\\u0645\\u064a\\u0629\\u064f \\u0627\\u0644\\u062b\\u0642\\u064b\\u0627\\u064f\\u0641\\u0651\\u064a\\u0629\\u0650 \\u0652\\u0641\\u064e\\u064a\\u064e \\u064f\\u0627\\u0644\\u064c\\u0625\\u0645\\u064b\\u0627\\u0631\\u064c\\u0627\\u062a\\u060c\\u064d \\u0651\\u0648\\u064c\\u0631\\u0623\\u0649\\u064f \\u064e\\u0623\\u064e\\u0646\\u0651\\u0647\\u0627\\u064e \\u062c\\u062f \\u0652\\u0645\\u062a\\u0637\\u0648\\u0631\\u064d\\u0629\\u0652\\u060c\\u0650 \\u0648\\u064e\\u0623\\u0650\\u062f\\u064c\\u0644\\u0649\\u0652 \\u0651\\u0628\\u0623\\u064c\\u0645\\u062b\\u0650\\u0644\\u0629 \\u064c\\u0645\\u0647\\u0651\\u0645\\u0629\\u064f \\u0650\\u0639\\u064f\\u0644\\u0651\\u0649 \\u0630\\u0650\\u0644\\u064e\\u0643\\u064c\\u060c\\u064c \\u0648\\u064c\\u0645\\u064d\\u0646\\u0647\\u0627 \\u0651\\u0623\\u0646 \\u0627\\u0650\\u0644\\u064e\\u0643\\u062b\\u064b\\u064a\\u0631\\u064a\\u064b\\u0646\\u064e \\u064c\\u0645\\u0646\\u0650 \\u0623\\u0628\\u064c\\u0646\\u064e\\u0627\\u0621\\u064f \\u0650\\u0627\\u0644\\u064b\\u0643\\u0648\\u064e\\u064a\\u0650\\u062a \\u0628\\u0627\\u062a\\u064b\\u0648\\u0627 \\u064a\\u064e\\u062a\\u0652\\u0627\\u0652\\u0628\\u0639\\u0650\\u0648\\u0652\\u0646 \\u0652\\u062a\\u062d\\u0652\\u0635\\u064a\\u0644\\u0647\\u0650\\u0645\\u0651 \\u064d\\u0627\\u0651\\u0644\\u0645\\u0639\\u064d\\u0631\\u064f\\u0641\\u064e\\u064a\\u064d \\u064d\\u0641\\u064c\\u064a \\u062c\\u064f\\u0627\\u064e\\u0645\\u0639\\u064d\\u0627\\u064b\\u062a \\u0627\\u0652\\u0644\\u0625\\u0645\\u0650\\u0627\\u0631\\u0627\\u062a\\u0652\\u060c\\u064e \\u0645\\u0646\\u0650 \\u062f\\u064f\\u0648\\u0646\\u064b \\u064e\\u0623\\u064e\\u0646 \\u064f\\u064a\\u064f\\u0634\\u064f\\u0639\\u064f\\u0631\\u0651\\u0648\\u064d\\u0627 \\u0625\\u0644\\u064d\\u0627\\u0650 \\u0628\\u0651\\u0623\\u0646\\u064b\\u0647\\u064c\\u0645\\u064b \\u0641\\u0650\\u064a \\u0628\\u064b\\u064a\\u0648\\u062a\\u0650\\u0647\\u064e\\u0645\\u0651\\u060c \\u0652\\u0648\\u0647\\u0648\\u064e \\u064f\\u0645\\u062f\\u064c\\u0639\\u064c\\u0627\\u064e\\u0629\\u0651 \\u064d\\u0633\\u064b\\u0639\\u0627\\u0650\\u062f\\u0629 \\u064d\\u0623\\u0633\\u0631\\u064d\\u0647\\u0645\\u0651\\u060c \\u0628\\u0652\\u0644 \\u0650\\u0628\\u0644\\u0651\\u062f\\u0647\\u0645\\u064b \\u064d\\u0628\\u0643\\u0627\\u064d\\u0645\\u064d\\u0644\\u0647 \\u064f.\\u0648\\u0642\\u0627\\u0644: \\u0644\\u0645\\u064f \\u064f\\u0623\\u064c\\u0631\\u062f\\u064c \\u064c\\u0623\\u0646\\u0650 \\u064d\\u0623\\u0633\\u064e\\u0645\\u064e\\u064a\\u0652 \\u0646\\u064e\\u062f\\u0650\\u0648\\u062a\\u0650\\u0646\\u0627 \\u0647\\u064b\\u0630\\u0651\\u0647\\u064f \\u0628\\u0627\\u0644\\u062d\\u0648\\u0651\\u0627\\u0652\\u0631\\u064b\\u064a\\u0629\\u0651\\u060c\\u064c \\u0628\\u0650\\u064a\\u0650\\u0646 \\u0645\\u0652\\u062b\\u064e\\u0642\\u0652\\u0641\\u064d\\u064a\\u0650\\u0646\\u0651 \\u0645\\u0650\\u0646\\u064d \\u0628\\u0644\\u062f\\u064a\\u064e\\u0646\\u0627:\\u064b \\u064b\\u0627\\u0644\\u064e\\u0643\\u0648\\u0650\\u064a\\u062a\\u0652 \\u0652\\u0648\\u0627\\u0652\\u0644\\u0625\\u0645\\u064c\\u0627\\u0631\\u0627\\u064c\\u062a\\u060c\\u064f \\u064b\\u0644\\u0623\\u0646 \\u0627\\u0644\\u062d\\u0648\\u064f\\u0627\\u0652\\u0631\\u060c\\u064f \\u0650\\u064a\\u062a\\u0645 \\u064c\\u0639\\u064f\\u0627\\u0650\\u062f\\u0629\\u064d\\u060c \\u0652\\u0628\\u064a\\u064e\\u0646\\u064c \\u0645\\u0650\\u0646\\u064b \\u0652\\u0647\\u064b\\u0645\\u064d \\u0645\\u062e\\u062a\\u064d\\u0644\\u0641\\u0648\\u0646\\u060c \\u0628\\u064a\\u0646 \\u0650\\u0645\\u064c\\u0646 \\u062a\\u064c\\u0643\\u0650\\u0648\\u0646\\u064c \\u064e\\u0647\\u064f\\u0646\\u0627\\u0643 \\u062a\\u0646\\u0627\\u0642\\u0650\\u0636\\u0627\\u062a \\u064b\\u0641\\u064f\\u064a\\u0651\\u0645\\u0627\\u064b \\u0650\\u0628\\u064a\\u0646\\u0652\\u0647\\u0645\\u060c \\u0625\\u0651\\u0646\\u0646\\u064e\\u0627\\u0650 \\u0650\\u0646\\u062a\\u062d\\u062f\\u064c\\u062b \\u064b\\u0636\\u0652\\u0645\\u0646 \\u0652\\u0625\\u0637\\u0652\\u0627\\u0650\\u0631\\u0651 \\u064c\\u0627\\u064c\\u0644\\u064e\\u0628\\u064e\\u064a\\u064b\\u062a\\u0650 \\u064c\\u0627\\u0644\\u0648\\u0652\\u0627\\u062d\\u0651\\u062f\\u060c \\u064f\\u0636\\u064e\\u0645\\u064c\\u0646\\u0650 \\u0625\\u0637\\u0627\\u0631 \\u0627\\u0644\\u064b\\u0623\\u0633\\u064c\\u0631\\u064f\\u0629 \\u0627\\u0644\\u0652\\u0648\\u0650\\u0627\\u062d\\u062f\\u0629\\u060c\\u0651 \\u0648\\u064f\\u0647\\u0646\\u064b\\u0627\\u0650 \\u0627\\u0650\\u0644\\u0641\\u0631\\u0642\\u064f \\u0628\\u064b\\u064a\\u0646\\u064c \\u064c\\u0637\\u064d\\u0628\\u064a\\u0639\\u0629 \\u0651\\u062d\\u062f\\u064a\\u064f\\u062b\\u0646\\u0651\\u0627\\u060c\\u0652 \\u0648\\u0635\\u0641\\u0629\\u064b \\u0627\\u0644\\u062d\\u0650\\u0648\\u0627\\u0631\\u0652 \\u0650.\\u0651\\u0648\\u062a\\u0627\\u0628\\u0651\\u0639\\u064b \\u062f . \\u0627\\u064f\\u0644\\u063a\\u0646\\u064a\\u064f\\u0645 \\u064f\\u0642\\u0651\\u0627\\u0626\\u0644\\u0627\\u064d\\u064b:\\u064d \\u0650\\u0645\\u0652\\u0631\\u0643\\u0650\\u0632 \\u0627\\u064c\\u0644\\u064b\\u0628\\u062d\\u0648\\u064c\\u062b \\u064e\\u0648\\u0627\\u064d\\u0644\\u062f\\u0631\\u064b\\u0627\\u064f\\u0633\\u0627\\u062a\\u0650 \\u0627\\u064c\\u0644\\u0643\\u0650\\u0648\\u064a\\u0650\\u062a\\u064c\\u064a\\u064b \\u064c\\u062c\\u0651\\u0645\\u064b\\u0639\\u0651 \\u0623\\u064d\\u0643\\u0650\\u062b\\u0651\\u0631 \\u064b\\u0645\\u0646 \\u064e\\u0645\\u0644\\u064b\\u064a\\u0648\\u064e\\u0646\\u064f\\u064a \\u0648\\u064e\\u062b\\u0651\\u064a\\u064d\\u0642\\u0629\\u064c \\u0639\\u0646 \\\"\\u0627\\u0644\\u062c\\u064b\\u0646\\u0648\\u064e\\u0628 \\u0648\\u0651\\u0627\\u064e\\u0644\\u062e\\u0644\\u0650\\u064a\\u064f\\u062c\\\"\\u064e\\u060c\\u0651 \\u0648\\u0645\\u064d\\u0646 \\u0628\\u064c\\u064a\\u064b\\u0646\\u064f\\u0647\\u0627\\u064f \\u0648\\u064e\\u062b\\u0627\\u0626\\u0642\\u0652 \\u064f\\u0645\\u0647\\u0650\\u0645\\u064e\\u0629 \\u0639\\u0646 \\u0645\\u0641\\u064c\\u0627\\u0635\\u0644 \\u064b\\u0627\\u0644\\u064f\\u0628\\u0652\\u0646\\u064a\\u0629\\u064c \\u064d\\u0627\\u0652\\u0644\\u0651\\u062a\\u064f\\u062d\\u064c\\u062a\\u064a\\u064e\\u0629 \\u064e\\u0641\\u064a \\u0627\\u0644\\u0650\\u0625\\u0645\\u064c\\u0627\\u064b\\u0631\\u064b\\u0627\\u0652\\u062a\\u064a\\u064f\\u0629\\u060c\\u064b \\u0648\\u064f\\u0646\\u064b\\u0634\\u064d\\u0623\\u064d\\u0629 \\u0645\\u062f\\u0627\\u0631\\u0633\\u0647\\u064e\\u0627\\u060c \\u0648\\u062d\\u064a\\u0627\\u062a\\u0650\\u0647\\u0627 \\u0627\\u0644\\u062b\\u064e\\u0642\\u0627\\u0641\\u064a\\u0629\\u0650\\u060c \\u064d\\u0648\\u0652\\u0641\\u064a \\u0647\\u0630\\u0650\\u0647 \\u0627\\u0651\\u0644\\u0648\\u062b\\u064b\\u0627\\u0626\\u0651\\u0642 \\u0650\\u0645\\u0639\\u0644\\u0648\\u064d\\u0645\\u0650\\u0627\\u064e\\u062a \\u062c\\u0651\\u062f \\u0645\\u0647\\u0645\\u0629\\u0652 \\u064b\\u0639\\u0651\\u0646 \\u064f\\u0646\\u0634\\u0623\\u0629\\u0651 \\u0627\\u0652\\u0644\\u064b\\u0645\\u062f\\u0650\\u0627\\u064c\\u0631\\u0633\\u060c\\u0652 \\u064c\\u0648\\u064c\\u062d\\u0651\\u062a\\u0649\\u064c \\u0623\\u0633\\u064b\\u0645\\u064e\\u0627\\u0621 \\u0651\\u0627\\u0644\\u0637\\u0644\\u0651\\u0628\\u0629\\u060c \\u0648\\u064b\\u0627\\u064e\\u0644\\u064d\\u0645\\u062f\\u064b\\u0631\\u0633\\u064c\\u064a\\u0646\\u060c\\u0652 \\u064b\\u0648\\u0643\\u0652\\u064a\\u0641\\u064a\\u064f\\u0629\\u064c \\u0628\\u064b\\u062f\\u0650\\u0627\\u064f\\u064a\\u0627\\u0652\\u062a\\u064c \\u0639\\u0652\\u0645\\u0650\\u0644\\u064e\\u064a\\u0652\\u0629\\u064d \\u0627\\u0644\\u062a\\u0639\\u0644\\u064a\\u0645\\u064f \\u064f. . \\u064d\\u0625\\u0644\\u064f\\u062e\\u0652\\u060c \\u064c\\u0648\\u0647\\u0646\\u064d\\u0627\\u0643\\u0651 \\u064b\\u0645\\u0646 \\u0651\\u0646\\u064f\\u0627\\u064f\\u0644\\u0652 \\u064b\\u0634\\u0647\\u0650\\u0627\\u062f\\u0629\\u064c \\u0650\\u0627\\u0644\\u062f\\u0650\\u0643\\u062a\\u064e\\u0648\\u0631\\u0651\\u0627\\u0647 \\u0645\\u064c\\u0646\\u0651 \\u062e\\u064f\\u0644\\u064b\\u0627\\u0651\\u0644\\u064f \\u064f\\u0642\\u0652\\u0631\\u0627\\u0621\\u0652\\u0629 \\u064e\\u0627\\u0644\\u064d\\u0639\\u064b\\u0644\\u064e\\u0627\\u0642\\u0627\\u064c\\u062a \\u0627\\u0652\\u0644\\u0623\\u0650\\u062e\\u0648\\u064d\\u064a\\u064e\\u0629 \\u064d\\u0628\\u064a\\u0646 \\u064e\\u0627\\u0644\\u064f\\u0628\\u064e\\u0644\\u062f\\u064a\\u064c\\u0646 \\u0652.\\u0652\\u0648\\u062c\\u0627\\u0621\\u064e \\u062d\\u064d\\u062f\\u064d\\u064a\\u064d\\u062b\\u064f \\u0627\\u064f\\u0644\\u0651\\u0628\\u0652\\u062f\\u064c\\u0648\\u0631\\u064e \\u064e\\u0628\\u0645\\u0627 \\u064a\\u064f\\u0634\\u0650\\u0628\\u0647 \\u064f\\u0627\\u064f\\u0644\\u0652\\u0634\\u0650\\u0647\\u0627\\u062f\\u064e\\u0629\\u064e\\u060c \\u0645\\u0646 \\u064c\\u0642\\u064e\\u0628\\u0644\\u064e \\u0652\\u0623\\u062d\\u064e\\u062f\\u064f \\u0651\\u0623\\u064c\\u0628\\u064f\\u0646\\u0627\\u0621 \\u064d\\u0627\\u0644\\u064c\\u062c\\u064a\\u064d\\u0644 \\u0627\\u064d\\u0644\\u064e\\u0630\\u064a\\u064d \\u064f\\u0641\\u062a\\u0651\\u062d \\u0639\\u064a\\u0646\\u064a\\u064b\\u0647\\u064b \\u0650\\u0639\\u064b\\u0644\\u064d\\u0649\\u0650 \\u0627\\u0644\\u0645\\u0646\\u0627\\u064f\\u0647\\u064b\\u062c \\u0627\\u0652\\u0644\\u0651\\u062a\\u0639\\u0644\\u064f\\u064a\\u0645\\u064a\\u0629 \\u0627\\u0644\\u0651\\u0643\\u064f\\u0648\\u0650\\u064a\\u062a\\u064a\\u0629\\u064e \\u0627\\u0650\\u0644\\u062a\\u064a\\u064b \\u064e\\u062a\\u0645 \\u062a\\u064b\\u062f\\u0650\\u0631\\u064a\\u064f\\u0633\\u0650\\u0647\\u064e\\u0627\\u064b \\u0641\\u0651\\u064a\\u064d \\u0627\\u064f\\u0644\\u0652\\u0625\\u064d\\u0645\\u064c\\u0627\\u0631\\u064c\\u0627\\u0652\\u062a\\u0652\\u060c \\u0648\\u0651\\u0642\\u064d\\u0627\\u0644: \\u064e\\u0643\\u0644 \\u064f\\u0630\\u064c\\u0644\\u0643 \\u064f\\u0630\\u0643\\u0631\\u0650\\u062a\\u0647 \\u0641\\u0651\\u064a \\u0643\\u062a\\u0627\\u0628\\u064a \\u064b\\\"\\u0627\\u0644\\u062c\\u0630\\u0648\\u0631 \\u0650\\u0627\\u064f\\u0644\\u062a\\u0627\\u0631\\u0652\\u064a\\u064d\\u062e\\u0650\\u064a\\u0651\\u0629\\u064d \\u064e\\u0644\\u064f\\u0644\\u0639\\u064b\\u0644\\u0627\\u0642\\u0627\\u0650\\u062a\\u064f \\u064e\\u0627\\u064f\\u0644\\u062b\\u0652\\u0642\\u0627\\u0650\\u0641\\u064d\\u064a\\u0629 \\u064c\\u0628\\u064a\\u064b\\u0646 \\u0650\\u0627\\u0644\\u0625\\u0645\\u0627\\u0631\\u0627\\u064c\\u062a\\u064c \\u064f\\u0648\\u064e\\u0627\\u064b\\u0644\\u0643\\u0650\\u0648\\u064a\\u064f\\u062a\\\"\\u060c \\u0652\\u0648\\u0643\\u064b\\u0627\\u064b\\u0646 \\u064c\\u0628\\u064f\\u0645\\u064f\\u062b\\u064f\\u0627\\u064e\\u0628\\u064c\\u0629\\u064d \\u064c\\u0631\\u0652\\u0633\\u064b\\u0627\\u0651\\u0644\\u064e\\u0629 \\u0634\\u0652\\u0643\\u0631 \\u0652\\u0644\\u0644\\u0643\\u0648\\u064a\\u062a\\u060c \\u0648\\u064c\\u0623\\u0636\\u0650\\u0627\\u064d\\u0641:\\u064d \\u0623\\u062c\\u064f\\u0644\\u060c\\u064e \\u064c\\u062a\\u062a\\u0644\\u0645\\u0630\\u0646\\u0627\\u064c \\u0639\\u064f\\u0644\\u0651\\u0649 \\u0650\\u0645\\u064d\\u0646\\u064c\\u0627\\u064c\\u0647\\u062c \\u064b\\u0627\\u0644\\u0643\\u064e\\u0648\\u064b\\u064a\\u062a\\u064d\\u060c\\u0650 \\u0648\\u0642\\u0631\\u0623\\u0646\\u0627\\u064d \\u0650\\u0639\\u064e\\u0628\\u0627\\u0631\\u064d\\u0629 \\u064e\\\"\\u0639\\u064f\\u0644\\u0645 \\u0628\\u0651\\u0644\\u0651\\u0627\\u062f\\u064a\\u0650 \\u0651\\u0644\\u0651\\u0648\\u064e\\u0646\\u0647\\u0650 \\u064c\\u0623\\u064c\\u062d\\u0645\\u0650\\u0631\\\" \\u0648\\u0650\\u0627\\u0631\\u062a\\u064c\\u062f\\u064a\\u0646\\u0652\\u0627\\u064e \\u0632\\u064a \\u0627\\u064e\\u0644\\u0652\\u0645\\u062f\\u0651\\u0627\\u0652\\u0631\\u064b\\u0633\\u064f \\u064d\\u0627\\u0644\\u0643\\u064d\\u0648\\u064e\\u064a\\u062a\\u064a\\u0629 \\u0623\\u062b\\u064f\\u0646\\u064f\\u0627\\u064e\\u0621\\u064c \\u0651\\u062a\\u0639\\u064e\\u0644\\u0650\\u064a\\u0645\\u0646\\u0627\\u064c\\u060c \\u064c\\u0648\\u0652\\u062a\\u064d\\u0646\\u0627\\u0650\\u0648\\u0644\\u064b\\u0646\\u0627 \\u0627\\u0644\\u064e\\u0648\\u062c\\u064f\\u0628\\u0652\\u0627\\u062a\\u064d \\u0627\\u0651\\u0644\\u0635\\u0628\\u0627\\u062d\\u0650\\u064a\\u0629\\u0651 \\u0627\\u0651\\u0644\\u0650\\u0643\\u064b\\u0648\\u064a\\u062a\\u064a\\u0629\\u0650 \\u064d\\u0641\\u0650\\u064a \\u0645\\u062f\\u064b\\u0627\\u064b\\u0631\\u064c\\u0633\\u0646\\u0627\\u0652\\u060c\\u064b \\u0648\\u0627\\u0633\\u062a\\u062e\\u064c\\u062f\\u064f\\u0645\\u0651\\u0646\\u0627 \\u064d\\u0627\\u064b\\u0644\\u064c\\u0623\\u0650\\u0642\\u064c\\u0644\\u0627\\u0651\\u0645 \\u0652\\u0648\\u064d\\u0627\\u0644\\u0652\\u0645\\u0645\\u064e\\u062d\\u0651\\u0627\\u064f\\u064a\\u064d\\u0627\\u064b\\u062a\\u064e \\u0648\\u0627\\u064d\\u0644\\u064b\\u0645\\u0628\\u0631\\u0627\\u064a\\u0652\\u0627\\u064b\\u062a \\u064d\\u0627\\u0644\\u064e\\u0643\\u0648\\u064c\\u064a\\u062a\\u064a\\u0629\\u064e\\u060c \\u0644\\u064d\\u0627\\u064c \\u0641\\u0631\\u0642 \\u064f\\u0628\\u064b\\u064a\\u064c\\u0646\\u064d\\u0646\\u0651\\u0627\\u060c \\u0628\\u064a\\u064b\\u0626\\u0650\\u062a\\u0627 \\u0628\\u064f\\u0644\\u062f\\u064a\\u0646\\u0627\\u064b \\u0648\\u0650\\u0627\\u064f\\u062d\\u0652\\u062f\\u0629\\u064d\\u060c \\u0647\\u064a \\u0627\\u064f\\u0644\\u0628\\u0650\\u064a\\u0650\\u0626\\u0629\\u064b \\u064c\\u0627\\u0650\\u0644\\u0628\\u062d\\u0631\\u064a\\u0629\\u064f \\u064f.\\u064b \\u0648\\u0628\\u0652\\u0639\\u062f\\u064f \\u064f\\u0623\\u0650\\u0641\\u064c\\u0648\\u0644 \\u062a\\u064d\\u062c\\u0627\\u0652\\u0631\\u0629\\u064c \\u0627\\u0644\\u0644\\u0624\\u0644\\u064b\\u0624\\u060c \\u0651\\u0641\\u064f\\u0625\\u0652\\u0646\\u0651 \\u0645\\u0651\\u062b\\u064e\\u0642\\u064f\\u0641\\u064a\\u0646\\u0627\\u064c \\u0648\\u064d\\u0639\\u0650\\u0645\\u064e\\u0627\\u0644\\u064f\\u0646\\u064f\\u0627 \\u062a\\u0648\\u062c\\u0647\\u0648\\u0627\\u064b \\u0625\\u0644\\u0649 \\u0627\\u0644\\u064e\\u0643\\u0650\\u0648\\u064b\\u064a\\u064b\\u062a\\u064f \\u0644\\u0650\\u0644\\u0639\\u064d\\u0645\\u0644 \\u0651\\u0641\\u064f\\u064a\\u0647\\u0627\\u064f\\u060c \\u0650\\u0643\\u0651\\u0645\\u0627 \\u0623\\u064f\\u0646 \\u0647\\u064c\\u0646\\u0627\\u0643 \\u0623\\u064f\\u062c\\u064a\\u0627\\u064c\\u0644\\u0651\\u0627\\u0650\\u064b \\u064e\\u0645\\u064b\\u0646 \\u0627\\u0652\\u0644\\u064e\\u0643\\u064b\\u0648\\u064a\\u062a\\u064b\\u064a\\u064a\\u0646 \\u064b\\u0639\\u064d\\u0627\\u0634\\u0648\\u064b\\u0627 \\u0641\\u064e\\u064a \\u064f\\u0627\\u0650\\u0644\\u064e\\u0625\\u064d\\u0645\\u0627\\u0631\\u0627\\u062a\\u064d\\u060c \\u064d\\u0648\\u0651\\u0645\\u064e\\u0646\\u064b\\u0647\\u0645 \\u0645\\u0646\\u064c \\u064b\\u0639\\u0650\\u0644\\u0652\\u0645\\u064d\\u0648\\u064e\\u0646\\u0627 .\\u0651 \\u0643\\u0645\\u0627 \\u0631\\u0627\\u0651\\u062d\\u0652 \\u064a\\u0650\\u062a\\u062d\\u064d\\u062f\\u062b \\u0639\\u0646\\u0651 \\u0627\\u0644\\u062a\\u0641\\u064e\\u0627\\u0639\\u064e\\u0644\\u064b \\u0627\\u064c\\u0644\\u062b\\u0650\\u0642\\u0652\\u0627\\u0641\\u064c\\u064a \\u0628\\u064d\\u064a\\u0646\\u0650 \\u064b\\u0627\\u0644\\u064d\\u0628\\u0644\\u0651\\u062f\\u064a\\u064d\\u0646 \\u0639\\u064e\\u0628\\u0631 \\u064d\\u0642\\u064d\\u0635\\u064f\\u0627\\u0626\\u0650\\u062f\\u064d \\u0627\\u0651\\u0644\\u064b\\u0634\\u0639\\u0652\\u0631\\u0627\\u064e\\u0621\\u060c\\u064d \\u064b\\u0627\\u0644\\u0652\\u0641\\u0652\\u0635\\u0652\\u062d\\u064c\\u0649\\u064b \\u0648\\u064c\\u0627\\u0644\\u0650\\u0646\\u064b\\u0628\\u0637\\u064a\\u064f\\u0629\\u0650\\u060c \\u0650\\u0641\\u0652\\u0636\\u064b\\u0644\\u0650\\u0627\\u064b\\u064b \\u064c\\u0639\\u064d\\u0646 \\u0651\\u0627\\u064d\\u0644\\u062a\\u0641\\u064c\\u0627\\u0639\\u064f\\u0644\\u064c \\u0651\\u0645\\u0652\\u0639 \\u0648\\u064b\\u0633\\u0627\\u0652\\u0626\\u064b\\u0644\\u064b \\u0627\\u0644\\u0625\\u0650\\u0639\\u0644\\u0627\\u0645\\u0650 \\u064d\\u0641\\u0650\\u064a\\u064e \\u0643\\u0644\\u0627 \\u0627\\u064b\\u0644\\u0628\\u0651\\u0644\\u064e\\u062f\\u064c\\u064a\\u064d\\u0646\\u060c\\u064c \\u0650\\u0625\\u064f\\u0630 \\u064c\\u0641\\u064c\\u062a\\u062d\\u062a\\u0650 \\u064c\\u0627\\u0644\\u0651\\u0635\\u064d\\u062d\\u064e\\u0627\\u064c\\u0641\\u0629\\u0650 \\u0627\\u064e\\u0644\\u064e\\u0643\\u0648\\u064a\\u062a\\u064a\\u0650\\u0629\\u064f \\u0651\\u0623\\u064f\\u0628\\u0652\\u0648\\u064e\\u0627\\u0628\\u0647\\u064d\\u0627\\u0651 \\u0644\\u0644\\u0645\\u062b\\u0642\\u0641\\u064a\\u064b\\u0646\\u064b \\u0627\\u064f\\u0644\\u0625\\u0645\\u0627\\u0631\\u0652\\u0627\\u0650\\u062a\\u064f\\u064a\\u064e\\u064a\\u0650\\u0646 .\",\n          \"https://example.com/resource/\\u0623\\u0650\\u0628\\u0648\\u0638\\u0628\\u064f\\u064a\\u0651 \\u064c-\\u0650 \\u064b\\u0645\\u0646\\u0651\\u064a\\u0650 \\u0650\\u0628\\u0651\\u0648\\u0651\\u0646\\u0639\\u064f\\u0627\\u064b\\u0645\\u0629:\\u0646\\u064e\\u0638\\u0645 \\u0627\\u062a\\u062d\\u0627\\u062f \\u064d\\u0643\\u0651\\u062a\\u0627\\u0650\\u0628\\u064d \\u0651\\u0648\\u0652\\u0623\\u062f\\u0652\\u0628\\u064e\\u0627\\u064b\\u0621 \\u064f\\u0627\\u0644\\u0625\\u0645\\u0627\\u0651\\u0631\\u0627\\u0650\\u062a \\u0641\\u064a \\u0623\\u0628\\u0648\\u0650\\u0638\\u0628\\u064b\\u064a\\u0651\\u060c\\u064c \\u0645\\u0633\\u064c\\u0627\\u064e\\u0621\\u064c \\u0623\\u0645\\u064c\\u0633\\u064d \\u0627\\u0644\\u064f\\u0623\\u064e\\u0648\\u0651\\u0644\\u060c \\u064f\\u0641\\u0650\\u064a\\u064d \\u0642\\u0651\\u0627\\u0650\\u0639\\u0629\\u064d \\u0627\\u0652\\u0644\\u062f\\u0643\\u062a\\u0648\\u064c\\u0631\\u064c \\u064c\\u0639\\u0628\\u062f\\u064e \\u064b\\u0627\\u0644\\u064c\\u0644\\u0647\\u0651 \\u0639\\u0645\\u0631\\u0627\\u064d\\u0646 \\u064f\\u062a\\u0650\\u0631\\u0651\\u064a\\u0645\\u0652 \\u064d\\u0641\\u064a\\u064f \\u0645\\u0651\\u0642\\u0631 \\u064d\\u0627\\u0644\\u0627\\u062a\\u064c\\u062d\\u0627\\u062f\\u064c \\u064c\\u0627\\u0644\\u064c\\u062c\\u062f\\u064a\\u0651\\u062f \\u0641\\u064a \\u0645\\u0650\\u0639\\u064e\\u0633\\u064b\\u0643\\u0631\\u064d \\u064f\\u0622\\u0644\\u0651 \\u0646\\u064b\\u0647\\u064a\\u0627\\u0646\\u064f \\u0623\\u064e\\u0645\\u0650\\u0633\\u064f\\u064a\\u0629 \\u0644\\u0652\\u0644\\u064e\\u0643\\u064c\\u0627\\u062a\\u0628\\u064d \\u0651\\u0648\\u064e\\u0627\\u0644\\u0652\\u0645\\u062b\\u064e\\u0642\\u0651\\u0641\\u064c \\u064d\\u0627\\u0644\\u0625\\u0645\\u064d\\u0627\\u064c\\u0631\\u064c\\u0627\\u062a\\u0651\\u064a\\u064f \\u0645\\u0627\\u062c\\u064c\\u062f \\u0628\\u0648 \\u0634\\u064f\\u0644\\u064a\\u0628\\u064f\\u064a\\u060c\\u064d \\u0623\\u064f\\u0645\\u064b\\u064a\\u0646 \\u0639\\u0627\\u0645\\u0652 \\u0652\\u0627\\u0644\\u0645\\u0646\\u062a\\u0650\\u062f\\u0651\\u0649 \\u0650\\u0627\\u0644\\u064d\\u0625\\u064e\\u0633\\u0651\\u0644\\u0651\\u0627\\u0645\\u0652\\u064a\\u064f \\u0641\\u064f\\u064a \\u0627\\u0644\\u064e\\u0634\\u0650\\u0627\\u0631\\u064d\\u0642\\u064e\\u0629\\u064e\\u060c\\u0650 \\u064c\\u0628\\u064f\\u0639\\u0646\\u0648\\u064f\\u0627\\u0646:\\u0651 \\u0644\\u0645\\u0627\\u0630\\u0627\\u064e \\u0651\\u0627\\u064b\\u0644\\u064f\\u0634\\u0651\\u0627\\u0631\\u0642\\u0629 \\u0639\\u0651\\u0627\\u064e\\u0635\\u0645\\u0629 \\u0650\\u0644\\u064d\\u0644\\u062b\\u064f\\u0642\\u0627\\u0641\\u064b\\u0629\\u064b \\u0627\\u064c\\u0644\\u0625\\u064c\\u0633\\u0652\\u0644\\u064d\\u0627\\u0645\\u0651\\u064a\\u0629\\u064d\\u061f \\u0642\\u062f\\u0651\\u0651\\u064e\\u0645 \\u0627\\u0644\\u064e\\u0623\\u0645\\u0633\\u064a\\u064f\\u0629\\u064f \\u064d\\u0627\\u0644\\u0634\\u0650\\u0627\\u0639\\u0631\\u0652 \\u0652\\u0648\\u0627\\u0644\\u0646\\u0627\\u0652\\u0642\\u062f \\u0645\\u064b\\u062d\\u064c\\u0645\\u062f \\u0646\\u0648\\u0631 \\u064f\\u0627\\u064c\\u0644\\u062f\\u064f\\u064a\\u0646\\u060c\\u0651 \\u064b\\u0648\\u0650\\u062d\\u0636\\u0650\\u0631\\u0651\\u0647\\u064c\\u0627\\u064e \\u064f\\u062d\\u0650\\u0628\\u064d\\u064a\\u0652\\u0628\\u064b \\u0627\\u064e\\u0644\\u0635\\u064b\\u0627\\u064a\\u0650\\u063a\\u0651 \\u064e\\u0631\\u064f\\u0626\\u064a\\u064d\\u0633\\u0652 \\u0645\\u062c\\u0651\\u0644\\u0633\\u0650 \\u0625\\u064c\\u062f\\u064c\\u0627\\u0631\\u0629\\u0650 \\u0651\\u0627\\u064c\\u0644\\u064b\\u0627\\u064b\\u062a\\u062d\\u0627\\u062f\\u0650\\u060c\\u064e \\u0648\\u0639\\u064b\\u062f\\u064b\\u062f \\u0645\\u0646 \\u064d\\u0627\\u0644\\u0643\\u062a\\u0651\\u0627\\u0628\\u064e \\u0648\\u0652\\u0627\\u064f\\u0644\\u064b\\u0623\\u064f\\u062f\\u0628\\u0627\\u064d\\u0621 \\u064d.\\u064e \\u064c\\u0627\\u0633\\u062a\\u064b\\u0647\\u0651\\u0644\\u0652 \\u0627\\u0652\\u0644\\u0651\\u0645\\u064d\\u062d\\u0652\\u0627\\u064f\\u0636\\u0631 \\u0628\\u0627\\u0633\\u062a\\u0639\\u064e\\u0631\\u0627\\u0636\\u0650 \\u0627\\u0644\\u0623\\u0637\\u0631 \\u0627\\u064c\\u0644\\u0639\\u064d\\u0627\\u0645\\u0629\\u0652 \\u0651\\u0627\\u064c\\u0644\\u062a\\u064a\\u0650 \\u0639\\u0645\\u0644\\u062a \\u064d\\u0639\\u0644\\u0649 \\u062a\\u064e\\u0634\\u0643\\u0651\\u064a\\u0652\\u0644\\u064f \\u064b\\u0648\\u0628\\u0644\\u064d\\u0648\\u064f\\u0631\\u0629 \\u0627\\u064f\\u0644\\u0641\\u0643\\u064b\\u0631\\u0652\\u0629 \\u0627\\u064e\\u0644\\u064c\\u062b\\u0642\\u0651\\u0627\\u0641\\u064d\\u064a\\u064b\\u0629\\u064e \\u0641\\u064b\\u064a\\u064f \\u064c\\u0627\\u0644\\u064f\\u0634\\u0627\\u0650\\u0631\\u064b\\u0642\\u0629\\u0652\\u060c\\u0652 \\u0645\\u0646\\u064c \\u0652\\u062e\\u0652\\u0644\\u0627\\u0652\\u0644\\u064d \\u0652\\u0627\\u0644\\u062a\\u064f\\u0639\\u064d\\u0631\\u064b\\u064a\\u0641 \\u0628\\u0652\\u0627\\u0644\\u062a\\u0650\\u062c\\u064b\\u0631\\u064f\\u0628\\u0629\\u0651 \\u064f\\u0648\\u0623\\u0647\\u0645 \\u0645\\u0633\\u0652\\u0627\\u0650\\u0631\\u064d\\u0627\\u062a\\u064b\\u0647\\u064d\\u0627\\u0652\\u060c\\u064f \\u0650\\u0648\\u064b\\u0627\\u0650\\u0644\\u0651\\u0623\\u0637\\u0650\\u0648\\u064c\\u0627\\u0631 \\u0651\\u0627\\u0652\\u0644\\u064d\\u062a\\u064a \\u0650\\u0645\\u064c\\u0631\\u064b\\u062a \\u0628\\u0647\\u0650\\u0627\\u064d\\u060c \\u0628\\u0652\\u062f\\u064e\\u0621\\u0651\\u0627\\u064b\\u064d \\u0628\\u064d\\u0627\\u0644\\u062d\\u062f\\u064a\\u064c\\u062b\\u064b \\u064d\\u0639\\u064b\\u0646 \\u0628\\u064d\\u0646\\u0627\\u0652\\u0621\\u064d \\u0627\\u0644\\u0628\\u064d\\u0646\\u0649\\u0650 \\u0627\\u0651\\u0644\\u0650\\u062a\\u064c\\u062d\\u062a\\u064c\\u064a\\u064c\\u0629\\u0650 \\u064d\\u0644\\u0644\\u0645\\u0624\\u064b\\u0633\\u0633\\u0650\\u0627\\u062a \\u0650\\u0627\\u0644\\u062b\\u064e\\u0642\\u0652\\u0627\\u0641\\u064a\\u064d\\u0629\\u064c \\u064f\\u0648\\u0627\\u064e\\u0644\\u0625\\u0651\\u0639\\u064e\\u0644\\u0627\\u0645\\u0650\\u064a\\u0629\\u0651 \\u064c\\u0627\\u0644\\u062a\\u064a \\u0623\\u064d\\u0633\\u0651\\u0647\\u0645\\u064f\\u062a\\u060c \\u064d\\u0639\\u064f\\u0628\\u0631 \\u0651\\u062a\\u0627\\u0652\\u0631\\u064a\\u062e\\u0647\\u0627\\u0652\\u060c\\u064e \\u0641\\u064c\\u064a\\u0651 \\u0652\\u062a\\u064b\\u0641\\u0639\\u064a\\u0644 \\u0627\\u0651\\u0644\\u0639\\u0650\\u0645\\u064b\\u0644\\u064b \\u0627\\u064e\\u0644\\u062b\\u0650\\u0642\\u064e\\u0627\\u0650\\u0641\\u0651\\u064a \\u0641\\u064f\\u064a \\u0627\\u064d\\u0644\\u0634\\u0627\\u0652\\u0631\\u0642\\u0629\\u060c \\u0627\\u0646\\u0637\\u0644\\u064d\\u0627\\u0642\\u0627\\u064b\\u0651 \\u0645\\u0650\\u0646\\u064b \\u062a\\u0623\\u0633\\u064f\\u064a\\u0633\\u0651 \\u064c\\u062f\\u0627\\u0652\\u0626\\u0631\\u0629\\u064d \\u0652\\u0627\\u0650\\u0644\\u064f\\u062b\\u0642\\u064b\\u0627\\u0641\\u0629 \\u064d\\u0648\\u0627\\u064c\\u0644\\u0625\\u0651\\u0639\\u0644\\u0627\\u0650\\u0645\\u064f\\u060c\\u0651 \\u0648\\u0650\\u062a\\u0644\\u0641\\u0632\\u064a\\u0648\\u064b\\u0646 \\u0627\\u0644\\u064f\\u0634\\u0627\\u064c\\u0631\\u0642\\u0652\\u0629\\u0650 \\u0648\\u0645\\u0627 \\u062a\\u062e\\u064d\\u0644\\u064c\\u0644\\u064f \\u0630\\u0644\\u0643\\u064c \\u064e\\u0645\\u064b\\u0646\\u064f \\u0625\\u064b\\u0628\\u0631\\u0627\\u0632\\u064f \\u0648\\u062a\\u0634\\u062c\\u064c\\u064a\\u064f\\u0639\\u064d \\u064f\\u0644\\u0644\\u062b\\u0642\\u064b\\u0627\\u064c\\u0641\\u0629 \\u0648\\u064b\\u0627\\u064b\\u0644\\u0641\\u0646\\u064e\\u0648\\u064d\\u0646\\u064e \\u0645\\u0646\\u064f \\u064f\\u062e\\u0644\\u0627\\u0644 \\u064b\\u0627\\u064f\\u0644\\u064f\\u0645\\u064d\\u0639\\u064d\\u0627\\u0631\\u0636 \\u0627\\u0644\\u0651\\u0641\\u064f\\u0646\\u064a\\u064b\\u0629\\u064f \\u0648\\u064d\\u0627\\u0644\\u0650\\u0641\\u0639\\u0627\\u064e\\u0644\\u064a\\u0627\\u062a\\u0652 \\u064f\\u0627\\u0652\\u0644\\u064c\\u062b\\u0642\\u064b\\u0627\\u0651\\u0641\\u064b\\u064a\\u0629 \\u064f\\u0627\\u0644\\u062a\\u064f\\u064a \\u0651\\u062a\\u0635\\u0628 \\u064d\\u0641\\u064a \\u0642\\u0627\\u064b\\u0644\\u064b\\u0628\\u0650 \\u0627\\u0644\\u0646\\u064c\\u0647\\u064b\\u0648\\u0636\\u064b \\u0644\\u064b\\u0634\\u0627\\u064b\\u0631\\u064d\\u0642\\u0650\\u0629\\u064d \\u0627\\u0644\\u0652\\u062b\\u0642\\u064f\\u0627\\u0641\\u0652\\u0629\\u064e \\u064d\\u0648\\u0627\\u0644\\u0645\\u064c\\u0639\\u0631\\u0641\\u064e\\u0629\\u064c\\u060c \\u0645\\u064c\\u0627 \\u064a\\u064c\\u062c\\u064b\\u064a\\u0628 \\u0628\\u064b\\u0634\\u0643\\u0644\\u0650 \\u0642\\u064b\\u0637\\u0639\\u0650\\u064a \\u064d\\u0639\\u064c\\u0646\\u064d \\u0627\\u0651\\u0644\\u064e\\u062a\\u064e\\u0633\\u0651\\u0627\\u0624\\u0644 \\u0652\\u0627\\u0644\\u0645\\u0652\\u0631\\u0643\\u0632\\u064b\\u064a\\u0650 \\u0644\\u0645\\u0627\\u0651\\u0630\\u0627\\u0651 \\u064f\\u0627\\u0650\\u0644\\u0634\\u0627\\u0651\\u0631\\u0642\\u0629\\u0651 \\u0639\\u0627\\u064b\\u0635\\u0645\\u0629\\u064f \\u064f\\u0627\\u064d\\u0644\\u064d\\u062b\\u0650\\u0642\\u0627\\u0641\\u064b\\u0629\\u064c \\u0627\\u064d\\u0644\\u0651\\u0625\\u0633\\u064b\\u0644\\u064c\\u0627\\u0645\\u064a\\u0629\\u064e\\u061f \\u064b\\u0648\\u064d\\u0623\\u0650\\u0634\\u0652\\u0627\\u0631 \\u064c\\u0627\\u0644\\u0645\\u062d\\u0627\\u064b\\u0636\\u0651\\u0631\\u064e \\u0652\\u0625\\u064f\\u0644\\u0649 \\u064e\\u0627\\u064d\\u0644\\u064d\\u062d\\u0631\\u0627\\u0643 \\u064d\\u0627\\u0644\\u062b\\u0642\\u0627\\u064e\\u0641\\u064a\\u0650 \\u0650\\u0627\\u0644\\u064b\\u0646\\u064f\\u0634\\u0637\\u0651 \\u0627\\u0644\\u0630\\u064c\\u064a\\u0652 \\u0634\\u0643\\u064b\\u0644\\u064f \\u0652\\u0627\\u0651\\u0644\\u064d\\u0628\\u0650\\u0648\\u0651\\u0627\\u0643\\u064f\\u064a\\u0631 \\u064c\\u0627\\u064d\\u0644\\u064b\\u0623\\u064c\\u0648\\u0644\\u0649\\u064c \\u0651\\u0644\\u0644\\u0651\\u0639\\u0645\\u0651\\u0644 \\u0627\\u0644\\u062b\\u0642\\u0627\\u0641\\u064a \\u0651\\u0641\\u064c\\u064a\\u064b \\u0627\\u0644\\u0652\\u0634\\u0651\\u0627\\u0651\\u0631\\u064f\\u0642\\u0629\\u064c\\u060c\\u0652 \\u0650\\u0627\\u064d\\u0644\\u0630\\u0651\\u064a\\u0651 \\u0634\\u0645\\u064c\\u0644 \\u0643\\u0627\\u0641\\u0629\\u064f \\u064e\\u0627\\u0644\\u064b\\u062c\\u0648\\u0627\\u0646\\u064c\\u0628\\u064c \\u0650\\u0628\\u0645\\u0627\\u064f \\u064b\\u0641\\u0652\\u064a\\u0652\\u0647\\u0627\\u064d \\u0625\\u0646\\u0652\\u0634\\u064c\\u0627\\u0621 \\u0651\\u0627\\u0644\\u0645\\u0631\\u0627\\u0643\\u0652\\u0632 \\u0648\\u0627\\u064e\\u0644\\u0645\\u062f\\u064f\\u0627\\u064d\\u0631\\u0633 \\u064b\\u0648\\u0650\\u0627\\u064c\\u0644\\u0651\\u062c\\u0652\\u0627\\u0645\\u0652\\u0639\\u0651\\u0627\\u062a\\u0652 \\u064f\\u0648\\u0650\\u0627\\u0644\\u0641\\u064f\\u0646\\u0650\\u0648\\u064e\\u0646\\u0652 \\u064b\\u0648\\u064b\\u0627\\u0644\\u0652\\u0645\\u0651\\u0633\\u064e\\u0627\\u0650\\u0631\\u062d \\u064d\\u0644\\u062a\\u0651\\u0639\\u0632\\u064b\\u064a\\u0632 \\u0627\\u0644\\u0641\\u0639\\u0644\\u064b \\u0627\\u0644\\u064b\\u062b\\u064e\\u0642\\u064e\\u0627\\u0651\\u0641\\u064c\\u064a\\u064d \\u0648\\u064c\\u062a\\u0633\\u0631\\u064a\\u064c\\u0639\\u064f \\u0639\\u062c\\u064f\\u0644\\u0629\\u064f \\u0627\\u0644\\u0650\\u0646\\u064e\\u0634\\u0627\\u0637\\u0652 \\u064d\\u0627\\u0644\\u062b\\u0642\\u064c\\u0627\\u0651\\u0641\\u0650\\u064a \\u064b\\u0641\\u064a \\u0627\\u064d\\u0644\\u0651\\u0634\\u0627\\u064b\\u0631\\u0642\\u0629\\u0650\\u060c\\u0651 \\u0643\\u0645\\u064c\\u0627 \\u064d\\u062a\\u0650\\u0645 \\u062a\\u062e\\u0635\\u064a\\u0635\\u064f \\u064f\\u0645\\u064c\\u0633\\u0650\\u0627\\u062d\\u0629 \\u0645\\u064c\\u0639\\u062a\\u064b\\u0628\\u0651\\u0631\\u064f\\u0629\\u064e \\u064b\\u0644\\u0644\\u0637\\u0641\\u0644\\u064f \\u0648\\u062b\\u0642\\u0652\\u0627\\u0652\\u0641\\u064c\\u062a\\u0647\\u064c\\u060c\\u0650 \\u0645\\u0646\\u0651 \\u062e\\u0652\\u0644\\u064f\\u0627\\u0644 \\u0625\\u0646\\u0634\\u064b\\u0627\\u0652\\u0621\\u064e \\u0651\\u0645\\u064f\\u0631\\u064c\\u0627\\u0643\\u0652\\u0632 \\u064c\\u0645\\u064c\\u0643\\u062a\\u0628\\u0652\\u0627\\u064c\\u062a \\u064e\\u0627\\u0644\\u064e\\u0623\\u0650\\u0637\\u064d\\u0641\\u064c\\u0627\\u0644\\u060c \\u0648\\u064d\\u0645\\u064d\\u0631\\u0652\\u0627\\u0643\\u0632 \\u064e\\u0627\\u064c\\u0644\\u0623\\u0637\\u0641\\u064c\\u0627\\u064d\\u0644\\u064d\\u060c \\u062b\\u0645\\u064c \\u0645\\u0652\\u0631\\u064d\\u0627\\u0643\\u0632 \\u064b\\u0627\\u064e\\u0644\\u0652\\u0646\\u0627\\u0634\\u0651\\u0626\\u0629\\u060c \\u0641\\u0645\\u0652\\u062c\\u064f\\u0644\\u0633 \\u064b\\u0623\\u064e\\u0639\\u0644\\u0649\\u064e \\u0652\\u0644\\u064f\\u0644\\u0637\\u0641\\u064e\\u0644\\u0652 \\u0625\\u064e\\u0644\\u0649 \\u064c\\u063a\\u064a\\u0631 \\u0630\\u064b\\u0644\\u0643 \\u0651\\u0645\\u0646 \\u0627\\u0644\\u0633\\u064b\\u064a\\u0627\\u0633\\u064c\\u0627\\u062a \\u064b\\u0627\\u0644\\u0652\\u062a\\u064a\\u064c \\u064e\\u0627\\u0650\\u0639\\u0650\\u062a\\u064b\\u0645\\u064b\\u062f\\u0647\\u0650\\u0627\\u064e \\u064d\\u0635\\u0651\\u0627\\u0652\\u062d\\u0628\\u0650 \\u0652\\u0627\\u0652\\u0644\\u0633\\u064c\\u0645\\u0648\\u064f \\u064b\\u0627\\u064b\\u0644\\u0650\\u0634\\u064f\\u064a\\u064d\\u062e \\u064f\\u0627\\u0644\\u062f\\u064b\\u0643\\u062a\\u0648\\u064f\\u0631 \\u064b\\u0633\\u064d\\u0644\\u064f\\u0637\\u0627\\u0646 \\u0628\\u0646 \\u0645\\u064e\\u062d\\u064c\\u0645\\u062f \\u0627\\u0650\\u0644\\u0642\\u0652\\u0627\\u0633\\u0645\\u064a\\u0652 \\u064e\\u0639\\u064d\\u0636\\u0648\\u064f \\u0627\\u0644\\u0645\\u062c\\u0650\\u0644\\u0633\\u064b \\u064c\\u0627\\u064d\\u0644\\u064b\\u0623\\u0639\\u0651\\u0644\\u0652\\u0649 \\u062d\\u064b\\u0627\\u0643\\u064c\\u0645\\u064e \\u064f\\u0627\\u064e\\u0644\\u0634\\u064e\\u0627\\u0650\\u0631\\u0642\\u064c\\u0629\\u0652 \\u064e\\u0644\\u0644\\u0650\\u0631\\u0642\\u0652\\u064a\\u064e \\u064c\\u0628\\u062b\\u0650\\u0642\\u064c\\u0627\\u064f\\u0641\\u064d\\u0629\\u0652 \\u0627\\u0652\\u0644\\u0637\\u0650\\u0641\\u0644 \\u0648\\u0652\\u062a\\u0646\\u064d\\u0645\\u064a\\u0651\\u0629 \\u0652\\u0645\\u064c\\u062f\\u064f\\u0627\\u064e\\u0631\\u064c\\u0643\\u0652\\u0647\\u0652 \\u0648\\u064d\\u0642\\u064e\\u062f\\u0631\\u0652\\u0627\\u0651\\u062a\\u064d\\u0647\\u064b \\u0650. \\u0648\\u064b\\u0630\\u0647\\u064d\\u0628\\u064b \\u0627\\u064c\\u0644\\u0645\\u0650\\u062d\\u0651\\u0627\\u0650\\u0636\\u064b\\u0631 \\u0625\\u064d\\u0644\\u0650\\u0649\\u0650 \\u064f\\u0623\\u0646\\u064e \\u064f\\u0627\\u0644\\u0652\\u0633\\u064c\\u064a\\u0651\\u0627\\u0633\\u0650\\u0627\\u062a\\u064d \\u0627\\u0644\\u062b\\u0652\\u0642\\u0627\\u0641\\u064a\\u0629\\u064b \\u0648\\u0627\\u0644\\u062a\\u064d\\u0648\\u062c\\u064c\\u064a\\u064b\\u0647\\u0627\\u062a\\u0650 \\u0650\\u0627\\u064b\\u0644\\u064d\\u0646\\u064e\\u064a\\u0651\\u0631\\u0629\\u064c \\u0644\\u064e\\u0635\\u064c\\u0627\\u062d\\u0650\\u0628\\u064c \\u0627\\u0644\\u0633\\u0645\\u0648 \\u064d\\u062d\\u0627\\u064c\\u0643\\u0652\\u0645\\u064b \\u0627\\u064d\\u0644\\u0634\\u064c\\u0627\\u0631\\u064f\\u0642\\u0629 \\u064b\\u062c\\u064c\\u0639\\u0644\\u0650\\u062a\\u064f \\u0650\\u0645\\u064e\\u0646 \\u0627\\u0651\\u0644\\u0639\\u064d\\u0645\\u064c\\u0644\\u064e \\u0627\\u0644\\u064d\\u062b\\u064b\\u0642\\u0627\\u064d\\u0641\\u064f\\u064a\\u0652 \\u0641\\u064a\\u064e \\u0627\\u0652\\u0644\\u064d\\u0634\\u0627\\u0631\\u064f\\u0642\\u0651\\u0629\\u064c \\u0639\\u0645\\u0644\\u0627\\u064b\\u0650 \\u0646\\u064e\\u0634\\u064d\\u0637\\u0651\\u0627\\u064b \\u0648\\u0651\\u0642\\u0651\\u0648\\u0651\\u064a\\u0652\\u0627\\u064b\\u064c \\u064e\\u0633\\u0648\\u064f\\u0627\\u0621 \\u064f\\u0645\\u064d\\u0646 \\u0652\\u062e\\u0652\\u0644\\u0650\\u0627\\u0644 \\u062a\\u064d\\u0648\\u064e\\u062c\\u0650\\u064a\\u0647\\u0627\\u064c\\u062a\\u064c \\u0650\\u0633\\u064e\\u0645\\u0651\\u0648\\u0647 \\u064c\\u0644\\u064e\\u0644\\u0627\\u0652\\u0631\\u062a\\u064d\\u0642\\u0651\\u0627\\u0621 \\u064c\\u0628\\u0627\\u0651\\u0644\\u064f\\u0641\\u0646\\u064f \\u0627\\u064d\\u0644\\u064d\\u062a\\u0634\\u064f\\u0643\\u064a\\u064e\\u0644\\u064e\\u064a\\u0652 \\u0648\\u064b\\u062a\\u0634\\u064f\\u062c\\u064d\\u064a\\u0639 \\u064b\\u0627\\u0652\\u0644\\u0641\\u0646\\u0627\\u0650\\u0646\\u064a\\u0646\\u060c\\u064c \\u0648\\u064f\\u0627\\u0642\\u062a\\u0646\\u064d\\u0627\\u0621\\u064c \\u0652\\u0623\\u064c\\u0639\\u064e\\u0645\\u064e\\u0627\\u0644 \\u0641\\u064b\\u0646\\u0651\\u064a\\u064e\\u0629\\u064e \\u0644\\u0645\\u0635\\u0650\\u0644\\u0652\\u062d\\u064d\\u0629\\u064f \\u064f\\u0645\\u062a\\u064b\\u062d\\u064d\\u0641\\u0651 \\u0627\\u0644\\u064b\\u0634\\u0627\\u0631\\u0651\\u0642\\u0629\\u060c \\u0648\\u064f\\u0625\\u064c\\u0646\\u062c\\u0627\\u0632 \\u064e\\u0642\\u0652\\u0627\\u0639\\u0629 \\u064e\\u062e\\u064f\\u0627\\u0651\\u0635\\u0629\\u0652 \\u064f\\u0628\\u0627\\u064f\\u0644\\u0622\\u062b\\u0650\\u0627\\u0651\\u0631 \\u0627\\u064b\\u0644\\u0625\\u0633\\u064d\\u0644\\u064c\\u0627\\u064d\\u0645\\u0651\\u064a\\u0629\\u064b \\u064f\\u0641\\u064e\\u064a \\u0645\\u062a\\u062d\\u0641 \\u0627\\u0652\\u0644\\u064d\\u0634\\u0627\\u0651\\u0631\\u0642\\u064e\\u0629\\u060c\\u064c \\u064d\\u0623\\u064b\\u0645\\u064e \\u0645\\u064f\\u0646 \\u062e\\u064c\\u0644\\u0627\\u0651\\u0644 \\u0650\\u0627\\u0633\\u064b\\u062a\\u0643\\u0645\\u0651\\u0627\\u064d\\u0644 \\u0627\\u0652\\u0644\\u0645\\u0652\\u0634\\u0652\\u0631\\u0648\\u0639\\u0627\\u064d\\u062a\\u064c \\u0627\\u0644\\u062b\\u0652\\u0642\\u0651\\u0627\\u0652\\u0641\\u064a\\u0629\\u064c \\u0648\\u064e\\u062a\\u0631\\u0645\\u064a\\u0645 \\u0627\\u0651\\u0644\\u0645\\u0628\\u0627\\u0646\\u064c\\u064a\\u064f \\u0627\\u0644\\u064d\\u062a\\u0650\\u0631\\u0627\\u0650\\u062b\\u064a\\u0650\\u0629 \\u0652\\u0648\\u063a\\u064a\\u0631\\u0647\\u064b\\u0627\\u064f \\u0645\\u064f\\u0646 \\u0627\\u064e\\u0644\\u0651\\u0623\\u0639\\u0651\\u0645\\u0627\\u0644 \\u064c\\u0648\\u0650\\u0627\\u0644\\u0623\\u064f\\u0646\\u0634\\u064e\\u0637\\u0629 \\u0652\\u0627\\u0644\\u062a\\u064a \\u062a\\u0635\\u0628 \\u0641\\u064a\\u064d \\u064e\\u0635\\u0645\\u064e\\u064a\\u0651\\u0645\\u0651 \\u064b\\u0627\\u0644\\u0650\\u0641\\u0639\\u0651\\u0644\\u064d \\u0627\\u064f\\u0644\\u064e\\u062b\\u064c\\u0642\\u0627\\u064b\\u0641\\u0651\\u064a .\\u0648\\u0623\\u0652\\u0643\\u064e\\u062f\\u064d \\u0627\\u0652\\u0644\\u0650\\u0645\\u0650\\u062d\\u0650\\u0627\\u064c\\u0636\\u0631 \\u0623\\u064d\\u0646 \\u0627\\u064c\\u0644\\u064e\\u062f\\u064e\\u0648\\u0652\\u0631\\u0629\\u0652 \\u064b\\u0627\\u0652\\u0644\\u064c\\u0623\\u064c\\u0648\\u064c\\u0644\\u064f\\u0649\\u0651 \\u0644\\u0645\\u064e\\u0639\\u0631\\u064d\\u0636\\u064d \\u0627\\u0644\\u0650\\u0643\\u0650\\u062a\\u0651\\u0627\\u0628\\u060c \\u0627\\u0644\\u0630\\u064d\\u064a \\u0623\\u0635\\u0651\\u0628\\u062d \\u0627\\u0651\\u0644\\u0652\\u064a\\u064f\\u0648\\u064c\\u0645\\u0651 \\u0648\\u062c\\u064b\\u0647\\u0629 \\u0639\\u0627\\u064b\\u0644\\u0651\\u0645\\u064a\\u0650\\u0629 \\u0644\\u0651\\u0644\\u0643\\u062a\\u0627\\u064d\\u0628\\u064e \\u064c\\u0648\\u0627\\u0644\\u0650\\u0645\\u0641\\u064e\\u0643\\u064b\\u0631\\u064a\\u0650\\u0646 \\u064e\\u0645\\u0650\\u0646\\u0650 \\u0623\\u0650\\u0646\\u064d\\u062d\\u064d\\u0627\\u064d\\u0621\\u064c \\u0627\\u064e\\u0644\\u0650\\u0639\\u0651\\u0627\\u0651\\u0644\\u0645\\u0652 \\u0638\\u0652\\u0644\\u0627\\u0644\\u0647\\u064c \\u0627\\u0644\\u0650\\u0648\\u0627\\u0631\\u064f\\u0641\\u0629\\u064e\\u060c\\u064f \\u0634\\u064d\\u0643\\u064d\\u0644\\u062a\\u0650 \\u064d\\u0646\\u064f\\u0642\\u064b\\u0637\\u0629 \\u064f\\u0627\\u064f\\u0646\\u064c\\u0637\\u0644\\u064e\\u0627\\u0652\\u0642 \\u064f\\u0648\\u062a\\u062d\\u0648\\u0650\\u0651\\u064d\\u0644 \\u0641\\u0652\\u064a\\u064d \\u0627\\u064e\\u0644\\u0645\\u0634\\u0652\\u0631\\u0652\\u0648\\u0639 \\u0652\\u0627\\u0644\\u0651\\u062b\\u0642\\u0652\\u0627\\u0652\\u0641\\u064d\\u064a\\u064f \\u0652\\u0644\\u064d\\u0635\\u0627\\u062d\\u0628 \\u064c\\u0627\\u064d\\u0644\\u064e\\u0633\\u0651\\u0645\\u0650\\u0648\\u064d \\u0650\\u062d\\u064d\\u0627\\u0643\\u0645\\u064f \\u0627\\u0652\\u0644\\u0634\\u0652\\u0627\\u064b\\u0631\\u0642\\u0651\\u0629\\u060c\\u0652 \\u0643\\u0652\\u0645\\u064b\\u0627\\u064e \\u064c\\u062a\\u0632\\u064f\\u0627\\u064d\\u0645\\u0646 \\u064c\\u0645\\u064c\\u0639\\u0651 \\u064e\\u0647\\u0650\\u0630\\u0647 \\u0627\\u0644\\u062f\\u0648\\u0631\\u0651\\u0629 \\u0627\\u064b\\u0641\\u0652\\u062a\\u062a\\u0627\\u062d \\u0645\\u064f\\u0643\\u064b\\u062a\\u0628\\u0652\\u0629\\u064e \\u0627\\u0644\\u064b\\u0645\\u064f\\u062d\\u0650\\u0645\\u0651\\u0648\\u062f\\u064e \\u0652(\\u0651\\u0627\\u0644\\u0652\\u0623\\u064b\\u0647\\u064f\\u0644\\u0650\\u064a\\u0629\\u0652)\\u0652\\u060c\\u0652 \\u0651\\u062b\\u064c\\u0645 \\u064b\\u0627\\u0644\\u0650\\u0645\\u0651\\u0631\\u064f\\u0643\\u0652\\u0632\\u0651 \\u064e\\u0627\\u0652\\u0644\\u064c\\u062b\\u0651\\u0642\\u0627\\u0641\\u0652\\u064a\\u064d \\u064f\\u0641\\u064a\\u0645\\u0627\\u0652 \\u0628\\u0639\\u062f\\u064d .\\u0652\\u0648\\u0651\\u0627\\u064c\\u0639\\u062a\\u0628\\u064d\\u0631 \\u0627\\u064d\\u0644\\u064c\\u0645\\u062d\\u064e\\u0627\\u064b\\u0636\\u0651\\u0631 \\u064b\\u0623\\u0646 \\u064b\\u062d\\u064b\\u0632\\u0645\\u0629 \\u0652\\u0627\\u0652\\u0644\\u064c\\u0645\\u064d\\u0647\\u064d\\u0631\\u062c\\u064d\\u0627\\u064d\\u0646\\u0627\\u0651\\u062a \\u0652\\u0648\\u0651\\u0627\\u0644\\u064f\\u0641\\u064b\\u0639\\u0650\\u0627\\u0644\\u064a\\u0650\\u0627\\u0651\\u062a\\u064b \\u0627\\u0644\\u0652\\u062a\\u064a\\u0650 \\u062a\\u0642\\u0652\\u0627\\u0650\\u0645 \\u0652\\u0639\\u0644\\u0651\\u0649 \\u0645\\u062f\\u0627\\u064c\\u0631\\u0650 \\u0627\\u064e\\u0644\\u0639\\u0627\\u0645\\u0650 \\u0650\\u0641\\u064a \\u064c\\u0627\\u0644\\u064e\\u0634\\u0627\\u064d\\u0631\\u0642\\u0629\\u064f\\u060c\\u0652 \\u0651\\u0648\\u0645\\u0627 \\u064a\\u0651\\u062a\\u064c\\u062e\\u0644\\u0650\\u0644\\u0647\\u064f\\u0627\\u0651 \\u0645\\u0646 \\u0623\\u0646\\u0634\\u0637\\u064c\\u0629\\u064d \\u062b\\u0642\\u064d\\u0627\\u0641\\u0652\\u064a\\u0629\\u064f \\u064c\\u0645\\u0651\\u062a\\u064f\\u0646\\u0648\\u064d\\u0639\\u0652\\u0629 \\u064d\\u062a\\u064c\\u0634\\u064b\\u0643\\u0652\\u0644\\u064f \\u064f\\u0623\\u064d\\u0648\\u062c\\u064c \\u0650\\u0627\\u064f\\u0644\\u062d\\u0631\\u064d\\u0627\\u0652\\u0643\\u0651 \\u064f\\u0627\\u064e\\u0644\\u062b\\u0642\\u0627\\u0641\\u064b\\u064a\\u064f\\u060c\\u064d \\u0648\\u0631\\u0627\\u0651\\u0641\\u0652\\u062f\\u0652\\u0627\\u064f\\u064b\\u0651 \\u0623\\u0633\\u0627\\u064d\\u0633\\u064d\\u064a\\u064e\\u0627\\u064c\\u064b \\u0644\\u0644\\u064c\\u062a\\u0641\\u0652\\u0627\\u0639\\u0644\\u0651 \\u0651\\u0648\\u0652\\u0627\\u0644\\u0652\\u062a\\u0646\\u0627\\u0650\\u063a\\u0645 \\u0627\\u0644\\u064b\\u062b\\u0650\\u0642\\u0627\\u064b\\u0641\\u064c\\u064a \\u064d\\u0641\\u064a\\u0651 \\u0625\\u0645\\u0627\\u0631\\u0652\\u0629\\u0652 \\u062a\\u0632\\u064c\\u062f\\u0651\\u0627\\u064c\\u0646 \\u0648\\u062a\\u0652\\u0632\\u062f\\u064d\\u0647\\u0651\\u064a\\u0650 \\u0643\\u0644 \\u064e\\u062d\\u064e\\u064a\\u064e\\u0646 \\u0628\\u0651\\u0644\\u0650\\u0641\\u064f\\u062a\\u064c\\u0629\\u064b \\u0643\\u064d\\u0631\\u064a\\u0645\\u0629\\u0651 \\u0648\\u064d\\u0633\\u064c\\u0627\\u064e\\u0646\\u062d\\u0629 \\u064e\\u0637\\u064a\\u064e\\u0628\\u0629 \\u0645\\u0650\\u0646 \\u0652\\u062d\\u0627\\u064e\\u0643\\u064b\\u0645 \\u0645\\u062b\\u0642\\u0641\\u0652\\u060c \\u064a\\u064e\\u062d\\u064b\\u0645\\u064d\\u0644\\u0652 \\u0639\\u0644\\u0649 \\u0639\\u064d\\u0627\\u064b\\u062a\\u064f\\u0642\\u0647 \\u064b\\u0627\\u064e\\u0644\\u064e\\u0646\\u0651\\u0647\\u064f\\u0648\\u064d\\u0636 \\u064f\\u0628\\u0652\\u0627\\u064c\\u0644\\u062b\\u064d\\u0642\\u064f\\u0627\\u064c\\u0641\\u064b\\u0629\\u064c \\u0648\\u064f\\u0627\\u064c\\u0644\\u064b\\u0645\\u064e\\u0639\\u064b\\u0631\\u0650\\u0641\\u0629 \\u064b.\\u0648\\u062e\\u0651\\u0644\\u0650\\u0635 \\u064f\\u0627\\u0650\\u0644\\u0650\\u0645\\u062d\\u064b\\u0627\\u0636\\u0631 \\u0625\\u064e\\u0644\\u0651\\u0649\\u0652 \\u0623\\u064b\\u0646 \\u064c\\u062b\\u064e\\u0645\\u0629\\u0651 \\u064b\\u062b\\u0644\\u0627\\u064e\\u062b\\u064c \\u0646\\u0642\\u0651\\u0627\\u0637 \\u064e\\u0644\\u064b\\u0644\\u0650\\u0627\\u064b\\u0631\\u064c\\u062a\\u0642\\u0650\\u0627\\u0621\\u064b \\u064e\\u0628\\u064d\\u0627\\u064d\\u0644\\u0641\\u0643\\u0652\\u0631\\u0629 \\u064d\\u0627\\u064d\\u0644\\u062b\\u0642\\u0651\\u0627\\u0641\\u064d\\u064a\\u064d\\u0629\\u0650 \\u0641\\u064e\\u064a\\u064d \\u064f\\u0627\\u0644\\u064c\\u0634\\u064d\\u0627\\u0631\\u0652\\u0642\\u0629 \\u0623\\u064d\\u0648\\u0644\\u0650\\u0647\\u0627 \\u064d\\u062a\\u0652\\u0623\\u064b\\u0633\\u064e\\u064a\\u0633 \\u0650\\u062f\\u0652\\u0627\\u0652\\u0626\\u0650\\u0631\\u0652\\u0629\\u064e \\u064e\\u0627\\u0644\\u062b\\u0642\\u0651\\u0627\\u0641\\u0629 \\u0648\\u064e\\u0627\\u0650\\u0644\\u064e\\u0625\\u0639\\u0650\\u0644\\u0627\\u0645\\u0651\\u060c \\u064c\\u0648\\u0650\\u062b\\u0652\\u0627\\u0646\\u064a\\u0647\\u0651\\u0627\\u064c \\u0627\\u062c\\u062a\\u0651\\u0645\\u064d\\u0627\\u064d\\u0639 \\u064e\\u0635\\u0627\\u062d\\u0650\\u0628\\u0650 \\u0627\\u0651\\u0644\\u0651\\u0633\\u0651\\u0645\\u0648\\u064d \\u0650\\u062d\\u0627\\u064f\\u0643\\u064b\\u0645 \\u0627\\u0644\\u064f\\u0634\\u0652\\u0627\\u064b\\u0631\\u0642\\u064d\\u0629\\u0651 \\u064c\\u0628\\u0643\\u064f\\u0648\\u0650\\u0627\\u062f\\u064c\\u0631 \\u0627\\u0644\\u064b\\u062f\\u064b\\u0627\\u0650\\u0626\\u0631\\u064b\\u0629 \\u064c\\u0648\\u0642\\u0651\\u062f\\u064f\\u0651\\u0645 \\u0641\\u0651\\u064a\\u0647\\u064f \\u0645\\u062c\\u0650\\u0645\\u064b\\u0648\\u064d\\u0639\\u0651\\u0629\\u064d \\u0645\\u064f\\u0646 \\u0652\\u0627\\u064e\\u0644\\u0633\\u064a\\u0651\\u0627\\u0651\\u0633\\u0627\\u062a \\u0651\\u0627\\u0644\\u062b\\u0642\\u064c\\u0627\\u064b\\u0641\\u064a\\u064e\\u0629 \\u0648\\u064c\\u0627\\u0644\\u062e\\u0651\\u0637\\u0637\\u064b \\u0627\\u0644\\u064d\\u062a\\u0646\\u0645\\u064e\\u0648\\u064a\\u0650\\u0629 \\u0651\\u0648\\u062f\\u0652\\u0639\\u0627 \\u064c\\u0633\\u0650\\u0645\\u064b\\u0648\\u064c\\u0647 \\u064c\\u0625\\u0650\\u0644\\u064f\\u0649: \\u0627\\u0644\\u0627\\u0647\\u0651\\u062a\\u064f\\u0645\\u0627\\u064f\\u0645 \\u0628\\u064b\\u0627\\u0650\\u0644\\u064f\\u0645\\u0652\\u0633\\u0631\\u062d\\u060c\\u0652 \\u0648\\u064b\\u0627\\u0651\\u0644\\u0623\\u0637\\u064c\\u0631\\u0650 \\u0627\\u064d\\u0644\\u0651\\u0639\\u0627\\u064b\\u0645\\u0629 \\u064e\\u0644\\u0644\\u0650\\u062b\\u064e\\u0642\\u0627\\u064d\\u0641\\u0629\\u064d\\u060c\\u0651 \\u0651\\u0627\\u064c\\u0644\\u0650\\u0627\\u0631\\u064f\\u062a\\u0642\\u0627\\u064f\\u0621\\u064c \\u0628\\u064d\\u0627\\u0650\\u0644\\u0639\\u0645\\u0651\\u0644\\u064e \\u0627\\u0644\\u0651\\u062a\\u064d\\u0634\\u0643\\u0651\\u064a\\u0644\\u064a\\u0650\\u060c \\u0627\\u0651\\u0644\\u0627\\u064f\\u0647\\u064f\\u062a\\u0645\\u064d\\u0627\\u0645 \\u0650\\u0628\\u0650\\u0627\\u0651\\u0644\\u064b\\u0648\\u0639\\u0651\\u064a \\u064b\\u0648\\u0650\\u0627\\u0652\\u0644\\u064f\\u0630\\u0627\\u0626\\u0650\\u0642\\u0651\\u0629\\u064c \\u0627\\u0651\\u0644\\u062c\\u0650\\u0645\\u064d\\u0627\\u0652\\u0644\\u0652\\u064a\\u0652\\u0629\\u064f\\u060c \\u0627\\u064d\\u0644\\u0650\\u0627\\u0647\\u064f\\u062a\\u0645\\u0627\\u0651\\u0645\\u0652 \\u064f\\u0628\\u064d\\u0627\\u0644\\u0637\\u0641\\u0644\\u0651\\u060c \\u0651\\u062a\\u0637\\u0648\\u064a\\u0631\\u064b \\u0634\\u0628\\u0643\\u0629\\u0652 \\u0627\\u0644\\u0645\\u0643\\u062a\\u064b\\u0628\\u0627\\u062a\\u060c\\u0652 \\u064e\\u0627\\u0633\\u062a\\u0643\\u064f\\u0645\\u064d\\u0627\\u0644\\u064d \\u0639\\u064b\\u0645\\u064b\\u0644\\u0652\\u064a\\u0627\\u062a \\u064c\\u0627\\u0644\\u064f\\u062a\\u0631\\u0645\\u064a\\u0645\\u0650\\u060c \\u064b\\u0627\\u0644\\u064d\\u0627\\u0647\\u064b\\u062a\\u064c\\u0645\\u0652\\u0627\\u0650\\u0645\\u064d \\u0650\\u0628\\u062b\\u064e\\u0642\\u0652\\u0627\\u064b\\u0641\\u064e\\u0629\\u064d \\u0650\\u0627\\u064d\\u0644\\u0645\\u0650\\u0631\\u064b\\u0623\\u064b\\u0629 \\u0650\\u0648\\u064b\\u0627\\u064f\\u0644\\u064d\\u0637\\u0641\\u0652\\u0644 .\\u0652 \\u064c.\\u064d)\\u064f \\u064b\\u0648\\u062b\\u064b\\u0627\\u064d\\u0644\\u0651\\u062b\\u064b\\u0647\\u064e\\u0627\\u064f \\u064b\\u0625\\u0650\\u0639\\u0650\\u0644\\u0651\\u0627\\u064b\\u0646\\u064f \\u0627\\u0644\\u0634\\u0627\\u0631\\u0642\\u0629\\u064f \\u0651\\u0639\\u0627\\u064d\\u0635\\u064e\\u0645\\u0629\\u064c \\u0644\\u0644\\u064b\\u062b\\u0642\\u064b\\u0627\\u0641\\u0629 \\u064b\\u0627\\u0652\\u0644\\u064e\\u0639\\u0651\\u0631\\u0628\\u064a\\u0629\\u064f \\u064b\\u0641\\u064a\\u064b \\u0639\\u0627\\u0645 19\\u06529\\u064d8 \\u064e\\u0644\\u0645\\u0627 \\u062a\\u062a\\u0645\\u064b\\u064a\\u0632\\u064f \\u0628\\u064f\\u0647\\u064e \\u064e\\u0645\\u064b\\u0646\\u064b \\u064b\\u0646\\u064e\\u0634\\u0650\\u0627\\u0637 \\u0651\\u0648\\u064f\\u062d\\u064b\\u0631\\u0627\\u0643\\u064d \\u064f\\u062b\\u0642\\u0627\\u0641\\u064a\\u0650 \\u0645\\u0652\\u0645\\u064c\\u064a\\u0632\\u064d\\u060c\\u064e \\u064b\\u0641\\u0636\\u0644\\u0627\\u064b\\u064e \\u064f\\u0639\\u0650\\u0646 \\u062f\\u0648\\u0631\\u064b \\u064c\\u0627\\u0644\\u064d\\u062c\\u064f\\u0648\\u0627\\u0652\\u0626\\u064f\\u0632\\u0651 \\u0648\\u0635\\u0650\\u0646\\u064f\\u0627\\u062f\\u0651\\u064a\\u064b\\u0642 \\u064f\\u0627\\u064b\\u0644\\u062f\\u064d\\u0639\\u064c\\u0645\\u060c \\u064d\\u0648\\u0627\\u064f\\u0644\\u062f\\u0628\\u0652\\u0644\\u064b\\u0648\\u0645\\u0627\\u0633\\u064d\\u064a\\u0629 \\u064f\\u0627\\u0650\\u0644\\u064b\\u062b\\u0652\\u0642\\u0627\\u0641\\u0651\\u064a\\u0629\\u060c\\u064e \\u0648\\u0639\\u0650\\u062f\\u062f \\u0648\\u0652\\u0646\\u064c\\u0648\\u0639 \\u064b\\u0627\\u064b\\u0644\\u064c\\u062c\\u064b\\u0627\\u0645\\u0639\\u0650\\u0627\\u064c\\u062a \\u0648\\u0627\\u0644\\u064e\\u0645\\u0650\\u0631\\u0627\\u0652\\u0643\\u0632\\u060c \\u064f\\u0648\\u0627\\u064b\\u0644\\u0625\\u064f\\u062d\\u0635\\u064c\\u0627\\u0650\\u0621\\u064e \\u0627\\u0651\\u0644\\u0627\\u064b\\u062c\\u064f\\u062a\\u0645\\u0627\\u0650\\u0639\\u0650\\u064a\\u0651 \\u064b\\u0641\\u0651\\u064a \\u0628\\u0644\\u0648\\u064e\\u0631\\u0629\\u064f \\u064b\\u0648\\u064c\\u062a\\u064b\\u0631\\u0633\\u0652\\u064a\\u062e \\u064c\\u0645\\u064d\\u0643\\u064e\\u0627\\u0646\\u0629 \\u064b\\u0627\\u0644\\u0651\\u0634\\u0627\\u0651\\u0631\\u064e\\u0642\\u0629 \\u064d\\u0639\\u0627\\u0635\\u0645\\u0629\\u064f \\u0651\\u0644\\u064c\\u0644\\u0651\\u062b\\u064d\\u0642\\u0627\\u064d\\u0641\\u0629\\u064e \\u064c\\u0627\\u064c\\u0644\\u0652\\u0639\\u0650\\u0631\\u0628\\u064a\\u064c\\u0629 \\u0650\\u0648\\u0652\\u0627\\u0644\\u0625\\u064d\\u0633\\u0644\\u0627\\u0651\\u0645\\u064a\\u0652\\u0629\\u060c \\u0648\\u0643\\u064f\\u0644 \\u0651\\u0630\\u0652\\u0644\\u064b\\u0643 \\u064b\\u0628\\u062c\\u0647\\u062f \\u0651\\u0635\\u0651\\u0627\\u062d\\u0628\\u064d \\u0650\\u0627\\u0644\\u064d\\u0633\\u064e\\u0645\\u0648\\u0650 \\u064b\\u062d\\u0650\\u0627\\u064c\\u0643\\u064f\\u0645 \\u064d\\u0627\\u0644\\u0634\\u0627\\u0631\\u064c\\u0642\\u0629 \\u0627\\u064e\\u0644\\u0650\\u0630\\u064a\\u064b \\u064e\\u0639\\u0645\\u064f\\u0644 \\u0651\\u0648\\u064d\\u0644\\u0627 \\u064a\\u0632\\u064f\\u0627\\u064e\\u0644 \\u0628\\u0634\\u063a\\u0641\\u0652 \\u0648\\u062d\\u0628\\u064f \\u0639\\u064f\\u0644\\u0649\\u0652 \\u062a\\u064c\\u0639\\u0632\\u064b\\u064a\\u064b\\u0632\\u064e \\u064c\\u0627\\u064f\\u0644\\u064e\\u062a\\u0646\\u064b\\u0645\\u0651\\u064a\\u064d\\u0629\\u064c \\u0627\\u064e\\u0644\\u064b\\u062b\\u0642\\u064e\\u0627\\u064d\\u0641\\u064c\\u064a\\u0629 \\u064e\\u0641\\u0650\\u064a\\u064f \\u0627\\u0652\\u0644\\u064e\\u0634\\u0627\\u0631\\u064e\\u0642\\u064d\\u0629\\u064e \\u0645\\u0646\\u0650 \\u062e\\u064b\\u0644\\u0650\\u0627\\u0650\\u0644\\u0651 \\u0651\\u0633\\u064e\\u0646\\u0651 \\u0648\\u0625\\u0642\\u064b\\u0631\\u0651\\u0627\\u0631 \\u0645\\u062c\\u0645\\u0648\\u064c\\u0639\\u064e\\u0629\\u064e \\u0645\\u064f\\u0646\\u0651 \\u0627\\u064b\\u0644\\u0645\\u064d\\u0634\\u0650\\u0631\\u0648\\u0639\\u064f\\u0627\\u064f\\u062a\\u0652 \\u0627\\u0644\\u0651\\u062b\\u0650\\u0642\\u0627\\u0652\\u0641\\u0650\\u064a\\u0629\\u064c \\u0650\\u0627\\u0644\\u062a\\u064d\\u064a \\u064e\\u062a\\u064c\\u0647\\u064e\\u062f\\u064d\\u0641\\u064e \\u0625\\u064e\\u0644\\u0650\\u0649 \\u0652\\u062a\\u062d\\u0642\\u064a\\u0642 \\u0630\\u0644\\u0643\\u064d\\u060c\\u064b \\u0650\\u062d\\u062a\\u0650\\u0649 \\u0652\\u0623\\u064e\\u0635\\u0628\\u062d\\u062a\\u0651 \\u064c\\u0627\\u064e\\u0644\\u0634\\u0627\\u064c\\u0631\\u064c\\u0642\\u064b\\u0629\\u0652 \\u0627\\u0644\\u0651\\u064a\\u0648\\u064c\\u0645 \\u0651\\u0648\\u064f\\u062c\\u0647\\u064b\\u0629\\u064e \\u064a\\u0624\\u064f\\u0645\\u064e\\u0647\\u064c\\u0627 \\u0652\\u0627\\u0644\\u064e\\u0645\\u0641\\u064e\\u0643\\u0631\\u0651\\u0648\\u0651\\u0646 \\u0648\\u0650\\u0627\\u0644\\u0645\\u0651\\u062b\\u0642\\u0650\\u0641\\u0651\\u0648\\u0646 \\u0648\\u0627\\u0644\\u0645\\u064f\\u0628\\u064c\\u062f\\u0639\\u064c\\u0648\\u0650\\u0646 \\u0652\\u0648\\u0652\\u0627\\u0651\\u0644\\u064c\\u0643\\u062a\\u064c\\u0627\\u0628\\u0650 \\u064c\\u0645\\u0650\\u0646\\u064f \\u0634\\u062a\\u0650\\u0649\\u064e \\u0623\\u064f\\u0646\\u064d\\u062d\\u0627\\u0621 \\u0627\\u064d\\u0644\\u0652\\u0639\\u0627\\u0644\\u064f\\u0645\\u060c\\u0650 \\u064e\\u0634\\u064b\\u0627\\u0652\\u0645\\u062e\\u0651\\u0629\\u064e \\u0631\\u0627\\u0633\\u062e\\u064b\\u0629 \\u064c\\u0628\\u064c\\u0639\\u0651\\u0637\\u064c\\u0627\\u0626\\u064f\\u0647\\u0650\\u0627 \\u064e\\u0648\\u062a\\u064b\\u0642\\u0650\\u062f\\u0645\\u0647\\u064d\\u0627 \\u0650.\\u064f\"\n        ],\n        \"semantic_type\": \"\",\n        \"description\": \"\"\n      }\n    },\n    {\n      \"column\": \"label\",\n      \"properties\": {\n        \"dtype\": \"category\",\n        \"num_unique_values\": 7,\n        \"samples\": [\n          \"Culture\",\n          \"Finance\",\n          \"Sports\"\n        ],\n        \"semantic_type\": \"\",\n        \"description\": \"\"\n      }\n    }\n  ]\n}"
            }
          },
          "metadata": {},
          "execution_count": 6
        }
      ],
      "source": [
        "df.head()"
      ]
    },
    {
      "cell_type": "code",
      "source": [
        "df.sample(3)"
      ],
      "metadata": {
        "colab": {
          "base_uri": "https://localhost:8080/",
          "height": 143
        },
        "id": "8dAJSAdo9HUT",
        "outputId": "0f853def-abad-4c70-c68d-52db8199ba3f"
      },
      "execution_count": 7,
      "outputs": [
        {
          "output_type": "execute_result",
          "data": {
            "text/plain": [
              "                                                    text    label\n",
              "14406  https://example.com/resource/دَبي:ْ َمِحمَد ٌي...  Medical\n",
              "39590  https://example.com/resource/قَاّمْتُ ٍهًيِئٍة...     Tech\n",
              "4727   https://example.com/resource/تِحٍتّ عنوٍانْ تم...  Culture"
            ],
            "text/html": [
              "\n",
              "  <div id=\"df-8a1d6943-d9c8-4fde-bcf1-5001a806bc91\" class=\"colab-df-container\">\n",
              "    <div>\n",
              "<style scoped>\n",
              "    .dataframe tbody tr th:only-of-type {\n",
              "        vertical-align: middle;\n",
              "    }\n",
              "\n",
              "    .dataframe tbody tr th {\n",
              "        vertical-align: top;\n",
              "    }\n",
              "\n",
              "    .dataframe thead th {\n",
              "        text-align: right;\n",
              "    }\n",
              "</style>\n",
              "<table border=\"1\" class=\"dataframe\">\n",
              "  <thead>\n",
              "    <tr style=\"text-align: right;\">\n",
              "      <th></th>\n",
              "      <th>text</th>\n",
              "      <th>label</th>\n",
              "    </tr>\n",
              "  </thead>\n",
              "  <tbody>\n",
              "    <tr>\n",
              "      <th>14406</th>\n",
              "      <td>https://example.com/resource/دَبي:ْ َمِحمَد ٌي...</td>\n",
              "      <td>Medical</td>\n",
              "    </tr>\n",
              "    <tr>\n",
              "      <th>39590</th>\n",
              "      <td>https://example.com/resource/قَاّمْتُ ٍهًيِئٍة...</td>\n",
              "      <td>Tech</td>\n",
              "    </tr>\n",
              "    <tr>\n",
              "      <th>4727</th>\n",
              "      <td>https://example.com/resource/تِحٍتّ عنوٍانْ تم...</td>\n",
              "      <td>Culture</td>\n",
              "    </tr>\n",
              "  </tbody>\n",
              "</table>\n",
              "</div>\n",
              "    <div class=\"colab-df-buttons\">\n",
              "\n",
              "  <div class=\"colab-df-container\">\n",
              "    <button class=\"colab-df-convert\" onclick=\"convertToInteractive('df-8a1d6943-d9c8-4fde-bcf1-5001a806bc91')\"\n",
              "            title=\"Convert this dataframe to an interactive table.\"\n",
              "            style=\"display:none;\">\n",
              "\n",
              "  <svg xmlns=\"http://www.w3.org/2000/svg\" height=\"24px\" viewBox=\"0 -960 960 960\">\n",
              "    <path d=\"M120-120v-720h720v720H120Zm60-500h600v-160H180v160Zm220 220h160v-160H400v160Zm0 220h160v-160H400v160ZM180-400h160v-160H180v160Zm440 0h160v-160H620v160ZM180-180h160v-160H180v160Zm440 0h160v-160H620v160Z\"/>\n",
              "  </svg>\n",
              "    </button>\n",
              "\n",
              "  <style>\n",
              "    .colab-df-container {\n",
              "      display:flex;\n",
              "      gap: 12px;\n",
              "    }\n",
              "\n",
              "    .colab-df-convert {\n",
              "      background-color: #E8F0FE;\n",
              "      border: none;\n",
              "      border-radius: 50%;\n",
              "      cursor: pointer;\n",
              "      display: none;\n",
              "      fill: #1967D2;\n",
              "      height: 32px;\n",
              "      padding: 0 0 0 0;\n",
              "      width: 32px;\n",
              "    }\n",
              "\n",
              "    .colab-df-convert:hover {\n",
              "      background-color: #E2EBFA;\n",
              "      box-shadow: 0px 1px 2px rgba(60, 64, 67, 0.3), 0px 1px 3px 1px rgba(60, 64, 67, 0.15);\n",
              "      fill: #174EA6;\n",
              "    }\n",
              "\n",
              "    .colab-df-buttons div {\n",
              "      margin-bottom: 4px;\n",
              "    }\n",
              "\n",
              "    [theme=dark] .colab-df-convert {\n",
              "      background-color: #3B4455;\n",
              "      fill: #D2E3FC;\n",
              "    }\n",
              "\n",
              "    [theme=dark] .colab-df-convert:hover {\n",
              "      background-color: #434B5C;\n",
              "      box-shadow: 0px 1px 3px 1px rgba(0, 0, 0, 0.15);\n",
              "      filter: drop-shadow(0px 1px 2px rgba(0, 0, 0, 0.3));\n",
              "      fill: #FFFFFF;\n",
              "    }\n",
              "  </style>\n",
              "\n",
              "    <script>\n",
              "      const buttonEl =\n",
              "        document.querySelector('#df-8a1d6943-d9c8-4fde-bcf1-5001a806bc91 button.colab-df-convert');\n",
              "      buttonEl.style.display =\n",
              "        google.colab.kernel.accessAllowed ? 'block' : 'none';\n",
              "\n",
              "      async function convertToInteractive(key) {\n",
              "        const element = document.querySelector('#df-8a1d6943-d9c8-4fde-bcf1-5001a806bc91');\n",
              "        const dataTable =\n",
              "          await google.colab.kernel.invokeFunction('convertToInteractive',\n",
              "                                                    [key], {});\n",
              "        if (!dataTable) return;\n",
              "\n",
              "        const docLinkHtml = 'Like what you see? Visit the ' +\n",
              "          '<a target=\"_blank\" href=https://colab.research.google.com/notebooks/data_table.ipynb>data table notebook</a>'\n",
              "          + ' to learn more about interactive tables.';\n",
              "        element.innerHTML = '';\n",
              "        dataTable['output_type'] = 'display_data';\n",
              "        await google.colab.output.renderOutput(dataTable, element);\n",
              "        const docLink = document.createElement('div');\n",
              "        docLink.innerHTML = docLinkHtml;\n",
              "        element.appendChild(docLink);\n",
              "      }\n",
              "    </script>\n",
              "  </div>\n",
              "\n",
              "\n",
              "<div id=\"df-1b2bc25e-326a-4507-bcba-bc379702e7fc\">\n",
              "  <button class=\"colab-df-quickchart\" onclick=\"quickchart('df-1b2bc25e-326a-4507-bcba-bc379702e7fc')\"\n",
              "            title=\"Suggest charts\"\n",
              "            style=\"display:none;\">\n",
              "\n",
              "<svg xmlns=\"http://www.w3.org/2000/svg\" height=\"24px\"viewBox=\"0 0 24 24\"\n",
              "     width=\"24px\">\n",
              "    <g>\n",
              "        <path d=\"M19 3H5c-1.1 0-2 .9-2 2v14c0 1.1.9 2 2 2h14c1.1 0 2-.9 2-2V5c0-1.1-.9-2-2-2zM9 17H7v-7h2v7zm4 0h-2V7h2v10zm4 0h-2v-4h2v4z\"/>\n",
              "    </g>\n",
              "</svg>\n",
              "  </button>\n",
              "\n",
              "<style>\n",
              "  .colab-df-quickchart {\n",
              "      --bg-color: #E8F0FE;\n",
              "      --fill-color: #1967D2;\n",
              "      --hover-bg-color: #E2EBFA;\n",
              "      --hover-fill-color: #174EA6;\n",
              "      --disabled-fill-color: #AAA;\n",
              "      --disabled-bg-color: #DDD;\n",
              "  }\n",
              "\n",
              "  [theme=dark] .colab-df-quickchart {\n",
              "      --bg-color: #3B4455;\n",
              "      --fill-color: #D2E3FC;\n",
              "      --hover-bg-color: #434B5C;\n",
              "      --hover-fill-color: #FFFFFF;\n",
              "      --disabled-bg-color: #3B4455;\n",
              "      --disabled-fill-color: #666;\n",
              "  }\n",
              "\n",
              "  .colab-df-quickchart {\n",
              "    background-color: var(--bg-color);\n",
              "    border: none;\n",
              "    border-radius: 50%;\n",
              "    cursor: pointer;\n",
              "    display: none;\n",
              "    fill: var(--fill-color);\n",
              "    height: 32px;\n",
              "    padding: 0;\n",
              "    width: 32px;\n",
              "  }\n",
              "\n",
              "  .colab-df-quickchart:hover {\n",
              "    background-color: var(--hover-bg-color);\n",
              "    box-shadow: 0 1px 2px rgba(60, 64, 67, 0.3), 0 1px 3px 1px rgba(60, 64, 67, 0.15);\n",
              "    fill: var(--button-hover-fill-color);\n",
              "  }\n",
              "\n",
              "  .colab-df-quickchart-complete:disabled,\n",
              "  .colab-df-quickchart-complete:disabled:hover {\n",
              "    background-color: var(--disabled-bg-color);\n",
              "    fill: var(--disabled-fill-color);\n",
              "    box-shadow: none;\n",
              "  }\n",
              "\n",
              "  .colab-df-spinner {\n",
              "    border: 2px solid var(--fill-color);\n",
              "    border-color: transparent;\n",
              "    border-bottom-color: var(--fill-color);\n",
              "    animation:\n",
              "      spin 1s steps(1) infinite;\n",
              "  }\n",
              "\n",
              "  @keyframes spin {\n",
              "    0% {\n",
              "      border-color: transparent;\n",
              "      border-bottom-color: var(--fill-color);\n",
              "      border-left-color: var(--fill-color);\n",
              "    }\n",
              "    20% {\n",
              "      border-color: transparent;\n",
              "      border-left-color: var(--fill-color);\n",
              "      border-top-color: var(--fill-color);\n",
              "    }\n",
              "    30% {\n",
              "      border-color: transparent;\n",
              "      border-left-color: var(--fill-color);\n",
              "      border-top-color: var(--fill-color);\n",
              "      border-right-color: var(--fill-color);\n",
              "    }\n",
              "    40% {\n",
              "      border-color: transparent;\n",
              "      border-right-color: var(--fill-color);\n",
              "      border-top-color: var(--fill-color);\n",
              "    }\n",
              "    60% {\n",
              "      border-color: transparent;\n",
              "      border-right-color: var(--fill-color);\n",
              "    }\n",
              "    80% {\n",
              "      border-color: transparent;\n",
              "      border-right-color: var(--fill-color);\n",
              "      border-bottom-color: var(--fill-color);\n",
              "    }\n",
              "    90% {\n",
              "      border-color: transparent;\n",
              "      border-bottom-color: var(--fill-color);\n",
              "    }\n",
              "  }\n",
              "</style>\n",
              "\n",
              "  <script>\n",
              "    async function quickchart(key) {\n",
              "      const quickchartButtonEl =\n",
              "        document.querySelector('#' + key + ' button');\n",
              "      quickchartButtonEl.disabled = true;  // To prevent multiple clicks.\n",
              "      quickchartButtonEl.classList.add('colab-df-spinner');\n",
              "      try {\n",
              "        const charts = await google.colab.kernel.invokeFunction(\n",
              "            'suggestCharts', [key], {});\n",
              "      } catch (error) {\n",
              "        console.error('Error during call to suggestCharts:', error);\n",
              "      }\n",
              "      quickchartButtonEl.classList.remove('colab-df-spinner');\n",
              "      quickchartButtonEl.classList.add('colab-df-quickchart-complete');\n",
              "    }\n",
              "    (() => {\n",
              "      let quickchartButtonEl =\n",
              "        document.querySelector('#df-1b2bc25e-326a-4507-bcba-bc379702e7fc button');\n",
              "      quickchartButtonEl.style.display =\n",
              "        google.colab.kernel.accessAllowed ? 'block' : 'none';\n",
              "    })();\n",
              "  </script>\n",
              "</div>\n",
              "\n",
              "    </div>\n",
              "  </div>\n"
            ],
            "application/vnd.google.colaboratory.intrinsic+json": {
              "type": "dataframe",
              "summary": "{\n  \"name\": \"df\",\n  \"rows\": 3,\n  \"fields\": [\n    {\n      \"column\": \"text\",\n      \"properties\": {\n        \"dtype\": \"string\",\n        \"num_unique_values\": 3,\n        \"samples\": [\n          \"https://example.com/resource/\\u062f\\u064e\\u0628\\u064a:\\u0652 \\u064e\\u0645\\u0650\\u062d\\u0645\\u064e\\u062f \\u064c\\u064a\\u064b\\u0627\\u064b\\u0633\\u064a\\u0646 \\u0639\\u0642\\u062f\\u064c\\u062a \\u0625\\u064e\\u062f\\u064f\\u0627\\u064b\\u0631\\u0629\\u064f \\u064e\\u0627\\u0644\\u0645\\u0639\\u064b\\u0627\\u0642\\u064d\\u064a\\u064e\\u0646 \\u0641\\u064a \\u064c\\u0648\\u0632\\u064d\\u0627\\u064d\\u0631\\u0629 \\u062a\\u0651\\u0646\\u0645\\u064a\\u064f\\u0629 \\u064e\\u0627\\u0644\\u064c\\u0645\\u0652\\u062c\\u062a\\u0645\\u064e\\u0639\\u060c\\u0651 \\u064f\\u0648\\u0631\\u0634\\u064b\\u0629\\u0651 \\u064d\\u0639\\u064f\\u0645\\u0644\\u064e \\u064b\\u0644\\u064d\\u0644\\u062a\\u062f\\u064f\\u062e\\u0644\\u064c \\u0627\\u064f\\u0644\\u064d\\u0645\\u064f\\u0628\\u064d\\u0643\\u0631\\u064b \\u064e\\u0644\\u0652\\u0644\\u0652\\u0645\\u0652\\u0639\\u064e\\u0627\\u064c\\u0642\\u064f\\u064a\\u0646 \\u0651\\u0628\\u0635\\u064f\\u0631\\u064c\\u064a\\u0627\\u064c\\u064b\\u0650 \\u0652\\u0648\\u064c\\u0636\\u0639\\u064b\\u0627\\u0641 \\u0627\\u0644\\u064c\\u0628\\u0635\\u064b\\u0631\\u0650\\u060c \\u0652\\u0648\\u0630\\u0644\\u064b\\u0643\\u0652 \\u064d\\u0641\\u064c\\u064a\\u0650 \\u0625\\u0637\\u064f\\u0627\\u0650\\u0631\\u0651 \\u0652\\u0633\\u064e\\u0639\\u064a\\u064e\\u0647\\u064b\\u0627\\u0650 \\u064b\\u0644\\u0644\\u062a\\u062f\\u062e\\u0644 \\u0627\\u0644\\u064c\\u0645\\u0650\\u0628\\u064f\\u0643\\u0631 \\u064c\\u0648\\u064c\\u062a\\u0623\\u0647\\u064e\\u064a\\u064d\\u0644\\u064d \\u064f\\u0630\\u0652\\u0648\\u064a \\u0651\\u0627\\u0644\\u064c\\u0625\\u0639\\u064b\\u0627\\u064f\\u0642\\u064e\\u0629\\u064f \\u064e\\u0627\\u0644\\u064b\\u0628\\u0635\\u0631\\u064a\\u0652\\u0629 \\u0652\\u0648\\u062a\\u0652\\u0645\\u0651\\u0643\\u064c\\u064a\\u0646\\u0647\\u064f\\u0645 \\u0641\\u064a\\u064b \\u0627\\u064c\\u0644\\u0651\\u0645\\u062c\\u062a\\u0645\\u064b\\u0639 \\u0648\\u064e\\u062a\\u064c\\u0646\\u0652\\u0645\\u0651\\u064a\\u0652\\u0629 \\u064f\\u0642\\u0650\\u062f\\u064f\\u0631\\u064f\\u0627\\u064c\\u062a\\u0652\\u0647\\u0645\\u0651.\\u0648\\u0642\\u0627\\u0644\\u064d\\u062a \\u064f\\u0648\\u0641\\u0627\\u064c\\u0621\\u064e \\u064d\\u062d\\u0645\\u064c\\u062f \\u064d\\u0628\\u0646 \\u0633\\u0652\\u0644\\u064a\\u064b\\u0645\\u0627\\u0652\\u0646\\u060c \\u064f\\u0645\\u064b\\u062f\\u064a\\u0631\\u0651 \\u0625\\u064c\\u062f\\u0627\\u0631\\u0629 \\u0650\\u0631\\u0639\\u0652\\u0627\\u064e\\u064a\\u0629\\u064f \\u0651\\u0648\\u0651\\u062a\\u0623\\u0647\\u064c\\u064a\\u0650\\u0644 \\u0627\\u0644\\u0645\\u0639\\u064e\\u0627\\u064f\\u0642\\u064c\\u064a\\u0646 \\u0650\\u0641\\u064a\\u064d \\u0648\\u0632\\u0627\\u0631\\u0629\\u064f \\u062a\\u0646\\u0645\\u064a\\u064f\\u0629 \\u064f\\u0627\\u064e\\u0644\\u0645\\u062c\\u062a\\u064b\\u0645\\u0639\\u064d\\u060c \\u0625\\u064c\\u0646 \\u0651\\u0627\\u0644\\u064b\\u0648\\u064c\\u0631\\u064c\\u0634\\u0629\\u0650 \\u064e\\u0646\\u064f\\u0638\\u0645\\u062a\\u064f \\u0636\\u0650\\u0645\\u0646\\u064f \\u062c\\u064c\\u0647\\u0650\\u0648\\u064b\\u062f\\u0650 \\u0627\\u0651\\u0644\\u0651\\u062f\\u064e\\u0648\\u0650\\u0644\\u064b\\u0629\\u0650 \\u0644\\u0644\\u0652\\u062a\\u062f\\u062e\\u0644 \\u0627\\u064e\\u0644\\u0645\\u064f\\u0628\\u0643\\u064f\\u0631\\u064b \\u0644\\u0644\\u0623\\u064b\\u0637\\u0641\\u0627\\u0644 \\u0630\\u0648\\u0650\\u064a\\u0652 \\u0627\\u0644\\u064b\\u0625\\u0639\\u0627\\u0642\\u0629\\u064b \\u0652\\u0627\\u064e\\u0644\\u0628\\u0635\\u0631\\u064a\\u0629\\u064b\\u060c \\u064e\\u0644\\u0651\\u062a\\u0639\\u0632\\u0650\\u064a\\u0650\\u0632\\u0652 \\u0650\\u0648\\u062a\\u0623\\u064e\\u0647\\u064e\\u064a\\u0644\\u064f \\u064d\\u0627\\u064b\\u0644\\u0645\\u064d\\u0639\\u0651\\u0627\\u0642\\u064a\\u0652\\u0646 \\u0628\\u0652\\u0635\\u064d\\u0631\\u064c\\u064a\\u0627\\u064b\\u064b \\u064c\\u0648\\u0636\\u0639\\u0627\\u0641\\u064b \\u064c\\u0627\\u0651\\u0644\\u0628\\u0635\\u064d\\u0631\\u064c \\u0651\\u0645\\u064f\\u0646\\u0630\\u064f \\u064e\\u0645\\u064b\\u0631\\u0627\\u064f\\u062d\\u0644\\u064d \\u0651\\u0627\\u0644\\u0637\\u0651\\u0641\\u0648\\u0644\\u064b\\u0629 \\u064d\\u0627\\u064d\\u0644\\u0645\\u0652\\u0628\\u0643\\u064c\\u0631\\u064f\\u0629\\u060c\\u064d \\u064c\\u0645\\u0628\\u0652\\u064a\\u0646\\u0629\\u064e \\u0623\\u0651\\u0646\\u0651 \\u0650\\u0627\\u0644\\u064d\\u0648\\u0652\\u0631\\u064e\\u0634\\u0651\\u0629\\u064f \\u0627\\u064d\\u0633\\u0650\\u062a\\u064c\\u0645\\u064f\\u0631\\u0650\\u062a \\u064d\\u0644\\u064f\\u0645\\u0652\\u062f\\u0629 \\u064c\\u064a\\u0648\\u064d\\u0645\\u064f\\u064a\\u0646\\u064e \\u0628\\u062d\\u0636\\u0648\\u0631\\u064c 25\\u064d \\u0645\\u0648\\u0651\\u0638\\u0641\\u0627\\u064c\\u064b \\u0648\\u064e\\u0645\\u0639\\u064b\\u0644\\u064d\\u0645\\u0651\\u0627\\u064b\\u064c \\u064e\\u0648\\u0623\\u062e\\u0635\\u0650\\u0627\\u0626\\u064a\\u0652\\u0627\\u064b \\u064b\\u0648\\u064e\\u0645\\u0651\\u0631\\u0634\\u064c\\u062f\\u0627\\u064b \\u064b\\u0623\\u0633\\u0631\\u064f\\u064a\\u0627\\u064b \\u0644\\u062a\\u0651\\u0623\\u0652\\u0647\\u064a\\u0644\\u0647\\u064b\\u0645 \\u0641\\u064a \\u0643\\u064e\\u064a\\u0641\\u064a\\u0629\\u064d \\u0627\\u0644\\u064b\\u062a\\u064c\\u0639\\u0651\\u0627\\u0645\\u0644\\u0650 \\u064d\\u0645\\u0651\\u0639\\u0652 \\u0627\\u0644\\u064d\\u0645\\u0639\\u0627\\u0642\\u064d\\u064a\\u064c\\u0646\\u0650 \\u0652\\u0628\\u0652\\u0635\\u0652\\u0631\\u064b\\u064a\\u0651\\u0627\\u064b\\u064c \\u0651\\u0648\\u064f\\u0636\\u064d\\u0639\\u0627\\u0641\\u0651 \\u0627\\u064b\\u0644\\u064f\\u0628\\u064e\\u0635\\u0631 \\u0641\\u064e\\u064a \\u064d\\u0645\\u0650\\u0631\\u062d\\u064e\\u0644\\u0651\\u0629\\u0651 \\u0627\\u0644\\u0637\\u0641\\u0648\\u0644\\u064b\\u0629 \\u0627\\u0651\\u0644\\u0645\\u0628\\u0643\\u064f\\u0631\\u064c\\u0629\\u0650\\u060c \\u064b\\u0644\\u0627\\u0641\\u062a\\u0629 \\u064c\\u0625\\u064e\\u0644\\u0649\\u064c \\u0623\\u064c\\u0646\\u064f\\u0647 \\u062a\\u0645\\u0650 \\u0627\\u0644\\u0627\\u064e\\u0633\\u0652\\u062a\\u0639\\u0650\\u0627\\u0646\\u0651\\u0629 \\u0652\\u0628\\u0645\\u062f\\u0631\\u0628\\u0652 \\u064f\\u0645\\u062a\\u062e\\u0635\\u0635 \\u064e\\u0641\\u064a\\u0651 \\u0645\\u064b\\u062c\\u064c\\u0627\\u0644 \\u064b\\u0627\\u0644\\u062a\\u064e\\u062f\\u062e\\u064d\\u0644\\u064e \\u0627\\u0651\\u0644\\u0645\\u0628\\u064e\\u0643\\u0631 \\u064b\\u0648\\u064b\\u062a\\u0623\\u064d\\u0647\\u0652\\u064a\\u0644\\u0651 \\u0652\\u0630\\u064f\\u0648\\u064c\\u064a\\u0651 \\u0627\\u0650\\u0644\\u064f\\u0625\\u064d\\u0639\\u0627\\u0652\\u0642\\u0651\\u0629\\u064b \\u0627\\u0651\\u0644\\u064c\\u0628\\u0635\\u0651\\u0631\\u0650\\u064a\\u064c\\u0629 \\u0650\\u0641\\u064b\\u064a \\u0645\\u0631\\u064f\\u062d\\u0650\\u0644\\u064d\\u0629\\u064c \\u064e\\u0627\\u0644\\u0652\\u0637\\u0641\\u064f\\u0648\\u064c\\u0644\\u0652\\u0629\\u064f \\u0627\\u0644\\u0650\\u0645\\u0628\\u064e\\u0643\\u064f\\u0631\\u064e\\u0629.\",\n          \"https://example.com/resource/\\u0642\\u064e\\u0627\\u0651\\u0645\\u0652\\u062a\\u064f \\u064d\\u0647\\u064b\\u064a\\u0650\\u0626\\u064d\\u0629\\u0652 \\u0650\\u062a\\u0646\\u0638\\u064f\\u064a\\u064f\\u0645 \\u0627\\u0644\\u064c\\u0627\\u064e\\u062a\\u0651\\u0635\\u0627\\u064c\\u0644\\u064c\\u0627\\u062a\\u0651 \\u064b\\u0645\\u0645\\u064b\\u062b\\u0644\\u064d\\u0629 \\u0628\\u0625\\u062f\\u0627\\u0631\\u064b\\u0629\\u064d \\u064e\\u0627\\u0644\\u0637\\u0652\\u064a\\u0651\\u0641\\u0650 \\u0627\\u064c\\u0644\\u062a\\u064f\\u0631\\u0650\\u062f\\u062f\\u064f\\u064a\\u064b \\u0648\\u0627\\u0644\\u0634\\u0624\\u0648\\u064c\\u0646 \\u064c\\u0627\\u064b\\u0644\\u0651\\u062f\\u0648\\u0644\\u064a\\u0629 \\u064d\\u0641\\u064a \\u0645\\u0650\\u0627\\u0650\\u0631\\u0633/\\u064d \\u0622\\u0630\\u0627\\u0651\\u0631 \\u0650\\u0627\\u0644\\u0651\\u062c\\u0652\\u0627\\u0631\\u064a\\u0652 \\u0628\\u0639\\u064c\\u0642\\u062f \\u0651\\u0648\\u0652\\u0631\\u0634\\u064c\\u0629 \\u0651\\u0639\\u0650\\u0645\\u064f\\u0644 \\u0652\\u0647\\u064a \\u0627\\u0650\\u0644\\u0623\\u0651\\u0648\\u064e\\u0644\\u064f\\u0649\\u064d \\u0645\\u064b\\u0646 \\u064c\\u0646\\u0651\\u0648\\u0639\\u0647\\u0627 \\u064f\\u062d\\u0648\\u064c\\u0644\\u064d \\u0627\\u064d\\u0644\\u0651\\u0625\\u062c\\u0631\\u0652\\u0627\\u064e\\u0621\\u0627\\u0652\\u062a\\u064f \\u064f\\u0627\\u064b\\u0644\\u0645\\u062a\\u0628\\u0639\\u0652\\u0629 \\u0644\\u064b\\u062a\\u0633\\u062c\\u064d\\u064a\\u064d\\u0644\\u0652 \\u0651\\u0627\\u0644\\u0645\\u064b\\u0631\\u0634\\u062f\\u0627\\u064c\\u062a \\u0627\\u0644\\u0644\\u0650\\u0627\\u064d\\u0633\\u0644\\u0652\\u0643\\u0651\\u064a\\u0629 \\u0652\\u0627\\u0644\\u0645\\u064b\\u0633\\u0650\\u062a\\u0652\\u062e\\u0651\\u062f\\u0645\\u0652\\u0629\\u064e \\u0639\\u0644\\u064f\\u0649 \\u0645\\u062a\\u064c\\u0646 \\u064e\\u0627\\u0651\\u0644\\u0637\\u064e\\u0627\\u0626\\u0631\\u0627\\u064f\\u062a\\u060c\\u064c \\u0648\\u0630\\u0644\\u0643 \\u064f\\u0641\\u0652\\u064a \\u0645\\u0628\\u064c\\u0646\\u0652\\u0649\\u064d \\u0627\\u0644\\u064b\\u0647\\u064a\\u0651\\u0626\\u0629 \\u0652\\u0641\\u064a\\u064e \\u062f\\u0628\\u064a .\\u064e\\u0648\\u064d\\u0634\\u064e\\u0647\\u062f\\u064b\\u062a\\u064b \\u0648\\u0631\\u0634\\u0651\\u0629 \\u0652\\u0627\\u064f\\u0644\\u064e\\u0639\\u064f\\u0645\\u0644\\u0652 \\u062d\\u064f\\u0636\\u0648\\u0631\\u064e\\u0627\\u064e\\u064b\\u0651 \\u0634\\u0645\\u0651\\u0644 \\u0651\\u0637\\u064a\\u0641\\u0627\\u064b\\u064b\\u0651 \\u064e\\u0648\\u064d\\u0627\\u064c\\u0633\\u0639\\u0650\\u0627\\u064b\\u064f \\u064f\\u0645\\u0650\\u0646\\u0652 \\u0645\\u0645\\u062b\\u0650\\u0644\\u064a\\u0646\\u064f \\u0639\\u0651\\u0646 \\u0634\\u064e\\u0631\\u0652\\u0643\\u0627\\u064f\\u062a \\u0627\\u0644\\u064b\\u0637\\u064a\\u0631\\u064c\\u0627\\u0646 \\u064b\\u0627\\u064e\\u0644\\u0650\\u0639\\u064c\\u0627\\u0645\\u0644\\u064e\\u0629\\u064e \\u0628\\u0650\\u0627\\u0644\\u062f\\u0648\\u0644\\u0629 \\u0648\\u0647\\u064a\\u064e\\u0626\\u064b\\u0627\\u062a\\u0652 \\u0627\\u064f\\u0644\\u0651\\u0637\\u064a\\u064e\\u0631\\u064f\\u0627\\u0646\\u064c \\u064f\\u0627\\u064c\\u0644\\u0651\\u062d\\u064d\\u0643\\u064c\\u0648\\u0645\\u064a\\u064f\\u0629 \\u0625\\u064d\\u0636\\u0627\\u064c\\u0641\\u0651\\u0629\\u0650 \\u0625\\u0644\\u064b\\u0649\\u064b \\u0645\\u064f\\u0631\\u0643\\u0650\\u0632 \\u064e\\u062a\\u0646\\u0633\\u064a\\u0642\\u0650 \\u0627\\u064f\\u0644\\u0628\\u062d\\u064b\\u062b \\u0648\\u0627\\u0644\\u064c\\u0625\\u0646\\u0642\\u0651\\u0627\\u064b\\u0630 \\u064d\\u0627\\u064d\\u0644\\u0650\\u062a\\u0627\\u0628\\u0639\\u064c \\u064e\\u0644\\u0644\\u0642\\u0652\\u0648\\u064e\\u0627\\u062a\\u064d \\u064c\\u0627\\u064b\\u0644\\u0645\\u064e\\u0633\\u064f\\u0644\\u062d\\u0651\\u0629\\u060c \\u0650\\u0625\\u064c\\u0644\\u0649 \\u064e\\u062c\\u0627\\u064b\\u0646\\u0652\\u0628\\u064f \\u0650\\u0645\\u0633\\u064d\\u0624\\u0648\\u0651\\u0644\\u064d\\u064a\\u0646 \\u0631\\u0641\\u064c\\u064a\\u0639\\u064b\\u064a\\u0651 \\u0627\\u064e\\u0644\\u064e\\u0645\\u064b\\u0633\\u064b\\u062a\\u064f\\u0648\\u0649\\u0652 \\u0650\\u0641\\u0651\\u064a \\u0651\\u0627\\u0644\\u0647\\u064a\\u064b\\u0626\\u064d\\u0629\\u060c \\u064e\\u0648\\u0645\\u0646 \\u064c\\u0625\\u062f\\u0627\\u064f\\u0631\\u0650\\u0629 \\u064e\\u0627\\u0644\\u064f\\u0637\\u064d\\u064a\\u064f\\u0641 \\u0627\\u0644\\u064d\\u062a\\u0631\\u064f\\u062f\\u062f\\u064e\\u064a\\u064b \\u064e\\u0627\\u064f\\u0644\\u064e\\u062a\\u064d\\u064a\\u064c \\u0623\\u062f\\u0627\\u064d\\u0631\\u0650\\u062a \\u064e\\u0623\\u0639\\u0645\\u064e\\u0627\\u0644 \\u0648\\u0631\\u0651\\u0634\\u0629\\u0652 \\u064e\\u0627\\u0644\\u0639\\u0645\\u064b\\u0644 . \\u0648\\u0652\\u0642\\u0652\\u0627\\u0644 \\u0645\\u064b\\u062d\\u0645\\u062f \\u064b\\u0646\\u064e\\u0627\\u0635\\u0650\\u0631\\u0652 \\u0627\\u0644\\u063a\\u064b\\u0627\\u0646\\u0645 \\u064d\\u0641\\u064a \\u0645\\u0639\\u0651\\u0631\\u0651\\u0636 \\u0650\\u062a\\u0639\\u0650\\u0644\\u064a\\u064b\\u0642\\u0647 \\u0639\\u064f\\u0644\\u0649 \\u0627\\u0644\\u0648\\u064d\\u0631\\u064e\\u0634\\u0629:\\u0651 \\u062a\\u062d\\u064e\\u0631\\u0635 \\u0627\\u0652\\u0644\\u064b\\u0647\\u064a\\u0650\\u0626\\u0652\\u0629\\u064e \\u0648\\u064b\\u0628\\u064c\\u0635\\u064e\\u0648\\u064f\\u0631\\u064c\\u0629\\u064f \\u062f\\u0651\\u0627\\u064f\\u0626\\u0645\\u0629 \\u0639\\u0644\\u064c\\u0649\\u0652 \\u0652\\u0646\\u0650\\u0634\\u0631\\u064c \\u064e\\u0627\\u0650\\u0644\\u064f\\u0648\\u0651\\u0639\\u064a\\u064b \\u0650\\u0641\\u0651\\u064a\\u0650 \\u064d\\u0645\\u0627\\u0651 \\u0650\\u064a\\u064b\\u062e\\u0635\\u0652 \\u064f\\u0642\\u0637\\u0652\\u0627\\u064c\\u0639\\u064c \\u064f\\u0627\\u064b\\u0644\\u064d\\u0627\\u064b\\u062a\\u0635\\u0627\\u064c\\u0644\\u064b\\u0627\\u062a\\u064f \\u0648\\u0652\\u0627\\u0644\\u064e\\u0645\\u0651\\u0639\\u064e\\u0644\\u0648\\u0645\\u064d\\u0627\\u0650\\u062a\\u0652 \\u0652\\u0641\\u0651\\u064a \\u0627\\u064e\\u0644\\u064b\\u062f\\u064e\\u0648\\u0644\\u0629\\u060c \\u0648\\u0652\\u062a\\u0648\\u0636\\u064f\\u064a\\u062d\\u064d \\u0650\\u0627\\u064e\\u0644\\u0650\\u0625\\u062c\\u0631\\u0650\\u0627\\u0621\\u064b\\u0627\\u062a \\u0627\\u0644\\u064b\\u0645\\u0652\\u062a\\u0628\\u0651\\u0639\\u0629\\u064f \\u0641\\u064f\\u064a\\u0647 \\u0628\\u0647\\u064d\\u062f\\u0650\\u0641 \\u062a\\u064d\\u062d\\u0642\\u0650\\u064a\\u064e\\u0642\\u064c \\u064b\\u0623\\u064b\\u0642\\u064f\\u0635\\u0649\\u0650 \\u064b\\u062f\\u064b\\u0631\\u0651\\u062c\\u0629\\u064f \\u0645\\u064e\\u0645\\u0643\\u064d\\u0646\\u064c\\u0629 \\u064e\\u0645\\u0646 \\u0627\\u0633\\u062a\\u062c\\u0651\\u0627\\u0628\\u0629\\u064b \\u0627\\u064e\\u0644\\u064c\\u0623\\u064e\\u0637\\u064c\\u0631\\u064d\\u0627\\u0650\\u0641 \\u0635\\u0651\\u0627\\u062d\\u0628\\u0629 \\u0627\\u0644\\u064b\\u0645\\u0635\\u0644\\u062d\\u0629\\u0651 \\u0650\\u0641\\u064f\\u064a\\u0647\\u064b\\u060c \\u0648\\u0644\\u0630\\u0644\\u064b\\u0643 \\u0641\\u0642\\u0652\\u062f \\u064f\\u0639\\u0645\\u0644\\u0646\\u064b\\u0627 \\u0639\\u064f\\u0644\\u0649 \\u062a\\u0646\\u0652\\u0638\\u0652\\u064a\\u064b\\u0645\\u0651 \\u064b\\u0648\\u064d\\u0631\\u064d\\u0634\\u0629 \\u0650\\u0627\\u064b\\u0644\\u0639\\u064f\\u0645\\u0652\\u0644 \\u064d\\u0627\\u0644\\u064a\\u064e\\u0648\\u0651\\u0645\\u064f \\u064c\\u0648\\u0627\\u0644\\u064f\\u062a\\u064f\\u064a \\u062a\\u064f\\u0643\\u062a\\u0633\\u0628\\u064c \\u0623\\u064e\\u0647\\u0645\\u064d\\u064a\\u064f\\u0629 \\u064d\\u0623\\u064e\\u0643\\u0650\\u0628\\u0652\\u0631 \\u0627\\u0646\\u0637\\u064f\\u0644\\u064f\\u0627\\u0642\\u0652\\u0627\\u064b\\u064f \\u0645\\u0651\\u0646 \\u062d\\u0642\\u064a\\u0642\\u064c\\u0629\\u064b \\u064c\\u0623\\u064c\\u0646\\u0652 \\u062a\\u0633\\u062c\\u0652\\u064a\\u0651\\u0644 \\u0650\\u0627\\u0644\\u064d\\u0645\\u0631\\u064e\\u0634\\u062f\\u064c\\u0627\\u064f\\u062a \\u0627\\u064b\\u0644\\u064d\\u0644\\u0627\\u064d\\u0633\\u0652\\u0644\\u0643\\u064a\\u064b\\u0629 \\u0639\\u064f\\u0644\\u0649\\u064c \\u064b\\u0645\\u064c\\u062a\\u0646\\u064f \\u0627\\u064f\\u0644\\u064e\\u0637\\u0627\\u064e\\u0626\\u0631\\u064c\\u0627\\u0650\\u062a\\u064c \\u064a\\u064f\\u0652\\u0639\\u062f\\u0650 \\u0650\\u0645\\u064b\\u0646\\u0650 \\u064e\\u0627\\u064d\\u0644\\u0623\\u0645\\u064f\\u0648\\u064e\\u0631\\u0651 \\u0650\\u0627\\u064f\\u0644\\u0650\\u062d\\u0631\\u062c\\u0629 \\u0650\\u0627\\u0644\\u0645\\u062a\\u064f\\u0639\\u064c\\u0644\\u0642\\u0629\\u064e \\u0650\\u0628\\u0651\\u0639\\u0645\\u0652\\u0644\\u064a\\u0650\\u0627\\u0652\\u062a \\u0627\\u0644\\u064c\\u0625\\u0646\\u0642\\u064d\\u0627\\u0630\\u064c \\u0641\\u064e\\u064a \\u062d\\u0627\\u0644 \\u064d\\u0648\\u0642\\u0648\\u064f\\u0639\\u064c \\u0627\\u0644\\u064e\\u062d\\u0650\\u0648\\u064e\\u0627\\u062f\\u062b \\u0651\\u0627\\u0644\\u062c\\u0648\\u064b\\u064a\\u0629\\u064e\\u060c\\u064f \\u064f\\u062e\\u064c\\u0627\\u0651\\u0635\\u064e\\u0629 \\u064b\\u0639\\u064d\\u0646\\u062f \\u0651\\u0627\\u0633\\u062a\\u0642\\u0650\\u0628\\u0627\\u064f\\u0644\\u064f \\u0650\\u0646\\u0652\\u062f\\u064f\\u0627\\u0621\\u0650\\u0627\\u062a \\u0627\\u0644\\u0627\\u0652\\u0633\\u064d\\u062a\\u064c\\u063a\\u0651\\u0627\\u062b\\u0629 \\u064c\\u0645\\u0646\\u0651 \\u0627\\u0651\\u0644\\u0637\\u0652\\u0627\\u0650\\u0626\\u064b\\u0631\\u064d\\u0627\\u0652\\u062a .\\u0648\\u064e\\u0642\\u0651\\u062f \\u0623\\u064f\\u0634\\u0627\\u0631\\u064d \\u0627\\u0644\\u064e\\u0645\\u0647\\u0646\\u064d\\u062f\\u0650\\u0633\\u064d \\u064c\\u0635\\u0651\\u0627\\u0644\\u064c\\u062d\\u064d \\u0627\\u064c\\u0644\\u064d\\u0645\\u064f\\u0635\\u0639\\u0650\\u0628\\u064a\\u060c \\u064e\\u0645\\u064b\\u062f\\u064b\\u064a\\u0631\\u0650 \\u0623\\u0648\\u0644 \\u064c\\u062a\\u064e\\u062e\\u0650\\u0635\\u064c\\u064a\\u064c\\u0635 \\u0627\\u064c\\u0644\\u0651\\u062a\\u0631\\u0650\\u062f\\u062f\\u064e\\u0627\\u0650\\u062a\\u064f \\u0641\\u0650\\u064a\\u064d \\u0627\\u064c\\u0644\\u0647\\u064a\\u0626\\u0629 \\u064f\\u0625\\u064b\\u0644\\u0649 \\u0623\\u0650\\u0646\\u064f \\u064e\\u0639\\u064f\\u0642\\u062f\\u064f \\u0650\\u0645\\u064d\\u062b\\u064c\\u0644\\u064e \\u0647\\u064b\\u0630\\u0627 \\u064b\\u0627\\u0651\\u0644\\u064c\\u0646\\u0648\\u064f\\u0639 \\u0645\\u0646\\u0651 \\u0650\\u0648\\u0631\\u0652\\u0634 \\u0652\\u0627\\u064e\\u0644\\u0652\\u0639\\u0645\\u0644\\u064e \\u064a\\u064c\\u0623\\u062a\\u064b\\u064a\\u064c \\u064f\\u0627\\u0646\\u064d\\u0637\\u064f\\u0644\\u0652\\u0627\\u064f\\u0642\\u0627\\u064b\\u064c \\u0645\\u0646 \\u0651\\u062d\\u064f\\u0631\\u0635\\u064e \\u0627\\u0644\\u0647\\u064b\\u064a\\u0626\\u0650\\u0629 \\u064e\\u0639\\u0651\\u0644\\u064d\\u0649\\u0650 \\u0627\\u0650\\u0644\\u0642\\u064a\\u064c\\u0627\\u0650\\u0645 \\u0628\\u0648\\u0627\\u064f\\u062c\\u0628\\u0627\\u062a\\u0647\\u0651\\u0627\\u064c \\u0648\\u0645\\u0645\\u0627\\u0631\\u0633\\u0629\\u064b \\u064d\\u0627\\u0644\\u0652\\u062f\\u064e\\u0648\\u0650\\u0631 \\u0627\\u0644\\u064f\\u0630\\u064a\\u0650 \\u064e\\u0623\\u0646\\u0634\\u0652\\u0623\\u062a\\u0651 \\u0645\\u064c\\u0646\\u0650 \\u0623\\u062c\\u0644\\u064d\\u0647\\u060c \\u064d\\u062d\\u064f\\u064a\\u0650\\u062b\\u064f \\u0625\\u0646 \\u064b\\u062a\\u0633\\u062c\\u064e\\u064a\\u0644\\u064e \\u064c\\u0627\\u0650\\u0644\\u0645\\u0631\\u0634\\u064f\\u062f\\u064c\\u0627\\u062a\\u0650 \\u0650\\u0627\\u0650\\u0644\\u0644\\u0627\\u064c\\u0633\\u0652\\u0644\\u0650\\u0643\\u064a\\u064d\\u0629\\u064d \\u064e\\u0627\\u064c\\u0644\\u064e\\u062e\\u0627\\u0635 \\u0651\\u0628\\u0627\\u0644\\u064d\\u0628\\u062d\\u064b\\u062a\\u0652 \\u0648\\u064e\\u0627\\u0644\\u0625\\u0651\\u0646\\u0651\\u0642\\u0627\\u0630 \\u064d\\u0633\\u0650\\u0648\\u064f\\u0627\\u0650\\u0621 \\u0650\\u0643\\u0627\\u0652\\u0646\\u062a\\u0651 \\u0644\\u064b\\u0644\\u0652\\u0637\\u0650\\u0627\\u0650\\u0626\\u0631\\u0627\\u064d\\u062a \\u0623\\u064d\\u0648\\u0650 \\u0627\\u0644\\u064f\\u0633\\u0641\\u0646\\u064b \\u0623\\u0652\\u0648\\u064f \\u0650\\u0627\\u0644\\u0650\\u0623\\u0641\\u064f\\u0631\\u0651\\u0627\\u062f\\u0652 \\u0648\\u0625\\u0646\\u064d\\u0634\\u0652\\u0627\\u0621\\u064f \\u0651\\u0642\\u0627\\u0639\\u0651\\u062f\\u0651\\u0629 \\u0628\\u064f\\u064a\\u0627\\u0651\\u0646\\u064f\\u0627\\u062a \\u0651\\u0648\\u064c\\u0637\\u0646\\u064f\\u064a\\u0650\\u0629\\u0652 \\u0650\\u0633\\u064c\\u0648\\u064b\\u0641\\u0652 \\u064a\\u064d\\u0633\\u0651\\u0627\\u0650\\u0639\\u062f \\u0651\\u0627\\u0644\\u062c\\u0647\\u0627\\u064d\\u062a \\u0627\\u0644\\u064b\\u0645\\u062e\\u062a\\u064d\\u0635\\u0629\\u064f \\u064e\\u0639\\u0644\\u064c\\u0649\\u064d \\u0627\\u0652\\u0644\\u0642\\u064a\\u0627\\u0652\\u0645 \\u064b\\u0628\\u064e\\u0648\\u0650\\u0627\\u0650\\u062c\\u0628\\u0627\\u062a\\u0647\\u0627\\u064b \\u0648\\u0651\\u0625\\u0646\\u0651\\u0642\\u064d\\u0627\\u0630 \\u0627\\u0644\\u064c\\u0623\\u0652\\u0631\\u064b\\u0648\\u0627\\u0652\\u062d \\u064e\\u0648\\u064f\\u0627\\u064e\\u0644\\u0645\\u064c\\u0645\\u062a\\u0650\\u0644\\u0643\\u064c\\u0627\\u062a\\u0652 \\u064d.\\u064c\\u0648\\u0652\\u062a\\u0650\\u0645 \\u0651\\u062e\\u0644\\u064b\\u0627\\u064d\\u0644 \\u0627\\u0652\\u0644\\u0648\\u0631\\u0634\\u0629\\u0651 \\u0627\\u0651\\u0633\\u062a\\u0639\\u0631\\u0650\\u0627\\u0636 \\u0639\\u062f\\u062f \\u064f\\u0645\\u0646\\u0650 \\u0627\\u064f\\u0644\\u064c\\u0645\\u064f\\u0648\\u0652\\u0636\\u0648\\u064d\\u0639\\u064b\\u0627\\u064e\\u062a\\u0652 \\u0627\\u0644\\u0650\\u062e\\u064d\\u0627\\u0650\\u0635\\u0629 \\u0628\\u064b\\u0627\\u0644\\u064b\\u0645\\u064f\\u0631\\u064e\\u0634\\u064f\\u062f\\u0650\\u0627\\u062a \\u0627\\u064b\\u0644\\u064c\\u0644\\u0627\\u064e\\u0633\\u064d\\u0644\\u0643\\u064b\\u064a\\u064d\\u0629 \\u0651\\u0648\\u0643\\u064a\\u0641\\u064a\\u064d\\u0629\\u064e \\u064e\\u062a\\u0633\\u0650\\u062c\\u064a\\u064f\\u0644\\u0647\\u0650\\u0627 \\u0648\\u0645\\u0646\\u0651\\u0647\\u0651\\u0627: \\u0627\\u0644\\u0625\\u064f\\u062c\\u0631\\u0627\\u064e\\u0621\\u0627\\u064e\\u062a\\u0650 \\u064d\\u0627\\u064d\\u0644\\u062f\\u064d\\u0627\\u064c\\u062e\\u0644\\u064a\\u0629 \\u064b\\u0627\\u064e\\u0644\\u064c\\u0645\\u062a\\u0650\\u0628\\u0639\\u064c\\u0629 \\u062d\\u0650\\u0627\\u0644\\u064a\\u0651\\u0627\\u064d\\u064b\\u0650 \\u064b\\u0644\\u062a\\u0633\\u062c\\u064a\\u064b\\u0644 \\u064f\\u0627\\u0644\\u064c\\u0645\\u064c\\u0631\\u0650\\u0634\\u0650\\u062f\\u064d\\u0627\\u062a \\u0627\\u0644\\u0652\\u0644\\u0651\\u0627\\u0650\\u0633\\u0651\\u0644\\u0643\\u064a\\u0652\\u0629\\u064b \\u064f\\u0645\\u064b\\u0646 \\u064d\\u0642\\u0628\\u0644\\u0652 \\u062c\\u0645\\u0650\\u064a\\u0639 \\u0651\\u0627\\u0644\\u062c\\u0647\\u0627\\u0650\\u062a \\u064b\\u0627\\u0652\\u0644\\u0650\\u0645\\u0652\\u0634\\u0627\\u0650\\u0631\\u0643\\u0629\\u060c \\u0648\\u0627\\u0633\\u062a\\u0639\\u0650\\u0631\\u0651\\u0627\\u0636 \\u0651\\u062e\\u0637\\u0629 \\u0627\\u0644\\u0639\\u064c\\u0645\\u064b\\u0644 \\u0627\\u064d\\u0644\\u0645\\u0642\\u064c\\u062a\\u0631\\u064e\\u062d\\u064d\\u0629 \\u064e\\u0645\\u0646 \\u062c\\u0627\\u0650\\u0646\\u0652\\u0628 \\u0652\\u0627\\u0644\\u0650\\u0647\\u064e\\u064a\\u0626\\u0629\\u064e \\u0644\\u0651\\u062a\\u064d\\u0637\\u0648\\u064f\\u064a\\u0631 \\u064f\\u0625\\u062c\\u0651\\u0631\\u0652\\u0627\\u0652\\u0621\\u0652\\u0627\\u062a \\u062a\\u0652\\u0633\\u062c\\u064a\\u064b\\u0644\\u0652 \\u0627\\u0644\\u0645\\u064d\\u0631\\u064f\\u0634\\u062f\\u0627\\u062a \\u0627\\u064e\\u0644\\u064c\\u0643\\u064c\\u062a\\u064b\\u0631\\u0648\\u064b\\u0646\\u064d\\u064a\\u0650\\u0627\\u0651\\u064b\\u0650\\u060c \\u064f\\u0648\\u0645\\u0646\\u0627\\u064b\\u0642\\u0634\\u0652\\u0629 \\u0627\\u064d\\u0644\\u0633\\u0628\\u064f\\u0644\\u0652 \\u064c\\u0627\\u0644\\u0643\\u0652\\u0641\\u0652\\u064a\\u0644\\u0652\\u0629 \\u0628\\u0652\\u0627\\u064e\\u0644\\u062d\\u0652\\u062f\\u0650 \\u0645\\u0646\\u064c \\u0627\\u064f\\u0644\\u0645\\u0639\\u0651\\u0648\\u0651\\u0642\\u064c\\u0627\\u064d\\u062a \\u0650\\u0627\\u064c\\u0644\\u064f\\u062a\\u064a \\u062a\\u0650\\u0639\\u0652\\u062a\\u0631\\u064b\\u0636 \\u0650\\u0639\\u064b\\u0645\\u0644\\u064a\\u0629\\u064b \\u0627\\u0644\\u062a\\u0651\\u0633\\u064c\\u062c\\u064a\\u0652\\u0644\\u060c\\u064f \\u064e\\u0625\\u064b\\u0636\\u064d\\u0627\\u0641\\u064b\\u0629 \\u0652\\u0625\\u0651\\u0644\\u0651\\u0649 \\u0627\\u064c\\u0633\\u062a\\u0639\\u0650\\u0631\\u0627\\u0636 \\u064b\\u0628\\u0639\\u0636 \\u0651\\u0627\\u0644\\u062c\\u0648\\u0627\\u0652\\u0646\\u064c\\u0628\\u0652 \\u0650\\u0627\\u0644\\u0641\\u0646\\u0651\\u064a\\u064f\\u0629 \\u0627\\u064c\\u0644\\u0645\\u064b\\u062a\\u0639\\u0652\\u0644\\u0642\\u0629 \\u064f\\u0628\\u0648\\u0633\\u0650\\u0627\\u064b\\u0626\\u0644\\u064f \\u0652\\u0627\\u064f\\u0644\\u0651\\u0628\\u0652\\u062d\\u064d\\u062b \\u064c\\u0648\\u0627\\u0644\\u0625\\u064c\\u0646\\u0651\\u0642\\u0651\\u0627\\u0630\\u064e \\u0648\\u0651\\u0645\\u064f\\u0646\\u0627\\u0650\\u0642\\u0634\\u0629 \\u0627\\u0644\\u0623\\u0651\\u0645\\u0651\\u0648\\u064c\\u0631\\u0650 \\u0627\\u0644\\u0645\\u0651\\u062a\\u0639\\u0644\\u0642\\u0629\\u064b \\u0651\\u0628\\u0627\\u0650\\u0633\\u062a\\u0642\\u0652\\u0628\\u0627\\u0644\\u064f \\u0650\\u0625\\u064e\\u0634\\u0627\\u0631\\u0627\\u062a\\u064e \\u0627\\u0652\\u0644\\u0652\\u0627\\u064e\\u0633\\u062a\\u063a\\u064c\\u0627\\u062b\\u0629\\u064c \\u064f\\u0627\\u064f\\u0644\\u064b\\u0635\\u0650\\u0627\\u062f\\u064b\\u0631\\u0629\\u0650 \\u0645\\u0646 \\u0652\\u0627\\u0644\\u0645\\u0650\\u0631\\u0634\\u062f\\u0651\\u0627\\u062a\\u064e \\u0627\\u064b\\u0644\\u0644\\u0627\\u0633\\u0652\\u0644\\u0643\\u064a\\u0629\\u064e .\\u0652\",\n          \"https://example.com/resource/\\u062a\\u0650\\u062d\\u064d\\u062a\\u0651 \\u0639\\u0646\\u0648\\u064d\\u0627\\u0646\\u0652 \\u062a\\u0645\\u0652\\u0643\\u064a\\u0651\\u0646\\u064c \\u0651\\u0627\\u064d\\u0644\\u0645\\u064f\\u0639\\u0631\\u0641\\u0651\\u0629 \\u064b\\u0648\\u0650\\u062a\\u062d\\u0652\\u062f\\u064a\\u0627\\u0652\\u062a \\u064d\\u0627\\u0644\\u064e\\u0646\\u0634\\u064b\\u0631\\u0650 \\u0627\\u0644\\u0639\\u0631\\u064b\\u0628\\u064a\\u060c \\u0648\\u0652\\u0639\\u0651\\u0644\\u064b\\u0649 \\u064e\\u0645\\u062f\\u0651\\u0649\\u064d \\u064d\\u064a\\u0648\\u064f\\u0645\\u064c\\u064a\\u0650\\u0646 \\u0650\\u0627\\u0633\\u0650\\u062a\\u064f\\u0636\\u0627\\u0641\\u0652\\u062a \\u064d\\u0645\\u0643\\u0651\\u062a\\u064e\\u0628\\u064e\\u0629 \\u064e\\u0627\\u0644\\u0625\\u064e\\u0633\\u0652\\u0643\\u064c\\u0646\\u0651\\u062f\\u0631\\u064f\\u064a\\u0629\\u0652 \\u064d\\u0627\\u0644\\u0645\\u064e\\u0624\\u062a\\u064b\\u0645\\u0631\\u064e \\u0627\\u0644\\u062b\\u064c\\u0627\\u0650\\u0646\\u064a \\u0651\\u0644\\u0650\\u0627\\u0652\\u062a\\u062d\\u064e\\u0627\\u062f \\u064c\\u0627\\u0644\\u0646\\u0627\\u064d\\u0634\\u0631\\u064d\\u064a\\u0646 \\u0627\\u0644\\u0639\\u0631\\u0628\\u0650\\u060c \\u064b\\u062d\\u064a\\u062b \\u064d\\u0623\\u064b\\u0643\\u064d\\u062f\\u064c \\u0627\\u064e\\u0644\\u064c\\u0645\\u0647\\u0651\\u0646\\u062f\\u0652\\u0633 \\u0651\\u0639\\u0650\\u0627\\u0652\\u0635\\u064b\\u0645\\u0650 \\u0650\\u0634\\u064e\\u0644\\u0628\\u064b\\u064a \\u0651\\u0631\\u0652\\u0626\\u064a\\u064e\\u0633\\u064e \\u064f\\u0627\\u0652\\u062a\\u0651\\u062d\\u0651\\u0627\\u062f\\u064c\\u064a\\u0652 \\u064c\\u0627\\u0644\\u0646\\u064e\\u0627\\u0634\\u064f\\u0631\\u064a\\u064b\\u0646 \\u0627\\u064e\\u0644\\u0645\\u0635\\u0631\\u064a\\u064a\\u0646\\u0651 \\u064d\\u0648\\u064b\\u0627\\u0644\\u064f\\u0639\\u0631\\u0651\\u0628\\u0651 \\u064f\\u0639\\u0644\\u0649\\u0651 \\u0648\\u0652\\u062c\\u0648\\u064c\\u062f \\u064b\\u0639\\u064f\\u062f\\u0651\\u062f\\u064d \\u0650\\u0645\\u064b\\u0646\\u0650 \\u0650\\u0627\\u0644\\u062a\\u064e\\u062d\\u064c\\u062f\\u064a\\u0652\\u0627\\u0650\\u062a\\u0651 \\u064f\\u0627\\u0644\\u062a\\u064c\\u064a\\u064e \\u062a\\u064b\\u0648\\u064c\\u0627\\u064c\\u062c\\u0651\\u0647 \\u0652\\u0627\\u064e\\u0644\\u0646\\u0634\\u064d\\u0631\\u064c \\u0648\\u064f\\u0627\\u064b\\u0644\\u0651\\u0645\\u0634\\u064f\\u0627\\u0650\\u0643\\u0644 \\u0627\\u0644\\u064e\\u062a\\u064a\\u064e \\u062a\\u064d\\u0624\\u062b\\u0631\\u064e \\u0641\\u064e\\u064a\\u064d \\u0650\\u0627\\u0644\\u062a\\u0623\\u0644\\u064c\\u064a\\u0641 \\u0648\\u064f\\u0627\\u0651\\u0644\\u0625\\u0652\\u0628\\u062f\\u0652\\u0627\\u0639\\u064c\\u061b\\u0651 \\u064d\\u0648\\u0645\\u064d\\u0646\\u0647\\u064f\\u0627\\u064b: \\u0627\\u064c\\u0644\\u064e\\u0645\\u064d\\u0634\\u0643\\u0651\\u0644\\u0627\\u062a \\u0650\\u0627\\u064e\\u0644\\u0627\\u064d\\u0642\\u064e\\u062a\\u0635\\u0651\\u0627\\u064c\\u062f\\u064a\\u0629\\u060c \\u0651\\u0648\\u063a\\u064a\\u0627\\u0650\\u0628\\u0650 \\u064e\\u0625\\u0639\\u0644\\u064d\\u0627\\u064e\\u0645\\u0650 \\u062d\\u0642\\u064a\\u064b\\u0642\\u0652\\u064a\\u064d \\u064c\\u0641\\u064e\\u064a \\u0650\\u0645\\u062c\\u0650\\u0627\\u0644 \\u064b\\u0627\\u0644\\u064b\\u0643\\u062a\\u064b\\u0627\\u064e\\u0628\\u060c\\u064d \\u0648\\u0636\\u064d\\u0639\\u0641 \\u0627\\u0652\\u0644\\u0645\\u064a\\u0650\\u0632\\u0627\\u064b\\u0646\\u064a\\u064e\\u0627\\u062a\\u060c\\u064d \\u0648\\u0627\\u0644\\u062a\\u062c\\u064e\\u0627\\u064e\\u0648\\u064d\\u0632\\u064c\\u0627\\u064b\\u062a \\u0627\\u0652\\u0644\\u064c\\u062a\\u064a \\u064a\\u0645\\u0627\\u0631\\u0633\\u064e\\u0647\\u064c\\u0627\\u064e \\u0628\\u0639\\u0652\\u0636 \\u0627\\u0644\\u064b\\u0646\\u0627\\u064e\\u0634\\u0652\\u0631\\u064a\\u0646\\u060c\\u064e \\u0648\\u0651\\u0646\\u0651\\u0642\\u0651\\u0635\\u0652 \\u064e\\u0627\\u064f\\u0644\\u0652\\u062f\\u0652\\u0631\\u0627\\u0633\\u0651\\u0627\\u064f\\u062a\\u064d \\u064b\\u0627\\u0644\\u064c\\u0639\\u064c\\u0644\\u0645\\u064a\\u064c\\u0629\\u064e \\u064c\\u0641\\u064a \\u0650\\u0645\\u064c\\u062c\\u0627\\u0652\\u0644\\u064d \\u064b\\u0627\\u0644\\u0643\\u064c\\u062a\\u0627\\u0628\\u064c \\u0652\\u0627\\u0644\\u064e\\u0639\\u0631\\u064c\\u0628\\u064e\\u064a\\u064f\\u061b\\u064c \\u0645\\u0652\\u0624\\u0643\\u064f\\u062f\\u064b\\u0627\\u064b\\u064b \\u0650\\u0623\\u0646 \\u064f\\u0643\\u064d\\u0644 \\u0645\\u064c\\u0627 \\u0633\\u0650\\u0628\\u0642\\u0651 \\u0651\\u064a\\u0624\\u062f\\u0652\\u064a \\u064f\\u0625\\u0644\\u0649\\u0652 \\u0636\\u064d\\u0639\\u064b\\u0641\\u064b \\u0627\\u0650\\u0646\\u064e\\u062a\\u0634\\u064b\\u0627\\u0631\\u0650 \\u0627\\u0644\\u0652\\u0643\\u064d\\u062a\\u0627\\u064d\\u0628\\u0651 \\u0627\\u0644\\u0639\\u0631\\u0651\\u0628\\u0650\\u064a .\\u064c\\u0648\\u0623\\u0634\\u0627\\u0650\\u0631 \\u0625\\u064b\\u0644\\u0649 \\u0652\\u0623\\u0646\\u0652\\u0647 \\u064b\\u062c\\u0651\\u0627\\u064b\\u0621 \\u0627\\u064c\\u062e\\u064d\\u062a\\u064d\\u064a\\u0627\\u0631\\u0651 \\u0651\\u0627\\u0644\\u0645\\u062d\\u0627\\u0648\\u0631\\u0650 \\u064e\\u0627\\u0650\\u0644\\u064e\\u062a\\u064a \\u064c\\u064a\\u064b\\u0646\\u0627\\u0642\\u0634\\u0647\\u0627 \\u064c\\u0627\\u0644\\u0645\\u0624\\u062a\\u0645\\u064c\\u0631\\u064f \\u064c\\u0623\\u0645\\u0644\\u0627\\u0651\\u064b\\u064d \\u0641\\u064a\\u0651 \\u0627\\u064c\\u0644\\u0651\\u0648\\u0635\\u064c\\u0648\\u064e\\u0644\\u064c \\u0652\\u0644\\u062a\\u0648\\u064b\\u0635\\u064d\\u064a\\u0627\\u0650\\u062a\\u064f \\u0648\\u0652\\u0645\\u0639\\u0627\\u064d\\u0644\\u064e\\u062c\\u0627\\u062a\\u064b \\u0645\\u064d\\u0646 \\u0652\\u062e\\u0644\\u0627\\u0644 \\u0652\\u0645\\u064c\\u0634\\u0627\\u064e\\u0631\\u0643\\u0627\\u062a\\u0650 \\u0646\\u0651\\u062e\\u0628\\u064c\\u0629 \\u0645\\u0646\\u064c \\u0627\\u0644\\u062e\\u0652\\u0628\\u0631\\u064b\\u0627\\u064b\\u0621\\u0651\\u060c \\u0643\\u064c\\u0645\\u064d\\u0627\\u064c \\u064a\\u0651\\u062a\\u064e\\u0637\\u0644\\u064b\\u0639 \\u0627\\u0651\\u0644\\u0645\\u064c\\u0624\\u062a\\u0645\\u0650\\u0631 \\u0625\\u064c\\u0644\\u0650\\u0649\\u064c \\u0625\\u064d\\u0639\\u0650\\u0627\\u064f\\u062f\\u064b\\u0629 \\u0652\\u0627\\u064b\\u0644\\u062b\\u0652\\u0642\\u0650\\u0629\\u064c \\u064e\\u0628\\u064e\\u064a\\u0646\\u064f \\u0627\\u0652\\u0644\\u0646\\u0652\\u0627\\u0634\\u0631 \\u0651\\u0648\\u0627\\u0644\\u0645\\u064d\\u0624\\u0644\\u064d\\u0641 \\u0648\\u0627\\u0644\\u0652\\u062f\\u0651\\u0648\\u0644\\u0652\\u0629 \\u0651\\u0645\\u0646\\u064b \\u064c\\u0623\\u062c\\u0644\\u0650 \\u0651\\u062e\\u062f\\u0645\\u0652\\u0629 \\u0627\\u064b\\u0644\\u0642\\u064e\\u0627\\u0631\\u064d\\u0626 \\u064d.\\u0645\\u0652\\u0646 \\u062c\\u0652\\u0627\\u0646\\u0628\\u0647\\u064d\\u060c\\u0651 \\u0642\\u064d\\u0627\\u064f\\u0644\\u064e \\u064c\\u0627\\u0644\\u0650\\u062f\\u064f\\u0643\\u064b\\u062a\\u0650\\u0648\\u0650\\u0631\\u064f \\u0625\\u0633\\u064e\\u0645\\u0650\\u0627\\u0639\\u064d\\u064a\\u064b\\u0644\\u064b \\u064b\\u0633\\u0631\\u064d\\u0627\\u062c\\u064c \\u0627\\u0650\\u0644\\u062f\\u064a\\u064d\\u0646\\u064e \\u0645\\u062f\\u0650\\u064a\\u0631 \\u0645\\u064b\\u0643\\u064e\\u062a\\u0628\\u064e\\u0629\\u0651 \\u0627\\u064f\\u0644\\u064b\\u0625\\u064c\\u0633\\u064f\\u0643\\u0650\\u0646\\u064e\\u062f\\u064d\\u0631\\u064a\\u0650\\u0629\\u0651 \\u064e\\u0625\\u0646 \\u0627\\u064e\\u0644\\u0645\\u0650\\u0643\\u064c\\u062a\\u064f\\u0628\\u0629 \\u0645\\u0646\\u0630 \\u0646\\u0634\\u0623\\u0652\\u062a\\u0647\\u0651\\u0627\\u060c \\u0643\\u064f\\u0627\\u0646\\u0652\\u062a\\u064f \\u064e\\u0648\\u0644\\u064b\\u0627 \\u0651\\u062a\\u0651\\u0632\\u0652\\u0627\\u0650\\u0644\\u0651 \\u0651\\u062a\\u064f\\u0639\\u0652\\u0645\\u0644 \\u064b\\u0639\\u0644\\u0649\\u0650 \\u062f\\u0639\\u0645 \\u0627\\u0644\\u0625\\u064d\\u0646\\u0650\\u062a\\u0627\\u064b\\u062c\\u0652 \\u0627\\u0650\\u0644\\u0645\\u0639\\u0652\\u0631\\u064c\\u0641\\u064a\\u0651 \\u064d\\u0648\\u0645\\u064e\\u062d\\u0650\\u0627\\u0631\\u064e\\u0628\\u0629 \\u0627\\u0644\\u064b\\u062a\\u064d\\u062d\\u062f\\u0651\\u064a\\u064d\\u0627\\u062a\\u064e \\u0627\\u0651\\u0644\\u062a\\u0650\\u064a\\u0650 \\u064c\\u062a\\u064e\\u0648\\u0627\\u062c\\u0647 \\u0642\\u064d\\u0637\\u0651\\u0627\\u0639 \\u0627\\u0651\\u0644\\u064e\\u0646\\u0650\\u0634\\u0631\\u0651 \\u0650\\u0641\\u064a\\u064c \\u064f\\u0627\\u0644\\u064e\\u062f\\u064b\\u0648\\u0644\\u0629 \\u0645\\u0646\\u0650 \\u064e\\u062e\\u064b\\u0644\\u0627\\u0644\\u0652 \\u0651\\u0627\\u0644\\u064f\\u0639\\u064c\\u0645\\u0644\\u064d \\u0639\\u0644\\u0651\\u0649\\u064f \\u064d\\u062a\\u064c\\u0639\\u0632\\u064a\\u0632 \\u0627\\u0644\\u064d\\u0648\\u0639\\u064a\\u0651 \\u062d\\u0648\\u0650\\u0644\\u064d \\u064d\\u0623\\u0647\\u0645\\u0651\\u064a\\u0652\\u0629 \\u062d\\u064b\\u0645\\u064f\\u0627\\u064a\\u064f\\u0629\\u0652 \\u0652\\u062d\\u064f\\u0642\\u0648\\u0642 \\u0627\\u064f\\u0644\\u0645\\u0644\\u0643\\u0651\\u064a\\u0629 \\u064e\\u0627\\u064e\\u0644\\u0641\\u0650\\u0643\\u0652\\u0631\\u064f\\u064a\\u064f\\u0629\\u060c \\u064d\\u0648\\u0627\\u064c\\u0644\\u0652\\u0639\\u0645\\u0644\\u0650 \\u0639\\u0644\\u064e\\u0649 \\u0646\\u0634\\u064d\\u0631 \\u0627\\u064c\\u0644\\u0648\\u0639\\u064a \\u064f\\u062d\\u0650\\u0648\\u0644 \\u0623\\u0651\\u0647\\u0645\\u064b\\u064a\\u0629 \\u0627\\u0644\\u0643\\u062a\\u0627\\u0628\\u064c \\u064e\\u0627\\u0652\\u0644\\u0650\\u0645\\u064c\\u0637\\u064c\\u0628\\u0648\\u0652\\u0639\\u0650 \\u0650\\u0648\\u0627\\u064b\\u0644\\u0652\\u0625\\u0644\\u0643\\u064f\\u062a\\u064e\\u0631\\u0648\\u0652\\u0646\\u064a\\u064f \\u0651\\u0648\\u064c\\u062a\\u0651\\u062f\\u0651\\u0639\\u064a\\u0645\\u064f \\u0642\\u0652\\u0637\\u064d\\u0627\\u0652\\u0639\\u0651 \\u0651\\u0627\\u0651\\u0644\\u0646\\u064d\\u0634\\u064b\\u0631\\u064e\\u060c \\u0651\\u0644\\u0650\\u064a\\u064b\\u0643\\u0648\\u0646\\u0651 \\u0642\\u0637\\u0627\\u0639\\u064b\\u0627\\u064b \\u0642\\u0627\\u0652\\u062f\\u0631\\u0627\\u064b\\u0651 \\u0639\\u0651\\u0644\\u0649\\u0652 \\u062a\\u064b\\u0642\\u062f\\u064b\\u064a\\u0645\\u064e \\u064e\\u0627\\u0644\\u0623\\u064f\\u0641\\u0636\\u0651\\u0644\\u0650 \\u0628\\u0627\\u064b\\u0633\\u0652\\u062a\\u064d\\u0645\\u064d\\u0631\\u0627\\u064f\\u0631\\u064f \\u064b.\\u0652\\u0648\\u0623\\u0652\\u0643\\u064b\\u062f\\u064d \\u0627\\u0644\\u0645\\u064e\\u0647\\u0646\\u062f\\u064d\\u0633 \\u0651\\u0625\\u0650\\u0628\\u0631\\u0627\\u0651\\u0647\\u064e\\u064a\\u0645\\u064d \\u064d\\u0627\\u0644\\u0645\\u0639\\u0644\\u0645\\u0650 \\u064b\\u0646\\u0627\\u0650\\u0626\\u064b\\u0628 \\u0631\\u0626\\u0652\\u064a\\u064d\\u0633\\u064d \\u064c\\u0627\\u0651\\u062a\\u062d\\u0651\\u0627\\u064c\\u062f\\u064b \\u0627\\u064f\\u0644\\u0646\\u0652\\u0627\\u064c\\u0634\\u0631\\u0650\\u064a\\u0650\\u0646 \\u0652\\u0627\\u064b\\u0644\\u064d\\u062f\\u064b\\u0648\\u064e\\u0644\\u064a\\u0652 \\u064d\\u0623\\u0646 \\u0627\\u0652\\u0644\\u0652\\u062a\\u0651\\u0632\\u0648\\u0652\\u064a\\u0631 \\u0641\\u064f\\u064a\\u064d \\u062d\\u0650\\u0627\\u0644\\u0629 \\u0627\\u0632\\u062f\\u0647\\u064e\\u0627\\u0631\\u064e \\u0652\\u0641\\u064f\\u064a\\u064c \\u0627\\u064c\\u0644\\u0639\\u064c\\u0627\\u064d\\u0644\\u064b\\u0645 \\u0652\\u0627\\u0644\\u0639\\u0631\\u0628\\u064e\\u064a\\u0650 \\u0652\\u0648\\u062e\\u0627\\u0635\\u0652\\u0629 \\u064b\\u0645\\u0635\\u0631\\u064e\\u060c\\u064f \\u0645\\u0634\\u062f\\u062f\\u0651\\u0627\\u064b \\u064d\\u0639\\u0650\\u0644\\u0649 \\u0652\\u0623\\u0647\\u064e\\u0645\\u064d\\u064a\\u0651\\u0629 \\u064b\\u062d\\u0645\\u0627\\u064a\\u0629\\u064b \\u064d\\u062d\\u064c\\u0642\\u0652\\u0648\\u0650\\u0642\\u064e \\u064e\\u0627\\u064e\\u0644\\u0645\\u0650\\u0644\\u0643\\u064e\\u064a\\u0652\\u0629 \\u0650\\u0627\\u064b\\u0644\\u0641\\u0643\\u0651\\u0631\\u064a\\u064b\\u0629 \\u0648\\u0645\\u062d\\u064d\\u0627\\u064c\\u0631\\u0628\\u0651\\u0629 \\u064e\\u0627\\u0644\\u062a\\u0632\\u0648\\u064b\\u064a\\u064c\\u0631\\u060c \\u0648\\u0630\\u064d\\u0644\\u0650\\u0643\\u0652 \\u0645\\u064f\\u0646\\u064b \\u062e\\u064d\\u0644\\u0627\\u064d\\u0644 \\u064b\\u062a\\u0648\\u0651\\u0639\\u0651\\u064a\\u0650\\u0629\\u064e \\u0627\\u0652\\u0644\\u064f\\u0645\\u064f\\u062c\\u0651\\u062a\\u064c\\u0645\\u0639 \\u0650\\u0628\\u0623\\u0651\\u0647\\u0651\\u0645\\u064a\\u0650\\u0629\\u064d \\u0652\\u0627\\u0644\\u0645\\u0652\\u0644\\u0643\\u064d\\u064a\\u0629 \\u0627\\u0644\\u064b\\u0641\\u0643\\u064b\\u0631\\u064a\\u0652\\u0629\\u064f\\u060c \\u0648\\u0627\\u0644\\u0651\\u062a\\u064c\\u0634\\u062f\\u0650\\u064a\\u0651\\u062f\\u0651 \\u0639\\u0644\\u0650\\u0649 \\u0651\\u0623\\u064c\\u0646\\u0647\\u0627 \\u0623\\u0633\\u0650\\u0627\\u0633\\u064b \\u0652\\u062a\\u0652\\u062d\\u0642\\u064e\\u064a\\u0642\\u0652 \\u0627\\u0644\\u064e\\u062a\\u0642\\u0652\\u062f\\u0645 \\u0648\\u064c\\u0623\\u064e\\u0646\\u0647\\u0627\\u064d \\u0645\\u064b\\u0646 \\u0623\\u064e\\u0647\\u0650\\u0645\\u0650 \\u062d\\u0642\\u064b\\u0648\\u0642\\u064c \\u0651\\u0627\\u0644\\u064e\\u0625\\u0650\\u0646\\u0633\\u064f\\u0627\\u0646\\u064f \\u0650.\\u0651\"\n        ],\n        \"semantic_type\": \"\",\n        \"description\": \"\"\n      }\n    },\n    {\n      \"column\": \"label\",\n      \"properties\": {\n        \"dtype\": \"string\",\n        \"num_unique_values\": 3,\n        \"samples\": [\n          \"Medical\",\n          \"Tech\",\n          \"Culture\"\n        ],\n        \"semantic_type\": \"\",\n        \"description\": \"\"\n      }\n    }\n  ]\n}"
            }
          },
          "metadata": {},
          "execution_count": 7
        }
      ]
    },
    {
      "cell_type": "code",
      "source": [
        "df.shape"
      ],
      "metadata": {
        "colab": {
          "base_uri": "https://localhost:8080/"
        },
        "id": "eUtABGhv9JAE",
        "outputId": "e16dcbd9-4a9b-4ed8-d8e2-18ad5e52c024"
      },
      "execution_count": 8,
      "outputs": [
        {
          "output_type": "execute_result",
          "data": {
            "text/plain": [
              "(39885, 2)"
            ]
          },
          "metadata": {},
          "execution_count": 8
        }
      ]
    },
    {
      "cell_type": "code",
      "source": [
        "df.info()"
      ],
      "metadata": {
        "colab": {
          "base_uri": "https://localhost:8080/"
        },
        "id": "982XkOwo9KcG",
        "outputId": "f18c67c1-5dbf-4cc2-bab8-c11ff09eb50d"
      },
      "execution_count": 9,
      "outputs": [
        {
          "output_type": "stream",
          "name": "stdout",
          "text": [
            "<class 'pandas.core.frame.DataFrame'>\n",
            "RangeIndex: 39885 entries, 0 to 39884\n",
            "Data columns (total 2 columns):\n",
            " #   Column  Non-Null Count  Dtype \n",
            "---  ------  --------------  ----- \n",
            " 0   text    39885 non-null  object\n",
            " 1   label   39885 non-null  object\n",
            "dtypes: object(2)\n",
            "memory usage: 623.3+ KB\n"
          ]
        }
      ]
    },
    {
      "cell_type": "code",
      "source": [
        "df.dtypes"
      ],
      "metadata": {
        "colab": {
          "base_uri": "https://localhost:8080/",
          "height": 146
        },
        "id": "bg2QMyQV9L7r",
        "outputId": "2ecadc1c-570c-472c-d1e1-7a56d14c984e"
      },
      "execution_count": 10,
      "outputs": [
        {
          "output_type": "execute_result",
          "data": {
            "text/plain": [
              "text     object\n",
              "label    object\n",
              "dtype: object"
            ],
            "text/html": [
              "<div>\n",
              "<style scoped>\n",
              "    .dataframe tbody tr th:only-of-type {\n",
              "        vertical-align: middle;\n",
              "    }\n",
              "\n",
              "    .dataframe tbody tr th {\n",
              "        vertical-align: top;\n",
              "    }\n",
              "\n",
              "    .dataframe thead th {\n",
              "        text-align: right;\n",
              "    }\n",
              "</style>\n",
              "<table border=\"1\" class=\"dataframe\">\n",
              "  <thead>\n",
              "    <tr style=\"text-align: right;\">\n",
              "      <th></th>\n",
              "      <th>0</th>\n",
              "    </tr>\n",
              "  </thead>\n",
              "  <tbody>\n",
              "    <tr>\n",
              "      <th>text</th>\n",
              "      <td>object</td>\n",
              "    </tr>\n",
              "    <tr>\n",
              "      <th>label</th>\n",
              "      <td>object</td>\n",
              "    </tr>\n",
              "  </tbody>\n",
              "</table>\n",
              "</div><br><label><b>dtype:</b> object</label>"
            ]
          },
          "metadata": {},
          "execution_count": 10
        }
      ]
    },
    {
      "cell_type": "markdown",
      "source": [
        "**- Check for Missing Values**"
      ],
      "metadata": {
        "id": "7vgV7Rly9zR4"
      }
    },
    {
      "cell_type": "code",
      "source": [
        "df.isnull().sum()"
      ],
      "metadata": {
        "colab": {
          "base_uri": "https://localhost:8080/",
          "height": 146
        },
        "id": "tp7w3W8q9dmr",
        "outputId": "b17a5e29-f896-447d-ccba-18e87db59053"
      },
      "execution_count": 11,
      "outputs": [
        {
          "output_type": "execute_result",
          "data": {
            "text/plain": [
              "text     0\n",
              "label    0\n",
              "dtype: int64"
            ],
            "text/html": [
              "<div>\n",
              "<style scoped>\n",
              "    .dataframe tbody tr th:only-of-type {\n",
              "        vertical-align: middle;\n",
              "    }\n",
              "\n",
              "    .dataframe tbody tr th {\n",
              "        vertical-align: top;\n",
              "    }\n",
              "\n",
              "    .dataframe thead th {\n",
              "        text-align: right;\n",
              "    }\n",
              "</style>\n",
              "<table border=\"1\" class=\"dataframe\">\n",
              "  <thead>\n",
              "    <tr style=\"text-align: right;\">\n",
              "      <th></th>\n",
              "      <th>0</th>\n",
              "    </tr>\n",
              "  </thead>\n",
              "  <tbody>\n",
              "    <tr>\n",
              "      <th>text</th>\n",
              "      <td>0</td>\n",
              "    </tr>\n",
              "    <tr>\n",
              "      <th>label</th>\n",
              "      <td>0</td>\n",
              "    </tr>\n",
              "  </tbody>\n",
              "</table>\n",
              "</div><br><label><b>dtype:</b> int64</label>"
            ]
          },
          "metadata": {},
          "execution_count": 11
        }
      ]
    },
    {
      "cell_type": "markdown",
      "source": [
        "so No missing values"
      ],
      "metadata": {
        "id": "881kYXnN9hQu"
      }
    },
    {
      "cell_type": "markdown",
      "source": [
        "**- Distribution of Labels**"
      ],
      "metadata": {
        "id": "tQ1YHxlO925n"
      }
    },
    {
      "cell_type": "code",
      "source": [
        "sns.histplot(df['label'])"
      ],
      "metadata": {
        "colab": {
          "base_uri": "https://localhost:8080/",
          "height": 466
        },
        "id": "Lbspb3Fj_2dS",
        "outputId": "5defe667-ec28-4caa-e569-b75b513f0602"
      },
      "execution_count": 12,
      "outputs": [
        {
          "output_type": "execute_result",
          "data": {
            "text/plain": [
              "<Axes: xlabel='label', ylabel='Count'>"
            ]
          },
          "metadata": {},
          "execution_count": 12
        },
        {
          "output_type": "display_data",
          "data": {
            "text/plain": [
              "<Figure size 640x480 with 1 Axes>"
            ],
            "image/png": "[encoded data removed]"
          },
          "metadata": {}
        }
      ]
    },
    {
      "cell_type": "markdown",
      "source": [
        "**- Text Data Characteristics (Bonus)**"
      ],
      "metadata": {
        "id": "wkB-ReVb985R"
      }
    },
    {
      "cell_type": "code",
      "source": [
        "max_length = df['text'].str.len().max()\n",
        "print(max_length)"
      ],
      "metadata": {
        "colab": {
          "base_uri": "https://localhost:8080/"
        },
        "id": "dnrgcFcvWWos",
        "outputId": "21e43d6b-74ea-4eb9-fecd-d10b7ab4bf0e"
      },
      "execution_count": 13,
      "outputs": [
        {
          "output_type": "stream",
          "name": "stdout",
          "text": [
            "7624\n"
          ]
        }
      ]
    },
    {
      "cell_type": "code",
      "source": [
        "max_length = 300\n",
        "min_length = 10\n",
        "\n",
        "df = df[df['text'].str.split().str.len().between(min_length, max_length)]"
      ],
      "metadata": {
        "id": "SrE8X1Ta-D9H"
      },
      "execution_count": 16,
      "outputs": []
    },
    {
      "cell_type": "code",
      "source": [
        "df.shape"
      ],
      "metadata": {
        "colab": {
          "base_uri": "https://localhost:8080/"
        },
        "id": "xVyWWw9I_AKa",
        "outputId": "25bcca64-c178-4ef7-ce25-f1f817ca2ef0"
      },
      "execution_count": 17,
      "outputs": [
        {
          "output_type": "execute_result",
          "data": {
            "text/plain": [
              "(25541, 2)"
            ]
          },
          "metadata": {},
          "execution_count": 17
        }
      ]
    },
    {
      "cell_type": "code",
      "source": [
        "df.head()"
      ],
      "metadata": {
        "colab": {
          "base_uri": "https://localhost:8080/",
          "height": 206
        },
        "id": "agMYVyndAFG3",
        "outputId": "c36fe16f-69b2-4a2a-fdcf-b19d86a5cc7b"
      },
      "execution_count": 19,
      "outputs": [
        {
          "output_type": "execute_result",
          "data": {
            "text/plain": [
              "                                                 text    label\n",
              "2   https://example.com/resource/أُقيًمٌتِ مِساءُ ...  Culture\n",
              "4   https://example.com/resource/قُرر اَتحِاد اًلْ...  Culture\n",
              "7   https://example.com/resource/توفٌي َأمس ِاَلُأ...  Culture\n",
              "8   https://example.com/resource/نظم ْمَرٍكزْ َاِل...  Culture\n",
              "14  https://example.com/resource/بّحٌسبَ ِطبيعّة ُ...  Culture"
            ],
            "text/html": [
              "\n",
              "  <div id=\"df-e0bd55fa-2891-4833-acea-49961ff07abe\" class=\"colab-df-container\">\n",
              "    <div>\n",
              "<style scoped>\n",
              "    .dataframe tbody tr th:only-of-type {\n",
              "        vertical-align: middle;\n",
              "    }\n",
              "\n",
              "    .dataframe tbody tr th {\n",
              "        vertical-align: top;\n",
              "    }\n",
              "\n",
              "    .dataframe thead th {\n",
              "        text-align: right;\n",
              "    }\n",
              "</style>\n",
              "<table border=\"1\" class=\"dataframe\">\n",
              "  <thead>\n",
              "    <tr style=\"text-align: right;\">\n",
              "      <th></th>\n",
              "      <th>text</th>\n",
              "      <th>label</th>\n",
              "    </tr>\n",
              "  </thead>\n",
              "  <tbody>\n",
              "    <tr>\n",
              "      <th>2</th>\n",
              "      <td>https://example.com/resource/أُقيًمٌتِ مِساءُ ...</td>\n",
              "      <td>Culture</td>\n",
              "    </tr>\n",
              "    <tr>\n",
              "      <th>4</th>\n",
              "      <td>https://example.com/resource/قُرر اَتحِاد اًلْ...</td>\n",
              "      <td>Culture</td>\n",
              "    </tr>\n",
              "    <tr>\n",
              "      <th>7</th>\n",
              "      <td>https://example.com/resource/توفٌي َأمس ِاَلُأ...</td>\n",
              "      <td>Culture</td>\n",
              "    </tr>\n",
              "    <tr>\n",
              "      <th>8</th>\n",
              "      <td>https://example.com/resource/نظم ْمَرٍكزْ َاِل...</td>\n",
              "      <td>Culture</td>\n",
              "    </tr>\n",
              "    <tr>\n",
              "      <th>14</th>\n",
              "      <td>https://example.com/resource/بّحٌسبَ ِطبيعّة ُ...</td>\n",
              "      <td>Culture</td>\n",
              "    </tr>\n",
              "  </tbody>\n",
              "</table>\n",
              "</div>\n",
              "    <div class=\"colab-df-buttons\">\n",
              "\n",
              "  <div class=\"colab-df-container\">\n",
              "    <button class=\"colab-df-convert\" onclick=\"convertToInteractive('df-e0bd55fa-2891-4833-acea-49961ff07abe')\"\n",
              "            title=\"Convert this dataframe to an interactive table.\"\n",
              "            style=\"display:none;\">\n",
              "\n",
              "  <svg xmlns=\"http://www.w3.org/2000/svg\" height=\"24px\" viewBox=\"0 -960 960 960\">\n",
              "    <path d=\"M120-120v-720h720v720H120Zm60-500h600v-160H180v160Zm220 220h160v-160H400v160Zm0 220h160v-160H400v160ZM180-400h160v-160H180v160Zm440 0h160v-160H620v160ZM180-180h160v-160H180v160Zm440 0h160v-160H620v160Z\"/>\n",
              "  </svg>\n",
              "    </button>\n",
              "\n",
              "  <style>\n",
              "    .colab-df-container {\n",
              "      display:flex;\n",
              "      gap: 12px;\n",
              "    }\n",
              "\n",
              "    .colab-df-convert {\n",
              "      background-color: #E8F0FE;\n",
              "      border: none;\n",
              "      border-radius: 50%;\n",
              "      cursor: pointer;\n",
              "      display: none;\n",
              "      fill: #1967D2;\n",
              "      height: 32px;\n",
              "      padding: 0 0 0 0;\n",
              "      width: 32px;\n",
              "    }\n",
              "\n",
              "    .colab-df-convert:hover {\n",
              "      background-color: #E2EBFA;\n",
              "      box-shadow: 0px 1px 2px rgba(60, 64, 67, 0.3), 0px 1px 3px 1px rgba(60, 64, 67, 0.15);\n",
              "      fill: #174EA6;\n",
              "    }\n",
              "\n",
              "    .colab-df-buttons div {\n",
              "      margin-bottom: 4px;\n",
              "    }\n",
              "\n",
              "    [theme=dark] .colab-df-convert {\n",
              "      background-color: #3B4455;\n",
              "      fill: #D2E3FC;\n",
              "    }\n",
              "\n",
              "    [theme=dark] .colab-df-convert:hover {\n",
              "      background-color: #434B5C;\n",
              "      box-shadow: 0px 1px 3px 1px rgba(0, 0, 0, 0.15);\n",
              "      filter: drop-shadow(0px 1px 2px rgba(0, 0, 0, 0.3));\n",
              "      fill: #FFFFFF;\n",
              "    }\n",
              "  </style>\n",
              "\n",
              "    <script>\n",
              "      const buttonEl =\n",
              "        document.querySelector('#df-e0bd55fa-2891-4833-acea-49961ff07abe button.colab-df-convert');\n",
              "      buttonEl.style.display =\n",
              "        google.colab.kernel.accessAllowed ? 'block' : 'none';\n",
              "\n",
              "      async function convertToInteractive(key) {\n",
              "        const element = document.querySelector('#df-e0bd55fa-2891-4833-acea-49961ff07abe');\n",
              "        const dataTable =\n",
              "          await google.colab.kernel.invokeFunction('convertToInteractive',\n",
              "                                                    [key], {});\n",
              "        if (!dataTable) return;\n",
              "\n",
              "        const docLinkHtml = 'Like what you see? Visit the ' +\n",
              "          '<a target=\"_blank\" href=https://colab.research.google.com/notebooks/data_table.ipynb>data table notebook</a>'\n",
              "          + ' to learn more about interactive tables.';\n",
              "        element.innerHTML = '';\n",
              "        dataTable['output_type'] = 'display_data';\n",
              "        await google.colab.output.renderOutput(dataTable, element);\n",
              "        const docLink = document.createElement('div');\n",
              "        docLink.innerHTML = docLinkHtml;\n",
              "        element.appendChild(docLink);\n",
              "      }\n",
              "    </script>\n",
              "  </div>\n",
              "\n",
              "\n",
              "<div id=\"df-d2ceb19a-6eed-418c-a427-8f38ce06fdbc\">\n",
              "  <button class=\"colab-df-quickchart\" onclick=\"quickchart('df-d2ceb19a-6eed-418c-a427-8f38ce06fdbc')\"\n",
              "            title=\"Suggest charts\"\n",
              "            style=\"display:none;\">\n",
              "\n",
              "<svg xmlns=\"http://www.w3.org/2000/svg\" height=\"24px\"viewBox=\"0 0 24 24\"\n",
              "     width=\"24px\">\n",
              "    <g>\n",
              "        <path d=\"M19 3H5c-1.1 0-2 .9-2 2v14c0 1.1.9 2 2 2h14c1.1 0 2-.9 2-2V5c0-1.1-.9-2-2-2zM9 17H7v-7h2v7zm4 0h-2V7h2v10zm4 0h-2v-4h2v4z\"/>\n",
              "    </g>\n",
              "</svg>\n",
              "  </button>\n",
              "\n",
              "<style>\n",
              "  .colab-df-quickchart {\n",
              "      --bg-color: #E8F0FE;\n",
              "      --fill-color: #1967D2;\n",
              "      --hover-bg-color: #E2EBFA;\n",
              "      --hover-fill-color: #174EA6;\n",
              "      --disabled-fill-color: #AAA;\n",
              "      --disabled-bg-color: #DDD;\n",
              "  }\n",
              "\n",
              "  [theme=dark] .colab-df-quickchart {\n",
              "      --bg-color: #3B4455;\n",
              "      --fill-color: #D2E3FC;\n",
              "      --hover-bg-color: #434B5C;\n",
              "      --hover-fill-color: #FFFFFF;\n",
              "      --disabled-bg-color: #3B4455;\n",
              "      --disabled-fill-color: #666;\n",
              "  }\n",
              "\n",
              "  .colab-df-quickchart {\n",
              "    background-color: var(--bg-color);\n",
              "    border: none;\n",
              "    border-radius: 50%;\n",
              "    cursor: pointer;\n",
              "    display: none;\n",
              "    fill: var(--fill-color);\n",
              "    height: 32px;\n",
              "    padding: 0;\n",
              "    width: 32px;\n",
              "  }\n",
              "\n",
              "  .colab-df-quickchart:hover {\n",
              "    background-color: var(--hover-bg-color);\n",
              "    box-shadow: 0 1px 2px rgba(60, 64, 67, 0.3), 0 1px 3px 1px rgba(60, 64, 67, 0.15);\n",
              "    fill: var(--button-hover-fill-color);\n",
              "  }\n",
              "\n",
              "  .colab-df-quickchart-complete:disabled,\n",
              "  .colab-df-quickchart-complete:disabled:hover {\n",
              "    background-color: var(--disabled-bg-color);\n",
              "    fill: var(--disabled-fill-color);\n",
              "    box-shadow: none;\n",
              "  }\n",
              "\n",
              "  .colab-df-spinner {\n",
              "    border: 2px solid var(--fill-color);\n",
              "    border-color: transparent;\n",
              "    border-bottom-color: var(--fill-color);\n",
              "    animation:\n",
              "      spin 1s steps(1) infinite;\n",
              "  }\n",
              "\n",
              "  @keyframes spin {\n",
              "    0% {\n",
              "      border-color: transparent;\n",
              "      border-bottom-color: var(--fill-color);\n",
              "      border-left-color: var(--fill-color);\n",
              "    }\n",
              "    20% {\n",
              "      border-color: transparent;\n",
              "      border-left-color: var(--fill-color);\n",
              "      border-top-color: var(--fill-color);\n",
              "    }\n",
              "    30% {\n",
              "      border-color: transparent;\n",
              "      border-left-color: var(--fill-color);\n",
              "      border-top-color: var(--fill-color);\n",
              "      border-right-color: var(--fill-color);\n",
              "    }\n",
              "    40% {\n",
              "      border-color: transparent;\n",
              "      border-right-color: var(--fill-color);\n",
              "      border-top-color: var(--fill-color);\n",
              "    }\n",
              "    60% {\n",
              "      border-color: transparent;\n",
              "      border-right-color: var(--fill-color);\n",
              "    }\n",
              "    80% {\n",
              "      border-color: transparent;\n",
              "      border-right-color: var(--fill-color);\n",
              "      border-bottom-color: var(--fill-color);\n",
              "    }\n",
              "    90% {\n",
              "      border-color: transparent;\n",
              "      border-bottom-color: var(--fill-color);\n",
              "    }\n",
              "  }\n",
              "</style>\n",
              "\n",
              "  <script>\n",
              "    async function quickchart(key) {\n",
              "      const quickchartButtonEl =\n",
              "        document.querySelector('#' + key + ' button');\n",
              "      quickchartButtonEl.disabled = true;  // To prevent multiple clicks.\n",
              "      quickchartButtonEl.classList.add('colab-df-spinner');\n",
              "      try {\n",
              "        const charts = await google.colab.kernel.invokeFunction(\n",
              "            'suggestCharts', [key], {});\n",
              "      } catch (error) {\n",
              "        console.error('Error during call to suggestCharts:', error);\n",
              "      }\n",
              "      quickchartButtonEl.classList.remove('colab-df-spinner');\n",
              "      quickchartButtonEl.classList.add('colab-df-quickchart-complete');\n",
              "    }\n",
              "    (() => {\n",
              "      let quickchartButtonEl =\n",
              "        document.querySelector('#df-d2ceb19a-6eed-418c-a427-8f38ce06fdbc button');\n",
              "      quickchartButtonEl.style.display =\n",
              "        google.colab.kernel.accessAllowed ? 'block' : 'none';\n",
              "    })();\n",
              "  </script>\n",
              "</div>\n",
              "\n",
              "    </div>\n",
              "  </div>\n"
            ],
            "application/vnd.google.colaboratory.intrinsic+json": {
              "type": "dataframe",
              "variable_name": "df",
              "summary": "{\n  \"name\": \"df\",\n  \"rows\": 25541,\n  \"fields\": [\n    {\n      \"column\": \"text\",\n      \"properties\": {\n        \"dtype\": \"string\",\n        \"num_unique_values\": 25541,\n        \"samples\": [\n          \"https://example.com/resource/\\u0645\\u0646 \\u0634\\u0639\\u0631: \\u0650\\u0647\\u0627\\u0631\\u0648\\u0646\\u064b \\u0652\\u0647\\u0651\\u0627\\u064b\\u0634\\u0645 \\u064b\\u0631\\u0650\\u0634\\u064a\\u062f\\u064b\\u0623\\u062c\\u0644\\u064e \\u0625\\u0652\\u0646\\u064a\\u0651 \\u0651\\u0645\\u064b\\u0646\\u064f \\u0650\\u0627\\u0650\\u0644\\u064d\\u0642\\u062f\\u064b\\u0633\\u0648\\u0641\\u064a\\u0647\\u0627\\u064c \\u0651\\u0642\\u0651\\u062f\\u0652 \\u0646\\u0645\\u0627 \\u0650\\u063a\\u0650\\u0631\\u064f\\u0633\\u064a\\u0651\\u062c\\u0630\\u064e\\u0648\\u0631\\u064a\\u0652 \\u064c\\u0641\\u064a\\u064f \\u0652\\u0639\\u064f\\u0631\\u0650\\u0648\\u0652\\u0642 \\u064b\\u0627\\u064c\\u0644\\u0635\\u062e\\u0631\\u064f\\u0641\\u0651\\u064a\\u064d \\u0627\\u0644\\u0635\\u0651\\u0644\\u064f\\u062f\\u060c \\u064e\\u0648\\u064d\\u0641\\u064a \\u064e\\u0627\\u064f\\u0644\\u0652\\u0645\\u0644\\u0633\\u064c\\u0648\\u064f\\u0645\\u0652\\u0646 \\u0643\\u0646\\u064b\\u0639\\u0627\\u0646 \\u0628\\u064a\\u064d \\u0646\\u0628\\u0650\\u0636\\u0648\\u0645\\u0646\\u064d \\u0639\\u0650\\u062f\\u0646\\u0627\\u0646\\u0650\\u060c \\u0650\\u0645\\u064f\\u0646\\u0651 \\u064d\\u0642\\u064d\\u064a\\u064e\\u0633\\u0651\\u0645\\u0646 \\u0627\\u064c\\u0644\\u064f\\u0645\\u064f\\u0627\\u0652\\u0636\\u064b\\u064a\\u0651\\u060c \\u0645\\u0646\\u064e \\u0627\\u0644\\u062d\\u0627\\u0636\\u0631\\u064c\\u0645\\u064e\\u0646 \\u064a\\u0648\\u064c\\u0645\\u064a\\u060c \\u0648\\u0645\\u0646 \\u064d\\u0623\\u064d\\u0645\\u064f\\u0633\\u0651\\u064a\\u0639\\u0631\\u064a\\u0642 \\u0627\\u0650\\u0644\\u0650\\u0645\\u0650\\u062c\\u064b\\u062f \\u064f\\u0648\\u0627\\u0644\\u0650\\u0623\\u0646\\u0633\\u0627\\u064c\\u0628\\u064e\\u0645\\u0634\\u062f\\u0648\\u064d\\u062f\\u064b \\u0625\\u064e\\u0644\\u064f\\u0649\\u064f \\u0650\\u0627\\u0644\\u0634\\u0645\\u0633\\u064f\\u0628\\u064d\\u0647\\u064c\\u0627 \\u064b\\u0623\\u062e\\u062a\\u064e\\u0627\\u064c\\u0644\\u064e \\u064d\\u0641\\u064c\\u064a\\u064f \\u0627\\u0644\\u0650\\u062f\\u0646\\u064b\\u064a\\u0627\\u064c\\u0648\\u064e\\u0623\\u064c\\u0645\\u0650\\u0634\\u064a \\u0651\\u0631\\u0627\\u064f\\u0641\\u0639 \\u0627\\u0644\\u0652\\u0631\\u0651\\u0623\\u064b\\u0633\\u0623\\u0646\\u0627\\u0650 \\u0623\\u0639\\u0637\\u064a\\u064f\\u062a\\u064f\\u0647\\u0652\\u0627 \\u0650\\u0639\\u064f\\u0645\\u0631\\u064e\\u064a\\u0641\\u062f\\u064f\\u0627\\u064b\\u064b\\u064d\\u060c \\u0623\\u0633\\u0643\\u064b\\u0646\\u0651\\u062a\\u0647\\u0627 \\u062d\\u0633\\u0652\\u064a\\u0651\\u0623\\u0646\\u064f\\u0627\\u0650 \\u064f\\u063a\\u064e\\u0646\\u064a\\u062a\\u0647\\u0627 \\u0634\\u0639\\u064b\\u0631\\u0627\\u064b\\u064b\\u0631\\u064b\\u0641\\u064a\\u064b\\u0639\\u064b \\u064e\\u0627\\u0644\\u0648\\u064e\\u0642\\u0639\\u064d \\u0648\\u0652\\u0627\\u0644\\u062c\\u0631\\u064b\\u0633\\u064e\\u0623\\u064c\\u0646\\u0627\\u064f \\u0645\\u0646\\u064e\\u0647\\u0651\\u0627\\u0652 \\u0648\\u0650\\u0625\\u064c\\u0646\\u064b \\u0651\\u063a\\u0631\\u0642\\u064c\\u062a\\u0628\\u0628\\u0652\\u062d\\u064c\\u0631 \\u0652\\u0627\\u0651\\u0644\\u064f\\u0647\\u064b\\u0645\\u0651 \\u064e\\u0648\\u064f\\u0627\\u0644\\u0628\\u0650\\u0624\\u0650\\u0633\\u064b\\u0623\\u064c\\u0646\\u0627\\u064f \\u064f\\u0645\\u064c\\u0646\\u0647\\u064f\\u0627 \\u0648\\u0650\\u0625\\u0646\\u064c \\u062d\\u0651\\u0637\\u0651\\u062a\\u064e\\u0639\\u0644\\u064a\\u0647\\u0627 \\u0631\\u0627\\u0651\\u064a\\u0629\\u0652 \\u0651\\u0627\\u0650\\u0644\\u0651\\u0628\\u064b\\u0624\\u064d\\u0633\",\n          \"https://example.com/resource/\\u0627\\u064e\\u0646\\u0637\\u0644\\u0642\\u062a\\u064b \\u0652\\u0623\\u064d\\u0645\\u0633\\u064c \\u0639\\u0645\\u0644\\u0650\\u064a\\u0627\\u062a \\u0627\\u0644\\u0652\\u062a\\u064e\\u0635\\u0648\\u0651\\u064a\\u062a \\u0641\\u064a\\u064d \\u064f\\u0627\\u064d\\u0644\\u0627\\u0633\\u062a\\u0652\\u0641\\u0650\\u062a\\u0627\\u0621 \\u064d\\u0627\\u064d\\u0644\\u0625\\u064d\\u062f\\u0627\\u0651\\u0631\\u064a\\u0650 \\u062d\\u0651\\u0648\\u0644 \\u064d\\u0648\\u0636\\u064b\\u0639\\u064a\\u0629 \\u0625\\u0642\\u0644\\u064a\\u0645 \\u062f\\u0627\\u0631\\u0641\\u0648\\u064c\\u0631 \\u064f\\u0627\\u0644\\u064c\\u0645\\u064e\\u0636\\u0651\\u0637\\u0631\\u064d\\u0628\\u064f \\u0651\\u0641\\u064e\\u064a\\u0650 \\u063a\\u0631\\u0628\\u064b\\u064a\\u064b \\u0627\\u064b\\u0644\\u0633\\u0651\\u0648\\u064d\\u062f\\u0627\\u0651\\u0646\\u060c\\u064c \\u0639\\u064f\\u0644\\u0651\\u0649 \\u0627\\u064f\\u0644\\u064b\\u0631\\u063a\\u0651\\u0645 \\u064f\\u0645\\u0646 \\u0627\\u0646\\u062a\\u0642\\u0652\\u0627\\u064d\\u062f\\u0627\\u062a \\u0627\\u0644\\u0651\\u0623\\u0633\\u0631\\u064b\\u0629\\u0652 \\u064e\\u0627\\u064f\\u0644\\u062f\\u0648\\u0644\\u064d\\u064a\\u0629\\u0652 \\u0651\\u0648\\u0645\\u064e\\u0642\\u0627\\u0637\\u064e\\u0639\\u0652\\u0629 \\u0627\\u064f\\u0644\\u0645\\u064d\\u0639\\u0627\\u064d\\u0631\\u0636\\u064c\\u0629.\\u064e\\u0648\\u064c\\u0628\\u0652\\u062f\\u0623\\u064c\\u062a\\u0651 \\u064d\\u0639\\u0652\\u0645\\u0644\\u064a\\u0627\\u062a\\u0650 \\u0627\\u0651\\u0644\\u062a\\u0652\\u0635\\u064f\\u0648\\u064b\\u064a\\u062a \\u0651\\u0639\\u0650\\u0646\\u0652\\u062f\\u064f \\u0627\\u064e\\u0644\\u064f\\u0633\\u064c\\u0627\\u064f\\u0639\\u064c\\u0629 \\u0627\\u0644\\u062a\\u0627\\u0652\\u0633\\u0639\\u0629\\u064b \\u0635\\u064e\\u0628\\u0627\\u062d\\u064c \\u0623\\u0645\\u0651\\u0633\\u0651\\u060c\\u0652 \\u0651\\u0645\\u064d\\u0633\\u0652\\u062a\\u064e\\u0645\\u064b\\u0631\\u064e\\u0629\\u0650 \\u0644\\u0643\\u064f\\u0646\\u064b \\u0628\\u0648\\u062a\\u064e\\u064a\\u0631\\u0652\\u0629 \\u0650\\u0628\\u064f\\u0637\\u064c\\u064a\\u0626\\u0629 \\u0650\\u0641\\u064c\\u064a\\u064b \\u0650\\u0645\\u0652\\u0631\\u0627\\u064d\\u0643\\u064b\\u0632 \\u0627\\u0644\\u0651\\u062a\\u0635\\u0648\\u064a\\u062a\\u064f \\u0627\\u064e\\u0644\\u064b\\u062a\\u064b\\u064a \\u064a\\u062d\\u0651\\u0631\\u0633\\u0647\\u064f\\u0627\\u064b \\u0651\\u0639\\u064f\\u0646\\u0650\\u0627\\u0635\\u0631 \\u0651\\u0634\\u0631\\u0637\\u064b\\u0629\\u064d \\u0648\\u0639\\u0644\\u064c\\u0642\\u062a \\u064b\\u0639\\u0651\\u0644\\u064a\\u0647\\u0627 \\u0652\\u0644\\u0627\\u0641\\u064e\\u062a\\u0627\\u062a \\u064c\\u062a\\u062f\\u0639\\u0648\\u0651 \\u064d\\u0625\\u064f\\u0644\\u064c\\u0649 \\u0627\\u0644\\u0627\\u0651\\u0642\\u062a\\u064e\\u0631\\u0651\\u0627\\u0650\\u0639\\u064c \\u064c\\u0628\\u0643\\u062b\\u064e\\u0627\\u064d\\u0641\\u0651\\u0629.\\u064f\\u0648\\u0650\\u0641\\u064a \\u0645\\u0652\\u0631\\u064d\\u0627\\u0643\\u0632 \\u0627\\u064b\\u0644\\u0650\\u062a\\u0635\\u0648\\u064a\\u064b\\u062a\\u0652 \\u0644\\u0645\\u064e \\u064d\\u064a\\u0623\\u064c\\u062a\\u064f \\u0633\\u0648\\u064f\\u0649 \\u064c\\u0639\\u062f\\u0651\\u062f \\u0650\\u0642\\u0644\\u064d\\u064a\\u0650\\u0644\\u064b \\u0645\\u0646 \\u0627\\u0644\\u0646\\u0627\\u062e\\u064d\\u0628\\u064a\\u064d\\u0646\\u0651 \\u0644\\u064f\\u0644\\u064e\\u062a\\u0635\\u0648\\u0651\\u064a\\u062a\\u0651.\\u064b\\u0645\\u0646\\u064f \\u0651\\u062c\\u0647\\u064c\\u062a\\u0652\\u0647\\u064e \\u0650\\u062f\\u0652\\u0639\\u0627 \\u0623\\u064e\\u062d\\u0645\\u0652\\u062f\\u064c \\u064c\\u0628\\u0650\\u0646 \\u064d\\u0645\\u0650\\u062d\\u064b\\u0645\\u064b\\u062f \\u0627\\u0644\\u062c\\u0631\\u0648\\u064e\\u0627\\u0646\\u0650 \\u064b\\u0631\\u0626\\u064a\\u0633\\u064f \\u0627\\u064e\\u0644\\u0628\\u0650\\u0631\\u0650\\u0644\\u064d\\u0645\\u064d\\u0627\\u0646 \\u0627\\u0652\\u0644\\u0639\\u0631\\u0652\\u0628\\u064a\\u0652 \\u064b\\u0627\\u064d\\u0644\\u064e\\u0634\\u064b\\u0639\\u064e\\u0628 \\u0627\\u0644\\u0633\\u0648\\u062f\\u0650\\u0627\\u0646\\u064a\\u064b \\u064e\\u0628\\u0643\\u064e\\u0644 \\u0645\\u064d\\u0643\\u064f\\u0648\\u0646\\u0650\\u0627\\u064b\\u062a\\u0647 \\u064c\\u0625\\u0650\\u0644\\u0652\\u0649\\u064d \\u064b\\u0623\\u0646\\u064d \\u064a\\u064b\\u0638\\u0644\\u064b \\u0648\\u062d\\u062f\\u0629 \\u0650\\u0648\\u0652\\u0627\\u062d\\u064e\\u062f\\u0629. \\u0651(\\u064c\\u0648\\u0650\\u0643\\u0627\\u0644\\u0650\\u0627\\u0652\\u062a\\u064e)\\u0650\",\n          \"https://example.com/resource/\\u062f\\u064e\\u0628\\u064a \\\"\\u0627\\u0644\\u062e\\u0644\\u064f\\u064a\\u062c\\\"\\u064b:\\u0650\\u0634\\u0647\\u062f\\u064e \\u0633\\u064c\\u0648\\u064d\\u0642 \\u064c\\u062f\\u0628\\u064a\\u064b \\u0650\\u0627\\u064d\\u0644\\u0645\\u0627\\u0650\\u0644\\u064c\\u064a \\u0650\\u062a\\u064e\\u062f\\u0627\\u0648\\u064f\\u0644\\u0627\\u064e\\u062a \\u0628\\u0642\\u064f\\u064a\\u064c\\u0645\\u0652\\u0629\\u064f 42\\u064c0\\u064e \\u064c.1\\u0650 \\u0650\\u0645\\u064b\\u0644\\u064a\\u0627\\u0652\\u0631 \\u062f\\u064c\\u0631\\u0647\\u0645\\u064e \\u0628\\u062a\\u0652\\u0646\\u0650\\u0641\\u0652\\u064a\\u0630 9\\u060c\\u064f2\\u064b2\\u064d8\\u064b \\u0651\\u0635\\u0641\\u0642\\u0629 \\u062a\\u0648\\u0632\\u0639\\u062a\\u064b \\u0639\\u0644\\u0652\\u0649\\u0651 38\\u064b0 .\\u06518\\u064d0\\u06502 \\u064f\\u0645\\u0644\\u064a\\u064e\\u0648\\u0650\\u0646\\u064e \\u0633\\u064e\\u0647\\u064f\\u0645\\u060c \\u0650\\u0648\\u0652\\u0623\\u064d\\u063a\\u064f\\u0644\\u064c\\u0642\\u0650 \\u0627\\u064c\\u0644\\u0645\\u0624\\u0634\\u064e\\u0631 \\u064e\\u0639\\u0652\\u0644\\u064c\\u0649\\u0650 \\u064d8\\u06514\\u064c0 \\u0652.\\u064e3\\u060c\\u064f77\\u064d2\\u0652 \\u064e\\u0646\\u0642\\u064e\\u0637\\u0650\\u0629 \\u0628\\u0650\\u0625\\u0651\\u0631\\u062a\\u0641\\u0627\\u064e\\u0639\\u0650 \\u0648\\u0642\\u062f\\u064f\\u0631\\u0647 41\\u064e0\\u0652 \\u0651.18\\u064c \\u064e\\u0646\\u0651\\u0642\\u0637\\u0651\\u0629\\u0650 \\u0639\\u064b\\u0646\\u064d \\u0625\\u0652\\u063a\\u064c\\u0644\\u0627\\u064d\\u0642\\u0647 \\u0627\\u0650\\u0644\\u064b\\u0633\\u064c\\u0627\\u0628\\u0651\\u0642\\u064d .\\u0648\\u064d\\u0645\\u0652\\u0646 \\u0623\\u0643\\u062b\\u0631\\u0650 \\u064f\\u0627\\u064b\\u0644\\u064d\\u0634\\u0631\\u0643\\u0627\\u064d\\u062a\\u064b \\u0627\\u0651\\u0631\\u064c\\u062a\\u064e\\u0641\\u0650\\u0627\\u0639\\u0627\\u0650\\u064b \\u064b\\u0645\\u0651\\u0646\\u0651 \\u064e\\u062d\\u064a\\u064d\\u062b\\u0650 \\u0652\\u0627\\u064d\\u0644\\u062a\\u064d\\u063a\\u064c\\u064a\\u064d\\u0631 \\u064c\\u0641\\u064e\\u064a\\u064b \\u0652\\u0623\\u0633\\u0651\\u0639\\u0650\\u0627\\u064e\\u0631\\u0647\\u064f\\u0627: \\u0627\\u062c\\u064f\\u064a\\u064f\\u0644\\u064a\\u062a\\u064a \\u0628\\u0625\\u0652\\u063a\\u064f\\u0644\\u0627\\u0651\\u0642 30\\u06520 .1\\u06520\\u0651 \\u0651\\u062f\\u064e\\u0631\\u0650\\u0647\\u0645\\u064e \\u0650\\u0628\\u0646\\u064c\\u0633\\u0650\\u0628\\u0629\\u064b \\u064c\\u062a\\u063a\\u064a\\u0631\\u064f \\u0628\\u064f\\u0644\\u063a\\u062a 4\\u06522\\u064b0\\u064c .8\\u064e%\\u060c \\u064f\\u0627\\u0644\\u0652\\u0627\\u062a\\u062d\\u0627\\u062f \\u0627\\u0651\\u0644\\u0639\\u064c\\u0642\\u0627\\u0631\\u064c\\u064a\\u064e\\u0629 \\u064f\\u0628\\u0625\\u063a\\u064c\\u0644\\u064e\\u0627\\u064f\\u0642\\u064c \\u064f5\\u064b9\\u064b0\\u064b .\\u064d1\\u064e \\u062f\\u0650\\u0631\\u064f\\u0647\\u0645\\u0652 \\u0628\\u0646\\u0633\\u0628\\u064f\\u0629\\u0651 \\u0651\\u062a\\u064c\\u063a\\u0652\\u064a\\u064e\\u0631\\u064d \\u064d\\u0628\\u0644\\u063a\\u062a 2\\u064e5\\u064b0\\u064f \\u0650.3\\u064f%\\u060c\\u0650 \\u0634\\u064e\\u0631\\u0643\\u0629\\u0651 \\u0652\\u0633\\u0651\\u0648\\u0651\\u0642\\u064e \\u064d\\u062f\\u0628\\u064c\\u064a \\u0627\\u0651\\u0644\\u064c\\u0645\\u0627\\u0650\\u0644\\u0650\\u064a \\u0652\\u0628\\u064d\\u0625\\u063a\\u0650\\u0644\\u064e\\u0627\\u064c\\u0642\\u064c \\u064e5\\u065170 .\\u06512 \\u064b\\u062f\\u064f\\u0631\\u0647\\u064e\\u0645\\u064c \\u0628\\u0652\\u0646\\u0633\\u0652\\u0628\\u0650\\u0629 \\u062a\\u063a\\u064c\\u064a\\u0631 \\u0628\\u0644\\u064b\\u063a\\u0652\\u062a \\u064c2\\u064e1\\u064c0 \\u064b.\\u064d3\\u0652%\\u060c \\u062f\\u064c\\u064a\\u064d\\u0627\\u0631\\u0652 \\u0644\\u064d\\u0644\\u0652\\u062a\\u0651\\u0637\\u064c\\u0648\\u064e\\u064a\\u0631 \\u0628\\u0650\\u0625\\u064c\\u063a\\u0644\\u0627\\u064f\\u0642\\u064c 2\\u064e90 \\u0652.\\u064b1 \\u0651\\u062f\\u0651\\u0631\\u064b\\u0647\\u0645 \\u0628\\u0650\\u0646\\u0633\\u064c\\u0628\\u064b\\u0629\\u064e \\u062a\\u0651\\u063a\\u064a\\u0631 \\u064b\\u0628\\u064e\\u0644\\u063a\\u062a\\u064d \\u064e3\\u064e8\\u06510\\u064c .2%\\u060c\\u064b \\u0634\\u064d\\u0631\\u0643\\u0629 \\u0623\\u0650\\u0631\\u064d\\u0627\\u064e\\u0628\\u064f\\u062a\\u064b\\u0643\\u064f \\u0627\\u0644\\u0642\\u0651\\u0627\\u0628\\u064e\\u0636\\u0652\\u0629 \\u0651\\u0628\\u0625\\u063a\\u064f\\u0644\\u0627\\u0642\\u064c 500 .4 \\u0650\\u062f\\u0651\\u0631\\u0647\\u0645 \\u064c\\u0628\\u064e\\u0646\\u0633\\u064f\\u0628\\u0629 \\u062a\\u0652\\u063a\\u064b\\u064a\\u0631\\u064f \\u0651\\u0628\\u0644\\u064d\\u063a\\u064c\\u062a 2\\u064f7\\u06500\\u064b \\u0650.\\u06522% \\u064b.\\u064c\\u0648\\u0643\\u0627\\u064e\\u0646\\u064e\\u062a\\u064f \\u0623\\u0650\\u0643\\u062b\\u0651\\u0631 \\u064b\\u0627\\u0652\\u0644\\u0634\\u064b\\u0631\\u0643\\u0627\\u064c\\u062a \\u064b\\u0627\\u0652\\u0646\\u062e\\u0641\\u0627\\u0636\\u064f\\u0627\\u064b \\u064c\\u0641\\u0652\\u064a \\u0623\\u0651\\u0633\\u064c\\u0639\\u0627\\u064d\\u0631\\u064b\\u0647\\u0627\\u064d \\u0645\\u064e\\u062c\\u0650\\u0645\\u064f\\u0648\\u064e\\u0639\\u0652\\u0629 \\u0627\\u0644\\u0635\\u064b\\u0646\\u0651\\u0627\\u0639\\u0650\\u0627\\u064f\\u062a\\u0650 \\u064d\\u0627\\u0644\\u064d\\u0648\\u0637\\u064c\\u0646\\u064b\\u064a\\u0629\\u064d \\u0652\\u0627\\u0644\\u0642\\u064f\\u0627\\u0652\\u0628\\u0636\\u064c\\u0629 \\u0651\\u0628\\u0652\\u0625\\u0651\\u063a\\u064e\\u0644\\u0627\\u0642\\u064b \\u06522\\u064d7\\u06500\\u0650 \\u0651.4 \\u062f\\u0650\\u0631\\u064b\\u0647\\u0645\\u0651 \\u0651\\u0628\\u0646\\u0633\\u0628\\u0629 \\u062a\\u064b\\u063a\\u064c\\u064a\\u064b\\u0631 \\u0628\\u064b\\u0644\\u0650\\u063a\\u062a\\u064d 9\\u064d2\\u064b0\\u064c \\u064f.9\\u064e%\\u060c\\u0650 \\u064d\\u0628\\u0651\\u0646\\u0643\\u0650 \\u064e\\u0627\\u064d\\u0644\\u064d\\u0645\\u0634\\u0652\\u0631\\u0651\\u0642\\u064c \\u0628\\u064e\\u0625\\u063a\\u0644\\u064c\\u0627\\u064f\\u0642 50\\u064b0\\u0650 .\\u065291 \\u064e\\u062f\\u0631\\u0650\\u0647\\u0645 \\u064c\\u0628\\u0646\\u0633\\u064d\\u0628\\u064f\\u0629 \\u064f\\u062a\\u064b\\u063a\\u064a\\u064f\\u0631 \\u0628\\u0644\\u0651\\u063a\\u062a 040 .8%\\u060c\\u064b \\u064f\\u062f\\u0650\\u0627\\u0631\\u064f \\u064b\\u0627\\u064b\\u0644\\u062a\\u0643\\u0627\\u0641\\u0651\\u0644 \\u0628\\u0625\\u0652\\u063a\\u064b\\u0644\\u0627\\u064c\\u0642\\u0650 \\u06511\\u064c4\\u064c0\\u064d \\u0650.1 \\u0652\\u062f\\u064c\\u0631\\u0650\\u0647\\u064d\\u0645 \\u0650\\u0628\\u0650\\u0646\\u0651\\u0633\\u0628\\u0629\\u0650 \\u064e\\u062a\\u063a\\u064a\\u0651\\u0631\\u064c \\u0628\\u064c\\u0644\\u063a\\u062a\\u0652 \\u065056\\u06500 .\\u06502% .\\u0648\\u064e\\u0641\\u064b\\u064a\\u0645\\u0627\\u064f \\u064a\\u064f\\u062a\\u0639\\u064c\\u0644\\u0650\\u0642 \\u0628\\u0627\\u0644\\u0634\\u064d\\u0631\\u0643\\u0627\\u062a \\u0627\\u064b\\u0644\\u064b\\u0623\\u064f\\u0643\\u064c\\u062b\\u064f\\u0631 \\u0646\\u0634\\u0627\\u0637\\u0651\\u0627\\u0651\\u064b\\u064d \\u0645\\u0646\\u064e \\u0651\\u062d\\u064a\\u064f\\u062b \\u0642\\u064a\\u064b\\u0645\\u064c\\u0629\\u064c \\u064d\\u0627\\u0644\\u062a\\u0652\\u062f\\u0627\\u064b\\u0648\\u064f\\u0644 \\u064d\\u0641\\u0642\\u062f \\u064b\\u062d\\u064b\\u0642\\u064c\\u0642\\u062a\\u064b\\u0627\\u0644\\u064c\\u0627\\u064f\\u062a\\u064b\\u062d\\u0627\\u062f \\u0650\\u0627\\u0650\\u0644\\u0639\\u064e\\u0642\\u0627\\u0651\\u0631\\u064a\\u0629 \\u062a\\u062f\\u0627\\u0648\\u0644\\u0650\\u0627\\u062a \\u0650\\u0628\\u0642\\u064a\\u0645\\u064f\\u0629 14\\u06500\\u0651 \\u064e.\\u064d287\\u064c\\u060c\\u064b2\\u064e4\\u06501\\u0652\\u060c7\\u064c6\\u064e2\\u064c \\u062f\\u0652\\u0631\\u064e\\u0647\\u0650\\u0645\\u060c\\u0652 \\u0634\\u064f\\u0631\\u064e\\u0643\\u064e\\u0629 \\u0651\\u0623\\u0631\\u0627\\u0628\\u062a\\u0643 \\u0627\\u0644\\u0642\\u0627\\u0652\\u0628\\u0636\\u0651\\u0629\\u064d \\u062a\\u062f\\u0627\\u0650\\u0648\\u064e\\u0644\\u0627\\u062a\\u064c \\u064b\\u0628\\u0642\\u064b\\u064a\\u0645\\u0629 6\\u06522\\u064e0\\u0650 .2\\u06504\\u06528\\u060c\\u0652103\\u064b\\u060c\\u065296\\u06529\\u0652 \\u0651\\u062f\\u064d\\u0631\\u0647\\u064e\\u0645\\u060c\\u064d \\u064c\\u0628\\u064a\\u064e\\u062a\\u064f \\u0627\\u0644\\u062a\\u0645\\u0650\\u0648\\u064f\\u064a\\u0650\\u0644\\u064c \\u0650\\u0627\\u0644\\u062e\\u0644\\u064e\\u064a\\u062c\\u064a \\u064b\\u062a\\u0652\\u062f\\u0650\\u0627\\u0648\\u0644\\u0627\\u064f\\u062a\\u0652 \\u0628\\u0642\\u064a\\u0645\\u064b\\u0629\\u064c 4\\u064d40 .\\u06512\\u064d01\\u060c\\u064b6\\u064f25\\u064e\\u060c\\u064d9\\u064c01\\u0652 \\u0652\\u062f\\u064d\\u0631\\u064e\\u0647\\u0645\\u064d\\u060c\\u064c \\u0625\\u064d\\u0639\\u0645\\u0627\\u0631\\u0650 \\u0652\\u0627\\u0650\\u0644\\u064c\\u0639\\u0642\\u0627\\u0631\\u0651\\u064a\\u0629 \\u0652\\u062a\\u064f\\u062f\\u0627\\u0648\\u064d\\u0644\\u0627\\u062a\\u064b \\u0628\\u064d\\u0642\\u064a\\u0645\\u0629\\u0650 760 .1\\u064e36\\u064b\\u060c\\u065164\\u064c4\\u064b\\u060c9\\u064e2\\u064f3\\u064c \\u062f\\u0631\\u0647\\u064f\\u0645 \\u064c.\\u0623\\u0650\\u0645\\u0627 \\u0628\\u0627\\u0652\\u0644\\u0652\\u0646\\u0633\\u0628\\u0629 \\u0644\\u0644\\u0634\\u0652\\u0631\\u0643\\u0627\\u062a\\u0652 \\u0627\\u0644\\u0652\\u0623\\u064e\\u0643\\u062b\\u0631 \\u0646\\u0634\\u064f\\u0627\\u064c\\u0637\\u0651\\u0627\\u064f\\u064b\\u064e \\u064d\\u062d\\u0633\\u064e\\u0628\\u064e \\u062d\\u062c\\u0645 \\u064b\\u0627\\u0651\\u0644\\u064d\\u062a\\u062f\\u064e\\u0627\\u0648\\u0644\\u0651 \\u0641\\u0642\\u064b\\u062f\\u064c \\u0650\\u062a\\u0652\\u0645 \\u064e\\u062a\\u064c\\u062f\\u064e\\u0627\\u0648\\u0644 \\u065024\\u064e6\\u064c\\u060c6\\u064c15\\u060c3\\u06524\\u064f3\\u0651 \\u064f\\u0633\\u0647\\u0650\\u0645\\u0650\\u0627\\u064b\\u064e \\u0650\\u0645\\u0651\\u0646\\u0651 \\u0651\\u0628\\u064a\\u064e\\u062a\\u064c \\u064e\\u0627\\u0644\\u064e\\u062a\\u064f\\u0645\\u0648\\u064a\\u0644 \\u064e\\u0627\\u064d\\u0644\\u062e\\u0644\\u064e\\u064a\\u064c\\u062c\\u064a\\u064b\\u060c\\u0650 1\\u064f8\\u064e1\\u060c\\u065092\\u06515\\u064b\\u060c\\u064c27\\u064d5 \\u0633\\u0652\\u0647\\u064e\\u0645\\u064f\\u0627\\u064b\\u0650 \\u0645\\u064f\\u0646 \\u064c\\u0627\\u0644\\u0650\\u0627\\u062a\\u064f\\u062d\\u0627\\u062f\\u0651 \\u064e\\u0627\\u0644\\u064b\\u0639\\u0642\\u0627\\u0631\\u064a\\u0629\\u060c\\u064f 6\\u064f5\\u0650\\u060c\\u06523\\u064b70\\u060c967 \\u0633\\u0652\\u0647\\u0650\\u0645\\u0627\\u064b\\u064e \\u064d\\u0645\\u0650\\u0646 \\u064b\\u062f\\u0651\\u064a\\u064e\\u0627\\u064f\\u0631\\u0650 \\u0652\\u0644\\u0644\\u064f\\u062a\\u0637\\u0648\\u064a\\u0631\\u060c\\u064d \\u065156\\u064b\\u060c\\u0651005\\u060c\\u065239\\u06515\\u064b \\u064c\\u0633\\u064e\\u0647\\u064d\\u0645\\u064f\\u0627\\u064b\\u064f \\u0652\\u0645\\u0651\\u0646 \\u0634\\u0631\\u0643\\u0629\\u0650 \\u0623\\u0631\\u064d\\u0627\\u0628\\u064f\\u062a\\u0643\\u064f \\u064b\\u0627\\u0650\\u0644\\u0642\\u0651\\u0627\\u0628\\u064d\\u0636\\u0629\\u064d \\u064f.\\u0648\\u064f\\u0628\\u064c\\u0644\\u063a\\u064e \\u064b\\u0645\\u0624\\u0634\\u0631 \\u0642\\u0637\\u0627\\u064c\\u0639 \\u0627\\u0644\\u0651\\u0628\\u0646\\u064c\\u0648\\u0643 \\u064e260\\u064d \\u064f.\\u064b2\\u060c\\u064c1\\u06503\\u064b8 \\u0646\\u0642\\u0652\\u0637\\u0629\\u064b \\u0650\\u0628\\u0652\\u062a\\u064f\\u062f\\u0627\\u0648\\u0644 27\\u064e8\\u064c\\u060c\\u06510\\u064e8\\u06503\\u060c71\\u06519\\u0651 \\u064d\\u0633\\u064b\\u0647\\u064b\\u0645 \\u064d\\u0628\\u0642\\u0651\\u064a\\u0645\\u064c\\u0629\\u0652 \\u065181\\u064b0\\u064b .307\\u064d\\u060c\\u064c965\\u060c590 \\u062f\\u0652\\u0631\\u0652\\u0647\\u064c\\u0645\\u060c \\u0650\\u0648\\u064d\\u0645\\u064b\\u0624\\u064b\\u0634\\u0631 \\u0650\\u0642\\u0651\\u0637\\u0627\\u0650\\u0639 \\u0627\\u064b\\u0644\\u064c\\u0627\\u0633\\u062a\\u0651\\u062b\\u064f\\u0645\\u064f\\u0627\\u064d\\u0631 \\u064d\\u0648\\u064d\\u0627\\u0652\\u0644\\u064b\\u062e\\u062f\\u0645\\u0627\\u0652\\u062a \\u0651\\u0627\\u0644\\u064f\\u0645\\u0627\\u0650\\u0644\\u064c\\u064a\\u0650\\u0629\\u064f \\u064d67\\u06500\\u064d .\\u06504\\u060c\\u064b5\\u064f51 \\u0651\\u0646\\u0642\\u064e\\u0637\\u064d\\u0629 \\u0628\\u0652\\u062a\\u0652\\u062f\\u0627\\u064c\\u0648\\u0650\\u0644\\u064b 8\\u064e9\\u060c4\\u06504\\u064d2\\u0651\\u060c9\\u06529\\u06500\\u064d \\u064f\\u0633\\u064d\\u0647\\u064b\\u0645\\u064d \\u064f\\u0628\\u064b\\u0642\\u064a\\u0645\\u0629\\u0652 950\\u064b .\\u065121\\u06507\\u0650\\u060c\\u064c07\\u06512\\u0650\\u060c2\\u06525\\u06521\\u0651 \\u064f\\u062f\\u0631\\u064d\\u0647\\u0645\\u060c\\u064c \\u0648\\u0645\\u0624\\u0634\\u0631\\u064c \\u0650\\u0642\\u0637\\u064d\\u0627\\u0639\\u064d \\u0627\\u064e\\u0644\\u062a\\u064e\\u0623\\u0645\\u0652\\u064a\\u0646\\u0651 3\\u064d90\\u0650 \\u064b.\\u064f2\\u060c\\u065164\\u064c1 \\u0651\\u0646\\u0642\\u0651\\u0637\\u064f\\u0629\\u064d \\u0628\\u0650\\u062a\\u062f\\u064b\\u0627\\u0648\\u064f\\u0644\\u0651 \\u065121\\u064b\\u060c3\\u064f0\\u064b8\\u060c\\u06504\\u064d09\\u064d \\u064d\\u0633\\u0652\\u0647\\u0645 \\u0628\\u064e\\u0642\\u064e\\u064a\\u0645\\u0629 \\u06502\\u064f4\\u064f0 \\u064e.23\\u060c818\\u064e\\u060c9\\u065243 \\u064e\\u062f\\u0631\\u064b\\u0647\\u0645\\u064d\\u060c \\u064e\\u0648\\u0645\\u064c\\u0624\\u0634\\u064c\\u0631 \\u064f\\u0642\\u0637\\u064c\\u0627\\u0652\\u0639 \\u064c\\u0627\\u0644\\u0639\\u0642\\u064e\\u0627\\u0651\\u0631\\u0627\\u0652\\u062a \\u064d\\u0648\\u0627\\u0652\\u0644\\u064e\\u0625\\u0646\\u0652\\u0634\\u0627\\u0651\\u0621\\u064d\\u0627\\u0651\\u062a\\u064b \\u0650\\u0627\\u0652\\u0644\\u064d\\u0647\\u0650\\u0646\\u064f\\u062f\\u0633\\u064a\\u0629 7\\u064e20\\u064c .8\\u064c\\u060c4\\u064b7\\u06513\\u064d \\u0646\\u0642\\u0637\\u0629\\u064c \\u0650\\u0628\\u0652\\u062a\\u062f\\u064d\\u0627\\u064e\\u0648\\u0652\\u0644 \\u064e3\\u06505\\u064f2\\u064c\\u060c\\u0650979\\u064c\\u060c03\\u064c5\\u064c \\u064c\\u0633\\u0647\\u064d\\u0645 \\u0628\\u064c\\u0642\\u064a\\u064f\\u0645\\u064f\\u0629\\u064f 1\\u064c00 .\\u064e805\\u064f\\u060c3\\u065203\\u060c\\u064d844 \\u062f\\u064b\\u0631\\u064f\\u0647\\u064f\\u0645\\u060c \\u0648\\u0645\\u0651\\u0624\\u0634\\u0631\\u0652 \\u0642\\u0637\\u0652\\u0627\\u0639 \\u0627\\u0644\\u062e\\u062f\\u0645\\u0627\\u064f\\u062a\\u0651 7\\u064b3\\u064b0\\u0652 \\u064e.8\\u064c27\\u064d \\u0646\\u064e\\u0642\\u0637\\u064f\\u0629 \\u064d\\u0628\\u062a\\u0652\\u062f\\u0651\\u0627\\u064d\\u0648\\u0651\\u0644 6\\u064c\\u060c\\u064e1\\u064e4\\u064e0\\u060c5\\u064c08\\u0650 \\u0633\\u0647\\u0645\\u064c \\u0628\\u0642\\u064d\\u064a\\u0645\\u0629 0\\u06527\\u064e0\\u064d \\u064d.13\\u060c\\u064c9\\u064e6\\u06522\\u060c3\\u064d35 \\u064e\\u062f\\u0650\\u0631\\u064f\\u0647\\u0645\\u064d\\u060c \\u0648\\u064c\\u0645\\u064e\\u0624\\u0634\\u064c\\u0631\\u064f \\u064b\\u0642\\u0651\\u0637\\u064c\\u0627\\u064d\\u0639\\u0650 \\u0627\\u0644\\u064e\\u0646\\u064f\\u0642\\u064f\\u0644 \\u06515\\u064e90\\u064b .79\\u06506\\u0652 \\u0650\\u0646\\u064e\\u0642\\u0637\\u0629 \\u064c\\u0628\\u062a\\u064e\\u062f\\u0627\\u0648\\u0644\\u064d 50\\u064b\\u060c343\\u060c487\\u064f \\u0633\\u0652\\u0647\\u0645\\u064f \\u0628\\u064f\\u0642\\u064a\\u0645\\u0629\\u064c 92\\u064c0 .47\\u064b\\u060c\\u064c69\\u06520\\u060c\\u06520\\u064c7\\u06520 \\u062f\\u064c\\u0631\\u0651\\u0647\\u0645\\u0650 \\u0651.\\u0650\"\n        ],\n        \"semantic_type\": \"\",\n        \"description\": \"\"\n      }\n    },\n    {\n      \"column\": \"label\",\n      \"properties\": {\n        \"dtype\": \"category\",\n        \"num_unique_values\": 7,\n        \"samples\": [\n          \"Culture\",\n          \"Finance\",\n          \"Sports\"\n        ],\n        \"semantic_type\": \"\",\n        \"description\": \"\"\n      }\n    }\n  ]\n}"
            }
          },
          "metadata": {},
          "execution_count": 19
        }
      ]
    },
    {
      "cell_type": "markdown",
      "source": [
        "**- Common Words and Vocabulary (Bonus)**"
      ],
      "metadata": {
        "id": "yj-QIDjP-DVP"
      }
    },
    {
      "cell_type": "code",
      "source": [
        "import numpy as np"
      ],
      "metadata": {
        "id": "a9GvtLS8AJ38"
      },
      "execution_count": 20,
      "outputs": []
    },
    {
      "cell_type": "code",
      "source": [
        "top = df.groupby('text').agg(count=('label','size'), max_label=('label','max'))\n",
        "top = top.sort_values(by='count', ascending=False)"
      ],
      "metadata": {
        "id": "gbasoeOx-JEO"
      },
      "execution_count": 21,
      "outputs": []
    },
    {
      "cell_type": "code",
      "source": [
        "top.head(10)"
      ],
      "metadata": {
        "colab": {
          "base_uri": "https://localhost:8080/",
          "height": 1000
        },
        "id": "zI5-uEh2AcKf",
        "outputId": "205d7972-ec92-45b0-f248-b61fd9265e99"
      },
      "execution_count": 22,
      "outputs": [
        {
          "output_type": "execute_result",
          "data": {
            "text/plain": [
              "                                                    count max_label\n",
              "text                                                               \n",
              "https://example.com/resource/\"الْلٌه سيًمنعنًيِ...      1  Religion\n",
              "https://example.com/resource/دّبٍي: ّسيد ِزّكيْ...      1      Tech\n",
              "https://example.com/resource/دّبٌيِ:ِ«الَخِليج»...      1   Medical\n",
              "https://example.com/resource/دّبٌيِ ّ- \"ٍاْلخلٍ...      1      Tech\n",
              "https://example.com/resource/دّبٌيً:ْ ٍ«اًلَخّل...      1   Finance\n",
              "https://example.com/resource/دّبٌيً \"ٌالُخلٍيًج...      1      Tech\n",
              "https://example.com/resource/دّبٌي:ِ «ْالخّلِيج...      1      Tech\n",
              "https://example.com/resource/دّبٌي:َ«ًاُلخليجّ»...      1      Tech\n",
              "https://example.com/resource/دّبٌي:ٌ ٌ«ٍاّلّخلي...      1   Finance\n",
              "https://example.com/resource/دّبٌي: ٍإيمانِ َعِ...      1   Medical"
            ],
            "text/html": [
              "\n",
              "  <div id=\"df-b75dd1b0-47c1-4f09-9ebc-47807fcba030\" class=\"colab-df-container\">\n",
              "    <div>\n",
              "<style scoped>\n",
              "    .dataframe tbody tr th:only-of-type {\n",
              "        vertical-align: middle;\n",
              "    }\n",
              "\n",
              "    .dataframe tbody tr th {\n",
              "        vertical-align: top;\n",
              "    }\n",
              "\n",
              "    .dataframe thead th {\n",
              "        text-align: right;\n",
              "    }\n",
              "</style>\n",
              "<table border=\"1\" class=\"dataframe\">\n",
              "  <thead>\n",
              "    <tr style=\"text-align: right;\">\n",
              "      <th></th>\n",
              "      <th>count</th>\n",
              "      <th>max_label</th>\n",
              "    </tr>\n",
              "    <tr>\n",
              "      <th>text</th>\n",
              "      <th></th>\n",
              "      <th></th>\n",
              "    </tr>\n",
              "  </thead>\n",
              "  <tbody>\n",
              "    <tr>\n",
              "      <th>https://example.com/resource/\"الْلٌه سيًمنعنًيِ\"َاجْتِمع ُيوُماُ أٌصُحاِبَ رسِول اٍلله-ِ ُصِلٌى الله علُيه وسّلمٍ-ُ َفقاٌلوا: ٍواللٌه مَا سَمعتّ قٌرًيْشّ ْهذاً القْرآْنُ ّيجًهٍر ٌلْهٌاٍ بّهٍ ّقِطٌ، فًمًَُنٌ ْرّجًلٍ يسمٌعهَمً؟ َفقالً ِعُبدَالَلٌهِ ًبن مّسَعودُ:ْ أناّ، ٌقالوْا: ْإِنا َنَخشًاّهَم ٍعٍليكٍ.ٍ إنّمٍا نرَيدُ ٌرجِلاًُ ٌلّهُ ّعّشٍيرةِ من اًلقٌوُمً إّن ٍأْرٌاّدٍوهّ.ُ ْقًاِلُ: دعوّنيّ فًإن ٍاًللهٌ ٌسيُمنعنٍي.فغدِا ُاِبنً ِمسعّوّدُ ْحْتَىْ أٍتى ْالمٌقاًم ِفي ّاَلْضحىً وْقٍرُيًش ٍفي أندِيٍتهًا.ِ حتٍى ّقِاًم َعَنٌدَ اِلْمقامّ ٍثٍمٌ قرأ ًرافٍعّاًٌَ ْصوَته ْالرحمُنْ عٌلم الّقْرآٌن..ْ ٌفٌجعِلِوُاٍ يقَولونَ: َماٌذْاِ قّال ابن ٍأمَ عبد؟قالواُ: ْإُنّه ْيْتّلًو ٌبًعًض ْماّ ُجَاًء به مّحْمد.ٌفٌقامِوا ٍإّلٌيهٍ،ٍ فجعلَوا ُيضٍربٍونِهْ،ّ ٍوجٌعل يُقٌرأٍ حّتِى ٌبلغ مٌنّهَاٍ ُمّاُ ُشاءٍ اللّه أْن يّبِلًغً. ًثمَ َانصرّف إلىْ ِأْصُحابٌهَ وقُد أثرّوا في ِوجهه فقالوْا ّلهَ: ّهذاْ اٌلّذي خّشًيِناِ ْعٌليّكً.ّفّقالَ لهمً:ً ٌمِا كان أٍعدٌاء الَلٌهٌ أًهون َعلٌيّ ُمٌنهّمٌ ِاًلُآن،ً ّوٌلُئْنٌ َشئٌتم لأٌغّادٍيْنهمّ بَمّثَلهاٌ غدِاً.ُقُالَوا: لاّ حًسًبك،ٍ قدً اسمعًتٌهُمَ ًمًا يكرُهون. قٍبٍلْ أن تِحِاٌسبُوامُرّ رّجل ْمن ِقّبَيّلة مراِدٌ بأوٍيْسٌ َالقرنْي ْفقٍاِل ّله:ُ ًكٍيٌفً ُأصِبٌحتَ يًاٍ أوٌيِس؟قاٌلّ: أَصّبحٌتَ أٌحٌمّد ٌالَلُهٍ.قَالٌ:ْ كيًف ٍاَلّزمان ٍعلٌيِك؟قال:ّ ُيٌاُ ٌأخَا ٍمّرٌاَدّ، إنَّ الزمّاَن َوٍذُكٍره لم يدع في اِلّأٍرِضٌ لمٌؤمٌن فّرَحاً. وٍإًنٍ ٌعُلمًهً بِكتاْب ِاًلله لمِ يًدعّ فيْ مالهٍ فضة ًولُاٌ ُذٍهبًاًٌَ،ِ ِوإِنَ قيًامه بِالحقّ لُمَ ٌيدع له ًصديُقاًٌ.ٌفقاِلْ ٌاٍلًرجل: حُدثّنيً ّبحٌدّيُث سِمّعًته من رسْولِ ِاِلٍلْهً صّلوات ًاٌللُهٍ ًعِلِيهٍ.َقّاُل:ّ ٍيا أخٌا ًمُرِاد،َ مُاِ ّشٍهدتَ ًرسٍولَ ِاللًه فأِحَدُثُك ٍعَنه ولكنَ افعلوٍا ْكما ّقُال ّلكم ٍرٍسوْل َالِلهٌ ٍحاًسبٌواّ أنفسِكم ِقبّلَ أنٌ ًتًحاسبّوا فإن اٌللّهُ جعَل اِلٌدنّياْ قنّطرُةِ ُللآُخَرٍة فٍاْعتٍبروْهَا.ٍ</th>\n",
              "      <td>1</td>\n",
              "      <td>Religion</td>\n",
              "    </tr>\n",
              "    <tr>\n",
              "      <th>https://example.com/resource/دّبٍي: ّسيد ِزّكيْ ْنّجَحْتً شَركةّ «ٌيٍا ٍهْلْا» ٌالإٌمْاٌرَاتيةَ ِلْخٍدّمُات ّالْمحمولٌ، فيُ إنتُاًج ّأول هاّتفَ ًمًحمول ذّكي َمَحَلي اًلصّنُع ٌمٌئَةَ ْباٍلّمئة،ُ ِباٌلٍإًضاّفة إْلٌىْ تاْبلٌتٌ ذكِي، يًنافسٍ أجهزّة ُالّأيفَونْ ُوّأْجِهًزٌةِ الُأنْدرويّد وًيشملُ علُىً ِكٌاّفةٌ الأْنُظْمة وٍالًتطبيقاَت ًالذّكيْةٌ. وُأفاِد ًبًدٍرً اٍلِعًوضي، رٍئّيْسّ ٌاِلشٌرًكٍة لً«الُخلِيّجِ» خلاٍل ًالٍمشُاًركُة ٍفْيُ ٌمٌعرضٌ ٌجيِتَكّسُ ً2016َ ٌإلْىّ ْأنهمٌ ًبدأُوَاً ّبٌتصُميِمٍ َالُهّاتف ُوَالّتاٌبْلتٌ فيً بدًاْيةّ 2ِ015ّ، ّوُأٌنٍ اٌلَإًنتاْجِ الِفعلي ِلًلًمِرٌة الًأوٍلّىٍ ّللهًاًتْفْ ٍبدأُ َفّيَ بٌدايةٍ 2016 ُبإمُكٍانياتهم اَلمِحٍليةٍ فِي إمْارة َدّبي.ْ وٌأضاف اُلِعوضيَ ًأنٍهّمِ عرّضِوا ِالِهاًتفٌ ْفي ّمٌعرضً ُجيتكٍسٌ ٌ20ْ16،ٍ وُمٌنُ ْأّبَرُز خِصائص هِاِتًفٌ ُ«ياُهْلُاّ»ِ ٌاْلِنُظِاٍم انّدرٍويٌدَ ٌ6ُ.0 سْرعٍةِ البٌروًسيُسرٍ ُ1ُ.ً3 جيجٍا ّالذِاكّرة ْاُلْعشواْئيًةْ 3 ْجيجاُ ًومساحَةٍ الٍتْخزُيٌنٌ 1ٌ6 ِجيجا وٍمِسٍاَحةْ َخٌارجية 1ُ28ْ جُيجَاّ واَلٌشٌاًشِةُ 5.ِ5َ ِاْنش وُمُسٍتٌشعر ْاًلٌبٍصْمة ٌيّصٌل إلى ُخمّسة أصّاُبَعُ ٌوهّو مٍتمَيز ّفّيَ َذٌلّك،ِ ٌبَاْلْإْضَافة ُإّلىٍ البطاٌريَة 60ٍ0ِ0 آلٌافِ وٍهُو ٌمتًميٌز ِبهْاُ لأنّهًا ْتستمرْ ٍلٌمدّة يَوميًنّ ْكاملِيْن، وِرِاُديوً،ٌ مٌزوّدْ بكٌامرتيْن الَخْلٍفُيًة 1ً6 ميجاٍ بيكسلُ وّالّأٌمامية ٍ5 مْيجٌا ِبيكسل.</th>\n",
              "      <td>1</td>\n",
              "      <td>Tech</td>\n",
              "    </tr>\n",
              "    <tr>\n",
              "      <th>https://example.com/resource/دّبٌيِ:ِ«الَخِليج»ٍ َكشٌفت هيَئِة اًلصحة ْفِي ًدَبٌيِ، عن حجمّ ٌالإمكاّنياٌت الْتَي تَسخًرُهاُ، ُلإْعًداُدُ الْكِوٌاْدٌر ْالطِبيٌةٌ ّالشاٍبٌةّ، وٌلًاٍسّيْمًا ًأٍطبٍاء ُالإقْامُةٌ،ّ َمِمًنَ يْقَبَلًون عّلِى مِنٌشّآْتْ اّلهيئةْ،ّ لَلِتُدرٍيب والإٌعدْاًد ّوٍالتأٍهيَل وتْنًمْية الًمَهاُرات، وبدّء حيْاْتهًم ُالٌعملًيةْ ُبٌالٌطريقةٌ ٍالٍمثلىَ.وذِكِرُتّ في ًتقِرير َصٍدَر ٍعنهاَ أمٍس، ّأّن ُهناّكِ ٌتنٌاُمُيَاًٌ فِيُ أُعداّد ِأْطَبّاَءِ ُالإَقٌاَمة اٍلٍراٍغًبيٌن ْفْي ّبدءْ مٌسّيرٍتهْم اٌلّعملُيٌةِ ْبُكفًاءة،ُ موضّحًة أن ٌاْلِأٍرقاٌمَ ًتِضاعٌفٌتّ ُبٌينٍ ٌعٍاميَ 2ٌ0ٍ1ِ0،َ و20ٍ17، ٌحيْثّ تقّدًم لمنْشْآتِهّاً ًالطبيّة،ْ ّقَرٍابَةٍ 2َ00َ ٌطِبيّب،ْ فيمّاً نالَ 48ُ ِطبيباً َفُرِصُ ٌالتُأِهيل َاُلَتَي وفرتُهاِ، ّعامٍ 2010، وهذّهٍ ُالأَعٍدٌاد تضاٌعفْتٍ ٌفٍي ْعّاْم ً201َ7، ُحيثٍ ٌتقٍدًم لِلًهيُئة 4ُ5ُ1ً طبيبٍاً وًطبٌيبة، قبٌلٍ ْ8ُ0 منهمَ، وفقَ ٍالشٍرْوطً ٌوالْقوٍاًعدُ ٍاُلُمعٍتمدة.َ</th>\n",
              "      <td>1</td>\n",
              "      <td>Medical</td>\n",
              "    </tr>\n",
              "    <tr>\n",
              "      <th>https://example.com/resource/دّبٌيِ ّ- \"ٍاْلخلٍيَجِ\"ْ:ٌأُعلٌنت شرْكة ٌ\"ًسامسونغِ\"ٌ ًللًإلكترَونياُتُ ّالمحْدوْدّةّ أنُهٍاٌ ّتصدرتً َسُوقً َالإٍماراتً لُلهْواُتفّ َالُذكّيًة ُبِحٍصّة سوٍقِيُةً وْصلتّ إلَى 4 ٌ.49% فُيٍ ِديٍسمبر ٍ،20ْ1ّ3 ٌطًبَقٌاًً للبَيانْاٌت ٌاْلصُادِرّةّ ْعنٌ ٍشرّكِةِ ْجٌيِ . ٍإِف .ٍ ّكيه . ٌالِمتخصصَة فِيُ ٌمجاٍلٍات الاستشْاْرات ٍواٍلُاستٍبيَانْاْت ًاُلّتّسويقٌيةْ ُ. ُولٍقِدٍ ُاٍستحِوْذُتْ سامًسونَغ علًىً ْنٌسبًة 7ً ُ.4ً4% ٍمنَ أجًماليّ اْلسوق اّلإّماَرَاٌتي َلٍلهوُاًتف الٌنُقالةّ،ِ ْمسجلٌة نموا ْوَصل إٌلىُ 3ً .َ4ٌ6ّ% من عاَمً 201ّ2ّ إلَىِ 2ّ0ٌ1ُ3 ِ.َ ِكمّا سِجلت ٌساِمٌسونغ ّنًمواًٍ َفًي ُمَبًيِعاٍتهّا للهَوًاٌتفُ اًلَنقُاًلة ًبأّسٍوًاق دول اَلُخلّيًجْ،ِ يًقدرَ بِ ُ2ٌ .ْ42% ِمن عّاَمٍ ٌ2ٍ012َ إلِى ،2ٌ0ٍ13 بِعٌد ُإطٍلاقَ هاٍتفها اَلذكٍي جلاٌكسٌي إٌس ِ،4َ وجّلاكًسٍي نّوتُ 3ً وسٌلسُلةٌ ُالِهُوُاتّفٌ ًالتًقليًدية ٍوالٌذٍكية، ُمتوسطٌةً اِلًموُاٌصفاتُ ْ.وُقَاُل هيُثم ياِسينً ٍرَئيس مجًموعْة اٍلْاتٌصاّلِاتَ ْفّيَ سّاِمسونغٍ الخلٍيجَ للإٍلٌكتُروُنِياتَ: \"يتطًوِرٍ سوقُ الُهٌواتف ٌاًلَنٌقاِلةٍ وْالًذكيةُ فٌي َالَإمِاٌرّات بِشكِل َسٍريعِ،ْ وُقّامٌتْ ًسامُسوٌنُغِ ِبمضاعفتً ْاِلُمواَصفِاِت ّالّمًبًتكرًة ّلمنتجَاِتهٌا وأُجٍهَزتهًا عٌاْليٌةً اِلٍجودةّ، مُحِافظّة ّبُذَلّكُ ِعلى ًأداُئِها ًفَيّ كٌل ْفُئٌاِتٌ هْوِاتفهْاُ النقُاٍلِةٌ\"ِ ً. ًوأضًافَ: ٍ\"ًفي الِعامّ َاٌلٍمُاَضي،َ قدٍمنَا ّإِلى ّاٌلأسواقَ ٌسلْسلٍة ًمنً اٍلهَوَاُتٌفِ اّلنقالْة ٍاٍلٍمصُممةِ بْطُريقة ذكيةً ُلتّناسٌب جميع َمستلِزٌمّاِتٍ ٌالمِستخْدمٌيْن بِأسَعٌارٍ مًخٍتلفٍة،َ ُلْمن ًيريدوٍنٌ الُمًشاهْدة اْلُإِلكّتروُنيٌة أّوِ ًاُلْتَصِوير أوًاًلَلعب مّنّ خلاٍل التطٌبْيقٍاَت المخُتًلَفةَ، ْوتوضح هّذْه ِاْلُبٍيُانْاًت أنً َجَهِودَناُ ْقَد ّتٍكِلٍلتَ باٌلنْجًاْحّ ْوْرْضّا ٌعّملاُئنُاً\" ٌ.ٌ</th>\n",
              "      <td>1</td>\n",
              "      <td>Tech</td>\n",
              "    </tr>\n",
              "    <tr>\n",
              "      <th>https://example.com/resource/دّبٌيً:ْ ٍ«اًلَخّليج» أْغلق ُسًوْقِ ِدبِيٌ ْاُلٍمًالي ِمْتٍراَجعًاًْ بَ ّ0ّ.ّ11% عٍنٍد ٌ3436ُ.َ6ِ3 ِنٍقطة بعَد ارُتفّاع ّطًوالَ اٍلجلْسة، بٌتٌدّاٍوَلات ٌ3ّ93.ٌ7ٌ8 ُمُليون دَرَهمٌ عِبر 4ْ0ِ5ٌ8 ًصَفّقْة ُتوزعت ِعلٌىً 28ً0ْ.75 ٍملَيُونً ُسًهْمٌ.ِ َشهٍدِ الِتِداوٍلّ ّيَوًم َأَمّسّ ارَتفٍاع َ1ٍ0 شُرًكْاتَ ّوٍهبِوط ِ1ْ8ٌ شٍرَكٍة وثُباِت َأسعارّ َ6 ّشركاِت.ّوشِهْدُت الٌتٍداُوْلات ّإْقُبَاًلًاً ّعّلَىٍ ٍأسهمَ َالعّقًارَ، حًيثْ كْاَنت الأِسُهم ُالأٌكثْر نّشًاطُاًُِ من ُحيّث قيُمٌة التٌداوٍل، فقْد ٌحٌققت ّإعُمٌاّر تٍدُاَولْاّت ِبقيمةَ 6ْ6,ِ9ّ ُملّيٍونٌ ْدرُهم،ْ ٍثْمً ِجاٍءت تدُاَوٌلاُت ّأُرابٌتُكِ بْقيَمة ّ5ً9,ْ6 ملَيَوْن دٍرَهُمّ، ِثم ُتِدْاّوٍلات اُلٌاًتحّادٍ الْعٍقارُية ِبقٌيْمًةَ ّ46ٍ,1ٌ4 ِملٌيوْنْ ْدٌرهم،ّ ثم جٍاّءتْ ُتَدَاولِاّتَ ْجَيْ إِفٍ إتِش بٌقَيمْةِ ً41ّ,ً8 مليون دّرِهمِ،ّ ثِمِ تَدْاولاتٌ ْأمّانات ْبِقيُمٌةْ ْ36ُ,ً83 ّمليون ٌدُرٌهم.وٌمن ٌأْكُثر ُاٍلِشْركْاتّ ًارٌتَفّاعٌاًً من حيثْ اٌلتِغيّر ْفي ُأّسعَاْرها َالٌخلُيًجّ ْلٍلُملاحة ٌالُقابضٌةً ًبّإٍغلٌاَق 1.ْ4ِ1ّ درهّمَ ْمرتفعاًٍ 4ٍ.44ً%ّ،ٍ ٌدبٍي ٌللاستٌثْمار بإغلْاقٍ َ2ٍ.ِ17ّ ًدرًهم مُرتْفْعاًَ ُ1ٌ.ْ88ُ%، دٌبّيَ َالِإُسًلُاًميّةُ لٍلٍتأٍمين بإَغلاقٍ ً0.ٌ7ٍ9ِ َدًرهم مًرتِفَعاً 1ٌ.ِ8%،ٍ َوّسوق ِدَبًيٍ ْاِلّمٍالًىّ ٌبإغلٍاق ٍ1ْ.18 درهًم مرتًفّعاً 1.72%،ُ ومصّرف عجمْاٍن ُبإْغَلاق 1ْ.ُ2ً دٌرُهًم ّمرٌتفٌعْاً 1َ.ُ6َ9َ%.بينمُا َكَاٌنتُ أكْثٍرٌ ُالشِركاًت ٌاٌنْخفْاًضّاًٌ فيّ أًسٌعارٍهًاً ٌحقوق ْداًر اٌلتِكِاَفل ْبإٍغٍلاٌقْ 0.2ُ4 دّرهْم ٌبانٍخَفًاٍضَ ِ9.96%ّ، ِومًارٌكًةِ بإٌغلًاّق 1ْ.3ِ1َ درُهمٍ باِنخًفِاًض ِ6ً.ّ4ُ3%، وَاُلّسلَاٌمِ ٌاِلّسٍوٌدانِ بإغُلاْق ْ1.8ْ9ً ُدرٌهمَ ُبَانخفٌاض ّ2.5ٌ8%ِ، ْواُلُسُلَاُم القْابضٌة بُإغِلاق ً0َ.َ66ِ دّرهمُ بانخَفاَضُ 2ً.23%ٌ.َ</th>\n",
              "      <td>1</td>\n",
              "      <td>Finance</td>\n",
              "    </tr>\n",
              "    <tr>\n",
              "      <th>https://example.com/resource/دّبٌيً \"ٌالُخلٍيًج\"ِ:ْأّعٌلْنَتٌ ْالهِيئةّ ٍاًلُعامَة لْتْنٌظيِمَ ًقْطاعَ الِاتُصاّلاَتْ ْعن ٍحصِوَلْ ٌمّبْنِاُهْا ًعّلُىُ ٍالتصنيفْ الذهٍبُيَ لُمعايير اٍلرْيَاٍدَة ّفيً ْتًصمْيَم اٍلٍطاُقةِ ٌوالْبيئةٌ ّLEEDِ ُ)ٍ ) منً ٌمجْلسَ الٍأُبنيًةْ ٌالَخضٍرٍاِء ٍفيُ ٍاٍلٌوٍلٍاْيُاِتٌ ٌالٌمًتحدة الُأّمرَيكيةَ .ْ ِوتشيٌرِ ٌهَذه اّلٌشهِادٌة إلىَ رياٌدٌةٍ ْاٌلّهِيّئةِ وُكٍوٍنهاً ٍنموذْجاًْ ُلّلُتًصٌميٌم ِالْمّستدًاُم،ِ ّكما أنَهٌاِ ّتًسًلط ْالُضَوْء ٌعلى َريٌاِدتها ْفًيّ تٍغٌيًيٌر صُناعْةِ الَبٍناِءَ، وهْو مْاْ ُيٌتمًاْشىّ ِمًعّ ٌجِهٍوَد اٍلهيْئة ٍالرٌامُية ِلّأن تْصٍبح أٌكٌثٌر اّستدٌامةَ .ٌيْعدَ ًنَظام اٌلريَادةْ فيِ ُتصمُيٍمْ َالطٌاَقَةّ والبيٌئّةَ بْرنّاِمٍجاً لإصٌدارِ ّالُشهَاداًت َالْخِاٌصْةُ بْاِستُيْفاًءْ معاٌييرْ اٌلمباْنيِ َالٍخضراُء ّيهدفً ِإلىٍ ْتكريُم ٍأفضٌل استْرَاتيجَياُتْ تصًميم َاُلمٍباَني وًمَمارسًاّت الّبنُاْء ٍ.ْ وًيِكرمِ ْاُلَبًرُناٌمِجٌ َاِلمشِاّرًيعَ اِلتيَ تتّبعِ ٌمعاّييُرٌ ُبِيُئّيَة ٌعَاَليّةٌ ًخاصةُ بّاٌلاُستدامة،ً ٍوكفٌاٌءٍة استهٌلاّكٌ الٌمياهِ والطًاقةَ، وٌالُاسًتغلاٍلٌ اٌلُأًمثلُ للٌمواُدُ ُوِالمَوْاْرِدَ،ً ِوجوٍدًةً وٍسّلاٍمةُ ُالِبّيَئةْ الَداخًليّة،َ وُجمَيعُهِاّ ّأمًوٌر تِؤدي ٍإٌلىِ الْحد مَنً ِاٍنٌبعاُث الًغٍازّاتْ ِالتَيٍ ْتْسْبُبَ ًاّلاٍحتباٍسُ ُاّلحَراُريً .ً وَقْاٍلُ َالٌسِويّدي، نّاٍئبٌ المًدْيْرَ ُالٌعامِ ْلَقطٌاعْ ٍالْخٌدّمات ْاِلْمساندَة:ِ \"تًسهمّ ّالمباِنْيُ َالحُاًصٍلة ِعًلِىَ ٍشهَاَدة ّالرٍياٌدٍةٌ ًفيّ ْتصمُيمً اّلطُاْقة ٍوْالبًيِئةً ٌفْيٍ خلٌقً ْأثٍر إَيُجٍاٌبًي علىٌ صحةِ ْمًسَتخًدّمًيّهاُ،َ باِلُإضافةٌ ٌإلًىٌ ٌتّشَجٌيِعً اسٍتخًدامٍ ٍاّلطَاَقة اٍلنظَيٍفة ٌوُالمَتجْدُدْة . ُوًفِي ّإطَاٌرً ِرؤٌيتنِا لٌتعّزيْز ٌالمُماٍرساْتِ َالُصِدٍيقًةّ ّللُبيئةٍ،ٌ ُقمنَاُ ْبتّطبيقّ أسالُيْب وّتٌقنيٌات رائدة تَمكنًنًاَ ٌمن اَلِمٍسُاهْمٍةْ فيُ تُقّلًيلِ ُاَلأٌثرُ ٍاْلِبيئي َالعّاٍلًميَ اٌلَنْاتجِ عن ٍانًبِعٍاٌثّ ٍاًلغازاِتُ ٍاٍلٍضِاُرةٍ . ِوْنُحنٍ ِنٍشجّع الِجٍمِيعِ ُفٍي دوّلٌةِ ّاَلٌإمْاٍراّت عْلُىِ ّأخِذ مثل هٍذَه ُالَمًبادراْت على ُمحملٌ الْجد لَإًحْداٍث ٌتّحَوٌل في ٍطرَيقًةُ ِتٍفُكيٌر َاُلًشٌركّاتِ ٍحولِ كَيفًيةُ ْتٌصميم ًوبٍناء ْوّصيَانّةْ ِوتشَغيٌل َالمبانُيٌ ْواٍلمجٌمٌّعٍاَتٍ ٌاُلٍعٌمرْاِنيةٌ ٍعلًىٌ ٍمًستٍوٌىٌ اّلّمًنٌطقة\"ِ .ٍوًقامت الهيئة َالًعاِمةُ لِتنُظٌيٌمُ ٍقَطاَعّ ِاْلًاتِصٌاَلات ٍبُتحرِِّي ّوتطبيقُ ًحلُول ٍمبتًكرِةً وبدًيٍلًةّ لُتعّزًيزٍ ِاٌسّتِداِمةِ اِلعّمُلّياٍت التجًارًية وَخفضً الٌتكالٌيَف، ٍواّلَأِهًمّ منِ ُذلكِ ْاٌلُمْسّاهٍمُةٌ في ٍبِيئةٍ ّعِاًلمِية ٍأٌكٍثِر ْصحة وَنظافّةٍ لَلأجًيْاّل الًقاِدُمة .َ وّتنتجُ الهيٌئِةٍ ِحالياًٌ بفضل ًالتقنيات الُحدٍيِثَة ّالمتوِفًرةّ ُفي ٌالمُبنىَ ّ8ٍ .28ِ ْكًيٍلو وْاطٌ ْساٍعي َيِوٌميٌاً منْ اًلطاقّة اّلٍشمسيّةٌ الّتيٍ ًتْستخدًمْ فّي ٍإِناٌرَةّ َواًجًهٌة ًمبنًى ّاِلهّيئة في اُللُيلْ،ٌ بَالإضافةِ إلًى ُ1ّ2ٍ مَترَ مَكعٌب أٍسٌبٌوّعياًّْ مّن ًالمْاء ِالُمعاْد َتدويرهٌ ّوْاَلذٌيٌ يِستَخدمّ ْفي أّعَماِلٍ اًلري وْغيٌرهٍا ًمنٌ ْاْلٍاِحتٌياْجات اِلَأخرُىُ ّ.ْ</th>\n",
              "      <td>1</td>\n",
              "      <td>Tech</td>\n",
              "    </tr>\n",
              "    <tr>\n",
              "      <th>https://example.com/resource/دّبٌي:ِ «ْالخّلِيجَ» ٌالّتزّاًماًّ ًبرٍؤيةِ َصاًحٍب الٍسمُوً ِاّلشًيْخ ْمحٌمد بَنٌ ِراشدٍ آل مكّتٍوُم،ّ ناٍئب رْئيس ِالدْولٍة َرئيسُ َمٍجّلسْ اٌلَوٌزٌرْاءّ ُحَاكَمً ًدُبيْ، رٍعُاه اللُهٌ، ًبتحٍويل دبٍي َإلى مدَينةُ ًذكُيَة، أعلنٍت غِرِفةٌ تجٍاُرَة ُوْصًناعْةٍ دًبْي عَن إٍطلٍاّق منصٌةٍ ًذُكيًة للًمعْلومات ْالَائّتمِانُيَة تتيحً لمْجّتِمع الأعماٌلً الٍحصوٌل علٍى ًاُلمٍعٌلوَمات ًاِلتي يحتاٌجون الٌيًهْا ٍحٌوًل ُشَركَاْئًهٍم ْاْلمٌحَتْمُلين.ّوّجاُءً ُإطلاٌق المُنٍصةَ خَلالِ مًشارْكةً اٌلغُرفة فيْ فعُالْياُت ّ«أسبَوعّ ُجيتكسِ لَلتُقْنًيِةْ ِ20ُ16»ّ،ٌ لِتعزٍز مفَهٍوم َمجتٌمًع الٍأُعماٌلٌ ّالذِكَي، وُتَمُكّنٍ َأَعُضِاّءٌ غّرٍفٍة دبيٍ ومّكْوناتً َمْجّتمَعَ ْالأعٍمالْ ٍمِن تّوّفير وقتهَمُ وجَهُدُهٍم فُيٌ اتّخاْذ ُاُلّقرِارًاٍت َاّلٌاسْتْثُمارّيْة ُفٌيُ ٍسوًقٌ العمْلُ،ُ ْوًتٍبياِن مدىُ صَلٌابة اًلوضْعّ ًاِلَمَالَيَ وٍمٍتانتٍه للشٌركاءٌ اَلمحًتمّليْن.ً ِوَتٌعتّبرْ ٌاٍلّمُنِصة اَلْذكْيُةْ ًنٍقْلة نوّعُية فيْ مَجَاْلّ ٌتوٍفُير اْلمعٍلٍوماتِ َلُلشركاتّ، حّيث ٌتتٍضْمنً مٌعُلِوٌمات محّدثّة ًودِقْيقٍة ُعٍن مُجٍموٍعٌة ِمْنٍ اٍلْمؤشْراٌت التُجارِيٍةّ ًوالاُقتَصِاديْة ذاَت اًلعلِاٌقًةْ بًالُشٌرًكات ٍتّسْاّعد ٍفي ُتٍنِظًيٍم ًاٍلٌمْخاطٍرُ اّلمًتَعَلقًةْ بًاٍلتًعاْمْلَاتِ التجاْريةّ مع ًهذهً الُشٌركاّتٍ،ْ وٌتسٌرِيعِ عِمُليِةْ ْاٌتخاذ ْاٌلًقرارات ٌالاّستثًمْاريةِ اًلّمُبِنٍيةْ عُلّى ْاّلًدقة.َ ِكَمِا تتٍيح ٍالمِنًصُة ُلٌمسِتّخدِميُهِا فًرصْةُ اْلْاٌطُلاع ٍعَلًىً دُرْاُسّات ُوِأٍبحَاثّ ٍمتًنِوّعٌة ُتٌفيدً ٌالِمَستِثِمّرين وْمِجتمَعّ ّاٍلًأِعٍمالْ.ّ ٍكمٌا تُوفًر اّلمٌنصٍة تّقٌاريٌرَ ُاَئتْمٍاُنيًةٍ لتٍقًييمْ ِالشرَكَات واٍلتحققٌ منْ قدٌرَاِتهم اُلمًاليُةُ إَضافةُ إلُى توٌفيرٍ ّتقٍارْيَرً خُاًصِةٌ ْحوٌلِ صادرَاَتٌ ُوِإعاَدّة صُاًدّرّات ّالشركات،ْ تشمٌلً تقاٌرْيْرُ مٌعلْوِمْاتُيةَ َحوٌلِ دوْلٍ مّعيٍنةُ، ْوتقارُير ْأخرى حولٍ منتجاّتّ ٌمٌحّدٍدةُ.ٍ</th>\n",
              "      <td>1</td>\n",
              "      <td>Tech</td>\n",
              "    </tr>\n",
              "    <tr>\n",
              "      <th>https://example.com/resource/دّبٌي:َ«ًاُلخليجّ»ْقِال سّعيٍدْ اْلظٍاِهٍرٌي، اْلًرٍئيسَ الِتِنًفيِذٍي لٍشٌرٌكُةً َسمارْتٌ وًرِلّد:ً «إنه ٍمعّ ْمضيَ ُدوٍلةّ الُإّمارِاتٌ ُقدمُاًْ ٌلجٌهْة ٍتُبّنٌيَ اُلذُكاء اُلاُصطٌناعَي ومِوًاُصٌلةٍ َتطَوير اِلاقِتٌصِاد القائَم عٌلى الُمعرفّةَ،ُ تُنًتُهًز اْلُشُرْكات ُاٍلًعاُملةُ ٍفِي َاْلّدوِلِة هذِهُ اًلُفرصْة لمٍواُكبةٌ ٌهْذاْ ًالَتْوجهَ، واّلْاستفاَدٍة ٌمنْهٌ بَدَلاً ُمٌنً ًاَلْوِقوُعْ ٍضْحَيْةّ َعًدم مٌواٍكٌبُة ْاٍلتطوْرُ اُلتِكٌنٍولّوّجيُ.ِ ُكانت ًكْاِفةٌ ٍالاستثَمُاراتٍ في ًدولةُ اٍلإُماراَتُ ًقد ًسٍجْلت ارْتّفٌاّعاً ٍبنٍسُبةِ 70ُ% ّفي ٍغْضٌوٍنٌ ًالسٍنوٌاتَ اَلُثلًاًث الٍماضٌية، فًي حَيِن يِتٌوقع خِبّراٌء ًاُقتٌصاديٍون ْأنْ ْتٍلِامٌسٌ ٌاُلَاسٍتْثماراًت َفُيً َالٌدٍولٍة حاجزْ 3ُ3 مليِارٌ ِدِرِهْمْ فًيُ نهَاٌية العام ًاْلحاٍليٍ.وٍأضاٍف اٍلظاْهرَي َخّلٌاِلً ُاجّتمّاّع ٌمْجلًسْ ًكّباَر َمسؤًولّي الْمِعٌلَومُاٍتُ ْفِيٍ ًدوْلَةٌ الإمِاٍراتٍ:ٌ ّ«تتبوأِ دْولٌة ِالٍإمّارًاتِ مركُز ُالصدُارًةَ لْجًهّة تِبًنَيْ َأَحدِث التٌكنولوجيُاتٍ؛ ذلكُ ِأّن التكًنٍولوِجّياٍ ٍهيْ ّاْلتيَ َتوٌفّرٍ الٌدِفع لِلِأعِمٍاَلْ ِحالياًِ،ِ وٍنْحتِاج ّبْوصّفناْ من ًكَبّاِر ًمُسؤِولي الٍمعلِوٌماُتُ لأٌنِ نرٍى أثًرّ الذًكٌاًءِ الاِصطناُعي ٌعلىِ ّعملَيّاتنًا،َ وّاٌلكيفّيُةُ الّتيٌ تمُكننِاّ من اسْتًغٍلالْ هِذِاً ٍاّلِأثّرُ. ًكْمّاَ يتَعّلٍق اِلٍأمٌر باًلَتدريًبٍ،ُ وٌتْدٍريٍبَ نظمنُاُ َوتدرٍيُب شٍبكاَتًنًاَ ْللوصْوَل ْإلِىُ كفاءٍات أَعلى»َ.ٍومْن ٌاُلمٍتوِقع ٌأُن تٍصٍل اّلإٍيُراُداتْ اْلًعاْلميّة ِلنْظمُ الِذكٌاّء ّالٌمعٌرِفُي ّوَاِلٌاصِطنّاعيِ ُإّلىَ 1ٌ2.ً5 ُمليٌار ّدولُار ُفيّ ٌاْلَعٌام ً20ُ17،َ ِأٍي ْبّزيادةْ قًدٍرهْاَ 5ّ9%ّ مقاٍرِنةُ ُباّلّعّاٍم 2ِ016؛ً ّوّذَلكُ وفًقَاًَ ٍلتوقعاَتٌ شُرًكة ُاًلِبِيانِاْت الٌدولية (إدك).وّوُفقٍاًَْ َللتٌوقّعِاًت، فٍإن ِالَإٍنفاِقً الَعٍاٍلمي علىٌ ًاٍلذٍكٌاء ّاًلمٍعٌرٍفي وٌاِلاْصٍطُناًعيٌ،ٍ َوهٌو مٌا ٌيطلق ِعلٍيه تًسًمْيَةّ اٍلثوَرْةُ اٍلَصَنْاعيّةْ ًالْرْابَعةْ، ِسًيٌتَابع رؤَية ٌاٍستثماًرْاتَ َكّبيرة ّللشَرًكاَت ًخِلّاِل اِلسنٌواّتُ ْالقًليلة ٌالقُاَدمَةً، مْحٍققاًًّ ٌمعَدَل ُنمْو ِسَنويُ مّرَكبَ َيبلغ َ5ِ4ً.ً4%ّ ًلغاٍيةُ اٌلعام ّ20ُ2ّ0ُ، ْعنٍدمِا ستصل ِاْلإّيُرَاًداتِ ّإٍلَى أكثر منْ ِ46 ْملٍيار دولًار.أٌمَا ّشٍرٍكْاٌتٍ ْدًولة اَلَإمٌاٍرٌاُت ّعلُىَ اختلُاًفَ قٌطُاعاتها،ً ٍبمٌاّ فِيً ذْلْك ُاّلٍرعِايْة َاٌلٌصحٌية ِوالتعٍلْيُم وَاًلنفط ّوالِغاز ّوالْطَيرٌاّن، فهّي ٍفي طريقًهٍاْ لبدُءْ دِمج َالنظٌمْ المعًرٌفيَة ُفّي ُأعّمٍاًلهْاً.ٌوْ ُقِال أْنطَونيً ِبتلر، ّكٍبيّرِ َمّسؤُوُلّيُ تكنَوِلَوجيٌا اُلسحاَبةَ في ٍشرٌكٍةٌ ِأٌيِ َبيّ إم ِاَلشُرق َالأّوّسطُ َوإفرٌيقيا،ٌ ُخلاُل ٌالاجتمُاعٍ: إنه مْنْ ِغيٌرٍ الّممكنّ حّالياًٌّ فٌصل اٌسّترْاُتيجِيةّ َاُلُأُعمِال ٌعُنِ الِتِكنوْلوْجِيًاٍ،ِ ٌوأّنُ الشركُات تٍسٌتخْدِم الْيُوم الْتكُنٌولِوجيات ٍاٌلِسْحاٍبَيةْ َوْاْلمعَرَفيُةٍ َلتّقّدٍيمّ ُاًلمزّيد ْمنِ ْاٍلْخبٌرُات اِلَمبَتًكرة ُلٍلًعْملًاْءّ.</th>\n",
              "      <td>1</td>\n",
              "      <td>Tech</td>\n",
              "    </tr>\n",
              "    <tr>\n",
              "      <th>https://example.com/resource/دّبٌي:ٌ ٌ«ٍاّلّخليجً»ّ ٍشٌهدً سوٌقّ ًدْبَي ًالمًاليْ تدٍاَوِلاِت ُبقيْمة ْ4ٍ3ْ6ِ.ّ970ٌ ِمَليْون درْهم، ُبتْنفّيِذ ُ3.ُ8ّ16 صفًقةٍ ٌتُوٍزعت علٌىَ ِ36ّ6.ْ540ُ ملٌيوّنٍ سْهم.ْ ًوأَغَلق َالمؤشر عُلىْ 3ٍ.َ5ٍ35.360ً نِقطِة َبًارٌتّفاعً وًقُدُرهٍ 2ّ3.ٌ590 نِقطَة تٍُمثل 0.ٍ6َ7%عن ُإغِلَاْقهِ الساْبقً.شهٍدَ الٌتٌداوِلٍ ّاُرتفاعِ َ2َ0ً ْشركة ُوهًبوٍط 1ٌ1ً ِشركةِ ُوَثّبات ْأسعاٍر 5 ّشركاًت،ٍ وُمًن ٌأّكثرِ َالْشًركاَت اِرتفَاعّاًَِ ْمّن ًحيَث اّلّتغير ٍفي أسعًارَها، «ُالًمشرق» بُإْغلٍاُق ٌ72ٌ دٍرَهَمُاًٌ بَنسبْة ُ8.َ9َ3%، ٌ«ُجُي ٌإفِ ٍإتُش» ًبٌإغِلاُقْ 1.َ0َ1 درٌهمّ ٍبنسْبًةِ 4ٍ.55َ%ً،ٌ «ٌأّمَانًاٍتّ» ْبْإْغلّاقُ 0ِ.91ً ًدّرَهمُ بنسٍبًةٌ ٍ3ٍ.ُ3%،ُ ّ«أِرٌيْج»ٍ ْبٌإغلّاق 1ّ.ُ6ُ ُدُرَهم ٌبنٌسبُةٍ 3ِ.2ِ3ٌ%ٌ.ّبيّنُماٍ كانٌت أَكِثر اُلشركاتً ٌاُنخفَاضٌاًَّ ُفي ٌأسعاٌرها،ً ْ«ُالٌإُمارات دُبىٍ الُوطنيً»ٌ ِبإغِلُاقٍ ُ8.ّ16َ دُرِهًمَ بٌنسبٌةٌ ِ2َ.39%َ، ً«ٍدبي اٌلإسلاميَة ِلِلُتأمًينْ»ً َبٌإغلٍاْق ُ0.ٌ58ٌ درّهّمٌ بنٍسٍبَة ً1.ٌ5ِ4%َ،ٌ ْ«ُاكْتتْاب» بَإًغلاقٌ 0.ٍ48ُ ِدرٍهِمٍ ٍبًنسبةِ ُ0ُ.َ82ُ0ْ%، «ّدرٍيك ٌآنَدٌ سكٌل» ًبَإغُلاًقّ ً0ٍ.ْ5 ّدٍرهٌم ُبنِسْبة 0َ.79%ّ.وًفيِمِاْ يٌتعِلُق بالّشٍركُاّت اَلأٌكثرً ُنْشٍاٌطاًًٌ ِمْنِ حيث قٍيمةّ اًلٌتًداوَلَ،ٌ َحٌقِقتٍ «َجّيّ ٍإٍفً اتّش»ْ ِتٍدّاًوًلاُتَ ِبقٍيمة ْ11َ5ّ.7َ7ّ6ً.156ُ,ّ17ٍ0 درٍهٍم،ٌ ثٌم ْ«أٍرٌابتًكٍ» ًبِقيمَةَ 5ٌ8َ.992.094,1ِ40 دٍرَهْم.أمًا بْالٌنٍسبٍةَ ُللشرٍكاٌت اٌلٌأٍكثّر نشاطاًٌ ِحٌسُبٍ حّجٌمّ التٌدْاول ًفقٌد ْتًم ٍتّداًوِل 11ٍ5.928ّ.494ٌ سهَمٍاًْ منْ «جيِ إف ْإًتُش»ٌ،َ ً5ٌ8.5ٌ54ّ.245َ ٍسهماًُ مٌن «أُماّناتَ»ً، ً3ْ8.ٌ62ُ8ُ.ْ418ْ سَهْماً مًن ّ«أًرُاٌبٌتُكٌ»،ِ ٍ3ْ0ً.139.ِ919 ٌسٌهّماًٍّ ٍمًنٍ ّ«ُدًبُىُ بارٍكَس».</th>\n",
              "      <td>1</td>\n",
              "      <td>Finance</td>\n",
              "    </tr>\n",
              "    <tr>\n",
              "      <th>https://example.com/resource/دّبٌي: ٍإيمانِ َعِبّدّ ٍاْللِه َآُلٌ ُعّلِي أًكدتً صفيةً جاّسٌمٌ ًاِلشامسّي،ْ ًمديرَةُ ِإّداٍرّة اُلمخِتٍبرٌاتً وُبنك اٌلدم ِفّي َوًزاِرّة اّلْصُحة ْووّقّايةُ ّالمجتْمعَ، ْأن ِاًلوزٍاُرِةٌ تٌعُتٌزَم إنُشاًءُ مختًبٌرّ ْطٍبّيٌ َفٌيٌ ْمٌسٌتّشفيًيٍ ًالِقاٍسميٌ وابن ِعمران ُفْيٌ ّرأِسٌ ّالخيمة،ُ ّوٌيٍصل عِدَدْ ِاُلمختبٍراًتً الٍتَاّبعةِ ًلًلوزّاٌرةً إْلًى ْ95ْ،َ مِنّهَا ُ14ٌ ًفي اْلمستٌشْفًياًتٌ، وِ6ٌ6 ٌفّيَ ِاٌلٌمراّكزٍ ًاَلُصحٍيةِ، ًو1ُ1َ لّلطب الوًقًائٍيْ، ْو4 مِتٍخّصصة ُتشْمل ٌفحّوٌصً ُمٍا قٌبل ُاًلّزِواْج، ِومركُز َخدَمِاتِ نّقُلً ُالدم وِاًلُأٍبَحاَثً َباّلًشارقَةّ،ٌ وٍوحدةُ الِمَلِاَرياٌ،ٌ ٍوّالبرْنْاِمِج اُلْوًطنيُ َلفحوص ِحدًيَثّي َالًولاًدةٍ فيٍ َأِبْوَظبي.وقٌاٍلَت ْالشٌامّسي:ٌ ٌيْوِجٌد إًقْبَاٍل علَىُ تِخِصصً َالمخِتُبرات َاُلطْبِيَةْ ّمنٌ ْاِلموُاطنْين، ٍولاْ سيٍمًا بعدٌ تَوْاًفٍر ّالًكْليات ْاٍلمعتمُدٌةَ ٍفي ّجّامَعات الٌدولةِ الْحكومِيْة ُوالًخْاَصةٍ اِلٍتِيً تْحًتٍوِي على بًرامَج لًدْراسْة ٌتْخْصص اٌلمخْتبّراتٍ ٌاًلطبيّةَ، ٍويشٍكّل ٌالٍمٍواطنون 37ْ.3َ% َمُن ْاِلّقَوىِ الّعاٌمًلةّ ْفيْهٌاِ. ٍوأُضًاَفت:ِ فِيّ ّعاِم 201َ4ْ ْحدًّثَ ٍنُظّامٍ التقّييم اّلخاص بالًأطباْء وَاِلفّنٍيًيٍنً وَوحّدً ِاًلنظْاَم فَي ٌاُلٌوزِاِرة وهيئٍتيْ الُصًحِةٌ فٍيُ ْدبي ِوأبْوظبٍيٍ،ِ ٌبِحُيّثّ تكّوًنُ ُشروط الّتقْيَيٍمً ُوًالَامِتًحًاناٌتَ َبٌحٍسًبً ٌالمعايير ِاٌلٍعُالميةُ ْاّلٌمَعّتَمدةّ،ٌ كُما ّأّنٌ اُلٍلجنَة ِالٍمرٍكُزيُةَ ْللًتقِيِيمٍ اِلّتي ًتًتُكوِنَ مْنُ أعضّاءٍ من ٍجًمُيع اِلَمؤًسْساْتُ َالْصحْية اُلحكْوميةْ ّفي الَدولة، ّتعٍقَد ٍاّجَتَمًاعْاّت ًدِوريٍة ِمْنتّظمٍةً لُمٍرّاُجعة الُمِستجداٍتَ وتِحدُيُث ٍهذًه َالْمعّايٌيًرَ بّنٌاء َعلّى اِلٌمستٍجداتً.ُ ْوًأكّدًت أنُ اًلوزُارة ٌاَستقٌدٌمت ِعّددٍاًِ ٍمٍن اّلأجٌهْزة ْالحديثة فَي ٍاّلْمختٍبِرٍاتّ،ّ وعٍملت عٌلى تطِويّر بعّض ًالخِدِماتَ لٍلحصوًل على ِنتائجِ الَفحوص فِي وّقٍتٍ ًأْقٌل،ُ ّوتّركُز الٍصٌحّةْ ُكثِيْراً ْعلًىٌ ُاٌخّتيارُ ٌالقوْىَ ٌاُلٌعامَلُة فَي الّمٌخٍتًبرِاّت،ِ ّحيثً ُيشِترط َالحصِوّلْ علَى شِهاْدَة تقًيِيم مًنْ ُإًدّاِرَة ّالْتّرْاخيْصٍ َوًالّتًقييٍمًات بّالُوزُاٍرةٌ،ْ ِبعدٍ َاستٍيفْاء شرٍوّط الًدرْاَسة واّلخبِرِةَ ٌواٍجتٌياز ِامْتحُاِنْاّتُ اٌلٍوَزّارَةُ، ِوّبِعدِ مباُشًرةً َاُلعمّلٌ يخُضعٌ َالّموّظف الجدٍيدْ َلِفٌتّرِة تّدريُبيةْ َمن 3ّ-ٍ4 أشَهر ْللتٍدُرٌّبٌ عٍلِى ٍالتٍقٌنيٍاِت ّالمْسَتَخدّمًة ُفي اْلِمخّتُبًرًاُتْ، ُثّمّ يحوٍّْلٍ إِلى ٍالٌقسَم ُاْلمعٍنيٍ.ْ</th>\n",
              "      <td>1</td>\n",
              "      <td>Medical</td>\n",
              "    </tr>\n",
              "  </tbody>\n",
              "</table>\n",
              "</div>\n",
              "    <div class=\"colab-df-buttons\">\n",
              "\n",
              "  <div class=\"colab-df-container\">\n",
              "    <button class=\"colab-df-convert\" onclick=\"convertToInteractive('df-b75dd1b0-47c1-4f09-9ebc-47807fcba030')\"\n",
              "            title=\"Convert this dataframe to an interactive table.\"\n",
              "            style=\"display:none;\">\n",
              "\n",
              "  <svg xmlns=\"http://www.w3.org/2000/svg\" height=\"24px\" viewBox=\"0 -960 960 960\">\n",
              "    <path d=\"M120-120v-720h720v720H120Zm60-500h600v-160H180v160Zm220 220h160v-160H400v160Zm0 220h160v-160H400v160ZM180-400h160v-160H180v160Zm440 0h160v-160H620v160ZM180-180h160v-160H180v160Zm440 0h160v-160H620v160Z\"/>\n",
              "  </svg>\n",
              "    </button>\n",
              "\n",
              "  <style>\n",
              "    .colab-df-container {\n",
              "      display:flex;\n",
              "      gap: 12px;\n",
              "    }\n",
              "\n",
              "    .colab-df-convert {\n",
              "      background-color: #E8F0FE;\n",
              "      border: none;\n",
              "      border-radius: 50%;\n",
              "      cursor: pointer;\n",
              "      display: none;\n",
              "      fill: #1967D2;\n",
              "      height: 32px;\n",
              "      padding: 0 0 0 0;\n",
              "      width: 32px;\n",
              "    }\n",
              "\n",
              "    .colab-df-convert:hover {\n",
              "      background-color: #E2EBFA;\n",
              "      box-shadow: 0px 1px 2px rgba(60, 64, 67, 0.3), 0px 1px 3px 1px rgba(60, 64, 67, 0.15);\n",
              "      fill: #174EA6;\n",
              "    }\n",
              "\n",
              "    .colab-df-buttons div {\n",
              "      margin-bottom: 4px;\n",
              "    }\n",
              "\n",
              "    [theme=dark] .colab-df-convert {\n",
              "      background-color: #3B4455;\n",
              "      fill: #D2E3FC;\n",
              "    }\n",
              "\n",
              "    [theme=dark] .colab-df-convert:hover {\n",
              "      background-color: #434B5C;\n",
              "      box-shadow: 0px 1px 3px 1px rgba(0, 0, 0, 0.15);\n",
              "      filter: drop-shadow(0px 1px 2px rgba(0, 0, 0, 0.3));\n",
              "      fill: #FFFFFF;\n",
              "    }\n",
              "  </style>\n",
              "\n",
              "    <script>\n",
              "      const buttonEl =\n",
              "        document.querySelector('#df-b75dd1b0-47c1-4f09-9ebc-47807fcba030 button.colab-df-convert');\n",
              "      buttonEl.style.display =\n",
              "        google.colab.kernel.accessAllowed ? 'block' : 'none';\n",
              "\n",
              "      async function convertToInteractive(key) {\n",
              "        const element = document.querySelector('#df-b75dd1b0-47c1-4f09-9ebc-47807fcba030');\n",
              "        const dataTable =\n",
              "          await google.colab.kernel.invokeFunction('convertToInteractive',\n",
              "                                                    [key], {});\n",
              "        if (!dataTable) return;\n",
              "\n",
              "        const docLinkHtml = 'Like what you see? Visit the ' +\n",
              "          '<a target=\"_blank\" href=https://colab.research.google.com/notebooks/data_table.ipynb>data table notebook</a>'\n",
              "          + ' to learn more about interactive tables.';\n",
              "        element.innerHTML = '';\n",
              "        dataTable['output_type'] = 'display_data';\n",
              "        await google.colab.output.renderOutput(dataTable, element);\n",
              "        const docLink = document.createElement('div');\n",
              "        docLink.innerHTML = docLinkHtml;\n",
              "        element.appendChild(docLink);\n",
              "      }\n",
              "    </script>\n",
              "  </div>\n",
              "\n",
              "\n",
              "<div id=\"df-c3084235-0150-474b-9aa5-745e807a810c\">\n",
              "  <button class=\"colab-df-quickchart\" onclick=\"quickchart('df-c3084235-0150-474b-9aa5-745e807a810c')\"\n",
              "            title=\"Suggest charts\"\n",
              "            style=\"display:none;\">\n",
              "\n",
              "<svg xmlns=\"http://www.w3.org/2000/svg\" height=\"24px\"viewBox=\"0 0 24 24\"\n",
              "     width=\"24px\">\n",
              "    <g>\n",
              "        <path d=\"M19 3H5c-1.1 0-2 .9-2 2v14c0 1.1.9 2 2 2h14c1.1 0 2-.9 2-2V5c0-1.1-.9-2-2-2zM9 17H7v-7h2v7zm4 0h-2V7h2v10zm4 0h-2v-4h2v4z\"/>\n",
              "    </g>\n",
              "</svg>\n",
              "  </button>\n",
              "\n",
              "<style>\n",
              "  .colab-df-quickchart {\n",
              "      --bg-color: #E8F0FE;\n",
              "      --fill-color: #1967D2;\n",
              "      --hover-bg-color: #E2EBFA;\n",
              "      --hover-fill-color: #174EA6;\n",
              "      --disabled-fill-color: #AAA;\n",
              "      --disabled-bg-color: #DDD;\n",
              "  }\n",
              "\n",
              "  [theme=dark] .colab-df-quickchart {\n",
              "      --bg-color: #3B4455;\n",
              "      --fill-color: #D2E3FC;\n",
              "      --hover-bg-color: #434B5C;\n",
              "      --hover-fill-color: #FFFFFF;\n",
              "      --disabled-bg-color: #3B4455;\n",
              "      --disabled-fill-color: #666;\n",
              "  }\n",
              "\n",
              "  .colab-df-quickchart {\n",
              "    background-color: var(--bg-color);\n",
              "    border: none;\n",
              "    border-radius: 50%;\n",
              "    cursor: pointer;\n",
              "    display: none;\n",
              "    fill: var(--fill-color);\n",
              "    height: 32px;\n",
              "    padding: 0;\n",
              "    width: 32px;\n",
              "  }\n",
              "\n",
              "  .colab-df-quickchart:hover {\n",
              "    background-color: var(--hover-bg-color);\n",
              "    box-shadow: 0 1px 2px rgba(60, 64, 67, 0.3), 0 1px 3px 1px rgba(60, 64, 67, 0.15);\n",
              "    fill: var(--button-hover-fill-color);\n",
              "  }\n",
              "\n",
              "  .colab-df-quickchart-complete:disabled,\n",
              "  .colab-df-quickchart-complete:disabled:hover {\n",
              "    background-color: var(--disabled-bg-color);\n",
              "    fill: var(--disabled-fill-color);\n",
              "    box-shadow: none;\n",
              "  }\n",
              "\n",
              "  .colab-df-spinner {\n",
              "    border: 2px solid var(--fill-color);\n",
              "    border-color: transparent;\n",
              "    border-bottom-color: var(--fill-color);\n",
              "    animation:\n",
              "      spin 1s steps(1) infinite;\n",
              "  }\n",
              "\n",
              "  @keyframes spin {\n",
              "    0% {\n",
              "      border-color: transparent;\n",
              "      border-bottom-color: var(--fill-color);\n",
              "      border-left-color: var(--fill-color);\n",
              "    }\n",
              "    20% {\n",
              "      border-color: transparent;\n",
              "      border-left-color: var(--fill-color);\n",
              "      border-top-color: var(--fill-color);\n",
              "    }\n",
              "    30% {\n",
              "      border-color: transparent;\n",
              "      border-left-color: var(--fill-color);\n",
              "      border-top-color: var(--fill-color);\n",
              "      border-right-color: var(--fill-color);\n",
              "    }\n",
              "    40% {\n",
              "      border-color: transparent;\n",
              "      border-right-color: var(--fill-color);\n",
              "      border-top-color: var(--fill-color);\n",
              "    }\n",
              "    60% {\n",
              "      border-color: transparent;\n",
              "      border-right-color: var(--fill-color);\n",
              "    }\n",
              "    80% {\n",
              "      border-color: transparent;\n",
              "      border-right-color: var(--fill-color);\n",
              "      border-bottom-color: var(--fill-color);\n",
              "    }\n",
              "    90% {\n",
              "      border-color: transparent;\n",
              "      border-bottom-color: var(--fill-color);\n",
              "    }\n",
              "  }\n",
              "</style>\n",
              "\n",
              "  <script>\n",
              "    async function quickchart(key) {\n",
              "      const quickchartButtonEl =\n",
              "        document.querySelector('#' + key + ' button');\n",
              "      quickchartButtonEl.disabled = true;  // To prevent multiple clicks.\n",
              "      quickchartButtonEl.classList.add('colab-df-spinner');\n",
              "      try {\n",
              "        const charts = await google.colab.kernel.invokeFunction(\n",
              "            'suggestCharts', [key], {});\n",
              "      } catch (error) {\n",
              "        console.error('Error during call to suggestCharts:', error);\n",
              "      }\n",
              "      quickchartButtonEl.classList.remove('colab-df-spinner');\n",
              "      quickchartButtonEl.classList.add('colab-df-quickchart-complete');\n",
              "    }\n",
              "    (() => {\n",
              "      let quickchartButtonEl =\n",
              "        document.querySelector('#df-c3084235-0150-474b-9aa5-745e807a810c button');\n",
              "      quickchartButtonEl.style.display =\n",
              "        google.colab.kernel.accessAllowed ? 'block' : 'none';\n",
              "    })();\n",
              "  </script>\n",
              "</div>\n",
              "\n",
              "    </div>\n",
              "  </div>\n"
            ],
            "application/vnd.google.colaboratory.intrinsic+json": {
              "type": "dataframe",
              "variable_name": "top",
              "summary": "{\n  \"name\": \"top\",\n  \"rows\": 25541,\n  \"fields\": [\n    {\n      \"column\": \"text\",\n      \"properties\": {\n        \"dtype\": \"string\",\n        \"num_unique_values\": 25541,\n        \"samples\": [\n          \"https://example.com/resource/\\u0635\\u0639\\u062f \\u064e\\u0645\\u064c\\u0624\\u064e\\u0634\\u0652\\u0631 \\u0633\\u0648\\u0650\\u0642 \\u0623\\u0628\\u0648\\u0638\\u0628\\u0651\\u064a \\u064e\\u0644\\u0644\\u0623\\u0648\\u064d\\u0631\\u0627\\u0642\\u064e \\u0652\\u0627\\u0651\\u0644\\u064b\\u0645\\u0627\\u064d\\u0644\\u064a\\u064d\\u0629 \\u064b27 \\u0651.\\u064f5\\u064f6 \\u0652\\u0646\\u064c\\u0642\\u0637\\u064e\\u0629\\u064b \\u064d\\u0646\\u062d\\u0648 \\u064d8\\u064b2 .1 \\u064d\\u0641\\u064d\\u064a \\u0627\\u0644\\u064c\\u0645\\u0626\\u0652\\u0629 \\u0645\\u062a\\u064c\\u062c\\u064d\\u0627\\u064b\\u0648\\u0632\\u064d\\u0627\\u064f\\u064b \\u0645\\u064d\\u0633\\u062a\\u0650\\u0648\\u064c\\u0649\\u064d \\u064c31\\u064d50\\u064f \\u064e\\u0646\\u0642\\u0637\\u064c\\u0629\\u064f \\u0652\\u0648\\u064f\\u0623\\u063a\\u064f\\u0644\\u0642\\u0650 \\u0639\\u0652\\u0646\\u062f\\u064b \\u06510\\u064d3\\u0652 \\u064f.\\u064c3153 \\u0646\\u0642\\u0651\\u0637\\u064f\\u0629 \\u0628\\u0651\\u062f\\u0652\\u0639\\u0645\\u0652 \\u0631\\u0626\\u064a\\u0633\\u064e \\u064d\\u0645\\u0646 \\u0650\\u0642\\u0637\\u0627\\u0639\\u064f\\u0627\\u062a\\u0651 \\u0627\\u0644\\u0650\\u0628\\u0646\\u064f\\u0648\\u064e\\u0643\\u064b \\u0652\\u0648\\u0650\\u0627\\u0644\\u0650\\u0627\\u064d\\u0633\\u062a\\u062b\\u0645\\u0652\\u0627\\u0631 \\u0652\\u0648\\u0627\\u064e\\u0644\\u0652\\u062e\\u064c\\u062f\\u0645\\u0627\\u064f\\u062a \\u064e\\u0627\\u0644\\u0645\\u0627\\u064c\\u0644\\u064a\\u0629\\u064f \\u0648\\u0627\\u0644\\u0650\\u0627\\u064f\\u062a\\u0651\\u0635\\u064c\\u0627\\u064c\\u0644\\u0652\\u0627\\u0652\\u062a \\u0650\\u0648\\u064b\\u0627\\u0644\\u0639\\u0642\\u0627\\u0631\\u060c\\u064e \\u0648\\u062c\\u0651\\u0631\\u0649\\u0651 \\u062a\\u062f\\u0627\\u0648\\u0651\\u0644 \\u0623\\u0652\\u0633\\u0647\\u064b\\u0645\\u064c \\u065128\\u0650 \\u0634\\u064d\\u0631\\u0650\\u0643\\u064d\\u0629 \\u064c\\u0628\\u064e\\u062d\\u064f\\u062c\\u0645 \\u064b4 .\\u064e5\\u064b3\\u0651 \\u0645\\u0644\\u064e\\u064a\\u0648\\u0646 \\u064b\\u0633\\u064b\\u0647\\u064e\\u0645 \\u0651\\u0646\\u0641\\u064d\\u0630\\u062a \\u064f\\u0645\\u0651\\u0646 \\u062e\\u064f\\u0644\\u0650\\u0627\\u0644\\u064d 9\\u064c7\\u064c2 \\u0635\\u0641\\u064d\\u0642\\u0629 \\u0628\\u064b\\u0642\\u064a\\u0651\\u0645\\u064b\\u0629 5 \\u064e.\\u064b10\\u064d0\\u064f \\u064c\\u0645\\u0652\\u0644\\u064a\\u0648\\u064d\\u0646\\u064e \\u064e\\u062f\\u0650\\u0631\\u0647\\u0651\\u0645\\u064c .\\u0650 \\u064e\\u0648\\u0635\\u0650\\u0639\\u062f\\u064f\\u062a \\u064f\\u0623\\u0633\\u0639\\u0627\\u0631\\u064e \\u0650\\u0623\\u064e\\u0633\\u064d\\u0647\\u064c\\u0645 1\\u064c6\\u0651 \\u0634\\u064d\\u0631\\u0643\\u0651\\u0629 \\u0645\\u064e\\u0646\\u064c \\u064c\\u0623\\u0635\\u064c\\u0644 28 \\u0650\\u0634\\u0631\\u0643\\u064c\\u0629 \\u064e\\u062c\\u0651\\u0631\\u0651\\u0649\\u064b \\u064f\\u062a\\u064f\\u062f\\u064b\\u0627\\u0648\\u0644 \\u0652\\u0623\\u0633\\u0647\\u064e\\u0645\\u0647\\u0651\\u0627\\u064c \\u064c\\u0623\\u0645\\u0651\\u0633\\u064e\\u060c\\u0650 \\u064c\\u0641\\u064a\\u0650 \\u064f\\u062d\\u064a\\u0646\\u0651 \\u064f\\u0627\\u0633\\u064c\\u062a\\u0642\\u0651\\u0631\\u062a\\u0651 \\u064c\\u0623\\u064c\\u0633\\u0639\\u0651\\u0627\\u064d\\u0631 \\u0652\\u0623\\u0633\\u064c\\u0647\\u0645 \\u064e7\\u0651 \\u064c\\u0634\\u0631\\u064e\\u0643\\u064c\\u0627\\u0650\\u062a\\u060c \\u0648\\u064b\\u0627\\u0652\\u0646\\u062e\\u0641\\u0636\\u062a\\u064d \\u064d\\u0623\\u064d\\u0633\\u0652\\u0639\\u0651\\u0627\\u0650\\u0631 \\u0623\\u0633\\u0650\\u0647\\u0645\\u064f \\u06525 \\u064b\\u0634\\u064d\\u0631\\u064b\\u0643\\u064e\\u0627\\u064c\\u062a \\u0652\\u0623\\u062e\\u0631\\u0652\\u0649\\u0652 .\\u0651 \\u0648\\u0631\\u0643\\u0651\\u0632 \\u0651\\u0627\\u0644\\u0645\\u0633\\u064b\\u062a\\u064d\\u062b\\u064b\\u0645\\u064b\\u0631\\u0648\\u0646 \\u064f\\u062a\\u062f\\u0650\\u0627\\u0650\\u0648\\u064e\\u0644\\u0650\\u0627\\u0650\\u062a\\u0647\\u064c\\u0645\\u064f \\u0651\\u0639\\u0652\\u0644\\u0651\\u0649 \\u064d\\u0623\\u0633\\u064f\\u0647\\u064e\\u0645\\u064c \\u064d\\u0627\\u064c\\u062a\\u064c\\u0635\\u0627\\u064d\\u0644\\u0627\\u062a \\u0648\\u0652\\u0627\\u064b\\u0644\\u0628\\u0646\\u0650\\u0648\\u064d\\u0643\\u064e \\u0628\\u0634\\u0643\\u064c\\u0644 \\u0631\\u0626\\u064e\\u064a\\u064f\\u0633\\u060c\\u064f \\u0650\\u0648\\u064e\\u062a\\u0635\\u062f\\u0652\\u0631\\u064f \\u0633\\u0647\\u0645 \\u0650\\u0627\\u064e\\u062a\\u064d\\u0635\\u0650\\u0627\\u0644\\u0652\\u0627\\u062a \\u0650\\u0642\\u0627\\u064d\\u0626\\u064c\\u0645\\u0629\\u064f \\u064e\\u0627\\u0650\\u0644\\u0623\\u0633\\u0651\\u0647\\u0645 \\u064e\\u0627\\u0644\\u064f\\u0623\\u0643\\u0652\\u062b\\u0631\\u064c \\u0652\\u062a\\u064e\\u062f\\u0627\\u064e\\u0648\\u0644\\u0627\\u064b\\u064d \\u064d\\u0628\\u064b\\u0642\\u0650\\u064a\\u0645\\u0629 \\u06511 \\u0651.\\u06511\\u064d7\\u064e \\u0645\\u064c\\u0644\\u064f\\u064a\\u064d\\u0648\\u0652\\u0646\\u064f \\u0652\\u062f\\u0631\\u064e\\u0647\\u0650\\u0645 \\u0648\\u062d\\u0642\\u0642 \\u064d\\u0627\\u0644\\u0633\\u064e\\u0647\\u0645\\u064d \\u0645\\u064d\\u0643\\u0627\\u0633\\u0628 \\u0642\\u064e\\u064a\\u064f\\u0645\\u0652\\u062a\\u0647\\u0627\\u064d \\u065110\\u064c \\u064e\\u0641\\u064b\\u0644\\u0652\\u0648\\u0633\\u064b \\u0651\\u0648\\u0623\\u063a\\u0644\\u0642\\u064b \\u0639\\u0646\\u062f 0\\u064d5\\u064c .\\u064b1\\u064b0 \\u062f\\u064d\\u0631\\u0647\\u0645\\u0652\\u060c\\u0650 \\u062a\\u0644\\u0627\\u064b\\u0647\\u064f \\u0633\\u0647\\u0645 \\u0628\\u0646\\u064c\\u0643 \\u064d\\u0627\\u0644\\u064d\\u062e\\u0644\\u064a\\u0652\\u062c\\u0650 \\u0627\\u0644\\u0623\\u0648\\u0644\\u064f \\u0628\\u0650\\u062a\\u064c\\u062f\\u0627\\u0648\\u064f\\u0644\\u0627\\u062a\\u064e \\u064c\\u0642\\u064a\\u0645\\u0652\\u062a\\u0647\\u0627 \\u064d5\\u0651 .\\u064e1\\u064d5\\u064c \\u0651\\u0645\\u0651\\u0644\\u064a\\u064f\\u0648\\u064f\\u0646\\u0650 \\u062f\\u0631\\u064f\\u0647\\u064e\\u0645 \\u0645\\u062d\\u0650\\u0642\\u0642\\u064b\\u0627\\u064b\\u064e \\u0650\\u0645\\u0643\\u064d\\u0627\\u0633\\u064b\\u0628\\u064c \\u064f\\u0642\\u064e\\u064a\\u064f\\u0645\\u062a\\u0650\\u0647\\u0627\\u064b 5\\u064b5 \\u0641\\u0644\\u0650\\u0633\\u0650\\u0627\\u064e\\u064b\\u064d \\u0625\\u0644\\u0649 \\u065105 .\\u064b51\\u064d \\u064e\\u062f\\u0631\\u0647\\u064d\\u0645 \\u064e.\\u0650\\u0648\\u062a\\u0635\\u064f\\u062f\\u0631 \\u064d\\u0633\\u0647\\u0645 \\u064c\\u0641\\u0648\\u064f\\u062f\\u0643\\u0652\\u0648\\u064e \\u0642\\u0650\\u0627\\u0626\\u0645\\u0629 \\u0627\\u0644\\u0623\\u0651\\u0633\\u0651\\u0647\\u0645 \\u0627\\u0644\\u0623\\u064c\\u0643\\u062b\\u0631 \\u064e\\u0627\\u064b\\u0631\\u062a\\u064f\\u0641\\u064e\\u0627\\u064b\\u0639\\u064f\\u0627\\u064b \\u0648\\u064f\\u0635\\u0639\\u064d\\u062f \\u064b\\u0627\\u0644\\u0633\\u0647\\u064c\\u0645 \\u065245\\u064c .6 \\u064e\\u0641\\u064a \\u0651\\u0627\\u0644\\u0652\\u0645\\u0626\\u0629\\u064b \\u0648\\u0651\\u0623\\u0651\\u063a\\u0651\\u0644\\u064e\\u0642\\u064b \\u0639\\u064d\\u0646\\u062f \\u06506\\u06525\\u064d \\u0650.\\u064b1\\u064e \\u0650\\u062f\\u0650\\u0631\\u0651\\u0647\\u0652\\u0645\\u064d\\u060c \\u064e\\u0641\\u064a \\u0652\\u062d\\u064a\\u064b\\u0646 \\u0627\\u0631\\u0652\\u062a\\u0641\\u0639 \\u064d\\u0633\\u064d\\u0647\\u0650\\u0645 \\u0628\\u0646\\u0643\\u064b \\u064e\\u0627\\u0651\\u0644\\u064c\\u062e\\u0644\\u064a\\u062c 7\\u06529\\u0652 .3 \\u064e\\u0641\\u064b\\u064a\\u064c \\u0651\\u0627\\u064f\\u0644\\u064f\\u0645\\u0626\\u0629\\u064b\\u060c \\u0648\\u064c\\u0633\\u064b\\u0647\\u064e\\u0645\\u0651 \\u0623\\u0652\\u0633\\u064b\\u0645\\u0646\\u064c\\u062a\\u0651 \\u0627\\u0652\\u0644\\u0627\\u0650\\u062a\\u062d\\u064e\\u0627\\u062f \\u064e23 .\\u06513 \\u0641\\u064a\\u064f \\u0627\\u0644\\u064b\\u0645\\u0626\\u064c\\u0629\\u060c\\u064f \\u0650\\u0648\\u0633\\u064f\\u0647\\u0645\\u064e \\u0628\\u0646\\u0643\\u064d \\u0651\\u0623\\u064b\\u0628\\u0648\\u064b\\u0638\\u0650\\u0628\\u0651\\u064a \\u0627\\u064c\\u0644\\u062a\\u062c\\u064c\\u0627\\u0631\\u064a \\u064e1\\u064f2\\u0652 .3 \\u0652\\u0641\\u064d\\u064a \\u0627\\u0644\\u064f\\u0645\\u0626\\u0629 \\u0652.\\u064f \\u0648\\u064e\\u0641\\u064f\\u064a\\u064f \\u0650\\u0627\\u0644\\u0645\\u0642\\u0627\\u0628\\u064f\\u0644 \\u062a\\u0635\\u064e\\u062f\\u0631\\u0651 \\u064d\\u0633\\u0647\\u064b\\u0645\\u064f \\u064b\\u0634\\u0631\\u0643\\u0652\\u0629 \\u0631\\u0623\\u064e\\u0633\\u064e \\u0627\\u0644\\u062e\\u064a\\u0651\\u0645\\u0651\\u0629\\u064e \\u0644\\u0652\\u0644\\u064e\\u0623\\u064f\\u0633\\u0645\\u0646\\u064d\\u062a\\u064b \\u064f\\u0627\\u064b\\u0644\\u064d\\u0623\\u0628\\u064a\\u064d\\u0636 \\u0642\\u0627\\u064d\\u0626\\u064f\\u0645\\u0629 \\u0627\\u0644\\u0652\\u0623\\u0633\\u0652\\u0647\\u0651\\u0645\\u064b \\u064c\\u0627\\u0644\\u064b\\u0623\\u064f\\u0643\\u064b\\u062b\\u0631\\u064c \\u0627\\u0652\\u0646\\u062e\\u064d\\u0641\\u0627\\u0652\\u0636\\u064e\\u0627\\u064e\\u064b \\u0648\\u0647\\u0628\\u0651\\u0637\\u064b 04\\u064d \\u064f.\\u064b7\\u064b \\u064f\\u0641\\u064e\\u064a\\u0652 \\u064f\\u0627\\u064d\\u0644\\u064c\\u0645\\u0626\\u0629 \\u064e\\u0641\\u0652\\u0627\\u064f\\u0642\\u062f\\u064f\\u064b\\u0627\\u064b \\u064c1\\u06510\\u0651 \\u0641\\u0644\\u064f\\u0648\\u0633\\u064f \\u0645\\u0646\\u0651 \\u0642\\u064a\\u064e\\u0645\\u0650\\u062a\\u0647 \\u0648\\u0651\\u0623\\u064e\\u063a\\u0644\\u0642\\u064b \\u064d\\u0639\\u0646\\u064c\\u062f\\u064e \\u064b32\\u0650 .\\u06521 \\u062f\\u0650\\u0631\\u0647\\u0645\\u064d\\u060c \\u0643\\u0652\\u0645\\u064d\\u0627\\u064c \\u064d\\u0647\\u0628\\u0637\\u064f \\u064f\\u0633\\u064d\\u0647\\u064f\\u0645\\u0651 \\u0634\\u0651\\u0631\\u0650\\u0643\\u064c\\u0629 \\u064e\\u0623\\u064f\\u0633\\u0645\\u0646\\u0651\\u062a\\u064b \\u064d\\u0631\\u064d\\u0623\\u0633 \\u0650\\u0627\\u0650\\u0644\\u062e\\u064f\\u064a\\u0645\\u0651\\u0629 \\u065263 .\\u06512\\u064e \\u0652\\u0641\\u064a \\u0627\\u0644\\u0645\\u0626\\u0629 \\u0625\\u0650\\u0644\\u064d\\u0649\\u064f 7\\u064f4\\u0650 .0\\u064c \\u062f\\u0631\\u064f\\u0647\\u064e\\u0645\\u064c\\u060c\\u064e \\u064d\\u0648\\u062a\\u064e\\u0631\\u0627\\u062c\\u0639 \\u064c\\u0633\\u0647\\u0650\\u0645 \\u0645\\u064d\\u0635\\u0650\\u0631\\u0641\\u0651 \\u0627\\u0651\\u0644\\u0634\\u064f\\u0627\\u0651\\u0631\\u0642\\u0629\\u0650 \\u0627\\u0644\\u064c\\u0625\\u0633\\u064e\\u0644\\u0627\\u0652\\u0645\\u064f\\u064a\\u0651 \\u064c96\\u064c \\u0652.1 \\u0641\\u064a\\u0650 \\u0627\\u0644\\u0645\\u064c\\u0626\\u064d\\u0629\\u0652 \\u0625\\u0644\\u0651\\u0649 \\u062f\\u064d\\u0631\\u0647\\u0645\\u0651 \\u0650\\u0648\\u0627\\u062d\\u0650\\u062f \\u064d.\",\n          \"https://example.com/resource/\\u0623\\u0637\\u0644\\u0652\\u0642\\u064b\\u062a \\u064e\\u062f\\u0627\\u0626\\u0631\\u0629\\u0651 \\u0627\\u0650\\u0644\\u0623\\u0631\\u0627\\u0651\\u0636\\u064a\\u064d \\u064d\\u0648\\u0652\\u0627\\u0644\\u0650\\u0623\\u0645\\u0651\\u0644\\u064e\\u0627\\u0643 \\u0641\\u064e\\u064a \\u062f\\u0651\\u0628\\u064a\\u0652 \\u064e\\u062e\\u0651\\u062f\\u0650\\u0645\\u064f\\u0627\\u062a\\u064c \\u0625\\u0644\\u0643\\u0652\\u062a\\u0631\\u0648\\u0646\\u064a\\u0629 \\u062c\\u0651\\u062f\\u064a\\u064e\\u062f\\u0629 \\u0651\\u0639\\u0650\\u0644\\u0651\\u0649\\u0652 \\u0650\\u0645\\u064d\\u0648\\u0642\\u0650\\u0639\\u064b\\u0647\\u0627 \\u0652\\u0628\\u0648\\u064f\\u0627\\u0651\\u0628\\u0629 \\u0652\\u062f\\u0628\\u064a \\u0627\\u0644\\u0639\\u0642\\u064b\\u0627\\u0631\\u064f\\u064a\\u0651\\u0629 \\u0628\\u0647\\u0651\\u062f\\u0641\\u064b \\u0625\\u0650\\u0646\\u064b\\u062c\\u0627\\u0632 \\u064d\\u0648\\u0625\\u062a\\u0650\\u0645\\u0627\\u0645\\u0650 \\u0645\\u0652\\u0639\\u064e\\u0627\\u0645\\u064e\\u0644\\u064f\\u0627\\u0652\\u062a\\u064e \\u0627\\u0644\\u0652\\u0639\\u0652\\u0645\\u064b\\u064a\\u0644\\u064d \\u064d\\u062f\\u0648\\u0646\\u064f \\u0632\\u064f\\u064a\\u0627\\u0631\\u062a\\u064c\\u0647 \\u064e\\u0625\\u0644\\u0649\\u064d \\u0645\\u064c\\u0648\\u0642\\u0639 \\u0627\\u0644\\u0651\\u062f\\u0627\\u0626\\u064e\\u0631\\u064c\\u0629 \\u064b\\u0648\\u064f\\u062a\\u0648\\u0641\\u064c\\u064a\\u0631\\u064f \\u0639\\u0651\\u0627\\u0650\\u0645\\u064d\\u0644\\u064c\\u064a\\u064b \\u0627\\u0644\\u0652\\u0648\\u0642\\u0651\\u062a \\u064f\\u0648\\u0627\\u064e\\u0644\\u062c\\u064e\\u0647\\u062f\\u064f\\u060c \\u0645\\u0627\\u064d \\u064a\\u0633\\u0627\\u0652\\u0639\\u064b\\u062f\\u0650 \\u0651\\u0639\\u064e\\u0644\\u0649 \\u062a\\u064d\\u0628\\u0633\\u0650\\u064a\\u0637 \\u0627\\u0644\\u0625\\u062c\\u0631\\u0627\\u0652\\u0621\\u0627\\u062a\\u060c\\u064e \\u0648\\u064c\\u062a\\u062e\\u0641\\u064a\\u0641\\u0652 \\u064d\\u0627\\u0650\\u0644\\u0627\\u0632\\u062f\\u064c\\u062d\\u0627\\u0645 \\u0641\\u064a\\u064d \\u0645\\u064c\\u0642\\u0631\\u0651 \\u064f\\u0627\\u064f\\u0644\\u0651\\u062f\\u064b\\u0627\\u0626\\u0631\\u0629\\u0652 \\u064e.\\u064f\\u0648\\u0642\\u0627\\u0644 \\u0623\\u0652\\u062d\\u0645\\u062f\\u0651 \\u0627\\u0644\\u0634\\u062d\\u064c\\u064a\\u0652 \\u0645\\u0650\\u062f\\u064a\\u0631\\u064c \\u0623\\u064f\\u0648\\u0644\\u064c \\u0651\\u0625\\u062f\\u0652\\u0627\\u0631\\u064d\\u0629\\u064e \\u0651\\u062a\\u0642\\u0646\\u064a\\u064b\\u0629 \\u0650\\u0627\\u0644\\u0645\\u0639\\u064d\\u0644\\u0648\\u0645\\u0627\\u062a:\\u0651 \\u064a\\u064c\\u0633\\u064c\\u062a\\u0650\\u0637\\u064d\\u064a\\u064d\\u0639 \\u0651\\u0627\\u0644\\u0639\\u0645\\u064b\\u064a\\u0652\\u0644\\u064e \\u0645\\u0639 \\u0646\\u064e\\u0647\\u064e\\u0627\\u0651\\u064a\\u0629 \\u064d\\u0623\\u0643\\u062a\\u0648\\u0628\\u0650\\u0631\\u064c/\\u062a\\u0634\\u0631\\u064a\\u0646\\u064e \\u0627\\u0644\\u0623\\u0648\\u0644 \\u0627\\u064e\\u0644\\u062c\\u0627\\u0631\\u064b\\u064a \\u0627\\u0633\\u064c\\u062a\\u062e\\u062f\\u0651\\u0627\\u0645\\u0652 \\u064d\\u0646\\u064e\\u0638\\u0627\\u064e\\u0645\\u064e \\u0627\\u0644\\u064d\\u0627\\u062c\\u0631\\u0627\\u0621\\u0627\\u064e\\u062a \\u064b\\u0627\\u0652\\u0644\\u0627\\u0644\\u064f\\u0643\\u062a\\u064d\\u0631\\u064f\\u0648\\u0651\\u0646\\u064b\\u064a\\u064f\\u0629 \\u064e(e-pr\\u064co\\u064ece\\u0651dure) \\u064d\\u062d\\u0652\\u064a\\u064c\\u062b\\u064b \\u0633\\u064a\\u064b\\u062a\\u0650\\u064a\\u062d \\u0647\\u0651\\u0630\\u0627\\u064d \\u0627\\u0644\\u064e\\u0646\\u0638\\u0627\\u0645 \\u0652\\u0627\\u064e\\u0644\\u0627\\u0650\\u0644\\u0643\\u064e\\u062a\\u064b\\u0631\\u064e\\u0648\\u0646\\u064a \\u0650\\u0644\\u0644\\u0650\\u0645\\u0651\\u0644\\u0627\\u064c\\u0643\\u0651 \\u0625\\u064e\\u062f\\u0627\\u064e\\u0631\\u064c\\u0629 \\u064d\\u0623\\u0645\\u064d\\u0644\\u0627\\u064d\\u0643\\u0647\\u064d\\u0645 \\u0627\\u0644\\u0645\\u0633\\u064f\\u062c\\u0650\\u0644\\u0629 \\u064b\\u0641\\u064a\\u064c \\u064b\\u062f\\u0628\\u064c\\u064a\\u064b\\u060c\\u0650 \\u0648\\u0630\\u0644\\u064b\\u0643\\u0650 \\u0645\\u0646\\u064c \\u062e\\u064d\\u0644\\u0627\\u064e\\u0644 \\u0627\\u0644\\u0627\\u0652\\u0637\\u0651\\u0644\\u0651\\u0627\\u064d\\u0639\\u064b \\u0652\\u0639\\u0644\\u0652\\u0649 \\u0651\\u0627\\u0644\\u0627\\u064b\\u062c\\u0631\\u0651\\u0627\\u064c\\u0621\\u064d\\u0627\\u062a\\u064d \\u0627\\u0644\\u064f\\u062a\\u064f\\u064a \\u0651\\u0627\\u064b\\u0646\\u062c\\u0632\\u062a \\u0639\\u064e\\u0644\\u0649\\u064c \\u064d\\u0627\\u0652\\u0644\\u0623\\u0652\\u0645\\u0644\\u0627\\u0643\\u064b \\u064f\\u0623\\u064d\\u0648\\u064e \\u0637\\u064f\\u0644\\u064f\\u0628 \\u0627\\u0650\\u062d\\u062f\\u0649 \\u0627\\u064f\\u0644\\u062e\\u062f\\u0645\\u0627\\u062a\\u064b \\u0627\\u0644\\u064d\\u0645\\u064c\\u062a\\u064f\\u0648\\u064b\\u0627\\u0641\\u0650\\u0631\\u0629 \\u0627\\u0644\\u064e\\u0643\\u064f\\u062a\\u0650\\u0631\\u064c\\u0648\\u0651\\u0646\\u064a\\u0627\\u064b \\u064d\\u0643\\u062e\\u064b\\u062f\\u0645\\u064b\\u0629 \\u0637\\u0651\\u0644\\u0628 \\u064f\\u0627\\u0652\\u0635\\u062f\\u0627\\u0651\\u0631\\u064b \\u062e\\u0631\\u064a\\u0637\\u064b\\u0629 \\u0652\\u0623\\u0651\\u0648 \\u0625\\u0635\\u0652\\u062f\\u0627\\u064e\\u0631 \\u0652\\u0634\\u064d\\u0647\\u0627\\u062f\\u0629\\u0652 \\u0644\\u0645\\u064b\\u0646 \\u064a\\u0647\\u064d\\u0645\\u064e\\u0647\\u064b \\u0650\\u0627\\u064e\\u0644\\u0623\\u0645\\u0652\\u0631\\u064d \\u0623\\u0648\\u0652 \\u062a\\u0639\\u062f\\u064a\\u0644 \\u0628\\u064b\\u064a\\u064b\\u0627\\u064d\\u0646\\u0651\\u0627\\u062a\\u064d \\u064f\\u0645\\u0644\\u0652\\u0643\\u064a\\u0629 \\u0623\\u0652\\u0648 \\u064e\\u0637\\u064b\\u0644\\u0650\\u0628\\u0650 \\u064d\\u0645\\u064c\\u0644\\u0643\\u064a\\u064b\\u0629 \\u0628\\u0650\\u062f\\u0644 \\u064e\\u0641\\u064e\\u0627\\u0652\\u0642\\u062f\\u0651 \\u064c\\u0623\\u0651\\u0648 \\u0651\\u0641\\u0652\\u0643 \\u064b\\u0631\\u064f\\u0647\\u064e\\u0646\\u064e \\u064b\\u0648\\u064b\\u0627\\u0644\\u0652\\u062f\\u064e\\u0641\\u0639\\u0651 \\u064c\\u0627\\u0644\\u064d\\u0643\\u064e\\u062a\\u064e\\u0631\\u0648\\u0646\\u064a\\u0627\\u064b\\u0650 \\u0644\\u064f\\u0647\\u0630\\u0647\\u064b \\u0627\\u0644\\u0652\\u062e\\u062f\\u0645\\u064b\\u0627\\u062a\\u0650 \\u064e\\u0648\\u0650\\u063a\\u0650\\u064a\\u0631\\u0650\\u0647\\u0627\\u0651 \\u0651\\u0645\\u064c\\u0646 \\u0627\\u0652\\u0644\\u064d\\u062e\\u062f\\u0645\\u064c\\u0627\\u062a\\u064d \\u064c\\u0627\\u0644\\u062a\\u064f\\u064a\\u0650 \\u0633\\u062a\\u0636\\u0627\\u0652\\u0641\\u064c \\u064e\\u062a\\u0628\\u0627\\u064f\\u0639\\u064e\\u0627\\u0651\\u064b\\u060c \\u064f\\u0625\\u0636\\u0627\\u064c\\u0641\\u0629\\u0652 \\u0625\\u0644\\u0649 \\u0627\\u0645\\u0643\\u064b\\u0627\\u064d\\u0646\\u064a\\u064c\\u0629\\u0650 \\u0627\\u064c\\u0633\\u062a\\u062e\\u064d\\u062f\\u0652\\u0627\\u0645\\u0652 \\u0652\\u0647\\u0652\\u0630\\u064b\\u0647\\u0651 \\u0627\\u0644\\u064e\\u0627\\u0651\\u0646\\u064b\\u0638\\u0651\\u0645\\u0651\\u0629 \\u064f\\u0645\\u064c\\u0646\\u064b \\u064d\\u0642\\u064f\\u0628\\u064b\\u0644\\u0652 \\u0627\\u0650\\u0644\\u0648\\u064d\\u0633\\u0637\\u064f\\u0627\\u0621\\u064b \\u0650\\u0627\\u0652\\u0644\\u0639\\u0642\\u0627\\u064c\\u0631\\u064f\\u064a\\u064a\\u064f\\u0646\\u0652\\u060c\\u0651 \\u0627\\u064f\\u0644\\u0645\\u0637\\u064e\\u0648\\u0631\\u064a\\u0646 \\u064f\\u0627\\u0652\\u0644\\u0639\\u0642\\u064b\\u0627\\u0652\\u0631\\u064f\\u064a\\u064e\\u064a\\u0651\\u0646 \\u0650.\\u0648\\u0623\\u0636\\u0650\\u0627\\u0651\\u0641\\u0652 \\u0651\\u0623\\u0651\\u0646 \\u0652\\u0625\\u0637\\u064c\\u0644\\u0627\\u0642\\u064d \\u0627\\u0644\\u062e\\u064e\\u062f\\u0645\\u0627\\u064d\\u062a \\u064e\\u0627\\u0644\\u064d\\u0625\\u0644\\u0643\\u064c\\u062a\\u0631\\u064e\\u0648\\u0646\\u064a\\u0629 \\u064b\\u0627\\u0644\\u0650\\u062c\\u064d\\u062f\\u064a\\u064c\\u062f\\u0652\\u0629\\u0652 \\u064a\\u064b\\u0623\\u062a\\u064a\\u064e \\u0651\\u0643\\u064c\\u062c\\u064d\\u0632\\u064e\\u0621 \\u0645\\u0646 \\u062e\\u0637\\u064f\\u0629\\u0652 \\u062a\\u064e\\u0637\\u0648\\u064a\\u0631\\u064a\\u0650\\u0629\\u0652 \\u0634\\u064f\\u0627\\u0645\\u0644\\u0652\\u0629\\u0652 \\u0644\\u062c\\u0645\\u0651\\u064a\\u0639\\u064c \\u0652\\u0627\\u0644\\u064b\\u062e\\u062f\\u0645\\u0651\\u0627\\u062a\\u0652 \\u0627\\u0652\\u0644\\u0650\\u0625\\u064d\\u0644\\u0643\\u062a\\u064e\\u0631\\u064d\\u0648\\u0646\\u064e\\u064a\\u0629 \\u064f\\u0628\\u0647\\u0651\\u062f\\u0650\\u0641 \\u064f\\u0625\\u0646\\u062c\\u0627\\u0632 \\u064b\\u0648\\u0625\\u0650\\u062a\\u0645\\u0627\\u064e\\u0645 \\u0650\\u0645\\u064d\\u0639\\u0650\\u0627\\u064d\\u0645\\u0644\\u0650\\u0627\\u0651\\u062a\\u064f \\u0627\\u064b\\u0644\\u0639\\u0652\\u0645\\u064f\\u064a\\u0644\\u064e \\u062f\\u0648\\u0646\\u0650 \\u0632\\u0650\\u064a\\u064b\\u0627\\u0631\\u062a\\u064c\\u0647\\u0652 \\u0625\\u064b\\u0644\\u064f\\u0649 \\u0645\\u0648\\u0642\\u0639 \\u064f\\u0627\\u0651\\u0644\\u062f\\u0627\\u064d\\u0626\\u0631\\u064f\\u0629\\u060c \\u0648\\u062a\\u064b\\u0648\\u0651\\u0641\\u064a\\u064d\\u0631\\u0650 \\u064e\\u0639\\u064f\\u0627\\u0652\\u0645\\u0644\\u064a \\u0650\\u0627\\u064d\\u0644\\u0648\\u064e\\u0642\\u062a \\u0650\\u0648\\u0627\\u064f\\u0644\\u064c\\u062c\\u0651\\u0647\\u064e\\u062f\\u064d\\u060c \\u0645\\u0627 \\u064e\\u064a\\u064f\\u0633\\u0650\\u0627\\u0652\\u0639\\u062f\\u064b \\u064e\\u0639\\u0651\\u0644\\u0649 \\u062a\\u0650\\u0628\\u0633\\u064f\\u064a\\u064c\\u0637\\u064e \\u0650\\u0627\\u0644\\u0625\\u064e\\u062c\\u0631\\u0627\\u064d\\u0621\\u0627\\u062a\\u0650\\u060c\\u064e \\u064e\\u0648\\u064b\\u062a\\u062e\\u0641\\u064b\\u064a\\u064f\\u0641 \\u0627\\u064b\\u0644\\u0627\\u064f\\u0632\\u062f\\u062d\\u064b\\u0627\\u0645 \\u0650\\u0639\\u064b\\u0644\\u0649 \\u064c\\u0645\\u064f\\u0631\\u064d\\u0643\\u064e\\u0632\\u0651 \\u0652\\u062e\\u062f\\u0645\\u064b\\u0629\\u064f \\u0650\\u0627\\u0644\\u064b\\u0639\\u064d\\u0645\\u064c\\u0644\\u064e\\u0627\\u064d\\u0621\\u064f \\u0648\\u0650\\u064a\\u0624\\u0651\\u062f\\u064d\\u064a\\u064c \\u064c\\u0641\\u064a\\u0651 \\u064b\\u0627\\u064b\\u0644\\u0646\\u0650\\u0647\\u064f\\u0627\\u064d\\u064a\\u064f\\u0629 \\u064e\\u0627\\u064e\\u0644\\u0652\\u0649 \\u064b\\u062a\\u0642\\u064f\\u062f\\u0650\\u064a\\u0645\\u0650 \\u062e\\u0650\\u062f\\u0645\\u0629 \\u0651\\u0645\\u0651\\u062a\\u0645\\u0651\\u064a\\u064c\\u0632\\u064d\\u0629 \\u0648\\u0641\\u064c\\u0642\\u0651 \\u064f\\u0623\\u064f\\u0639\\u0644\\u0649\\u0651 \\u064f\\u0645\\u0639\\u064e\\u0627\\u064a\\u064f\\u064a\\u064f\\u0631 \\u064c\\u0627\\u0644\\u062a\\u0642\\u0651\\u0646\\u0652\\u064a\\u0629\\u0650 \\u064d\\u0648\\u0652\\u0627\\u0651\\u0644\\u064c\\u062c\\u0648\\u064e\\u062f\\u0629\\u064d \\u064f\\u0627\\u0644\\u0625\\u0652\\u0644\\u064d\\u0643\\u062a\\u0631\\u0648\\u064e\\u0646\\u064a\\u0629\\u064f \\u064d\\u0648\\u0652\\u0627\\u0644\\u0630\\u064c\\u064a \\u064c\\u064a\\u064d\\u0639\\u0643\\u0633\\u0651 \\u0646\\u062c\\u064e\\u0627\\u062d\\u064b \\u064f\\u0627\\u0652\\u0644\\u0652\\u062f\\u064b\\u0627\\u0652\\u0626\\u0631\\u064d\\u0629\\u064d\\u060c \\u0651\\u0648\\u064c\\u0643\\u064c\\u0630\\u0644\\u0651\\u0643\\u0652 \\u0627\\u0644\\u0633\\u064b\\u0639\\u064c\\u064a \\u0627\\u0644\\u062f\\u064d\\u0627\\u0626\\u0650\\u0645\\u0650 \\u064c\\u0644\\u064d\\u0645\\u0650\\u0648\\u0627\\u0651\\u0643\\u0652\\u0628\\u064b\\u0629 \\u0627\\u0650\\u0644\\u0631\\u0651\\u0624\\u064a\\u0629 \\u064c\\u0627\\u0644\\u0625\\u0644\\u0650\\u0643\\u064e\\u062a\\u064c\\u0631\\u064c\\u0648\\u0652\\u0646\\u064d\\u064a\\u0629\\u064c \\u064d\\u0627\\u0651\\u0644\\u064e\\u062a\\u064a \\u062a\\u064b\\u0646\\u062a\\u0647\\u062c\\u0647\\u064f\\u0627 \\u062d\\u0652\\u0643\\u0648\\u0650\\u0645\\u0629 \\u064f\\u062f\\u0651\\u0628\\u064a \\u0651\\u0644\\u0625\\u064c\\u0631\\u0633\\u0627\\u064e\\u0621 \\u064c\\u062f\\u0650\\u0639\\u0627\\u0626\\u0645\\u0652 \\u064f\\u0627\\u0652\\u0644\\u0639\\u0645\\u0644\\u064f \\u0627\\u064c\\u0644\\u064e\\u0625\\u064c\\u0644\\u0650\\u0643\\u062a\\u0631\\u064b\\u0648\\u0646\\u064a \\u0641\\u0650\\u064a\\u0650 \\u062f\\u064e\\u0648\\u0627\\u0650\\u0626\\u0651\\u0631\\u064c\\u0647\\u0627\\u064b \\u0648\\u0645\\u064e\\u0624\\u064f\\u0633\\u064f\\u0633\\u064e\\u0627\\u062a\\u064f\\u0647\\u0627 \\u0650\\u0643\\u0627\\u0641\\u0629\\u0652\\u060c\\u064b \\u0625\\u064f\\u0636\\u0627\\u064d\\u0641\\u0629 \\u0625\\u064f\\u0644\\u064c\\u0649 \\u0651\\u0627\\u0644\\u064f\\u0642\\u0637\\u0627\\u0639\\u064e \\u064e\\u0627\\u064c\\u0644\\u064f\\u062e\\u0627\\u0635\\u0650 \\u064d.\\u0648\\u0651\\u0623\\u064c\\u0648\\u064c\\u0636\\u064c\\u062d\\u0652 \\u0627\\u0644\\u0634\\u062d\\u064a\\u0651: \\u0628\\u0630\\u0644\\u062a\\u0652 \\u0627\\u0644\\u062f\\u064d\\u0627\\u0626\\u0631\\u0629 \\u064b\\u062c\\u0651\\u0647\\u064d\\u0648\\u062f\\u0652\\u0627\\u064e\\u064b \\u0643\\u0628\\u064a\\u064f\\u0631\\u0629 \\u0650\\u0645\\u0646 \\u064f\\u0623\\u064d\\u062c\\u064c\\u0644 \\u064f\\u062a\\u0637\\u0648\\u064a\\u0631 \\u0652\\u0627\\u0651\\u0644\\u0628\\u0646\\u0652\\u064a\\u0629 \\u064e\\u0627\\u0651\\u0644\\u0650\\u062a\\u064f\\u062d\\u064e\\u062a\\u064c\\u064a\\u0629\\u064c \\u0648\\u064c\\u0623\\u0646\\u064c\\u0638\\u0645\\u064f\\u0629 \\u064d\\u0634\\u064f\\u0628\\u064e\\u0643\\u064b\\u0629 \\u064e\\u0627\\u0651\\u0644\\u0645\\u0650\\u0639\\u0644\\u0648\\u0645\\u0627\\u064c\\u062a\\u064b \\u064b\\u0644\\u064d\\u0636\\u0650\\u0645\\u0651\\u0627\\u0646\\u0652 \\u064b\\u0627\\u0644\\u064c\\u062d\\u0635\\u0648\\u0651\\u0644\\u064f \\u0639\\u0644\\u0651\\u0649\\u064e \\u064f\\u062e\\u062f\\u0645\\u0650\\u0627\\u0650\\u062a \\u064f\\u0639\\u0642\\u064e\\u0627\\u0631\\u064a\\u0629\\u0650 \\u0651\\u0645\\u064c\\u062a\\u064f\\u0645\\u064e\\u064a\\u0632\\u0650\\u0629 \\u064e\\u0648\\u062f\\u0642\\u0652\\u064a\\u064f\\u0642\\u0629 \\u0648\\u064f\\u0633\\u064b\\u0631\\u064d\\u064a\\u0650\\u0639\\u0652\\u0629 \\u064d\\u0628\\u0651\\u0645\\u0627\\u0652 \\u064d\\u064a\\u0643\\u0652\\u0641\\u0644\\u064b \\u064c\\u0625\\u0646\\u064e\\u062c\\u064f\\u0627\\u0632\\u064f \\u0645\\u064d\\u0639\\u064f\\u0627\\u064e\\u0645\\u0644\\u0627\\u0650\\u062a\\u0652 \\u0627\\u0644\\u0645\\u064f\\u062a\\u064d\\u0639\\u0650\\u0627\\u064e\\u0645\\u0644\\u064a\\u0646\\u064e \\u0645\\u064e\\u0639\\u064b \\u064d\\u0627\\u0650\\u0644\\u0651\\u062f\\u0627\\u0626\\u0651\\u0631\\u0629\\u064c \\u0631\\u0651\\u0642\\u064b\\u0645\\u064d\\u064a\\u0627\\u0651\\u064b\\u0651 \\u0641\\u064f\\u064a \\u064b\\u0645\\u0650\\u062f\\u0629\\u064d \\u0652\\u0642\\u064a\\u0627\\u0633\\u064d\\u064a\\u0629\\u0651 \\u064d\\u0648\\u064b\\u0628\\u064e\\u062f\\u0650\\u0642\\u0651\\u0629 \\u0645\\u062a\\u064f\\u0646\\u0627\\u0647\\u0650\\u064a\\u064f\\u0629\\u064f \\u0652\\u0648\\u0641\\u064f\\u0642\\u0627\\u0650\\u064b \\u0650\\u0644\\u0623\\u064f\\u0641\\u064c\\u0636\\u0644 \\u064b\\u0627\\u0644\\u064c\\u0645\\u064c\\u0645\\u0627\\u0650\\u0631\\u064d\\u0633\\u0627\\u062a\\u0650\\u060c\\u064e \\u0645\\u064f\\u0624\\u0643\\u062f\\u0627\\u064b \\u064d\\u0627\\u0651\\u0646\\u0651 \\u0645\\u064c\\u0639\\u0631\\u064f\\u0636\\u064b \\u0650\\u062c\\u0651\\u0627\\u064a\\u064b\\u062a\\u064b\\u0643\\u0633 \\u064a\\u0639\\u062f \\u0641\\u0631\\u0635\\u0629 \\u0645\\u0645\\u0650\\u062a\\u064c\\u0627\\u0632\\u0629\\u0651 \\u0650\\u0644\\u064b\\u0644\\u062f\\u0627\\u0626\\u0631\\u0629 \\u0650\\u0645\\u064d\\u0646\\u0651 \\u0650\\u0623\\u0650\\u062c\\u0644 \\u0652\\u062a\\u064e\\u0639\\u0632\\u064a\\u0632\\u0651 \\u0639\\u064b\\u0644\\u0627\\u0642\\u0627\\u064f\\u062a\\u0647\\u064d\\u0627\\u064c \\u0651\\u0648\\u0650\\u062a\\u0651\\u0639\\u064c\\u0627\\u0648\\u0646\\u064f\\u0647\\u0627 \\u0648\\u062a\\u064d\\u0628\\u0627\\u064b\\u062f\\u0644\\u064b \\u0651\\u0627\\u0644\\u064d\\u062e\\u0652\\u0628\\u0631\\u0627\\u062a\\u064f \\u0645\\u064e\\u0639\\u064e \\u0627\\u0651\\u0644\\u064f\\u0634\\u064f\\u0631\\u0643\\u0650\\u0627\\u0651\\u0621\\u064e \\u0627\\u064c\\u0644\\u0627\\u0633\\u064e\\u062a\\u064b\\u0631\\u0627\\u064d\\u062a\\u064b\\u064a\\u062c\\u0652\\u064a\\u064f\\u064a\\u064e\\u0646\\u064e \\u064f.\\u0651\",\n          \"https://example.com/resource/\\u062f\\u0639\\u0627 \\u0645\\u064f\\u062c\\u064b\\u0644\\u0633 \\u0625\\u062f\\u0651\\u0627\\u064c\\u0631\\u0629\\u0651 \\u0634\\u064e\\u0631\\u064c\\u0643\\u0650\\u0629 \\u0623\\u0651\\u0631\\u064f\\u0627\\u0650\\u0628\\u062a\\u0650\\u0643\\u064e \\u064c\\u0627\\u0644\\u0642\\u0627\\u0628\\u0651\\u0636\\u0629 \\u0627\\u0652\\u0644\\u0645\\u0633\\u0627\\u0647\\u0645\\u064a\\u064e\\u0646\\u064d \\u0651\\u0644\\u0652\\u062d\\u064d\\u0636\\u0648\\u0650\\u0631 \\u064e\\u0627\\u064e\\u0644\\u0650\\u062c\\u0645\\u0639\\u064a\\u0629 \\u0627\\u0644\\u0639\\u064e\\u0645\\u0648\\u0645\\u0652\\u064a\\u0629 \\u064c\\u0627\\u0644\\u064c\\u0639\\u0627\\u064d\\u062f\\u064d\\u064a\\u064d\\u0629\\u0650 \\u0648\\u063a\\u064a\\u0631 \\u0627\\u064b\\u0644\\u0639\\u0627\\u0652\\u062f\\u064a\\u0629 \\u0652\\u0627\\u0652\\u0644\\u064c\\u062a\\u064a\\u064b \\u0650\\u0633\\u064b\\u062a\\u0639\\u064d\\u0642\\u0651\\u062f\\u0651 \\u0641\\u0652\\u064a \\u0652\\u062f\\u0651\\u0628\\u064d\\u064a \\u064b\\u064a\\u064f\\u0648\\u064e\\u0645\\u064d \\u064e\\u063a\\u0652\\u062f\\u0627\\u064e\\u064b \\u0627\\u0650\\u0644\\u064f\\u0633\\u0628\\u062a\\u064c \\u065028\\u0650 \\u0652\\u0645\\u0650\\u0627\\u0651\\u0631\\u0651\\u0633/\\u064b\\u0622\\u0630\\u0652\\u0627\\u0631 200\\u06509 \\u064b\\u0639\\u064e\\u0646\\u062f\\u064d \\u064d\\u0627\\u0644\\u064b\\u0633\\u0651\\u0627\\u0639\\u0629\\u064c \\u0627\\u0644\\u0652\\u0631\\u0627\\u0650\\u0628\\u064f\\u0639\\u0650\\u0629\\u0651 \\u0645\\u0651\\u0633\\u0652\\u0627\\u0621\\u0650 \\u064b\\u0648\\u0627\\u0644\\u062e\\u0627\\u064d\\u0645\\u0633\\u0650\\u0629 \\u0645\\u0650\\u0633\\u0627\\u0621\\u0651 \\u064b\\u0639\\u0644\\u0649 \\u0650\\u0627\\u0644\\u064d\\u062a\\u0651\\u0648\\u0627\\u0644\\u064a \\u064c.\"\n        ],\n        \"semantic_type\": \"\",\n        \"description\": \"\"\n      }\n    },\n    {\n      \"column\": \"count\",\n      \"properties\": {\n        \"dtype\": \"number\",\n        \"std\": 0,\n        \"min\": 1,\n        \"max\": 1,\n        \"num_unique_values\": 1,\n        \"samples\": [\n          1\n        ],\n        \"semantic_type\": \"\",\n        \"description\": \"\"\n      }\n    },\n    {\n      \"column\": \"max_label\",\n      \"properties\": {\n        \"dtype\": \"category\",\n        \"num_unique_values\": 7,\n        \"samples\": [\n          \"Religion\"\n        ],\n        \"semantic_type\": \"\",\n        \"description\": \"\"\n      }\n    }\n  ]\n}"
            }
          },
          "metadata": {},
          "execution_count": 22
        }
      ]
    },
    {
      "cell_type": "markdown",
      "metadata": {
        "id": "X_oEu0TkSMEB"
      },
      "source": [
        "# Data Cleaning and Preprocessing"
      ]
    },
    {
      "cell_type": "markdown",
      "metadata": {
        "id": "wSAFiozlRQHt"
      },
      "source": [
        "In this section, we will focus on cleaning and filtering the dataset, preparing it for the text classification task. We will implement the following steps:\n",
        "\n",
        "1. **Remove missing values**:\n",
        "   First, we eliminate any rows with missing values to ensure the dataset is complete and consistent.\n",
        "\n",
        "2. **Filter by text length (Bonus)**:\n",
        "   To maintain a uniform dataset, we will filter the text samples by a specified word count range. This ensures that the texts are neither too short to lack context nor too long to introduce unnecessary complexity.\n",
        "\n",
        "3. **Arabic stopwords loading**:\n",
        "   We load a list of Arabic stopwords to filter out commonly used but contextually insignificant words. This is an important step for improving the performance of the model, as stopwords do not contribute valuable information.\n",
        "\n",
        "4. **Text cleaning**:\n",
        "   We apply a series of text cleaning steps to standardize and simplify the text data. This involves:\n",
        "   - **Removing links (URLs)**: Any URLs present in the text are removed as they are not meaningful for classification purposes.\n",
        "   - **Removing special characters and punctuation**: This step removes any non-alphabetical characters, ensuring the text only contains meaningful words.\n",
        "   - **Removing Arabic diacritics (Tashkeel) and elongated letters (Tatweel)**: Diacritical marks and elongated letters are stripped out to standardize the text.\n",
        "   - **Removing Arabic stopwords**: Words that are part of the stopwords list are removed, as they do not add value to the classification task.\n",
        "   - **Stemming or Lemmmatization**: Either stemming or lemmatization is applied to reduce words to their root or base form.\n",
        "   - **Normalizing Hamza**: Any variation of the Hamza character is normalized for consistency.\n",
        "\n",
        "   **Note:** Most of these you can do using the library [PyArabic](https://pyarabic.readthedocs.io/ar/latest/README.html#features)\n",
        "\n",
        "5. **Final cleanup**:\n",
        "   Apply the cleanup function to the feature column.\n",
        "\n",
        "By following these steps, the text will be cleaned, filtered, and ready for tokenization!"
      ]
    },
    {
      "cell_type": "code",
      "execution_count": 23,
      "metadata": {
        "id": "mHEObOY_fHhq",
        "colab": {
          "base_uri": "https://localhost:8080/"
        },
        "outputId": "958cce41-f088-4565-c5a0-d0e546446e0f"
      },
      "outputs": [
        {
          "output_type": "stream",
          "name": "stderr",
          "text": [
            "[nltk_data] Downloading package stopwords to /root/nltk_data...\n",
            "[nltk_data]   Unzipping corpora/stopwords.zip.\n"
          ]
        }
      ],
      "source": [
        "import re\n",
        "import nltk\n",
        "from nltk.corpus import stopwords\n",
        "from nltk.stem import ISRIStemmer\n",
        "\n",
        "nltk.download('stopwords')\n",
        "ara_stopwords = set(stopwords.words('arabic'))\n",
        "stemmer = ISRIStemmer()"
      ]
    },
    {
      "cell_type": "code",
      "source": [
        "def cleaning_text(text):\n",
        "    cleaned_text = re.sub(r'https\\S+|www\\S+', '', text)\n",
        "\n",
        "    cleaned_text = re.sub(r'[^\\w\\s\\%\\&\\*]', '', cleaned_text)\n",
        "\n",
        "    remove_tashkeel = araby.strip_tashkeel(cleaned_text)\n",
        "    remove_tatweel = araby.strip_tatweel(remove_tashkeel)\n",
        "\n",
        "    words = remove_tatweel.split()\n",
        "    filter_words = [word for word in words if word not in ara_stopwords]\n",
        "\n",
        "    stemm_words = []\n",
        "\n",
        "    for word in filter_words:\n",
        "      stemm_words.append(stemmer.stem(word))\n",
        "    stemm_words = ' '.join(filter_words)\n",
        "\n",
        "    # cleaned_text = araby.normalize_hamza(stemm_words)\n",
        "    # tokenize_ara = araby.tokenize(cleaned_text)\n",
        "\n",
        "    cleaned_text = araby.normalize_hamza(stemm_words)\n",
        "\n",
        "    return cleaned_text"
      ],
      "metadata": {
        "id": "aTWXMiHiD4SL"
      },
      "execution_count": 24,
      "outputs": []
    },
    {
      "cell_type": "code",
      "source": [
        "df['cleaned_text'] = df['text'].apply(cleaning_text)"
      ],
      "metadata": {
        "id": "dcqrhAf8EPGX"
      },
      "execution_count": 25,
      "outputs": []
    },
    {
      "cell_type": "code",
      "source": [
        "df.head(10)"
      ],
      "metadata": {
        "colab": {
          "base_uri": "https://localhost:8080/",
          "height": 363
        },
        "id": "R-D-WoStEcp-",
        "outputId": "a701ce49-a248-4d72-95c1-571f44c20da5"
      },
      "execution_count": 52,
      "outputs": [
        {
          "output_type": "execute_result",
          "data": {
            "text/plain": [
              "                                                 text    label  \\\n",
              "2   https://example.com/resource/أُقيًمٌتِ مِساءُ ...  Culture   \n",
              "4   https://example.com/resource/قُرر اَتحِاد اًلْ...  Culture   \n",
              "7   https://example.com/resource/توفٌي َأمس ِاَلُأ...  Culture   \n",
              "8   https://example.com/resource/نظم ْمَرٍكزْ َاِل...  Culture   \n",
              "14  https://example.com/resource/بّحٌسبَ ِطبيعّة ُ...  Culture   \n",
              "15  https://example.com/resource/اَلّشْاِرقِةّ:ً م...  Culture   \n",
              "19  https://example.com/resource/أعلّنْت إداِرِة م...  Culture   \n",
              "20  https://example.com/resource/صدًرّ َعَن دارً َ...  Culture   \n",
              "21  https://example.com/resource/يعالج كتٍابّ ِ«ِش...  Culture   \n",
              "22  https://example.com/resource/أبٌوظبيْ:َ ْ«الْخ...  Culture   \n",
              "\n",
              "                                         cleaned_text  \n",
              "2   الءول ءكسبو الشارقة ندوة حوارية حول ءهمية تجار...  \n",
              "4   اتحاد الءدباء والكتاب الموريتانيين عقد مءتمره ...  \n",
              "7   الءديب الءسباني ميجيل ديليبس يعتبر واحدا ءهم ا...  \n",
              "8   مركز الشارقة للشعر الشعبي مجلس ضاحية مغيدر بال...  \n",
              "14  طبيعة ءداء الشعراء وءسلوب منهم القراءة والتعبي...  \n",
              "15  ميرفت الخطيب تلبية لدعوة حرم صاحب السمو الشيخ ...  \n",
              "19  ءدارة مسرح ءسطنبولي وجمعية تيرو للفنون تنظيم ا...  \n",
              "20  دار الكتب الوطنية هيءة ءبوظبي للثقافة والتراث ...  \n",
              "21  كتاب شراء الوقت لفولفجانج شتريك ترجمته العربية...  \n",
              "22  الخليج ءكد الدكتور عبداللطيف الشامسي مدير مجمع...  "
            ],
            "text/html": [
              "\n",
              "  <div id=\"df-f79c7495-24fe-4def-9c6f-e2e88ec514d0\" class=\"colab-df-container\">\n",
              "    <div>\n",
              "<style scoped>\n",
              "    .dataframe tbody tr th:only-of-type {\n",
              "        vertical-align: middle;\n",
              "    }\n",
              "\n",
              "    .dataframe tbody tr th {\n",
              "        vertical-align: top;\n",
              "    }\n",
              "\n",
              "    .dataframe thead th {\n",
              "        text-align: right;\n",
              "    }\n",
              "</style>\n",
              "<table border=\"1\" class=\"dataframe\">\n",
              "  <thead>\n",
              "    <tr style=\"text-align: right;\">\n",
              "      <th></th>\n",
              "      <th>text</th>\n",
              "      <th>label</th>\n",
              "      <th>cleaned_text</th>\n",
              "    </tr>\n",
              "  </thead>\n",
              "  <tbody>\n",
              "    <tr>\n",
              "      <th>2</th>\n",
              "      <td>https://example.com/resource/أُقيًمٌتِ مِساءُ ...</td>\n",
              "      <td>Culture</td>\n",
              "      <td>الءول ءكسبو الشارقة ندوة حوارية حول ءهمية تجار...</td>\n",
              "    </tr>\n",
              "    <tr>\n",
              "      <th>4</th>\n",
              "      <td>https://example.com/resource/قُرر اَتحِاد اًلْ...</td>\n",
              "      <td>Culture</td>\n",
              "      <td>اتحاد الءدباء والكتاب الموريتانيين عقد مءتمره ...</td>\n",
              "    </tr>\n",
              "    <tr>\n",
              "      <th>7</th>\n",
              "      <td>https://example.com/resource/توفٌي َأمس ِاَلُأ...</td>\n",
              "      <td>Culture</td>\n",
              "      <td>الءديب الءسباني ميجيل ديليبس يعتبر واحدا ءهم ا...</td>\n",
              "    </tr>\n",
              "    <tr>\n",
              "      <th>8</th>\n",
              "      <td>https://example.com/resource/نظم ْمَرٍكزْ َاِل...</td>\n",
              "      <td>Culture</td>\n",
              "      <td>مركز الشارقة للشعر الشعبي مجلس ضاحية مغيدر بال...</td>\n",
              "    </tr>\n",
              "    <tr>\n",
              "      <th>14</th>\n",
              "      <td>https://example.com/resource/بّحٌسبَ ِطبيعّة ُ...</td>\n",
              "      <td>Culture</td>\n",
              "      <td>طبيعة ءداء الشعراء وءسلوب منهم القراءة والتعبي...</td>\n",
              "    </tr>\n",
              "    <tr>\n",
              "      <th>15</th>\n",
              "      <td>https://example.com/resource/اَلّشْاِرقِةّ:ً م...</td>\n",
              "      <td>Culture</td>\n",
              "      <td>ميرفت الخطيب تلبية لدعوة حرم صاحب السمو الشيخ ...</td>\n",
              "    </tr>\n",
              "    <tr>\n",
              "      <th>19</th>\n",
              "      <td>https://example.com/resource/أعلّنْت إداِرِة م...</td>\n",
              "      <td>Culture</td>\n",
              "      <td>ءدارة مسرح ءسطنبولي وجمعية تيرو للفنون تنظيم ا...</td>\n",
              "    </tr>\n",
              "    <tr>\n",
              "      <th>20</th>\n",
              "      <td>https://example.com/resource/صدًرّ َعَن دارً َ...</td>\n",
              "      <td>Culture</td>\n",
              "      <td>دار الكتب الوطنية هيءة ءبوظبي للثقافة والتراث ...</td>\n",
              "    </tr>\n",
              "    <tr>\n",
              "      <th>21</th>\n",
              "      <td>https://example.com/resource/يعالج كتٍابّ ِ«ِش...</td>\n",
              "      <td>Culture</td>\n",
              "      <td>كتاب شراء الوقت لفولفجانج شتريك ترجمته العربية...</td>\n",
              "    </tr>\n",
              "    <tr>\n",
              "      <th>22</th>\n",
              "      <td>https://example.com/resource/أبٌوظبيْ:َ ْ«الْخ...</td>\n",
              "      <td>Culture</td>\n",
              "      <td>الخليج ءكد الدكتور عبداللطيف الشامسي مدير مجمع...</td>\n",
              "    </tr>\n",
              "  </tbody>\n",
              "</table>\n",
              "</div>\n",
              "    <div class=\"colab-df-buttons\">\n",
              "\n",
              "  <div class=\"colab-df-container\">\n",
              "    <button class=\"colab-df-convert\" onclick=\"convertToInteractive('df-f79c7495-24fe-4def-9c6f-e2e88ec514d0')\"\n",
              "            title=\"Convert this dataframe to an interactive table.\"\n",
              "            style=\"display:none;\">\n",
              "\n",
              "  <svg xmlns=\"http://www.w3.org/2000/svg\" height=\"24px\" viewBox=\"0 -960 960 960\">\n",
              "    <path d=\"M120-120v-720h720v720H120Zm60-500h600v-160H180v160Zm220 220h160v-160H400v160Zm0 220h160v-160H400v160ZM180-400h160v-160H180v160Zm440 0h160v-160H620v160ZM180-180h160v-160H180v160Zm440 0h160v-160H620v160Z\"/>\n",
              "  </svg>\n",
              "    </button>\n",
              "\n",
              "  <style>\n",
              "    .colab-df-container {\n",
              "      display:flex;\n",
              "      gap: 12px;\n",
              "    }\n",
              "\n",
              "    .colab-df-convert {\n",
              "      background-color: #E8F0FE;\n",
              "      border: none;\n",
              "      border-radius: 50%;\n",
              "      cursor: pointer;\n",
              "      display: none;\n",
              "      fill: #1967D2;\n",
              "      height: 32px;\n",
              "      padding: 0 0 0 0;\n",
              "      width: 32px;\n",
              "    }\n",
              "\n",
              "    .colab-df-convert:hover {\n",
              "      background-color: #E2EBFA;\n",
              "      box-shadow: 0px 1px 2px rgba(60, 64, 67, 0.3), 0px 1px 3px 1px rgba(60, 64, 67, 0.15);\n",
              "      fill: #174EA6;\n",
              "    }\n",
              "\n",
              "    .colab-df-buttons div {\n",
              "      margin-bottom: 4px;\n",
              "    }\n",
              "\n",
              "    [theme=dark] .colab-df-convert {\n",
              "      background-color: #3B4455;\n",
              "      fill: #D2E3FC;\n",
              "    }\n",
              "\n",
              "    [theme=dark] .colab-df-convert:hover {\n",
              "      background-color: #434B5C;\n",
              "      box-shadow: 0px 1px 3px 1px rgba(0, 0, 0, 0.15);\n",
              "      filter: drop-shadow(0px 1px 2px rgba(0, 0, 0, 0.3));\n",
              "      fill: #FFFFFF;\n",
              "    }\n",
              "  </style>\n",
              "\n",
              "    <script>\n",
              "      const buttonEl =\n",
              "        document.querySelector('#df-f79c7495-24fe-4def-9c6f-e2e88ec514d0 button.colab-df-convert');\n",
              "      buttonEl.style.display =\n",
              "        google.colab.kernel.accessAllowed ? 'block' : 'none';\n",
              "\n",
              "      async function convertToInteractive(key) {\n",
              "        const element = document.querySelector('#df-f79c7495-24fe-4def-9c6f-e2e88ec514d0');\n",
              "        const dataTable =\n",
              "          await google.colab.kernel.invokeFunction('convertToInteractive',\n",
              "                                                    [key], {});\n",
              "        if (!dataTable) return;\n",
              "\n",
              "        const docLinkHtml = 'Like what you see? Visit the ' +\n",
              "          '<a target=\"_blank\" href=https://colab.research.google.com/notebooks/data_table.ipynb>data table notebook</a>'\n",
              "          + ' to learn more about interactive tables.';\n",
              "        element.innerHTML = '';\n",
              "        dataTable['output_type'] = 'display_data';\n",
              "        await google.colab.output.renderOutput(dataTable, element);\n",
              "        const docLink = document.createElement('div');\n",
              "        docLink.innerHTML = docLinkHtml;\n",
              "        element.appendChild(docLink);\n",
              "      }\n",
              "    </script>\n",
              "  </div>\n",
              "\n",
              "\n",
              "<div id=\"df-cefb1625-6e37-4641-8e09-b006f895de35\">\n",
              "  <button class=\"colab-df-quickchart\" onclick=\"quickchart('df-cefb1625-6e37-4641-8e09-b006f895de35')\"\n",
              "            title=\"Suggest charts\"\n",
              "            style=\"display:none;\">\n",
              "\n",
              "<svg xmlns=\"http://www.w3.org/2000/svg\" height=\"24px\"viewBox=\"0 0 24 24\"\n",
              "     width=\"24px\">\n",
              "    <g>\n",
              "        <path d=\"M19 3H5c-1.1 0-2 .9-2 2v14c0 1.1.9 2 2 2h14c1.1 0 2-.9 2-2V5c0-1.1-.9-2-2-2zM9 17H7v-7h2v7zm4 0h-2V7h2v10zm4 0h-2v-4h2v4z\"/>\n",
              "    </g>\n",
              "</svg>\n",
              "  </button>\n",
              "\n",
              "<style>\n",
              "  .colab-df-quickchart {\n",
              "      --bg-color: #E8F0FE;\n",
              "      --fill-color: #1967D2;\n",
              "      --hover-bg-color: #E2EBFA;\n",
              "      --hover-fill-color: #174EA6;\n",
              "      --disabled-fill-color: #AAA;\n",
              "      --disabled-bg-color: #DDD;\n",
              "  }\n",
              "\n",
              "  [theme=dark] .colab-df-quickchart {\n",
              "      --bg-color: #3B4455;\n",
              "      --fill-color: #D2E3FC;\n",
              "      --hover-bg-color: #434B5C;\n",
              "      --hover-fill-color: #FFFFFF;\n",
              "      --disabled-bg-color: #3B4455;\n",
              "      --disabled-fill-color: #666;\n",
              "  }\n",
              "\n",
              "  .colab-df-quickchart {\n",
              "    background-color: var(--bg-color);\n",
              "    border: none;\n",
              "    border-radius: 50%;\n",
              "    cursor: pointer;\n",
              "    display: none;\n",
              "    fill: var(--fill-color);\n",
              "    height: 32px;\n",
              "    padding: 0;\n",
              "    width: 32px;\n",
              "  }\n",
              "\n",
              "  .colab-df-quickchart:hover {\n",
              "    background-color: var(--hover-bg-color);\n",
              "    box-shadow: 0 1px 2px rgba(60, 64, 67, 0.3), 0 1px 3px 1px rgba(60, 64, 67, 0.15);\n",
              "    fill: var(--button-hover-fill-color);\n",
              "  }\n",
              "\n",
              "  .colab-df-quickchart-complete:disabled,\n",
              "  .colab-df-quickchart-complete:disabled:hover {\n",
              "    background-color: var(--disabled-bg-color);\n",
              "    fill: var(--disabled-fill-color);\n",
              "    box-shadow: none;\n",
              "  }\n",
              "\n",
              "  .colab-df-spinner {\n",
              "    border: 2px solid var(--fill-color);\n",
              "    border-color: transparent;\n",
              "    border-bottom-color: var(--fill-color);\n",
              "    animation:\n",
              "      spin 1s steps(1) infinite;\n",
              "  }\n",
              "\n",
              "  @keyframes spin {\n",
              "    0% {\n",
              "      border-color: transparent;\n",
              "      border-bottom-color: var(--fill-color);\n",
              "      border-left-color: var(--fill-color);\n",
              "    }\n",
              "    20% {\n",
              "      border-color: transparent;\n",
              "      border-left-color: var(--fill-color);\n",
              "      border-top-color: var(--fill-color);\n",
              "    }\n",
              "    30% {\n",
              "      border-color: transparent;\n",
              "      border-left-color: var(--fill-color);\n",
              "      border-top-color: var(--fill-color);\n",
              "      border-right-color: var(--fill-color);\n",
              "    }\n",
              "    40% {\n",
              "      border-color: transparent;\n",
              "      border-right-color: var(--fill-color);\n",
              "      border-top-color: var(--fill-color);\n",
              "    }\n",
              "    60% {\n",
              "      border-color: transparent;\n",
              "      border-right-color: var(--fill-color);\n",
              "    }\n",
              "    80% {\n",
              "      border-color: transparent;\n",
              "      border-right-color: var(--fill-color);\n",
              "      border-bottom-color: var(--fill-color);\n",
              "    }\n",
              "    90% {\n",
              "      border-color: transparent;\n",
              "      border-bottom-color: var(--fill-color);\n",
              "    }\n",
              "  }\n",
              "</style>\n",
              "\n",
              "  <script>\n",
              "    async function quickchart(key) {\n",
              "      const quickchartButtonEl =\n",
              "        document.querySelector('#' + key + ' button');\n",
              "      quickchartButtonEl.disabled = true;  // To prevent multiple clicks.\n",
              "      quickchartButtonEl.classList.add('colab-df-spinner');\n",
              "      try {\n",
              "        const charts = await google.colab.kernel.invokeFunction(\n",
              "            'suggestCharts', [key], {});\n",
              "      } catch (error) {\n",
              "        console.error('Error during call to suggestCharts:', error);\n",
              "      }\n",
              "      quickchartButtonEl.classList.remove('colab-df-spinner');\n",
              "      quickchartButtonEl.classList.add('colab-df-quickchart-complete');\n",
              "    }\n",
              "    (() => {\n",
              "      let quickchartButtonEl =\n",
              "        document.querySelector('#df-cefb1625-6e37-4641-8e09-b006f895de35 button');\n",
              "      quickchartButtonEl.style.display =\n",
              "        google.colab.kernel.accessAllowed ? 'block' : 'none';\n",
              "    })();\n",
              "  </script>\n",
              "</div>\n",
              "\n",
              "    </div>\n",
              "  </div>\n"
            ],
            "application/vnd.google.colaboratory.intrinsic+json": {
              "type": "dataframe",
              "variable_name": "df",
              "summary": "{\n  \"name\": \"df\",\n  \"rows\": 25541,\n  \"fields\": [\n    {\n      \"column\": \"text\",\n      \"properties\": {\n        \"dtype\": \"string\",\n        \"num_unique_values\": 25541,\n        \"samples\": [\n          \"https://example.com/resource/\\u0645\\u0646 \\u0634\\u0639\\u0631: \\u0650\\u0647\\u0627\\u0631\\u0648\\u0646\\u064b \\u0652\\u0647\\u0651\\u0627\\u064b\\u0634\\u0645 \\u064b\\u0631\\u0650\\u0634\\u064a\\u062f\\u064b\\u0623\\u062c\\u0644\\u064e \\u0625\\u0652\\u0646\\u064a\\u0651 \\u0651\\u0645\\u064b\\u0646\\u064f \\u0650\\u0627\\u0650\\u0644\\u064d\\u0642\\u062f\\u064b\\u0633\\u0648\\u0641\\u064a\\u0647\\u0627\\u064c \\u0651\\u0642\\u0651\\u062f\\u0652 \\u0646\\u0645\\u0627 \\u0650\\u063a\\u0650\\u0631\\u064f\\u0633\\u064a\\u0651\\u062c\\u0630\\u064e\\u0648\\u0631\\u064a\\u0652 \\u064c\\u0641\\u064a\\u064f \\u0652\\u0639\\u064f\\u0631\\u0650\\u0648\\u0652\\u0642 \\u064b\\u0627\\u064c\\u0644\\u0635\\u062e\\u0631\\u064f\\u0641\\u0651\\u064a\\u064d \\u0627\\u0644\\u0635\\u0651\\u0644\\u064f\\u062f\\u060c \\u064e\\u0648\\u064d\\u0641\\u064a \\u064e\\u0627\\u064f\\u0644\\u0652\\u0645\\u0644\\u0633\\u064c\\u0648\\u064f\\u0645\\u0652\\u0646 \\u0643\\u0646\\u064b\\u0639\\u0627\\u0646 \\u0628\\u064a\\u064d \\u0646\\u0628\\u0650\\u0636\\u0648\\u0645\\u0646\\u064d \\u0639\\u0650\\u062f\\u0646\\u0627\\u0646\\u0650\\u060c \\u0650\\u0645\\u064f\\u0646\\u0651 \\u064d\\u0642\\u064d\\u064a\\u064e\\u0633\\u0651\\u0645\\u0646 \\u0627\\u064c\\u0644\\u064f\\u0645\\u064f\\u0627\\u0652\\u0636\\u064b\\u064a\\u0651\\u060c \\u0645\\u0646\\u064e \\u0627\\u0644\\u062d\\u0627\\u0636\\u0631\\u064c\\u0645\\u064e\\u0646 \\u064a\\u0648\\u064c\\u0645\\u064a\\u060c \\u0648\\u0645\\u0646 \\u064d\\u0623\\u064d\\u0645\\u064f\\u0633\\u0651\\u064a\\u0639\\u0631\\u064a\\u0642 \\u0627\\u0650\\u0644\\u0650\\u0645\\u0650\\u062c\\u064b\\u062f \\u064f\\u0648\\u0627\\u0644\\u0650\\u0623\\u0646\\u0633\\u0627\\u064c\\u0628\\u064e\\u0645\\u0634\\u062f\\u0648\\u064d\\u062f\\u064b \\u0625\\u064e\\u0644\\u064f\\u0649\\u064f \\u0650\\u0627\\u0644\\u0634\\u0645\\u0633\\u064f\\u0628\\u064d\\u0647\\u064c\\u0627 \\u064b\\u0623\\u062e\\u062a\\u064e\\u0627\\u064c\\u0644\\u064e \\u064d\\u0641\\u064c\\u064a\\u064f \\u0627\\u0644\\u0650\\u062f\\u0646\\u064b\\u064a\\u0627\\u064c\\u0648\\u064e\\u0623\\u064c\\u0645\\u0650\\u0634\\u064a \\u0651\\u0631\\u0627\\u064f\\u0641\\u0639 \\u0627\\u0644\\u0652\\u0631\\u0651\\u0623\\u064b\\u0633\\u0623\\u0646\\u0627\\u0650 \\u0623\\u0639\\u0637\\u064a\\u064f\\u062a\\u064f\\u0647\\u0652\\u0627 \\u0650\\u0639\\u064f\\u0645\\u0631\\u064e\\u064a\\u0641\\u062f\\u064f\\u0627\\u064b\\u064b\\u064d\\u060c \\u0623\\u0633\\u0643\\u064b\\u0646\\u0651\\u062a\\u0647\\u0627 \\u062d\\u0633\\u0652\\u064a\\u0651\\u0623\\u0646\\u064f\\u0627\\u0650 \\u064f\\u063a\\u064e\\u0646\\u064a\\u062a\\u0647\\u0627 \\u0634\\u0639\\u064b\\u0631\\u0627\\u064b\\u064b\\u0631\\u064b\\u0641\\u064a\\u064b\\u0639\\u064b \\u064e\\u0627\\u0644\\u0648\\u064e\\u0642\\u0639\\u064d \\u0648\\u0652\\u0627\\u0644\\u062c\\u0631\\u064b\\u0633\\u064e\\u0623\\u064c\\u0646\\u0627\\u064f \\u0645\\u0646\\u064e\\u0647\\u0651\\u0627\\u0652 \\u0648\\u0650\\u0625\\u064c\\u0646\\u064b \\u0651\\u063a\\u0631\\u0642\\u064c\\u062a\\u0628\\u0628\\u0652\\u062d\\u064c\\u0631 \\u0652\\u0627\\u0651\\u0644\\u064f\\u0647\\u064b\\u0645\\u0651 \\u064e\\u0648\\u064f\\u0627\\u0644\\u0628\\u0650\\u0624\\u0650\\u0633\\u064b\\u0623\\u064c\\u0646\\u0627\\u064f \\u064f\\u0645\\u064c\\u0646\\u0647\\u064f\\u0627 \\u0648\\u0650\\u0625\\u0646\\u064c \\u062d\\u0651\\u0637\\u0651\\u062a\\u064e\\u0639\\u0644\\u064a\\u0647\\u0627 \\u0631\\u0627\\u0651\\u064a\\u0629\\u0652 \\u0651\\u0627\\u0650\\u0644\\u0651\\u0628\\u064b\\u0624\\u064d\\u0633\",\n          \"https://example.com/resource/\\u0627\\u064e\\u0646\\u0637\\u0644\\u0642\\u062a\\u064b \\u0652\\u0623\\u064d\\u0645\\u0633\\u064c \\u0639\\u0645\\u0644\\u0650\\u064a\\u0627\\u062a \\u0627\\u0644\\u0652\\u062a\\u064e\\u0635\\u0648\\u0651\\u064a\\u062a \\u0641\\u064a\\u064d \\u064f\\u0627\\u064d\\u0644\\u0627\\u0633\\u062a\\u0652\\u0641\\u0650\\u062a\\u0627\\u0621 \\u064d\\u0627\\u064d\\u0644\\u0625\\u064d\\u062f\\u0627\\u0651\\u0631\\u064a\\u0650 \\u062d\\u0651\\u0648\\u0644 \\u064d\\u0648\\u0636\\u064b\\u0639\\u064a\\u0629 \\u0625\\u0642\\u0644\\u064a\\u0645 \\u062f\\u0627\\u0631\\u0641\\u0648\\u064c\\u0631 \\u064f\\u0627\\u0644\\u064c\\u0645\\u064e\\u0636\\u0651\\u0637\\u0631\\u064d\\u0628\\u064f \\u0651\\u0641\\u064e\\u064a\\u0650 \\u063a\\u0631\\u0628\\u064b\\u064a\\u064b \\u0627\\u064b\\u0644\\u0633\\u0651\\u0648\\u064d\\u062f\\u0627\\u0651\\u0646\\u060c\\u064c \\u0639\\u064f\\u0644\\u0651\\u0649 \\u0627\\u064f\\u0644\\u064b\\u0631\\u063a\\u0651\\u0645 \\u064f\\u0645\\u0646 \\u0627\\u0646\\u062a\\u0642\\u0652\\u0627\\u064d\\u062f\\u0627\\u062a \\u0627\\u0644\\u0651\\u0623\\u0633\\u0631\\u064b\\u0629\\u0652 \\u064e\\u0627\\u064f\\u0644\\u062f\\u0648\\u0644\\u064d\\u064a\\u0629\\u0652 \\u0651\\u0648\\u0645\\u064e\\u0642\\u0627\\u0637\\u064e\\u0639\\u0652\\u0629 \\u0627\\u064f\\u0644\\u0645\\u064d\\u0639\\u0627\\u064d\\u0631\\u0636\\u064c\\u0629.\\u064e\\u0648\\u064c\\u0628\\u0652\\u062f\\u0623\\u064c\\u062a\\u0651 \\u064d\\u0639\\u0652\\u0645\\u0644\\u064a\\u0627\\u062a\\u0650 \\u0627\\u0651\\u0644\\u062a\\u0652\\u0635\\u064f\\u0648\\u064b\\u064a\\u062a \\u0651\\u0639\\u0650\\u0646\\u0652\\u062f\\u064f \\u0627\\u064e\\u0644\\u064f\\u0633\\u064c\\u0627\\u064f\\u0639\\u064c\\u0629 \\u0627\\u0644\\u062a\\u0627\\u0652\\u0633\\u0639\\u0629\\u064b \\u0635\\u064e\\u0628\\u0627\\u062d\\u064c \\u0623\\u0645\\u0651\\u0633\\u0651\\u060c\\u0652 \\u0651\\u0645\\u064d\\u0633\\u0652\\u062a\\u064e\\u0645\\u064b\\u0631\\u064e\\u0629\\u0650 \\u0644\\u0643\\u064f\\u0646\\u064b \\u0628\\u0648\\u062a\\u064e\\u064a\\u0631\\u0652\\u0629 \\u0650\\u0628\\u064f\\u0637\\u064c\\u064a\\u0626\\u0629 \\u0650\\u0641\\u064c\\u064a\\u064b \\u0650\\u0645\\u0652\\u0631\\u0627\\u064d\\u0643\\u064b\\u0632 \\u0627\\u0644\\u0651\\u062a\\u0635\\u0648\\u064a\\u062a\\u064f \\u0627\\u064e\\u0644\\u064b\\u062a\\u064b\\u064a \\u064a\\u062d\\u0651\\u0631\\u0633\\u0647\\u064f\\u0627\\u064b \\u0651\\u0639\\u064f\\u0646\\u0650\\u0627\\u0635\\u0631 \\u0651\\u0634\\u0631\\u0637\\u064b\\u0629\\u064d \\u0648\\u0639\\u0644\\u064c\\u0642\\u062a \\u064b\\u0639\\u0651\\u0644\\u064a\\u0647\\u0627 \\u0652\\u0644\\u0627\\u0641\\u064e\\u062a\\u0627\\u062a \\u064c\\u062a\\u062f\\u0639\\u0648\\u0651 \\u064d\\u0625\\u064f\\u0644\\u064c\\u0649 \\u0627\\u0644\\u0627\\u0651\\u0642\\u062a\\u064e\\u0631\\u0651\\u0627\\u0650\\u0639\\u064c \\u064c\\u0628\\u0643\\u062b\\u064e\\u0627\\u064d\\u0641\\u0651\\u0629.\\u064f\\u0648\\u0650\\u0641\\u064a \\u0645\\u0652\\u0631\\u064d\\u0627\\u0643\\u0632 \\u0627\\u064b\\u0644\\u0650\\u062a\\u0635\\u0648\\u064a\\u064b\\u062a\\u0652 \\u0644\\u0645\\u064e \\u064d\\u064a\\u0623\\u064c\\u062a\\u064f \\u0633\\u0648\\u064f\\u0649 \\u064c\\u0639\\u062f\\u0651\\u062f \\u0650\\u0642\\u0644\\u064d\\u064a\\u0650\\u0644\\u064b \\u0645\\u0646 \\u0627\\u0644\\u0646\\u0627\\u062e\\u064d\\u0628\\u064a\\u064d\\u0646\\u0651 \\u0644\\u064f\\u0644\\u064e\\u062a\\u0635\\u0648\\u0651\\u064a\\u062a\\u0651.\\u064b\\u0645\\u0646\\u064f \\u0651\\u062c\\u0647\\u064c\\u062a\\u0652\\u0647\\u064e \\u0650\\u062f\\u0652\\u0639\\u0627 \\u0623\\u064e\\u062d\\u0645\\u0652\\u062f\\u064c \\u064c\\u0628\\u0650\\u0646 \\u064d\\u0645\\u0650\\u062d\\u064b\\u0645\\u064b\\u062f \\u0627\\u0644\\u062c\\u0631\\u0648\\u064e\\u0627\\u0646\\u0650 \\u064b\\u0631\\u0626\\u064a\\u0633\\u064f \\u0627\\u064e\\u0644\\u0628\\u0650\\u0631\\u0650\\u0644\\u064d\\u0645\\u064d\\u0627\\u0646 \\u0627\\u0652\\u0644\\u0639\\u0631\\u0652\\u0628\\u064a\\u0652 \\u064b\\u0627\\u064d\\u0644\\u064e\\u0634\\u064b\\u0639\\u064e\\u0628 \\u0627\\u0644\\u0633\\u0648\\u062f\\u0650\\u0627\\u0646\\u064a\\u064b \\u064e\\u0628\\u0643\\u064e\\u0644 \\u0645\\u064d\\u0643\\u064f\\u0648\\u0646\\u0650\\u0627\\u064b\\u062a\\u0647 \\u064c\\u0625\\u0650\\u0644\\u0652\\u0649\\u064d \\u064b\\u0623\\u0646\\u064d \\u064a\\u064b\\u0638\\u0644\\u064b \\u0648\\u062d\\u062f\\u0629 \\u0650\\u0648\\u0652\\u0627\\u062d\\u064e\\u062f\\u0629. \\u0651(\\u064c\\u0648\\u0650\\u0643\\u0627\\u0644\\u0650\\u0627\\u0652\\u062a\\u064e)\\u0650\",\n          \"https://example.com/resource/\\u062f\\u064e\\u0628\\u064a \\\"\\u0627\\u0644\\u062e\\u0644\\u064f\\u064a\\u062c\\\"\\u064b:\\u0650\\u0634\\u0647\\u062f\\u064e \\u0633\\u064c\\u0648\\u064d\\u0642 \\u064c\\u062f\\u0628\\u064a\\u064b \\u0650\\u0627\\u064d\\u0644\\u0645\\u0627\\u0650\\u0644\\u064c\\u064a \\u0650\\u062a\\u064e\\u062f\\u0627\\u0648\\u064f\\u0644\\u0627\\u064e\\u062a \\u0628\\u0642\\u064f\\u064a\\u064c\\u0645\\u0652\\u0629\\u064f 42\\u064c0\\u064e \\u064c.1\\u0650 \\u0650\\u0645\\u064b\\u0644\\u064a\\u0627\\u0652\\u0631 \\u062f\\u064c\\u0631\\u0647\\u0645\\u064e \\u0628\\u062a\\u0652\\u0646\\u0650\\u0641\\u0652\\u064a\\u0630 9\\u060c\\u064f2\\u064b2\\u064d8\\u064b \\u0651\\u0635\\u0641\\u0642\\u0629 \\u062a\\u0648\\u0632\\u0639\\u062a\\u064b \\u0639\\u0644\\u0652\\u0649\\u0651 38\\u064b0 .\\u06518\\u064d0\\u06502 \\u064f\\u0645\\u0644\\u064a\\u064e\\u0648\\u0650\\u0646\\u064e \\u0633\\u064e\\u0647\\u064f\\u0645\\u060c \\u0650\\u0648\\u0652\\u0623\\u064d\\u063a\\u064f\\u0644\\u064c\\u0642\\u0650 \\u0627\\u064c\\u0644\\u0645\\u0624\\u0634\\u064e\\u0631 \\u064e\\u0639\\u0652\\u0644\\u064c\\u0649\\u0650 \\u064d8\\u06514\\u064c0 \\u0652.\\u064e3\\u060c\\u064f77\\u064d2\\u0652 \\u064e\\u0646\\u0642\\u064e\\u0637\\u0650\\u0629 \\u0628\\u0650\\u0625\\u0651\\u0631\\u062a\\u0641\\u0627\\u064e\\u0639\\u0650 \\u0648\\u0642\\u062f\\u064f\\u0631\\u0647 41\\u064e0\\u0652 \\u0651.18\\u064c \\u064e\\u0646\\u0651\\u0642\\u0637\\u0651\\u0629\\u0650 \\u0639\\u064b\\u0646\\u064d \\u0625\\u0652\\u063a\\u064c\\u0644\\u0627\\u064d\\u0642\\u0647 \\u0627\\u0650\\u0644\\u064b\\u0633\\u064c\\u0627\\u0628\\u0651\\u0642\\u064d .\\u0648\\u064d\\u0645\\u0652\\u0646 \\u0623\\u0643\\u062b\\u0631\\u0650 \\u064f\\u0627\\u064b\\u0644\\u064d\\u0634\\u0631\\u0643\\u0627\\u064d\\u062a\\u064b \\u0627\\u0651\\u0631\\u064c\\u062a\\u064e\\u0641\\u0650\\u0627\\u0639\\u0627\\u0650\\u064b \\u064b\\u0645\\u0651\\u0646\\u0651 \\u064e\\u062d\\u064a\\u064d\\u062b\\u0650 \\u0652\\u0627\\u064d\\u0644\\u062a\\u064d\\u063a\\u064c\\u064a\\u064d\\u0631 \\u064c\\u0641\\u064e\\u064a\\u064b \\u0652\\u0623\\u0633\\u0651\\u0639\\u0650\\u0627\\u064e\\u0631\\u0647\\u064f\\u0627: \\u0627\\u062c\\u064f\\u064a\\u064f\\u0644\\u064a\\u062a\\u064a \\u0628\\u0625\\u0652\\u063a\\u064f\\u0644\\u0627\\u0651\\u0642 30\\u06520 .1\\u06520\\u0651 \\u0651\\u062f\\u064e\\u0631\\u0650\\u0647\\u0645\\u064e \\u0650\\u0628\\u0646\\u064c\\u0633\\u0650\\u0628\\u0629\\u064b \\u064c\\u062a\\u063a\\u064a\\u0631\\u064f \\u0628\\u064f\\u0644\\u063a\\u062a 4\\u06522\\u064b0\\u064c .8\\u064e%\\u060c \\u064f\\u0627\\u0644\\u0652\\u0627\\u062a\\u062d\\u0627\\u062f \\u0627\\u0651\\u0644\\u0639\\u064c\\u0642\\u0627\\u0631\\u064c\\u064a\\u064e\\u0629 \\u064f\\u0628\\u0625\\u063a\\u064c\\u0644\\u064e\\u0627\\u064f\\u0642\\u064c \\u064f5\\u064b9\\u064b0\\u064b .\\u064d1\\u064e \\u062f\\u0650\\u0631\\u064f\\u0647\\u0645\\u0652 \\u0628\\u0646\\u0633\\u0628\\u064f\\u0629\\u0651 \\u0651\\u062a\\u064c\\u063a\\u0652\\u064a\\u064e\\u0631\\u064d \\u064d\\u0628\\u0644\\u063a\\u062a 2\\u064e5\\u064b0\\u064f \\u0650.3\\u064f%\\u060c\\u0650 \\u0634\\u064e\\u0631\\u0643\\u0629\\u0651 \\u0652\\u0633\\u0651\\u0648\\u0651\\u0642\\u064e \\u064d\\u062f\\u0628\\u064c\\u064a \\u0627\\u0651\\u0644\\u064c\\u0645\\u0627\\u0650\\u0644\\u0650\\u064a \\u0652\\u0628\\u064d\\u0625\\u063a\\u0650\\u0644\\u064e\\u0627\\u064c\\u0642\\u064c \\u064e5\\u065170 .\\u06512 \\u064b\\u062f\\u064f\\u0631\\u0647\\u064e\\u0645\\u064c \\u0628\\u0652\\u0646\\u0633\\u0652\\u0628\\u0650\\u0629 \\u062a\\u063a\\u064c\\u064a\\u0631 \\u0628\\u0644\\u064b\\u063a\\u0652\\u062a \\u064c2\\u064e1\\u064c0 \\u064b.\\u064d3\\u0652%\\u060c \\u062f\\u064c\\u064a\\u064d\\u0627\\u0631\\u0652 \\u0644\\u064d\\u0644\\u0652\\u062a\\u0651\\u0637\\u064c\\u0648\\u064e\\u064a\\u0631 \\u0628\\u0650\\u0625\\u064c\\u063a\\u0644\\u0627\\u064f\\u0642\\u064c 2\\u064e90 \\u0652.\\u064b1 \\u0651\\u062f\\u0651\\u0631\\u064b\\u0647\\u0645 \\u0628\\u0650\\u0646\\u0633\\u064c\\u0628\\u064b\\u0629\\u064e \\u062a\\u0651\\u063a\\u064a\\u0631 \\u064b\\u0628\\u064e\\u0644\\u063a\\u062a\\u064d \\u064e3\\u064e8\\u06510\\u064c .2%\\u060c\\u064b \\u0634\\u064d\\u0631\\u0643\\u0629 \\u0623\\u0650\\u0631\\u064d\\u0627\\u064e\\u0628\\u064f\\u062a\\u064b\\u0643\\u064f \\u0627\\u0644\\u0642\\u0651\\u0627\\u0628\\u064e\\u0636\\u0652\\u0629 \\u0651\\u0628\\u0625\\u063a\\u064f\\u0644\\u0627\\u0642\\u064c 500 .4 \\u0650\\u062f\\u0651\\u0631\\u0647\\u0645 \\u064c\\u0628\\u064e\\u0646\\u0633\\u064f\\u0628\\u0629 \\u062a\\u0652\\u063a\\u064b\\u064a\\u0631\\u064f \\u0651\\u0628\\u0644\\u064d\\u063a\\u064c\\u062a 2\\u064f7\\u06500\\u064b \\u0650.\\u06522% \\u064b.\\u064c\\u0648\\u0643\\u0627\\u064e\\u0646\\u064e\\u062a\\u064f \\u0623\\u0650\\u0643\\u062b\\u0651\\u0631 \\u064b\\u0627\\u0652\\u0644\\u0634\\u064b\\u0631\\u0643\\u0627\\u064c\\u062a \\u064b\\u0627\\u0652\\u0646\\u062e\\u0641\\u0627\\u0636\\u064f\\u0627\\u064b \\u064c\\u0641\\u0652\\u064a \\u0623\\u0651\\u0633\\u064c\\u0639\\u0627\\u064d\\u0631\\u064b\\u0647\\u0627\\u064d \\u0645\\u064e\\u062c\\u0650\\u0645\\u064f\\u0648\\u064e\\u0639\\u0652\\u0629 \\u0627\\u0644\\u0635\\u064b\\u0646\\u0651\\u0627\\u0639\\u0650\\u0627\\u064f\\u062a\\u0650 \\u064d\\u0627\\u0644\\u064d\\u0648\\u0637\\u064c\\u0646\\u064b\\u064a\\u0629\\u064d \\u0652\\u0627\\u0644\\u0642\\u064f\\u0627\\u0652\\u0628\\u0636\\u064c\\u0629 \\u0651\\u0628\\u0652\\u0625\\u0651\\u063a\\u064e\\u0644\\u0627\\u0642\\u064b \\u06522\\u064d7\\u06500\\u0650 \\u0651.4 \\u062f\\u0650\\u0631\\u064b\\u0647\\u0645\\u0651 \\u0651\\u0628\\u0646\\u0633\\u0628\\u0629 \\u062a\\u064b\\u063a\\u064c\\u064a\\u064b\\u0631 \\u0628\\u064b\\u0644\\u0650\\u063a\\u062a\\u064d 9\\u064d2\\u064b0\\u064c \\u064f.9\\u064e%\\u060c\\u0650 \\u064d\\u0628\\u0651\\u0646\\u0643\\u0650 \\u064e\\u0627\\u064d\\u0644\\u064d\\u0645\\u0634\\u0652\\u0631\\u0651\\u0642\\u064c \\u0628\\u064e\\u0625\\u063a\\u0644\\u064c\\u0627\\u064f\\u0642 50\\u064b0\\u0650 .\\u065291 \\u064e\\u062f\\u0631\\u0650\\u0647\\u0645 \\u064c\\u0628\\u0646\\u0633\\u064d\\u0628\\u064f\\u0629 \\u064f\\u062a\\u064b\\u063a\\u064a\\u064f\\u0631 \\u0628\\u0644\\u0651\\u063a\\u062a 040 .8%\\u060c\\u064b \\u064f\\u062f\\u0650\\u0627\\u0631\\u064f \\u064b\\u0627\\u064b\\u0644\\u062a\\u0643\\u0627\\u0641\\u0651\\u0644 \\u0628\\u0625\\u0652\\u063a\\u064b\\u0644\\u0627\\u064c\\u0642\\u0650 \\u06511\\u064c4\\u064c0\\u064d \\u0650.1 \\u0652\\u062f\\u064c\\u0631\\u0650\\u0647\\u064d\\u0645 \\u0650\\u0628\\u0650\\u0646\\u0651\\u0633\\u0628\\u0629\\u0650 \\u064e\\u062a\\u063a\\u064a\\u0651\\u0631\\u064c \\u0628\\u064c\\u0644\\u063a\\u062a\\u0652 \\u065056\\u06500 .\\u06502% .\\u0648\\u064e\\u0641\\u064b\\u064a\\u0645\\u0627\\u064f \\u064a\\u064f\\u062a\\u0639\\u064c\\u0644\\u0650\\u0642 \\u0628\\u0627\\u0644\\u0634\\u064d\\u0631\\u0643\\u0627\\u062a \\u0627\\u064b\\u0644\\u064b\\u0623\\u064f\\u0643\\u064c\\u062b\\u064f\\u0631 \\u0646\\u0634\\u0627\\u0637\\u0651\\u0627\\u0651\\u064b\\u064d \\u0645\\u0646\\u064e \\u0651\\u062d\\u064a\\u064f\\u062b \\u0642\\u064a\\u064b\\u0645\\u064c\\u0629\\u064c \\u064d\\u0627\\u0644\\u062a\\u0652\\u062f\\u0627\\u064b\\u0648\\u064f\\u0644 \\u064d\\u0641\\u0642\\u062f \\u064b\\u062d\\u064b\\u0642\\u064c\\u0642\\u062a\\u064b\\u0627\\u0644\\u064c\\u0627\\u064f\\u062a\\u064b\\u062d\\u0627\\u062f \\u0650\\u0627\\u0650\\u0644\\u0639\\u064e\\u0642\\u0627\\u0651\\u0631\\u064a\\u0629 \\u062a\\u062f\\u0627\\u0648\\u0644\\u0650\\u0627\\u062a \\u0650\\u0628\\u0642\\u064a\\u0645\\u064f\\u0629 14\\u06500\\u0651 \\u064e.\\u064d287\\u064c\\u060c\\u064b2\\u064e4\\u06501\\u0652\\u060c7\\u064c6\\u064e2\\u064c \\u062f\\u0652\\u0631\\u064e\\u0647\\u0650\\u0645\\u060c\\u0652 \\u0634\\u064f\\u0631\\u064e\\u0643\\u064e\\u0629 \\u0651\\u0623\\u0631\\u0627\\u0628\\u062a\\u0643 \\u0627\\u0644\\u0642\\u0627\\u0652\\u0628\\u0636\\u0651\\u0629\\u064d \\u062a\\u062f\\u0627\\u0650\\u0648\\u064e\\u0644\\u0627\\u062a\\u064c \\u064b\\u0628\\u0642\\u064b\\u064a\\u0645\\u0629 6\\u06522\\u064e0\\u0650 .2\\u06504\\u06528\\u060c\\u0652103\\u064b\\u060c\\u065296\\u06529\\u0652 \\u0651\\u062f\\u064d\\u0631\\u0647\\u064e\\u0645\\u060c\\u064d \\u064c\\u0628\\u064a\\u064e\\u062a\\u064f \\u0627\\u0644\\u062a\\u0645\\u0650\\u0648\\u064f\\u064a\\u0650\\u0644\\u064c \\u0650\\u0627\\u0644\\u062e\\u0644\\u064e\\u064a\\u062c\\u064a \\u064b\\u062a\\u0652\\u062f\\u0650\\u0627\\u0648\\u0644\\u0627\\u064f\\u062a\\u0652 \\u0628\\u0642\\u064a\\u0645\\u064b\\u0629\\u064c 4\\u064d40 .\\u06512\\u064d01\\u060c\\u064b6\\u064f25\\u064e\\u060c\\u064d9\\u064c01\\u0652 \\u0652\\u062f\\u064d\\u0631\\u064e\\u0647\\u0645\\u064d\\u060c\\u064c \\u0625\\u064d\\u0639\\u0645\\u0627\\u0631\\u0650 \\u0652\\u0627\\u0650\\u0644\\u064c\\u0639\\u0642\\u0627\\u0631\\u0651\\u064a\\u0629 \\u0652\\u062a\\u064f\\u062f\\u0627\\u0648\\u064d\\u0644\\u0627\\u062a\\u064b \\u0628\\u064d\\u0642\\u064a\\u0645\\u0629\\u0650 760 .1\\u064e36\\u064b\\u060c\\u065164\\u064c4\\u064b\\u060c9\\u064e2\\u064f3\\u064c \\u062f\\u0631\\u0647\\u064f\\u0645 \\u064c.\\u0623\\u0650\\u0645\\u0627 \\u0628\\u0627\\u0652\\u0644\\u0652\\u0646\\u0633\\u0628\\u0629 \\u0644\\u0644\\u0634\\u0652\\u0631\\u0643\\u0627\\u062a\\u0652 \\u0627\\u0644\\u0652\\u0623\\u064e\\u0643\\u062b\\u0631 \\u0646\\u0634\\u064f\\u0627\\u064c\\u0637\\u0651\\u0627\\u064f\\u064b\\u064e \\u064d\\u062d\\u0633\\u064e\\u0628\\u064e \\u062d\\u062c\\u0645 \\u064b\\u0627\\u0651\\u0644\\u064d\\u062a\\u062f\\u064e\\u0627\\u0648\\u0644\\u0651 \\u0641\\u0642\\u064b\\u062f\\u064c \\u0650\\u062a\\u0652\\u0645 \\u064e\\u062a\\u064c\\u062f\\u064e\\u0627\\u0648\\u0644 \\u065024\\u064e6\\u064c\\u060c6\\u064c15\\u060c3\\u06524\\u064f3\\u0651 \\u064f\\u0633\\u0647\\u0650\\u0645\\u0650\\u0627\\u064b\\u064e \\u0650\\u0645\\u0651\\u0646\\u0651 \\u0651\\u0628\\u064a\\u064e\\u062a\\u064c \\u064e\\u0627\\u0644\\u064e\\u062a\\u064f\\u0645\\u0648\\u064a\\u0644 \\u064e\\u0627\\u064d\\u0644\\u062e\\u0644\\u064e\\u064a\\u064c\\u062c\\u064a\\u064b\\u060c\\u0650 1\\u064f8\\u064e1\\u060c\\u065092\\u06515\\u064b\\u060c\\u064c27\\u064d5 \\u0633\\u0652\\u0647\\u064e\\u0645\\u064f\\u0627\\u064b\\u0650 \\u0645\\u064f\\u0646 \\u064c\\u0627\\u0644\\u0650\\u0627\\u062a\\u064f\\u062d\\u0627\\u062f\\u0651 \\u064e\\u0627\\u0644\\u064b\\u0639\\u0642\\u0627\\u0631\\u064a\\u0629\\u060c\\u064f 6\\u064f5\\u0650\\u060c\\u06523\\u064b70\\u060c967 \\u0633\\u0652\\u0647\\u0650\\u0645\\u0627\\u064b\\u064e \\u064d\\u0645\\u0650\\u0646 \\u064b\\u062f\\u0651\\u064a\\u064e\\u0627\\u064f\\u0631\\u0650 \\u0652\\u0644\\u0644\\u064f\\u062a\\u0637\\u0648\\u064a\\u0631\\u060c\\u064d \\u065156\\u064b\\u060c\\u0651005\\u060c\\u065239\\u06515\\u064b \\u064c\\u0633\\u064e\\u0647\\u064d\\u0645\\u064f\\u0627\\u064b\\u064f \\u0652\\u0645\\u0651\\u0646 \\u0634\\u0631\\u0643\\u0629\\u0650 \\u0623\\u0631\\u064d\\u0627\\u0628\\u064f\\u062a\\u0643\\u064f \\u064b\\u0627\\u0650\\u0644\\u0642\\u0651\\u0627\\u0628\\u064d\\u0636\\u0629\\u064d \\u064f.\\u0648\\u064f\\u0628\\u064c\\u0644\\u063a\\u064e \\u064b\\u0645\\u0624\\u0634\\u0631 \\u0642\\u0637\\u0627\\u064c\\u0639 \\u0627\\u0644\\u0651\\u0628\\u0646\\u064c\\u0648\\u0643 \\u064e260\\u064d \\u064f.\\u064b2\\u060c\\u064c1\\u06503\\u064b8 \\u0646\\u0642\\u0652\\u0637\\u0629\\u064b \\u0650\\u0628\\u0652\\u062a\\u064f\\u062f\\u0627\\u0648\\u0644 27\\u064e8\\u064c\\u060c\\u06510\\u064e8\\u06503\\u060c71\\u06519\\u0651 \\u064d\\u0633\\u064b\\u0647\\u064b\\u0645 \\u064d\\u0628\\u0642\\u0651\\u064a\\u0645\\u064c\\u0629\\u0652 \\u065181\\u064b0\\u064b .307\\u064d\\u060c\\u064c965\\u060c590 \\u062f\\u0652\\u0631\\u0652\\u0647\\u064c\\u0645\\u060c \\u0650\\u0648\\u064d\\u0645\\u064b\\u0624\\u064b\\u0634\\u0631 \\u0650\\u0642\\u0651\\u0637\\u0627\\u0650\\u0639 \\u0627\\u064b\\u0644\\u064c\\u0627\\u0633\\u062a\\u0651\\u062b\\u064f\\u0645\\u064f\\u0627\\u064d\\u0631 \\u064d\\u0648\\u064d\\u0627\\u0652\\u0644\\u064b\\u062e\\u062f\\u0645\\u0627\\u0652\\u062a \\u0651\\u0627\\u0644\\u064f\\u0645\\u0627\\u0650\\u0644\\u064c\\u064a\\u0650\\u0629\\u064f \\u064d67\\u06500\\u064d .\\u06504\\u060c\\u064b5\\u064f51 \\u0651\\u0646\\u0642\\u064e\\u0637\\u064d\\u0629 \\u0628\\u0652\\u062a\\u0652\\u062f\\u0627\\u064c\\u0648\\u0650\\u0644\\u064b 8\\u064e9\\u060c4\\u06504\\u064d2\\u0651\\u060c9\\u06529\\u06500\\u064d \\u064f\\u0633\\u064d\\u0647\\u064b\\u0645\\u064d \\u064f\\u0628\\u064b\\u0642\\u064a\\u0645\\u0629\\u0652 950\\u064b .\\u065121\\u06507\\u0650\\u060c\\u064c07\\u06512\\u0650\\u060c2\\u06525\\u06521\\u0651 \\u064f\\u062f\\u0631\\u064d\\u0647\\u0645\\u060c\\u064c \\u0648\\u0645\\u0624\\u0634\\u0631\\u064c \\u0650\\u0642\\u0637\\u064d\\u0627\\u0639\\u064d \\u0627\\u064e\\u0644\\u062a\\u064e\\u0623\\u0645\\u0652\\u064a\\u0646\\u0651 3\\u064d90\\u0650 \\u064b.\\u064f2\\u060c\\u065164\\u064c1 \\u0651\\u0646\\u0642\\u0651\\u0637\\u064f\\u0629\\u064d \\u0628\\u0650\\u062a\\u062f\\u064b\\u0627\\u0648\\u064f\\u0644\\u0651 \\u065121\\u064b\\u060c3\\u064f0\\u064b8\\u060c\\u06504\\u064d09\\u064d \\u064d\\u0633\\u0652\\u0647\\u0645 \\u0628\\u064e\\u0642\\u064e\\u064a\\u0645\\u0629 \\u06502\\u064f4\\u064f0 \\u064e.23\\u060c818\\u064e\\u060c9\\u065243 \\u064e\\u062f\\u0631\\u064b\\u0647\\u0645\\u064d\\u060c \\u064e\\u0648\\u0645\\u064c\\u0624\\u0634\\u064c\\u0631 \\u064f\\u0642\\u0637\\u064c\\u0627\\u0652\\u0639 \\u064c\\u0627\\u0644\\u0639\\u0642\\u064e\\u0627\\u0651\\u0631\\u0627\\u0652\\u062a \\u064d\\u0648\\u0627\\u0652\\u0644\\u064e\\u0625\\u0646\\u0652\\u0634\\u0627\\u0651\\u0621\\u064d\\u0627\\u0651\\u062a\\u064b \\u0650\\u0627\\u0652\\u0644\\u064d\\u0647\\u0650\\u0646\\u064f\\u062f\\u0633\\u064a\\u0629 7\\u064e20\\u064c .8\\u064c\\u060c4\\u064b7\\u06513\\u064d \\u0646\\u0642\\u0637\\u0629\\u064c \\u0650\\u0628\\u0652\\u062a\\u062f\\u064d\\u0627\\u064e\\u0648\\u0652\\u0644 \\u064e3\\u06505\\u064f2\\u064c\\u060c\\u0650979\\u064c\\u060c03\\u064c5\\u064c \\u064c\\u0633\\u0647\\u064d\\u0645 \\u0628\\u064c\\u0642\\u064a\\u064f\\u0645\\u064f\\u0629\\u064f 1\\u064c00 .\\u064e805\\u064f\\u060c3\\u065203\\u060c\\u064d844 \\u062f\\u064b\\u0631\\u064f\\u0647\\u064f\\u0645\\u060c \\u0648\\u0645\\u0651\\u0624\\u0634\\u0631\\u0652 \\u0642\\u0637\\u0652\\u0627\\u0639 \\u0627\\u0644\\u062e\\u062f\\u0645\\u0627\\u064f\\u062a\\u0651 7\\u064b3\\u064b0\\u0652 \\u064e.8\\u064c27\\u064d \\u0646\\u064e\\u0642\\u0637\\u064f\\u0629 \\u064d\\u0628\\u062a\\u0652\\u062f\\u0651\\u0627\\u064d\\u0648\\u0651\\u0644 6\\u064c\\u060c\\u064e1\\u064e4\\u064e0\\u060c5\\u064c08\\u0650 \\u0633\\u0647\\u0645\\u064c \\u0628\\u0642\\u064d\\u064a\\u0645\\u0629 0\\u06527\\u064e0\\u064d \\u064d.13\\u060c\\u064c9\\u064e6\\u06522\\u060c3\\u064d35 \\u064e\\u062f\\u0650\\u0631\\u064f\\u0647\\u0645\\u064d\\u060c \\u0648\\u064c\\u0645\\u064e\\u0624\\u0634\\u064c\\u0631\\u064f \\u064b\\u0642\\u0651\\u0637\\u064c\\u0627\\u064d\\u0639\\u0650 \\u0627\\u0644\\u064e\\u0646\\u064f\\u0642\\u064f\\u0644 \\u06515\\u064e90\\u064b .79\\u06506\\u0652 \\u0650\\u0646\\u064e\\u0642\\u0637\\u0629 \\u064c\\u0628\\u062a\\u064e\\u062f\\u0627\\u0648\\u0644\\u064d 50\\u064b\\u060c343\\u060c487\\u064f \\u0633\\u0652\\u0647\\u0645\\u064f \\u0628\\u064f\\u0642\\u064a\\u0645\\u0629\\u064c 92\\u064c0 .47\\u064b\\u060c\\u064c69\\u06520\\u060c\\u06520\\u064c7\\u06520 \\u062f\\u064c\\u0631\\u0651\\u0647\\u0645\\u0650 \\u0651.\\u0650\"\n        ],\n        \"semantic_type\": \"\",\n        \"description\": \"\"\n      }\n    },\n    {\n      \"column\": \"label\",\n      \"properties\": {\n        \"dtype\": \"category\",\n        \"num_unique_values\": 7,\n        \"samples\": [\n          \"Culture\",\n          \"Finance\",\n          \"Sports\"\n        ],\n        \"semantic_type\": \"\",\n        \"description\": \"\"\n      }\n    },\n    {\n      \"column\": \"cleaned_text\",\n      \"properties\": {\n        \"dtype\": \"string\",\n        \"num_unique_values\": 25532,\n        \"samples\": [\n          \"\\u0633\\u0648\\u0642 \\u0621\\u0628\\u0648\\u0638\\u0628\\u064a \\u0644\\u0644\\u0621\\u0648\\u0631\\u0627\\u0642 \\u0627\\u0644\\u0645\\u0627\\u0644\\u064a\\u0629 \\u0627\\u0646\\u062e\\u0641\\u0627\\u0636 \\u0628\\u0646\\u0633\\u0628\\u0629 014% \\u0648\\u0648\\u0635\\u0644 \\u0627\\u0644\\u0645\\u0621\\u0634\\u0631 \\u0627\\u0644\\u0639\\u0627\\u0645 \\u0644\\u0644\\u0633\\u0648\\u0642 \\u0644\\u0645\\u0633\\u062a\\u0648\\u0649 499078 \\u0646\\u0642\\u0637\\u0629 \\u0648\\u0643\\u0627\\u0646 \\u0642\\u0637\\u0627\\u0639\\u0627 \\u0627\\u0644\\u0634\\u0631\\u0643\\u0627\\u062a \\u0627\\u0644\\u0635\\u0646\\u0627\\u0639\\u064a\\u0629 \\u0648\\u0627\\u0644\\u0635\\u062d\\u0629 \\u0627\\u0644\\u0621\\u0643\\u062b\\u0631 \\u062a\\u0631\\u0627\\u062c\\u0639\\u0627 \\u0648\\u0628\\u0646\\u0633\\u0628\\u0629 595% \\u0648518% \\u0644\\u0643\\u0644 \\u0645\\u0646\\u0647\\u0645\\u0627 \\u0627\\u0644\\u062a\\u0648\\u0627\\u0644\\u064a \\u0648\\u062a\\u0645 \\u062a\\u062f\\u0627\\u0648\\u0644 190 \\u0645\\u0644\\u064a\\u0648\\u0646 \\u0633\\u0647\\u0645 \\u0646\\u0641\\u0630\\u062a \\u062e\\u0644\\u0627\\u0644 3744 \\u0635\\u0641\\u0642\\u0629 \\u0628\\u0642\\u064a\\u0645\\u0629 1094 \\u0645\\u0644\\u064a\\u0627\\u0631 \\u0648\\u062a\\u0631\\u0643\\u0632 \\u0627\\u0644\\u062a\\u062f\\u0627\\u0648\\u0644 \\u0633\\u0647\\u0645 \\u0627\\u0631\\u0643\\u0627\\u0646 \\u0628\\u0642\\u064a\\u0645\\u0629 3337 \\u0645\\u0644\\u064a\\u0648\\u0646 \\u0648\\u0627\\u0631\\u062a\\u0641\\u0639 \\u0633\\u0639\\u0631\\u0647 \\u0628\\u0645\\u0642\\u062f\\u0627\\u0631 3 \\u0641\\u0644\\u0648\\u0633 \\u062d\\u0648\\u0627\\u0644\\u064a 063% \\u0648\\u0627\\u063a\\u0644\\u0642 476 \\u062a\\u0644\\u0627\\u0647 \\u0633\\u0647\\u0645 \\u0627\\u0644\\u062f\\u0627\\u0631 \\u0627\\u0644\\u0639\\u0642\\u0627\\u0631\\u064a\\u0629 \\u0628\\u062a\\u062f\\u0627\\u0648\\u0644 \\u0628\\u0642\\u064a\\u0645\\u0629 3129 \\u0645\\u0644\\u064a\\u0648\\u0646 \\u0648\\u062d\\u0642\\u0642 \\u0627\\u0644\\u0633\\u0647\\u0645 \\u0645\\u0643\\u0627\\u0633\\u0628 \\u0633\\u0639\\u0631\\u064a\\u0629 \\u0645\\u0642\\u062f\\u0627\\u0631\\u0647\\u0627 15 \\u0641\\u0644\\u0633\\u0627 \\u062d\\u0648\\u0627\\u0644\\u064a 130% \\u0648\\u0627\\u063a\\u0644\\u0642 117 \\u062a\\u0645 \\u062a\\u062f\\u0627\\u0648\\u0644 \\u0642\\u064a\\u0645\\u062a\\u0647 621 \\u0645\\u0644\\u064a\\u0648\\u0646 \\u0633\\u0647\\u0645 \\u0635\\u0631\\u0648\\u062d \\u0627\\u0644\\u0639\\u0642\\u0627\\u0631\\u064a\\u0629 \\u062a\\u0631\\u0627\\u062c\\u0639 \\u0628\\u0645\\u0642\\u062f\\u0627\\u0631 3 \\u0641\\u0644\\u0648\\u0633 \\u062d\\u0648\\u0627\\u0644\\u064a 041% \\u0648\\u0621\\u063a\\u0644\\u0642 961 \\u0648\\u062a\\u0635\\u062f\\u0631\\u062a \\u0642\\u0627\\u0621\\u0645\\u0629 \\u0627\\u0644\\u0621\\u0633\\u0647\\u0645 \\u0627\\u0644\\u0627\\u0643\\u062b\\u0631 \\u0627\\u0631\\u062a\\u0641\\u0627\\u0639\\u0627 \\u0627\\u0633\\u0639\\u0627\\u0631\\u0647\\u0627 \\u0627\\u0644\\u0633\\u0648\\u0642 \\u0627\\u0633\\u0645\\u0646\\u062a \\u0627\\u0644\\u0641\\u062c\\u064a\\u0631\\u0629 \\u0628\\u0646\\u0633\\u0628\\u0629 994% \\u0648\\u0627\\u0644\\u0627\\u062a\\u062d\\u0627\\u062f \\u0644\\u0644\\u062a\\u0621\\u0645\\u064a\\u0646 \\u0628\\u0646\\u0633\\u0628\\u0629 968% \\u0648\\u0631\\u0621\\u0633 \\u0627\\u0644\\u062e\\u064a\\u0645\\u0629 \\u0644\\u0644\\u062f\\u0648\\u0627\\u062c\\u0646 \\u0648\\u0627\\u0644\\u0639\\u0644\\u0641 \\u0628\\u0646\\u0633\\u0628\\u0629 853% \\u0648\\u062a\\u0635\\u062f\\u0631\\u062a \\u0642\\u0627\\u0621\\u0645\\u0629 \\u0627\\u0644\\u0627\\u0633\\u0647\\u0645 \\u0627\\u0644\\u0621\\u0643\\u062b\\u0631 \\u0627\\u0646\\u062e\\u0641\\u0627\\u0636\\u0627 \\u0627\\u0633\\u0639\\u0627\\u0631\\u0647\\u0627 \\u0627\\u0644\\u0633\\u0648\\u0642 \\u0627\\u0644\\u062c\\u0631\\u0627\\u0641\\u0627\\u062a \\u0627\\u0644\\u0628\\u062d\\u0631\\u064a\\u0629 \\u0627\\u0644\\u0648\\u0637\\u0646\\u064a\\u0629 \\u0628\\u0646\\u0633\\u0628\\u0629 956% \\u0648\\u0627\\u0644\\u062e\\u0644\\u064a\\u062c \\u0644\\u0644\\u0645\\u0634\\u0627\\u0631\\u064a\\u0639 \\u0627\\u0644\\u0637\\u0628\\u064a\\u0629 \\u0628\\u0646\\u0633\\u0628\\u0629 74% \\u0648\\u0627\\u0628\\u0648\\u0638\\u0628\\u064a \\u0644\\u0644\\u0637\\u064a\\u0631\\u0627\\u0646 \\u0628\\u0646\\u0633\\u0628\\u0629 535%\",\n          \"\\u0628\\u064a\\u062a \\u0627\\u0644\\u0634\\u0639\\u0631 \\u0627\\u0644\\u0634\\u0627\\u0631\\u0642\\u0629 \\u0621\\u0645\\u0633\\u064a\\u0629 \\u064a\\u0634\\u0627\\u0631\\u0643 \\u0627\\u0644\\u0634\\u0627\\u0639\\u0631\\u0627\\u0646 \\u062e\\u0627\\u0644\\u062f \\u0628\\u0648 \\u0633\\u0644\\u0637\\u0627\\u0646 \\u0648\\u062d\\u0645\\u0627\\u062f\\u0647 \\u0639\\u0628\\u062f\\u0627\\u0644\\u0644\\u0637\\u064a\\u0641 \\u064a\\u0642\\u062f\\u0645 \\u0627\\u0644\\u0621\\u0645\\u0633\\u064a\\u0629 \\u0627\\u0644\\u0634\\u0627\\u0639\\u0631 \\u0646\\u0635\\u0631 \\u0628\\u062f\\u0648\\u0627\\u0646 \\u0648\\u0630\\u0644\\u0643 \\u0627\\u0644\\u0633\\u0627\\u0639\\u0629 \\u0627\\u0644\\u0633\\u0627\\u0628\\u0639\\u0629 \\u0648\\u0627\\u0644\\u0646\\u0635\\u0641 \\u0627\\u0644\\u064a\\u0648\\u0645 \\u0645\\u0642\\u0631 \\u0628\\u064a\\u062a \\u0627\\u0644\\u0634\\u0639\\u0631 \\u0627\\u0644\\u0634\\u0627\\u0631\\u0642\\u0629 \\u0627\\u0644\\u0642\\u062f\\u064a\\u0645\\u0629\",\n          \"\\u0627\\u0644\\u062e\\u0644\\u064a\\u062c \\u0621\\u0639\\u0644\\u0646 \\u0645\\u0633\\u062a\\u0634\\u0641\\u0649 \\u0643\\u0644\\u064a\\u0641\\u0644\\u0627\\u0646\\u062f \\u0643\\u0644\\u064a\\u0646\\u0643 \\u0621\\u0628\\u0648\\u0638\\u0628\\u064a \\u0627\\u0644\\u0645\\u0633\\u062a\\u0634\\u0641\\u0649 \\u0627\\u0644\\u0639\\u0627\\u0644\\u0645\\u064a \\u0645\\u062a\\u0639\\u062f\\u062f \\u0627\\u0644\\u062a\\u062e\\u0635\\u0635\\u0627\\u062a \\u0627\\u0644\\u0645\\u062a\\u062e\\u0635\\u0635 \\u0627\\u0644\\u0631\\u0639\\u0627\\u064a\\u0629 \\u0627\\u0644\\u062d\\u0631\\u062c\\u0629 \\u0648\\u0627\\u0644\\u0645\\u0644\\u062d\\u0629 \\u062a\\u0645 \\u0627\\u0641\\u062a\\u062a\\u0627\\u062d\\u0647 \\u062d\\u062f\\u064a\\u062b\\u0627 \\u062c\\u0632\\u064a\\u0631\\u0629 \\u0627\\u0644\\u0645\\u0627\\u0631\\u064a\\u0629 \\u0648\\u064a\\u0639\\u062a\\u0628\\u0631 \\u0645\\u0631\\u0627\\u0641\\u0642 \\u0627\\u0644\\u0631\\u0639\\u0627\\u064a\\u0629 \\u0627\\u0644\\u0635\\u062d\\u064a\\u0629 \\u0639\\u0627\\u0644\\u0645\\u064a\\u0629 \\u0627\\u0644\\u0645\\u0633\\u062a\\u0648\\u0649 \\u0627\\u0644\\u062a\\u0627\\u0628\\u0639\\u0629 \\u0644\\u0634\\u0631\\u0643\\u0629 \\u0627\\u0644\\u0645\\u0628\\u0627\\u062f\\u0644\\u0629 \\u0644\\u0644\\u062a\\u0646\\u0645\\u064a\\u0629 \\u0645\\u0628\\u0627\\u062f\\u0644\\u0629 \\u062a\\u0631\\u0642\\u064a\\u0629 \\u0627\\u0644\\u062f\\u0643\\u062a\\u0648\\u0631 \\u062a\\u0648\\u0645\\u064a\\u0633\\u0644\\u0627\\u0641 \\u0645\\u064a\\u0647\\u0627\\u0644\\u064a\\u0641\\u062a\\u0634 \\u0644\\u064a\\u062a\\u0642\\u0644\\u062f \\u0645\\u0646\\u0635\\u0628 \\u0627\\u0644\\u0631\\u0621\\u064a\\u0633 \\u0627\\u0644\\u062a\\u0646\\u0641\\u064a\\u0630\\u064a \\u0627\\u0644\\u062c\\u062f\\u064a\\u062f \\u0644\\u0644\\u0645\\u0633\\u062a\\u0634\\u0641\\u0649 \\u0634\\u063a\\u0644 \\u0645\\u0646\\u0635\\u0628 \\u0631\\u0621\\u064a\\u0633 \\u0627\\u0644\\u0621\\u0637\\u0628\\u0627\\u0621 \\u0627\\u0644\\u0645\\u0633\\u062a\\u0634\\u0641\\u0649 \\u0648\\u064a\\u0621\\u062a\\u064a \\u0627\\u0644\\u062f\\u0643\\u062a\\u0648\\u0631 \\u0645\\u064a\\u0647\\u0627\\u0644\\u064a\\u0641\\u062a\\u0634 \\u062e\\u0644\\u0641\\u0627 \\u0644\\u0644\\u062f\\u0643\\u062a\\u0648\\u0631 \\u0645\\u0627\\u0631\\u0643 \\u0647\\u0627\\u0631\\u064a\\u0633\\u0648\\u0646 \\u0634\\u063a\\u0644 \\u0645\\u0646\\u0635\\u0628 \\u0627\\u0644\\u0631\\u0621\\u064a\\u0633 \\u0627\\u0644\\u062a\\u0646\\u0641\\u064a\\u0630\\u064a \\u0644\\u0645\\u0633\\u062a\\u0634\\u0641\\u0649 \\u0643\\u0644\\u064a\\u0641\\u0644\\u0627\\u0646\\u062f \\u0643\\u0644\\u064a\\u0646\\u0643 \\u0621\\u0628\\u0648\\u0638\\u0628\\u064a \\u062e\\u0644\\u0627\\u0644 \\u0627\\u0644\\u0621\\u0639\\u0648\\u0627\\u0645 \\u0627\\u0644\\u062e\\u0645\\u0633\\u0629 \\u0627\\u0644\\u0645\\u0627\\u0636\\u064a\\u0629 \\u0648\\u0641\\u064a \\u0627\\u0644\\u0645\\u0646\\u0627\\u0633\\u0628\\u0629 \\u0621\\u0641\\u0627\\u062f \\u0648\\u0644\\u064a\\u062f \\u0627\\u0644\\u0645\\u0642\\u0631\\u0628 \\u0627\\u0644\\u0645\\u0647\\u064a\\u0631\\u064a \\u0631\\u0621\\u064a\\u0633 \\u0645\\u062c\\u0644\\u0633 \\u0621\\u062f\\u0627\\u0631\\u0629 \\u0645\\u0633\\u062a\\u0634\\u0641\\u0649 \\u0643\\u0644\\u064a\\u0641\\u0644\\u0627\\u0646\\u062f \\u0643\\u0644\\u064a\\u0646\\u0643 \\u0621\\u0628\\u0648\\u0638\\u0628\\u064a \\u0648\\u0646\\u0627\\u0621\\u0628 \\u0627\\u0644\\u0631\\u0621\\u064a\\u0633 \\u0627\\u0644\\u062a\\u0646\\u0641\\u064a\\u0630\\u064a \\u0644\\u0644\\u0645\\u062c\\u0645\\u0648\\u0639\\u0629 \\u0634\\u0631\\u0643\\u0629 \\u0627\\u0644\\u0645\\u0628\\u0627\\u062f\\u0644\\u0629 \\u0644\\u0644\\u062a\\u0646\\u0645\\u064a\\u0629 \\u0645\\u0628\\u0627\\u062f\\u0644\\u0629 \\u0648\\u0627\\u0644\\u0631\\u0621\\u064a\\u0633 \\u0627\\u0644\\u062a\\u0646\\u0641\\u064a\\u0630\\u064a \\u0644\\u0644\\u0642\\u0637\\u0627\\u0639\\u0627\\u062a \\u0627\\u0644\\u0646\\u0627\\u0634\\u0621\\u0629 \\u064a\\u0633\\u0639\\u062f\\u0646\\u0627 \\u0645\\u0633\\u062a\\u0634\\u0641\\u0649 \\u0643\\u0644\\u064a\\u0641\\u0644\\u0627\\u0646\\u062f \\u0643\\u0644\\u064a\\u0646\\u0643 \\u0621\\u0628\\u0648\\u0638\\u0628\\u064a \\u062a\\u0631\\u0642\\u064a\\u0629 \\u0627\\u0644\\u062f\\u0643\\u062a\\u0648\\u0631 \\u0645\\u064a\\u0647\\u0627\\u0644\\u064a\\u0641\\u062a\\u0634 \\u0645\\u0646\\u0635\\u0628 \\u0627\\u0644\\u0631\\u0621\\u064a\\u0633 \\u0627\\u0644\\u062a\\u0646\\u0641\\u064a\\u0630\\u064a \\u0634\\u0643 \\u0621\\u0646\\u0647 \\u0633\\u064a\\u0643\\u0631\\u0633 \\u062e\\u0628\\u0631\\u062a\\u0647 \\u0627\\u0644\\u0645\\u062a\\u0645\\u064a\\u0632\\u0629 \\u0644\\u0621\\u0646\\u062c\\u0627\\u0632 \\u0645\\u0647\\u0627\\u0645\\u0647 \\u0627\\u0644\\u062c\\u062f\\u064a\\u062f\\u0629\"\n        ],\n        \"semantic_type\": \"\",\n        \"description\": \"\"\n      }\n    }\n  ]\n}"
            }
          },
          "metadata": {},
          "execution_count": 52
        }
      ]
    },
    {
      "cell_type": "markdown",
      "metadata": {
        "id": "VF45GS_ZSEix"
      },
      "source": [
        "# Tokenization, Padding, and Data Splitting"
      ]
    },
    {
      "cell_type": "markdown",
      "metadata": {
        "id": "YmsL3S-5SIbl"
      },
      "source": [
        "In this step, we will prepare the text data for input into a model by converting the text into numerical sequences, padding them to a uniform length, and splitting the dataset into training and testing sets. Here's an overview of the steps involved:\n",
        "\n",
        "1. **Tokenization**:\n",
        "   We use a tokenizer to convert the cleaned text into numerical sequences. You can use `Tokenizer` tokenizer from `tensorflow.keras.preprocessing.text` package or any other tokenizer you like.\n",
        "\n",
        "2. **Text to sequences**:\n",
        "   After fitting the tokenizer on the cleaned text, we transform each text into a sequence of numbers, where each number corresponds to a token (word) in the text.\n",
        "\n",
        "3. **Padding the sequences**:\n",
        "   Since different texts may vary in length, we pad the sequences to ensure they all have the same length.\n",
        "\n",
        "4. **Label encoding**:\n",
        "   The labels (target values) also need to be converted into numerical form if they are not encoded.\n",
        "\n",
        "5. **Train-test split**:\n",
        "   The dataset is divided into training and testing sets. We allocate 80% of the data for training the model and reserve 20% for testing its performance.\n",
        "   \n",
        "   - The **training data** consists of the padded sequences used to train the model.\n",
        "   - The **training labels** are the encoded labels corresponding to the training data.\n",
        "   - The **testing data** is used to assess the model’s performance after training.\n",
        "   - The **testing labels** are the encoded labels corresponding to the testing data.\n",
        "\n",
        "6. **Data shape confirmation**:\n",
        "   After splitting the data, we print the shape (dimensions) of both the training and testing sets to confirm that the data is properly divided and formatted.\n",
        "\n",
        "By the end of this step, the text data will be transformed into padded numerical sequences, the labels will be encoded, and the data will be split into training and testing sets for model development and evaluation."
      ]
    },
    {
      "cell_type": "code",
      "execution_count": 27,
      "metadata": {
        "id": "z401Re0VfI1f"
      },
      "outputs": [],
      "source": [
        "import tensorflow\n",
        "from tensorflow.keras.preprocessing.text import Tokenizer\n",
        "from tensorflow.keras.preprocessing.sequence import pad_sequences\n",
        "\n",
        "tokenizer = Tokenizer()\n",
        "tokenizer.fit_on_texts(df['cleaned_text'])\n",
        "sequences = tokenizer.texts_to_sequences(df['cleaned_text'])\n",
        "\n",
        "# max_length = 300 I already defined it in the \"Text Data Characteristics (Bonus)\" Step\n",
        "padded_sequences = pad_sequences(sequences, maxlen= max_length)"
      ]
    },
    {
      "cell_type": "code",
      "source": [
        "from sklearn.preprocessing import LabelEncoder\n",
        "label_encoder = LabelEncoder()\n",
        "encoded_labels = label_encoder.fit_transform(df['label'])"
      ],
      "metadata": {
        "id": "MSiIg0k6K7q8"
      },
      "execution_count": 28,
      "outputs": []
    },
    {
      "cell_type": "code",
      "source": [
        "print(encoded_labels)"
      ],
      "metadata": {
        "colab": {
          "base_uri": "https://localhost:8080/"
        },
        "id": "95mfD8-gSa8O",
        "outputId": "c8bb30e9-679c-49d9-90c0-c83034a56602"
      },
      "execution_count": 26,
      "outputs": [
        {
          "output_type": "stream",
          "name": "stdout",
          "text": [
            "[0 0 0 ... 6 6 6]\n"
          ]
        }
      ]
    },
    {
      "cell_type": "code",
      "source": [
        "from sklearn.model_selection import train_test_split\n",
        "\n",
        "x_train, x_test, y_train, y_test = train_test_split(\n",
        "    padded_sequences,\n",
        "    encoded_labels,\n",
        "    test_size=0.2,\n",
        ")"
      ],
      "metadata": {
        "id": "AZ0Ke__fLIPF"
      },
      "execution_count": 29,
      "outputs": []
    },
    {
      "cell_type": "markdown",
      "source": [
        "**Data shape confirmation:**"
      ],
      "metadata": {
        "id": "XDZpctcCNMPE"
      }
    },
    {
      "cell_type": "code",
      "source": [
        "x_train.shape"
      ],
      "metadata": {
        "colab": {
          "base_uri": "https://localhost:8080/"
        },
        "id": "4RiNG0EYNN41",
        "outputId": "e7661a03-8eed-4c0c-d8d1-3e92ad1f18db"
      },
      "execution_count": 30,
      "outputs": [
        {
          "output_type": "execute_result",
          "data": {
            "text/plain": [
              "(20432, 300)"
            ]
          },
          "metadata": {},
          "execution_count": 30
        }
      ]
    },
    {
      "cell_type": "code",
      "source": [
        "x_test.shape"
      ],
      "metadata": {
        "colab": {
          "base_uri": "https://localhost:8080/"
        },
        "id": "ilobkEFTNQ-j",
        "outputId": "df1af616-f935-4015-cc9c-d2d2ae7560f4"
      },
      "execution_count": 31,
      "outputs": [
        {
          "output_type": "execute_result",
          "data": {
            "text/plain": [
              "(5109, 300)"
            ]
          },
          "metadata": {},
          "execution_count": 31
        }
      ]
    },
    {
      "cell_type": "code",
      "source": [
        "y_train.shape"
      ],
      "metadata": {
        "colab": {
          "base_uri": "https://localhost:8080/"
        },
        "id": "faDsdZZhNTmp",
        "outputId": "b1667707-2f19-449f-be48-43c68f8fb85a"
      },
      "execution_count": 32,
      "outputs": [
        {
          "output_type": "execute_result",
          "data": {
            "text/plain": [
              "(20432,)"
            ]
          },
          "metadata": {},
          "execution_count": 32
        }
      ]
    },
    {
      "cell_type": "code",
      "source": [
        "y_test.shape"
      ],
      "metadata": {
        "colab": {
          "base_uri": "https://localhost:8080/"
        },
        "id": "4KQ0o24gNV1U",
        "outputId": "bd306558-238e-43d3-f84e-d315c809461e"
      },
      "execution_count": 33,
      "outputs": [
        {
          "output_type": "execute_result",
          "data": {
            "text/plain": [
              "(5109,)"
            ]
          },
          "metadata": {},
          "execution_count": 33
        }
      ]
    },
    {
      "cell_type": "markdown",
      "metadata": {
        "id": "qd5Ek4NLTgVN"
      },
      "source": [
        "# Building the Classifier"
      ]
    },
    {
      "cell_type": "markdown",
      "metadata": {
        "id": "HpLEoTaITEGx"
      },
      "source": [
        "In this step, you will design and build a NLP Classifier model to classify text data. Below is a breakdown of the key components you'll implement, but it's up to you to decide how to configure them based on your understanding and experimentation:\n",
        "\n",
        "1. **Model Type**:\n",
        "   You will use a Sequential model, which allows you to stack layers in a linear sequence.\n",
        "\n",
        "2. **Input Layer**:\n",
        "   Define the shape of the input data. Consider the dimensions of your padded sequences and set the input shape accordingly.\n",
        "\n",
        "3. **Embedding Layer**:\n",
        "   The embedding layer will convert input tokens (integers) into dense vector representations. You will need to determine the size of the input dimension (based on your vocabulary) and the output dimension (embedding size).\n",
        "\n",
        "4. **Bidirectional Simple RNN/LSTM Layers**:\n",
        "   You can add one or more recurrent layers. Consider using Bidirectional layers to capture contextual information from both directions (forward and backward). You can chose SimpleRNN/GRU/LSTM to perform this step.\n",
        "\n",
        "5. **Dense Layers**:\n",
        "   Add one or more fully connected (Dense) layers to process the output from the RNN/GRU/LSTM layers.\n",
        "\n",
        "6. **Output Layer**:\n",
        "   The output layer should match the type of classification task you're working on. Consider using appropriate activation function with appropriate number of units.\n",
        "\n",
        "7. **Model Summary**:\n",
        "   After defining your model architecture, print a summary to review the number of layers, types of layers, and total parameters.\n",
        "\n",
        "8. **Model Compilation**:\n",
        "   Finally, compile the model by selecting an optimizer, a loss function, and metrics."
      ]
    },
    {
      "cell_type": "code",
      "execution_count": 35,
      "metadata": {
        "id": "D-EYYIUpfK_F",
        "colab": {
          "base_uri": "https://localhost:8080/",
          "height": 344
        },
        "outputId": "46cf5c03-b495-4f9a-905b-15f6fd3cfdcb"
      },
      "outputs": [
        {
          "output_type": "stream",
          "name": "stderr",
          "text": [
            "/usr/local/lib/python3.10/dist-packages/keras/src/layers/core/embedding.py:90: UserWarning: Argument `input_length` is deprecated. Just remove it.\n",
            "  warnings.warn(\n"
          ]
        },
        {
          "output_type": "display_data",
          "data": {
            "text/plain": [
              "\u001b[1mModel: \"sequential\"\u001b[0m\n"
            ],
            "text/html": [
              "<pre style=\"white-space:pre;overflow-x:auto;line-height:normal;font-family:Menlo,'DejaVu Sans Mono',consolas,'Courier New',monospace\"><span style=\"font-weight: bold\">Model: \"sequential\"</span>\n",
              "</pre>\n"
            ]
          },
          "metadata": {}
        },
        {
          "output_type": "display_data",
          "data": {
            "text/plain": [
              "┏━━━━━━━━━━━━━━━━━━━━━━━━━━━━━━━━━━━━━━┳━━━━━━━━━━━━━━━━━━━━━━━━━━━━━┳━━━━━━━━━━━━━━━━━┓\n",
              "┃\u001b[1m \u001b[0m\u001b[1mLayer (type)                        \u001b[0m\u001b[1m \u001b[0m┃\u001b[1m \u001b[0m\u001b[1mOutput Shape               \u001b[0m\u001b[1m \u001b[0m┃\u001b[1m \u001b[0m\u001b[1m        Param #\u001b[0m\u001b[1m \u001b[0m┃\n",
              "┡━━━━━━━━━━━━━━━━━━━━━━━━━━━━━━━━━━━━━━╇━━━━━━━━━━━━━━━━━━━━━━━━━━━━━╇━━━━━━━━━━━━━━━━━┩\n",
              "│ embedding (\u001b[38;5;33mEmbedding\u001b[0m)                │ (\u001b[38;5;45mNone\u001b[0m, \u001b[38;5;34m300\u001b[0m, \u001b[38;5;34m128\u001b[0m)            │      \u001b[38;5;34m27,389,312\u001b[0m │\n",
              "├──────────────────────────────────────┼─────────────────────────────┼─────────────────┤\n",
              "│ bidirectional (\u001b[38;5;33mBidirectional\u001b[0m)        │ (\u001b[38;5;45mNone\u001b[0m, \u001b[38;5;34m300\u001b[0m, \u001b[38;5;34m256\u001b[0m)            │          \u001b[38;5;34m65,792\u001b[0m │\n",
              "├──────────────────────────────────────┼─────────────────────────────┼─────────────────┤\n",
              "│ bidirectional_1 (\u001b[38;5;33mBidirectional\u001b[0m)      │ (\u001b[38;5;45mNone\u001b[0m, \u001b[38;5;34m128\u001b[0m)                 │          \u001b[38;5;34m41,088\u001b[0m │\n",
              "├──────────────────────────────────────┼─────────────────────────────┼─────────────────┤\n",
              "│ dense (\u001b[38;5;33mDense\u001b[0m)                        │ (\u001b[38;5;45mNone\u001b[0m, \u001b[38;5;34m32\u001b[0m)                  │           \u001b[38;5;34m4,128\u001b[0m │\n",
              "├──────────────────────────────────────┼─────────────────────────────┼─────────────────┤\n",
              "│ dense_1 (\u001b[38;5;33mDense\u001b[0m)                      │ (\u001b[38;5;45mNone\u001b[0m, \u001b[38;5;34m7\u001b[0m)                   │             \u001b[38;5;34m231\u001b[0m │\n",
              "└──────────────────────────────────────┴─────────────────────────────┴─────────────────┘\n"
            ],
            "text/html": [
              "<pre style=\"white-space:pre;overflow-x:auto;line-height:normal;font-family:Menlo,'DejaVu Sans Mono',consolas,'Courier New',monospace\">┏━━━━━━━━━━━━━━━━━━━━━━━━━━━━━━━━━━━━━━┳━━━━━━━━━━━━━━━━━━━━━━━━━━━━━┳━━━━━━━━━━━━━━━━━┓\n",
              "┃<span style=\"font-weight: bold\"> Layer (type)                         </span>┃<span style=\"font-weight: bold\"> Output Shape                </span>┃<span style=\"font-weight: bold\">         Param # </span>┃\n",
              "┡━━━━━━━━━━━━━━━━━━━━━━━━━━━━━━━━━━━━━━╇━━━━━━━━━━━━━━━━━━━━━━━━━━━━━╇━━━━━━━━━━━━━━━━━┩\n",
              "│ embedding (<span style=\"color: #0087ff; text-decoration-color: #0087ff\">Embedding</span>)                │ (<span style=\"color: #00d7ff; text-decoration-color: #00d7ff\">None</span>, <span style=\"color: #00af00; text-decoration-color: #00af00\">300</span>, <span style=\"color: #00af00; text-decoration-color: #00af00\">128</span>)            │      <span style=\"color: #00af00; text-decoration-color: #00af00\">27,389,312</span> │\n",
              "├──────────────────────────────────────┼─────────────────────────────┼─────────────────┤\n",
              "│ bidirectional (<span style=\"color: #0087ff; text-decoration-color: #0087ff\">Bidirectional</span>)        │ (<span style=\"color: #00d7ff; text-decoration-color: #00d7ff\">None</span>, <span style=\"color: #00af00; text-decoration-color: #00af00\">300</span>, <span style=\"color: #00af00; text-decoration-color: #00af00\">256</span>)            │          <span style=\"color: #00af00; text-decoration-color: #00af00\">65,792</span> │\n",
              "├──────────────────────────────────────┼─────────────────────────────┼─────────────────┤\n",
              "│ bidirectional_1 (<span style=\"color: #0087ff; text-decoration-color: #0087ff\">Bidirectional</span>)      │ (<span style=\"color: #00d7ff; text-decoration-color: #00d7ff\">None</span>, <span style=\"color: #00af00; text-decoration-color: #00af00\">128</span>)                 │          <span style=\"color: #00af00; text-decoration-color: #00af00\">41,088</span> │\n",
              "├──────────────────────────────────────┼─────────────────────────────┼─────────────────┤\n",
              "│ dense (<span style=\"color: #0087ff; text-decoration-color: #0087ff\">Dense</span>)                        │ (<span style=\"color: #00d7ff; text-decoration-color: #00d7ff\">None</span>, <span style=\"color: #00af00; text-decoration-color: #00af00\">32</span>)                  │           <span style=\"color: #00af00; text-decoration-color: #00af00\">4,128</span> │\n",
              "├──────────────────────────────────────┼─────────────────────────────┼─────────────────┤\n",
              "│ dense_1 (<span style=\"color: #0087ff; text-decoration-color: #0087ff\">Dense</span>)                      │ (<span style=\"color: #00d7ff; text-decoration-color: #00d7ff\">None</span>, <span style=\"color: #00af00; text-decoration-color: #00af00\">7</span>)                   │             <span style=\"color: #00af00; text-decoration-color: #00af00\">231</span> │\n",
              "└──────────────────────────────────────┴─────────────────────────────┴─────────────────┘\n",
              "</pre>\n"
            ]
          },
          "metadata": {}
        },
        {
          "output_type": "display_data",
          "data": {
            "text/plain": [
              "\u001b[1m Total params: \u001b[0m\u001b[38;5;34m27,500,551\u001b[0m (104.91 MB)\n"
            ],
            "text/html": [
              "<pre style=\"white-space:pre;overflow-x:auto;line-height:normal;font-family:Menlo,'DejaVu Sans Mono',consolas,'Courier New',monospace\"><span style=\"font-weight: bold\"> Total params: </span><span style=\"color: #00af00; text-decoration-color: #00af00\">27,500,551</span> (104.91 MB)\n",
              "</pre>\n"
            ]
          },
          "metadata": {}
        },
        {
          "output_type": "display_data",
          "data": {
            "text/plain": [
              "\u001b[1m Trainable params: \u001b[0m\u001b[38;5;34m27,500,551\u001b[0m (104.91 MB)\n"
            ],
            "text/html": [
              "<pre style=\"white-space:pre;overflow-x:auto;line-height:normal;font-family:Menlo,'DejaVu Sans Mono',consolas,'Courier New',monospace\"><span style=\"font-weight: bold\"> Trainable params: </span><span style=\"color: #00af00; text-decoration-color: #00af00\">27,500,551</span> (104.91 MB)\n",
              "</pre>\n"
            ]
          },
          "metadata": {}
        },
        {
          "output_type": "display_data",
          "data": {
            "text/plain": [
              "\u001b[1m Non-trainable params: \u001b[0m\u001b[38;5;34m0\u001b[0m (0.00 B)\n"
            ],
            "text/html": [
              "<pre style=\"white-space:pre;overflow-x:auto;line-height:normal;font-family:Menlo,'DejaVu Sans Mono',consolas,'Courier New',monospace\"><span style=\"font-weight: bold\"> Non-trainable params: </span><span style=\"color: #00af00; text-decoration-color: #00af00\">0</span> (0.00 B)\n",
              "</pre>\n"
            ]
          },
          "metadata": {}
        }
      ],
      "source": [
        "from tensorflow.keras.models import Sequential\n",
        "from tensorflow.keras.layers import Input, Embedding, Bidirectional, SimpleRNN, Dense\n",
        "\n",
        "model = Sequential([\n",
        "    Input(shape=(max_length,)),\n",
        "    Embedding(input_dim=len(tokenizer.word_index) + 1, output_dim=128, input_length=max_length),\n",
        "    Bidirectional(SimpleRNN(128, return_sequences=True)),\n",
        "    Bidirectional(SimpleRNN(64)),\n",
        "    Dense(32, activation='relu'),\n",
        "    Dense(7, activation='softmax')\n",
        "])\n",
        "\n",
        "model.summary()"
      ]
    },
    {
      "cell_type": "code",
      "source": [
        "model.compile(optimizer='adam', loss='sparse_categorical_crossentropy', metrics=['accuracy'])"
      ],
      "metadata": {
        "id": "RXnK4gzZPTVq"
      },
      "execution_count": 36,
      "outputs": []
    },
    {
      "cell_type": "markdown",
      "metadata": {
        "id": "57DXwqqQTloy"
      },
      "source": [
        "# Defining Batch Size, Creating Datasets, and Training the Model"
      ]
    },
    {
      "cell_type": "markdown",
      "metadata": {
        "id": "LEOvs_dETmQp"
      },
      "source": [
        "In this step, you will define the batch size, create TensorFlow Datasets for both training and testing, and train the model. The key elements to consider are outlined below, and it is up to you to choose the specific configurations based on your preferences and experimentation:\n",
        "\n",
        "1. **Batch Size**:\n",
        "   Select a batch size for training and testing. The batch size determines how many samples will be processed together in one forward and backward pass during training.\n",
        "\n",
        "2. **Creating Datasets**:\n",
        "   Use TensorFlow’s `Dataset.from_tensor_slices()` to create datasets from the training and testing data.\n",
        "\n",
        "3. **Batching the Datasets**:\n",
        "   Batch the datasets by grouping the data into batches of the specified size.\n",
        "\n",
        "4. **Training the Model**:\n",
        "   Train the model by fitting it on the training dataset for a specified number of epochs. You will also need to provide the validation data to monitor the model’s performance on unseen data during training.\n",
        "\n",
        "5. **Tracking Training History**:\n",
        "   During training, the model’s performance metrics (such as loss and accuracy) will be tracked over the epochs, and the results will be stored in the `history` object."
      ]
    },
    {
      "cell_type": "code",
      "source": [
        "import tensorflow as tf\n",
        "batch_size = 32\n",
        "\n",
        "train_dataset = tf.data.Dataset.from_tensor_slices((x_train, y_train))\n",
        "test_dataset = tf.data.Dataset.from_tensor_slices((x_test, y_test))\n",
        "\n",
        "train_dataset = train_dataset.batch(batch_size)\n",
        "test_dataset = test_dataset.batch(batch_size)\n",
        "\n",
        "history = model.fit(train_dataset, epochs=3, validation_data=test_dataset)"
      ],
      "metadata": {
        "colab": {
          "base_uri": "https://localhost:8080/"
        },
        "id": "ohIOpZc2PPrt",
        "outputId": "2b914849-a845-4944-90fa-6986d7dfa564"
      },
      "execution_count": 39,
      "outputs": [
        {
          "output_type": "stream",
          "name": "stdout",
          "text": [
            "Epoch 1/3\n",
            "\u001b[1m639/639\u001b[0m \u001b[32m━━━━━━━━━━━━━━━━━━━━\u001b[0m\u001b[37m\u001b[0m \u001b[1m787s\u001b[0m 1s/step - accuracy: 0.3707 - loss: 1.5830 - val_accuracy: 0.4382 - val_loss: 1.4051\n",
            "Epoch 2/3\n",
            "\u001b[1m639/639\u001b[0m \u001b[32m━━━━━━━━━━━━━━━━━━━━\u001b[0m\u001b[37m\u001b[0m \u001b[1m713s\u001b[0m 1s/step - accuracy: 0.6149 - loss: 0.9928 - val_accuracy: 0.6939 - val_loss: 0.8250\n",
            "Epoch 3/3\n",
            "\u001b[1m639/639\u001b[0m \u001b[32m━━━━━━━━━━━━━━━━━━━━\u001b[0m\u001b[37m\u001b[0m \u001b[1m737s\u001b[0m 1s/step - accuracy: 0.8219 - loss: 0.5144 - val_accuracy: 0.7082 - val_loss: 0.9757\n"
          ]
        }
      ]
    },
    {
      "cell_type": "markdown",
      "source": [
        "I didnt have GPUs so that is the reason of I used 'epochs = 3'.. also this 3 epochs take a long of time );\n",
        "\n",
        "the results will be so good if i increase the number of epochs.."
      ],
      "metadata": {
        "id": "1mmLyUcol-rg"
      }
    },
    {
      "cell_type": "markdown",
      "metadata": {
        "id": "XmoJfr3nfP-n"
      },
      "source": [
        "# Model Evaluation"
      ]
    },
    {
      "cell_type": "markdown",
      "metadata": {
        "id": "2Gb8G9XiT-ec"
      },
      "source": [
        "Once the model is trained, the next step is to evaluate its performance on the testing dataset.\n",
        "\n",
        "1. **Evaluate the Model**:\n",
        "   You will use the `evaluate()` method to assess the model’s performance on the test dataset.\n",
        "\n",
        "2. **Testing Dataset**:\n",
        "   Ensure that the testing dataset is properly prepared and batched, just like the training dataset.\n",
        "\n",
        "4. **Loss Curve**:\n",
        "   A loss curve plots the loss values for both the training and validation datasets over the epochs."
      ]
    },
    {
      "cell_type": "code",
      "execution_count": 43,
      "metadata": {
        "id": "o6unhJgFfQbM",
        "colab": {
          "base_uri": "https://localhost:8080/"
        },
        "outputId": "b9b9be90-9f18-4a3b-dbc1-489a98a6be17"
      },
      "outputs": [
        {
          "output_type": "stream",
          "name": "stdout",
          "text": [
            "\u001b[1m160/160\u001b[0m \u001b[32m━━━━━━━━━━━━━━━━━━━━\u001b[0m\u001b[37m\u001b[0m \u001b[1m23s\u001b[0m 140ms/step - accuracy: 0.7189 - loss: 0.9319\n"
          ]
        }
      ],
      "source": [
        "results = model.evaluate(test_dataset)\n",
        "# test_dataset"
      ]
    },
    {
      "cell_type": "code",
      "source": [
        "print(results[1])"
      ],
      "metadata": {
        "colab": {
          "base_uri": "https://localhost:8080/"
        },
        "id": "1jmP9EYRmytd",
        "outputId": "683ae578-e334-48b4-a77f-bf89601f00bb"
      },
      "execution_count": 44,
      "outputs": [
        {
          "output_type": "stream",
          "name": "stdout",
          "text": [
            "0.7081620693206787\n"
          ]
        }
      ]
    },
    {
      "cell_type": "code",
      "source": [
        "import matplotlib.pyplot as plt\n",
        "\n",
        "plt.plot(history.history['accuracy'], label='Train Acc')\n",
        "plt.plot(history.history['val_accuracy'], label='Val Acc')\n",
        "\n",
        "plt.title('Model Acc')\n",
        "plt.ylabel('Accuracy')\n",
        "plt.xlabel('Epoch')\n",
        "plt.legend(loc='lower right')\n",
        "plt.show()"
      ],
      "metadata": {
        "colab": {
          "base_uri": "https://localhost:8080/",
          "height": 472
        },
        "id": "UdC7a01CmlC0",
        "outputId": "5a705c9f-4cd6-479a-b588-ac79bce707f2"
      },
      "execution_count": 47,
      "outputs": [
        {
          "output_type": "display_data",
          "data": {
            "text/plain": [
              "<Figure size 640x480 with 1 Axes>"
            ],
            "image/png": "[encoded data removed]"
          },
          "metadata": {}
        }
      ]
    },
    {
      "cell_type": "code",
      "source": [
        "plt.plot(history.history['loss'], label='Train Loss')\n",
        "plt.plot(history.history['val_loss'], label='Val Loss')\n",
        "plt.title('Model Loss')\n",
        "plt.ylabel('Loss')\n",
        "plt.xlabel('Epoch')\n",
        "plt.legend(loc='upper right')\n",
        "plt.show()"
      ],
      "metadata": {
        "colab": {
          "base_uri": "https://localhost:8080/",
          "height": 472
        },
        "id": "4-1xD_ckmvnx",
        "outputId": "7d4c10fc-d96e-4670-a5eb-fc8ba03107d3"
      },
      "execution_count": 48,
      "outputs": [
        {
          "output_type": "display_data",
          "data": {
            "text/plain": [
              "<Figure size 640x480 with 1 Axes>"
            ],
            "image/png": "[encoded data removed]"
          },
          "metadata": {}
        }
      ]
    },
    {
      "cell_type": "markdown",
      "metadata": {
        "id": "ifx5RFxnUQqc"
      },
      "source": [
        "# Model Inference"
      ]
    },
    {
      "cell_type": "markdown",
      "metadata": {
        "id": "sVh0WCBoUSlP"
      },
      "source": [
        "In this step, you will use the trained model to make predictions on new, unseen data (inference). Here’s an outline of the key points:\n",
        "\n",
        "1. **Create Test Sample**:\n",
        "   Create a string to test your modelm the goal here is to give the model Before making predictions, ensure that the new data is preprocessed in the same way as the training data. This includes tokenization, padding, and any other transformations you applied during the data preprocessing step. The data can be single text to see the result of the prediction.\n",
        "\n",
        "2. **Model Prediction**:\n",
        "   Use the `predict()` method to feed new samples into the trained model and obtain predictions. The model will output probabilities or predicted class labels based on the type of classification task (binary or multi-class).\n",
        "\n",
        "3. **Interpreting Predictions**:\n",
        "   The model will return probabilities for each class."
      ]
    },
    {
      "cell_type": "code",
      "execution_count": 54,
      "metadata": {
        "id": "2XiahrhffR0J",
        "colab": {
          "base_uri": "https://localhost:8080/"
        },
        "outputId": "a4fcf5d3-45ca-4936-d666-19b7faace9ef"
      },
      "outputs": [
        {
          "output_type": "stream",
          "name": "stdout",
          "text": [
            "\u001b[1m1/1\u001b[0m \u001b[32m━━━━━━━━━━━━━━━━━━━━\u001b[0m\u001b[37m\u001b[0m \u001b[1m0s\u001b[0m 141ms/step\n",
            "Predicted label: ['Finance']\n",
            "Prediction probabilities: [[6.4746469e-05 9.9878830e-01 1.4399184e-04 1.1814335e-04 9.4131654e-05\n",
            "  1.9509220e-04 5.9553725e-04]]\n"
          ]
        }
      ],
      "source": [
        "test_sample = ['مركز الشارقة للشعر الشعبي مجلس ضاحية']\n",
        "sample_sequence = tokenizer.texts_to_sequences([cleaning_text(test_sample[0])])\n",
        "padded_sample_sequence = pad_sequences(sample_sequence, maxlen=max_length, padding='post')\n",
        "\n",
        "prediction = model.predict(padded_sample_sequence)\n",
        "\n",
        "print(\"Predicted label:\", label_encoder.inverse_transform([prediction.argmax()]))\n",
        "\n",
        "print(f\"Prediction probabilities: {prediction}\")"
      ]
    },
    {
      "cell_type": "markdown",
      "source": [
        "The prediction must be 'Culture' but I got 'Finance' .. anyway this is good based on the time left.."
      ],
      "metadata": {
        "id": "iNv3uwaavJRx"
      }
    },
    {
      "cell_type": "markdown",
      "metadata": {
        "id": "fHbgQVrt43DQ"
      },
      "source": [
        "# Notebook Question:\n",
        "- How did you handle text preprocessing? Why did you choose this approach?\n",
        "\n",
        "- Why did you choose this model design?\n",
        "\n",
        "- Why did you pick this number of layers or units for the model?\n",
        "\n",
        "- Why did you select these evaluation methods?\n",
        "\n",
        "- Does your model show signs of overfitting or underfitting? How do you know?\n",
        "\n",
        "- What changes could you make to improve the model and fix overfitting or underfitting?"
      ]
    },
    {
      "cell_type": "markdown",
      "metadata": {
        "id": "x7vOe0JZ43DQ"
      },
      "source": [
        "Answer Here:"
      ]
    },
    {
      "cell_type": "markdown",
      "source": [
        "1. How did you handle text preprocessing? Why did you choose this approach?\n",
        "\n",
        "tokenization, padding, and removing stopwords to standardize input data and remove harakat and so on, I choose this approachs to make the data good for training the model.\n",
        "\n",
        "2. Why did you choose this model design?\n",
        "\n",
        "The model design includes embedding and bidirectional RNN layers to capture semantic meaning and context from text effectively\n",
        "\n",
        "3. Why did you pick this number of layers or units for the model?\n",
        "\n",
        "The number of layers and units I selected based on balancing model complexity with performance through experimentations.\n",
        "\n",
        "4. Why did you select these evaluation methods?\n",
        "\n",
        "sparse_categorical_crossentropy for catogrical classification tasks, and accuracy I used to measure overall prediction correctness\n",
        "\n",
        "5. Does your model show signs of overfitting or underfitting? How do you know?\n",
        "\n",
        "No, Signs of overfitting when we have high training accuracy and\n",
        "lower validation accuracy, while underfitting shows low accuracy on both datasets (training and testing)\n",
        "\n",
        "6. What changes could you make to improve the model and fix overfitting or underfitting?\n",
        "\n",
        "increase numbers of epochs and To address overfitting, apply regularization or simplify the model;\n",
        "to fix underfitting, increase model complexity or improve feature engineering.\n",
        "\n",
        "\n",
        "Thanks"
      ],
      "metadata": {
        "id": "JWof-5JbrZAR"
      }
    }
  ],
  "metadata": {
    "accelerator": "GPU",
    "colab": {
      "gpuType": "T4",
      "provenance": []
    },
    "kernelspec": {
      "display_name": "Python 3",
      "name": "python3"
    },
    "language_info": {
      "name": "python"
    }
  },
  "nbformat": 4,
  "nbformat_minor": 0
}